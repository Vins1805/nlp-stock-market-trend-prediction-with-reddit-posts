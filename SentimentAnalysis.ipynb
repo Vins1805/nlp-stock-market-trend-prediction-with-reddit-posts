{
 "cells": [
  {
   "cell_type": "code",
   "execution_count": 312,
   "metadata": {},
   "outputs": [],
   "source": [
    "import yfinance as yf\n",
    "import pandas as pd\n",
    "import numpy as np"
   ]
  },
  {
   "cell_type": "markdown",
   "metadata": {},
   "source": [
    "# load symbols"
   ]
  },
  {
   "cell_type": "code",
   "execution_count": 2,
   "metadata": {},
   "outputs": [],
   "source": [
    "filepath = \"/Users/Vincent/Desktop/nlp-stock-market-trend-prediction-with-reddit-posts/data/\""
   ]
  },
  {
   "cell_type": "code",
   "execution_count": 3,
   "metadata": {},
   "outputs": [],
   "source": [
    "df_symbols = pd.read_pickle(filepath + \"symbols.pd\")"
   ]
  },
  {
   "cell_type": "code",
   "execution_count": 4,
   "metadata": {},
   "outputs": [],
   "source": [
    "df_symbols[\"Symbol\"] = df_symbols[\"Symbol\"].astype(str).apply(lambda sym: sym.lower())"
   ]
  },
  {
   "cell_type": "code",
   "execution_count": 5,
   "metadata": {},
   "outputs": [
    {
     "data": {
      "text/html": [
       "<div>\n",
       "<style scoped>\n",
       "    .dataframe tbody tr th:only-of-type {\n",
       "        vertical-align: middle;\n",
       "    }\n",
       "\n",
       "    .dataframe tbody tr th {\n",
       "        vertical-align: top;\n",
       "    }\n",
       "\n",
       "    .dataframe thead th {\n",
       "        text-align: right;\n",
       "    }\n",
       "</style>\n",
       "<table border=\"1\" class=\"dataframe\">\n",
       "  <thead>\n",
       "    <tr style=\"text-align: right;\">\n",
       "      <th></th>\n",
       "      <th>index</th>\n",
       "      <th>Symbol</th>\n",
       "      <th>Description</th>\n",
       "      <th>STOCK_EXCHANGE</th>\n",
       "    </tr>\n",
       "  </thead>\n",
       "  <tbody>\n",
       "    <tr>\n",
       "      <th>0</th>\n",
       "      <td>0</td>\n",
       "      <td>aaa</td>\n",
       "      <td>First Priority Clo Bond ETF</td>\n",
       "      <td>AMEX</td>\n",
       "    </tr>\n",
       "    <tr>\n",
       "      <th>1</th>\n",
       "      <td>1</td>\n",
       "      <td>aaau</td>\n",
       "      <td>GS Physical Gold ETF</td>\n",
       "      <td>AMEX</td>\n",
       "    </tr>\n",
       "    <tr>\n",
       "      <th>2</th>\n",
       "      <td>2</td>\n",
       "      <td>aamc</td>\n",
       "      <td>Altisource Asset</td>\n",
       "      <td>AMEX</td>\n",
       "    </tr>\n",
       "    <tr>\n",
       "      <th>3</th>\n",
       "      <td>3</td>\n",
       "      <td>aau</td>\n",
       "      <td>Almaden Minerals</td>\n",
       "      <td>AMEX</td>\n",
       "    </tr>\n",
       "    <tr>\n",
       "      <th>4</th>\n",
       "      <td>4</td>\n",
       "      <td>abeq</td>\n",
       "      <td>Absolute Core Strategy ETF</td>\n",
       "      <td>AMEX</td>\n",
       "    </tr>\n",
       "  </tbody>\n",
       "</table>\n",
       "</div>"
      ],
      "text/plain": [
       "   index Symbol                  Description STOCK_EXCHANGE\n",
       "0      0    aaa  First Priority Clo Bond ETF           AMEX\n",
       "1      1   aaau         GS Physical Gold ETF           AMEX\n",
       "2      2   aamc             Altisource Asset           AMEX\n",
       "3      3    aau             Almaden Minerals           AMEX\n",
       "4      4   abeq   Absolute Core Strategy ETF           AMEX"
      ]
     },
     "execution_count": 5,
     "metadata": {},
     "output_type": "execute_result"
    }
   ],
   "source": [
    "df_symbols.head()"
   ]
  },
  {
   "cell_type": "markdown",
   "metadata": {},
   "source": [
    "# load reddit data"
   ]
  },
  {
   "cell_type": "code",
   "execution_count": 6,
   "metadata": {},
   "outputs": [],
   "source": [
    "df = pd.read_pickle(filepath + \"wallstreetbets.pd\")"
   ]
  },
  {
   "cell_type": "code",
   "execution_count": 7,
   "metadata": {},
   "outputs": [
    {
     "data": {
      "text/html": [
       "<div>\n",
       "<style scoped>\n",
       "    .dataframe tbody tr th:only-of-type {\n",
       "        vertical-align: middle;\n",
       "    }\n",
       "\n",
       "    .dataframe tbody tr th {\n",
       "        vertical-align: top;\n",
       "    }\n",
       "\n",
       "    .dataframe thead th {\n",
       "        text-align: right;\n",
       "    }\n",
       "</style>\n",
       "<table border=\"1\" class=\"dataframe\">\n",
       "  <thead>\n",
       "    <tr style=\"text-align: right;\">\n",
       "      <th></th>\n",
       "      <th>created_at</th>\n",
       "      <th>title</th>\n",
       "      <th>selftext</th>\n",
       "      <th>score</th>\n",
       "      <th>permalink</th>\n",
       "      <th>all_comments</th>\n",
       "    </tr>\n",
       "  </thead>\n",
       "  <tbody>\n",
       "    <tr>\n",
       "      <th>0</th>\n",
       "      <td>2021-05-16</td>\n",
       "      <td>Life savings of 43k into UWMC - I have a crapp...</td>\n",
       "      <td></td>\n",
       "      <td>1120.0</td>\n",
       "      <td>/r/wallstreetbets/comments/ndgwki/life_savings...</td>\n",
       "      <td>[Can't you just turn your civic into a sports ...</td>\n",
       "    </tr>\n",
       "    <tr>\n",
       "      <th>1</th>\n",
       "      <td>2021-06-08</td>\n",
       "      <td>My current $3.7 mil portfolio, powered entirel...</td>\n",
       "      <td></td>\n",
       "      <td>4467.0</td>\n",
       "      <td>/r/wallstreetbets/comments/nv5gs3/my_current_3...</td>\n",
       "      <td>[You could retire comfortably. I’m glad you’ve...</td>\n",
       "    </tr>\n",
       "    <tr>\n",
       "      <th>2</th>\n",
       "      <td>2021-06-09</td>\n",
       "      <td>$UWMC This rocket is fueled and ready 🚀🚀🚀</td>\n",
       "      <td></td>\n",
       "      <td>358.0</td>\n",
       "      <td>/r/wallstreetbets/comments/nw73p0/uwmc_this_ro...</td>\n",
       "      <td>[I’m in for 400 shares at 7.90 cost basis. Bee...</td>\n",
       "    </tr>\n",
       "    <tr>\n",
       "      <th>3</th>\n",
       "      <td>2021-06-10</td>\n",
       "      <td>$ASO - Your YOLOs don't have to be retarded(A ...</td>\n",
       "      <td>All you retards dumping your life savings in c...</td>\n",
       "      <td>208.0</td>\n",
       "      <td>/r/wallstreetbets/comments/nwysob/aso_your_yol...</td>\n",
       "      <td>[Smooth brain enjoy, picturebook good, easy.\\n...</td>\n",
       "    </tr>\n",
       "    <tr>\n",
       "      <th>4</th>\n",
       "      <td>2021-06-10</td>\n",
       "      <td>$CLOV was a meme stock, but it was undervalued...</td>\n",
       "      <td>I’ll admit it, I didn’t do any fucking researc...</td>\n",
       "      <td>240.0</td>\n",
       "      <td>/r/wallstreetbets/comments/nwz20e/clov_was_a_m...</td>\n",
       "      <td>[Just a dumb ape here but isn't Ortex reportin...</td>\n",
       "    </tr>\n",
       "  </tbody>\n",
       "</table>\n",
       "</div>"
      ],
      "text/plain": [
       "   created_at                                              title  \\\n",
       "0  2021-05-16  Life savings of 43k into UWMC - I have a crapp...   \n",
       "1  2021-06-08  My current $3.7 mil portfolio, powered entirel...   \n",
       "2  2021-06-09          $UWMC This rocket is fueled and ready 🚀🚀🚀   \n",
       "3  2021-06-10  $ASO - Your YOLOs don't have to be retarded(A ...   \n",
       "4  2021-06-10  $CLOV was a meme stock, but it was undervalued...   \n",
       "\n",
       "                                            selftext   score  \\\n",
       "0                                                     1120.0   \n",
       "1                                                     4467.0   \n",
       "2                                                      358.0   \n",
       "3  All you retards dumping your life savings in c...   208.0   \n",
       "4  I’ll admit it, I didn’t do any fucking researc...   240.0   \n",
       "\n",
       "                                           permalink  \\\n",
       "0  /r/wallstreetbets/comments/ndgwki/life_savings...   \n",
       "1  /r/wallstreetbets/comments/nv5gs3/my_current_3...   \n",
       "2  /r/wallstreetbets/comments/nw73p0/uwmc_this_ro...   \n",
       "3  /r/wallstreetbets/comments/nwysob/aso_your_yol...   \n",
       "4  /r/wallstreetbets/comments/nwz20e/clov_was_a_m...   \n",
       "\n",
       "                                        all_comments  \n",
       "0  [Can't you just turn your civic into a sports ...  \n",
       "1  [You could retire comfortably. I’m glad you’ve...  \n",
       "2  [I’m in for 400 shares at 7.90 cost basis. Bee...  \n",
       "3  [Smooth brain enjoy, picturebook good, easy.\\n...  \n",
       "4  [Just a dumb ape here but isn't Ortex reportin...  "
      ]
     },
     "execution_count": 7,
     "metadata": {},
     "output_type": "execute_result"
    }
   ],
   "source": [
    "df.head()"
   ]
  },
  {
   "cell_type": "markdown",
   "metadata": {},
   "source": [
    "# text pre-processing"
   ]
  },
  {
   "cell_type": "markdown",
   "metadata": {},
   "source": [
    "## lower and remove punctuation etc."
   ]
  },
  {
   "cell_type": "code",
   "execution_count": 8,
   "metadata": {},
   "outputs": [],
   "source": [
    "import re\n",
    "import string"
   ]
  },
  {
   "cell_type": "code",
   "execution_count": 9,
   "metadata": {},
   "outputs": [],
   "source": [
    "def cleaning(text):\n",
    "    text = text.lower()\n",
    "    text = re.sub(\"\\[.*\\]\", \"\", text)\n",
    "    text = re.sub(\"\\(.*\\)\", \"\", text)\n",
    "    text = re.sub(f\"[{re.escape(string.punctuation)}]\", \"\", text)\n",
    "    text = re.sub(\"\\w*\\d\\w*\", \"\", text)\n",
    "    text = re.sub(\"\\s{2}\", \" \", text)\n",
    "    text = text.encode(\"ascii\", \"ignore\").decode(\"ascii\") # removing emojis\n",
    "    return text"
   ]
  },
  {
   "cell_type": "code",
   "execution_count": 10,
   "metadata": {},
   "outputs": [],
   "source": [
    "df[\"title_clean\"] = df.title.apply(cleaning)\n",
    "df[\"text_clean\"] = df.apply(lambda row: cleaning(row[\"title\"] + \" \" + row[\"selftext\"]), axis=1)"
   ]
  },
  {
   "cell_type": "markdown",
   "metadata": {},
   "source": [
    "## remove daily threads"
   ]
  },
  {
   "cell_type": "code",
   "execution_count": 457,
   "metadata": {},
   "outputs": [],
   "source": [
    "df = df[~df.title_clean.str.contains(\"daily.*thread\")]"
   ]
  },
  {
   "cell_type": "markdown",
   "metadata": {},
   "source": [
    "## remove stop words and tokenize"
   ]
  },
  {
   "cell_type": "code",
   "execution_count": 458,
   "metadata": {},
   "outputs": [
    {
     "name": "stderr",
     "output_type": "stream",
     "text": [
      "[nltk_data] Downloading package stopwords to\n",
      "[nltk_data]     C:\\Users\\Vincent\\AppData\\Roaming\\nltk_data...\n",
      "[nltk_data]   Package stopwords is already up-to-date!\n",
      "[nltk_data] Downloading package punkt to\n",
      "[nltk_data]     C:\\Users\\Vincent\\AppData\\Roaming\\nltk_data...\n",
      "[nltk_data]   Package punkt is already up-to-date!\n",
      "[nltk_data] Downloading package words to\n",
      "[nltk_data]     C:\\Users\\Vincent\\AppData\\Roaming\\nltk_data...\n",
      "[nltk_data]   Package words is already up-to-date!\n"
     ]
    },
    {
     "data": {
      "text/plain": [
       "True"
      ]
     },
     "execution_count": 458,
     "metadata": {},
     "output_type": "execute_result"
    }
   ],
   "source": [
    "import nltk\n",
    "nltk.download(\"stopwords\")\n",
    "nltk.download('punkt')\n",
    "\n",
    "from nltk.corpus import stopwords\n",
    "from nltk.tokenize import word_tokenize\n",
    "\n",
    "from nltk.corpus import words\n",
    "nltk.download('words')"
   ]
  },
  {
   "cell_type": "code",
   "execution_count": 504,
   "metadata": {},
   "outputs": [],
   "source": [
    "stop_words = set(stopwords.words(\"english\"))\n",
    "stop_words.add(\"yolo\")"
   ]
  },
  {
   "cell_type": "code",
   "execution_count": 505,
   "metadata": {
    "scrolled": true
   },
   "outputs": [
    {
     "data": {
      "text/plain": [
       "54"
      ]
     },
     "execution_count": 505,
     "metadata": {},
     "output_type": "execute_result"
    }
   ],
   "source": [
    "len(stop_words & set(df_symbols[\"Symbol\"].tolist()))"
   ]
  },
  {
   "cell_type": "code",
   "execution_count": 506,
   "metadata": {},
   "outputs": [],
   "source": [
    "df[\"title_tokens\"] = df.title_clean.apply(lambda t: [token for token in word_tokenize(t) if token not in stop_words])\n",
    "df[\"text_tokens\"] = df.text_clean.apply(lambda t: [token for token in word_tokenize(t) if token not in stop_words])"
   ]
  },
  {
   "cell_type": "markdown",
   "metadata": {},
   "source": [
    "## filter stocks"
   ]
  },
  {
   "cell_type": "code",
   "execution_count": 507,
   "metadata": {},
   "outputs": [],
   "source": [
    "from collections import Counter"
   ]
  },
  {
   "cell_type": "code",
   "execution_count": 508,
   "metadata": {},
   "outputs": [
    {
     "data": {
      "text/plain": [
       "65579"
      ]
     },
     "execution_count": 508,
     "metadata": {},
     "output_type": "execute_result"
    }
   ],
   "source": [
    "symbols = set(df_symbols[\"Symbol\"].tolist()) - set(words.words())\n",
    "symbols.add(\"wish\")\n",
    "symbols.remove(\"yolo\")\n",
    "len(symbols)"
   ]
  },
  {
   "cell_type": "code",
   "execution_count": 509,
   "metadata": {},
   "outputs": [],
   "source": [
    "df[\"title_symbols\"] = df.title_tokens.apply(lambda tokens: [token for token in tokens if token in symbols])\n",
    "df[\"text_symbols\"] = df.text_tokens.apply(lambda tokens: [token for token in tokens if token in symbols])"
   ]
  },
  {
   "cell_type": "code",
   "execution_count": 510,
   "metadata": {},
   "outputs": [],
   "source": [
    "df[\"title_symbols\"] = df.title_symbols.apply(Counter)\n",
    "df[\"text_symbols\"] = df.text_symbols.apply(Counter)"
   ]
  },
  {
   "cell_type": "code",
   "execution_count": 548,
   "metadata": {},
   "outputs": [],
   "source": [
    "def remove_stocks(row):\n",
    "    title, stocks = row[\"title_clean\"], row[\"title_symbols\"].keys()\n",
    "    for stock in stocks:\n",
    "        title = title.replace(stock, \"\")\n",
    "    return title"
   ]
  },
  {
   "cell_type": "code",
   "execution_count": 549,
   "metadata": {},
   "outputs": [],
   "source": [
    "df[\"title_clean_no_stocks\"] = df.apply(remove_stocks, axis=1)"
   ]
  },
  {
   "cell_type": "code",
   "execution_count": 550,
   "metadata": {},
   "outputs": [],
   "source": [
    "df[\"title_tokens_clean\"] = df.title_clean_no_stocks.apply(lambda t: [token for token in word_tokenize(t) if token not in stop_words])"
   ]
  },
  {
   "cell_type": "markdown",
   "metadata": {},
   "source": [
    "## stemming"
   ]
  },
  {
   "cell_type": "code",
   "execution_count": 551,
   "metadata": {},
   "outputs": [],
   "source": [
    "sno = nltk.stem.SnowballStemmer(\"english\")"
   ]
  },
  {
   "cell_type": "code",
   "execution_count": 552,
   "metadata": {},
   "outputs": [],
   "source": [
    "df[\"title_tokens\"] = df.title_tokens.apply(lambda tokens: [sno.stem(token) for token in tokens])\n",
    "df[\"text_tokens\"] = df.text_tokens.apply(lambda tokens: [sno.stem(token) for token in tokens])\n",
    "df[\"title_tokens_clean\"] = df.title_tokens_clean.apply(lambda tokens: [sno.stem(token) for token in tokens])"
   ]
  },
  {
   "cell_type": "markdown",
   "metadata": {},
   "source": [
    "## lemmatization"
   ]
  },
  {
   "cell_type": "code",
   "execution_count": 554,
   "metadata": {},
   "outputs": [],
   "source": [
    "lem = nltk.stem.WordNetLemmatizer()"
   ]
  },
  {
   "cell_type": "code",
   "execution_count": 555,
   "metadata": {},
   "outputs": [],
   "source": [
    "df[\"title_tokens\"] = df.title_tokens.apply(lambda tokens: [lem.lemmatize(token) for token in tokens])\n",
    "df[\"text_tokens\"] = df.text_tokens.apply(lambda tokens: [lem.lemmatize(token) for token in tokens])\n",
    "df[\"title_tokens_clean\"] = df.title_tokens_clean.apply(lambda tokens: [lem.lemmatize(token) for token in tokens])"
   ]
  },
  {
   "cell_type": "markdown",
   "metadata": {},
   "source": [
    "# Sentiment Analysis"
   ]
  },
  {
   "cell_type": "code",
   "execution_count": 556,
   "metadata": {},
   "outputs": [],
   "source": [
    "# take only entires where we have some symbols\n",
    "df_sa = df[df.title_symbols.apply(len) > 0]"
   ]
  },
  {
   "cell_type": "markdown",
   "metadata": {},
   "source": [
    "## lexicon-based\n",
    "__Different lexicons__:\n",
    "* AFINN\n",
    "* Bing Liu's\n",
    "* MPQA subjectivity\n",
    "* SentiWordNet\n",
    "* VADER\n",
    "* TextBlob"
   ]
  },
  {
   "cell_type": "markdown",
   "metadata": {},
   "source": [
    "### AFINN"
   ]
  },
  {
   "cell_type": "code",
   "execution_count": 557,
   "metadata": {},
   "outputs": [],
   "source": [
    "from afinn import Afinn"
   ]
  },
  {
   "cell_type": "code",
   "execution_count": 558,
   "metadata": {},
   "outputs": [],
   "source": [
    "af = Afinn()"
   ]
  },
  {
   "cell_type": "code",
   "execution_count": 559,
   "metadata": {},
   "outputs": [
    {
     "name": "stderr",
     "output_type": "stream",
     "text": [
      "C:\\Users\\Vincent\\AppData\\Roaming\\Python\\Python37\\site-packages\\pandas\\core\\frame.py:3607: SettingWithCopyWarning: \n",
      "A value is trying to be set on a copy of a slice from a DataFrame.\n",
      "Try using .loc[row_indexer,col_indexer] = value instead\n",
      "\n",
      "See the caveats in the documentation: https://pandas.pydata.org/pandas-docs/stable/user_guide/indexing.html#returning-a-view-versus-a-copy\n",
      "  self._set_item(key, value)\n"
     ]
    }
   ],
   "source": [
    "df_sa[\"AFINN_polarity\"] = df_sa.text_clean.apply(lambda text: af.score(text))"
   ]
  },
  {
   "cell_type": "markdown",
   "metadata": {},
   "source": [
    "### Bing Liu's"
   ]
  },
  {
   "cell_type": "code",
   "execution_count": 560,
   "metadata": {},
   "outputs": [
    {
     "name": "stderr",
     "output_type": "stream",
     "text": [
      "[nltk_data] Downloading package opinion_lexicon to\n",
      "[nltk_data]     C:\\Users\\Vincent\\AppData\\Roaming\\nltk_data...\n",
      "[nltk_data]   Package opinion_lexicon is already up-to-date!\n"
     ]
    }
   ],
   "source": [
    "nltk.download(\"opinion_lexicon\")\n",
    "from nltk.corpus import opinion_lexicon"
   ]
  },
  {
   "cell_type": "code",
   "execution_count": 561,
   "metadata": {},
   "outputs": [],
   "source": [
    "pos = set(opinion_lexicon.positive())\n",
    "neg = set(opinion_lexicon.negative())"
   ]
  },
  {
   "cell_type": "code",
   "execution_count": 562,
   "metadata": {},
   "outputs": [],
   "source": [
    "df_sa[\"Bing_Liu_polarity\"] = df_sa.text_tokens.apply(lambda tokens: sum(1 if token in pos else -1 if token in neg else 0 for token in tokens))"
   ]
  },
  {
   "cell_type": "markdown",
   "metadata": {},
   "source": [
    "### Vader"
   ]
  },
  {
   "cell_type": "code",
   "execution_count": 563,
   "metadata": {},
   "outputs": [
    {
     "name": "stderr",
     "output_type": "stream",
     "text": [
      "[nltk_data] Downloading package vader_lexicon to\n",
      "[nltk_data]     C:\\Users\\Vincent\\AppData\\Roaming\\nltk_data...\n",
      "[nltk_data]   Package vader_lexicon is already up-to-date!\n"
     ]
    }
   ],
   "source": [
    "nltk.download('vader_lexicon')\n",
    "from nltk.sentiment.vader import SentimentIntensityAnalyzer"
   ]
  },
  {
   "cell_type": "code",
   "execution_count": 564,
   "metadata": {},
   "outputs": [],
   "source": [
    "sid = SentimentIntensityAnalyzer()"
   ]
  },
  {
   "cell_type": "code",
   "execution_count": 565,
   "metadata": {},
   "outputs": [],
   "source": [
    "df_sa[\"VADER_polarity\"] = df_sa.text_clean.apply(lambda text: sid.polarity_scores(text)[\"compound\"])"
   ]
  },
  {
   "cell_type": "markdown",
   "metadata": {},
   "source": [
    "### TextBlob"
   ]
  },
  {
   "cell_type": "code",
   "execution_count": 566,
   "metadata": {},
   "outputs": [],
   "source": [
    "from textblob import TextBlob"
   ]
  },
  {
   "cell_type": "code",
   "execution_count": 567,
   "metadata": {},
   "outputs": [],
   "source": [
    "df_sa[\"TextBlob_polarity\"] = df_sa.text_clean.apply(lambda text: TextBlob(text).polarity)"
   ]
  },
  {
   "cell_type": "markdown",
   "metadata": {},
   "source": [
    "### Comparison"
   ]
  },
  {
   "cell_type": "code",
   "execution_count": 568,
   "metadata": {},
   "outputs": [
    {
     "data": {
      "text/html": [
       "<div>\n",
       "<style scoped>\n",
       "    .dataframe tbody tr th:only-of-type {\n",
       "        vertical-align: middle;\n",
       "    }\n",
       "\n",
       "    .dataframe tbody tr th {\n",
       "        vertical-align: top;\n",
       "    }\n",
       "\n",
       "    .dataframe thead th {\n",
       "        text-align: right;\n",
       "    }\n",
       "</style>\n",
       "<table border=\"1\" class=\"dataframe\">\n",
       "  <thead>\n",
       "    <tr style=\"text-align: right;\">\n",
       "      <th></th>\n",
       "      <th>text_clean</th>\n",
       "      <th>AFINN_polarity</th>\n",
       "      <th>Bing_Liu_polarity</th>\n",
       "      <th>VADER_polarity</th>\n",
       "      <th>TextBlob_polarity</th>\n",
       "    </tr>\n",
       "  </thead>\n",
       "  <tbody>\n",
       "    <tr>\n",
       "      <th>0</th>\n",
       "      <td>life savings of into uwmc i have a crappy hond...</td>\n",
       "      <td>-1.0</td>\n",
       "      <td>0</td>\n",
       "      <td>-0.5106</td>\n",
       "      <td>0.000000</td>\n",
       "    </tr>\n",
       "    <tr>\n",
       "      <th>1</th>\n",
       "      <td>my current mil portfolio powered entirely by m...</td>\n",
       "      <td>0.0</td>\n",
       "      <td>0</td>\n",
       "      <td>0.0000</td>\n",
       "      <td>0.000000</td>\n",
       "    </tr>\n",
       "    <tr>\n",
       "      <th>2</th>\n",
       "      <td>uwmc this rocket is fueled and ready</td>\n",
       "      <td>0.0</td>\n",
       "      <td>0</td>\n",
       "      <td>0.3612</td>\n",
       "      <td>0.200000</td>\n",
       "    </tr>\n",
       "    <tr>\n",
       "      <th>3</th>\n",
       "      <td>aso your yolos dont have to be retarded all yo...</td>\n",
       "      <td>-29.0</td>\n",
       "      <td>-5</td>\n",
       "      <td>-0.9917</td>\n",
       "      <td>-0.121420</td>\n",
       "    </tr>\n",
       "    <tr>\n",
       "      <th>4</th>\n",
       "      <td>clov was a meme stock but it was undervalued b...</td>\n",
       "      <td>-13.0</td>\n",
       "      <td>-1</td>\n",
       "      <td>0.9832</td>\n",
       "      <td>0.011038</td>\n",
       "    </tr>\n",
       "    <tr>\n",
       "      <th>5</th>\n",
       "      <td>clov  i did a reverse retard finally</td>\n",
       "      <td>-2.0</td>\n",
       "      <td>-1</td>\n",
       "      <td>-0.5267</td>\n",
       "      <td>-0.450000</td>\n",
       "    </tr>\n",
       "    <tr>\n",
       "      <th>6</th>\n",
       "      <td>wish and amazon buyout offer in remember amazo...</td>\n",
       "      <td>14.0</td>\n",
       "      <td>5</td>\n",
       "      <td>0.9677</td>\n",
       "      <td>0.131944</td>\n",
       "    </tr>\n",
       "    <tr>\n",
       "      <th>7</th>\n",
       "      <td>wish holding the line boys another shares toda...</td>\n",
       "      <td>2.0</td>\n",
       "      <td>0</td>\n",
       "      <td>0.5994</td>\n",
       "      <td>0.000000</td>\n",
       "    </tr>\n",
       "    <tr>\n",
       "      <th>8</th>\n",
       "      <td>wkhs and why it could be a nobrainer hey guys ...</td>\n",
       "      <td>24.0</td>\n",
       "      <td>10</td>\n",
       "      <td>0.9901</td>\n",
       "      <td>0.130811</td>\n",
       "    </tr>\n",
       "    <tr>\n",
       "      <th>9</th>\n",
       "      <td>loss on bb calls in two days</td>\n",
       "      <td>-3.0</td>\n",
       "      <td>-1</td>\n",
       "      <td>-0.3182</td>\n",
       "      <td>0.000000</td>\n",
       "    </tr>\n",
       "    <tr>\n",
       "      <th>10</th>\n",
       "      <td>a more serious take on why clne is an importan...</td>\n",
       "      <td>27.0</td>\n",
       "      <td>10</td>\n",
       "      <td>0.9848</td>\n",
       "      <td>0.144586</td>\n",
       "    </tr>\n",
       "    <tr>\n",
       "      <th>11</th>\n",
       "      <td>amc casino version apes vs kenny meme of the y...</td>\n",
       "      <td>0.0</td>\n",
       "      <td>0</td>\n",
       "      <td>0.0000</td>\n",
       "      <td>0.000000</td>\n",
       "    </tr>\n",
       "    <tr>\n",
       "      <th>12</th>\n",
       "      <td>amc whos with me  today is a big day and this ...</td>\n",
       "      <td>39.0</td>\n",
       "      <td>1</td>\n",
       "      <td>0.9954</td>\n",
       "      <td>0.057346</td>\n",
       "    </tr>\n",
       "    <tr>\n",
       "      <th>13</th>\n",
       "      <td>all red today but still holding bb they cant b...</td>\n",
       "      <td>0.0</td>\n",
       "      <td>-1</td>\n",
       "      <td>0.0000</td>\n",
       "      <td>0.000000</td>\n",
       "    </tr>\n",
       "    <tr>\n",
       "      <th>14</th>\n",
       "      <td>bb yolo  soon right</td>\n",
       "      <td>0.0</td>\n",
       "      <td>1</td>\n",
       "      <td>0.2732</td>\n",
       "      <td>0.285714</td>\n",
       "    </tr>\n",
       "    <tr>\n",
       "      <th>15</th>\n",
       "      <td>bb holding at the support ready to bounce stil...</td>\n",
       "      <td>2.0</td>\n",
       "      <td>1</td>\n",
       "      <td>0.6369</td>\n",
       "      <td>0.200000</td>\n",
       "    </tr>\n",
       "    <tr>\n",
       "      <th>16</th>\n",
       "      <td>bb to the moon still right</td>\n",
       "      <td>0.0</td>\n",
       "      <td>1</td>\n",
       "      <td>0.0000</td>\n",
       "      <td>0.285714</td>\n",
       "    </tr>\n",
       "    <tr>\n",
       "      <th>17</th>\n",
       "      <td>bb to the moon</td>\n",
       "      <td>0.0</td>\n",
       "      <td>0</td>\n",
       "      <td>0.0000</td>\n",
       "      <td>0.000000</td>\n",
       "    </tr>\n",
       "    <tr>\n",
       "      <th>18</th>\n",
       "      <td>buy clf dd resume upward tmrw after institutio...</td>\n",
       "      <td>1.0</td>\n",
       "      <td>0</td>\n",
       "      <td>0.4404</td>\n",
       "      <td>0.114286</td>\n",
       "    </tr>\n",
       "    <tr>\n",
       "      <th>19</th>\n",
       "      <td>bipartisan group reaches agreement on infrastr...</td>\n",
       "      <td>2.0</td>\n",
       "      <td>0</td>\n",
       "      <td>0.5267</td>\n",
       "      <td>0.000000</td>\n",
       "    </tr>\n",
       "    <tr>\n",
       "      <th>20</th>\n",
       "      <td>blackberry bb dd canada and facebook settlemen...</td>\n",
       "      <td>10.0</td>\n",
       "      <td>3</td>\n",
       "      <td>0.9863</td>\n",
       "      <td>0.042672</td>\n",
       "    </tr>\n",
       "    <tr>\n",
       "      <th>21</th>\n",
       "      <td>clf we like our steel now  us is the worlds mo...</td>\n",
       "      <td>3.0</td>\n",
       "      <td>0</td>\n",
       "      <td>0.2960</td>\n",
       "      <td>0.041988</td>\n",
       "    </tr>\n",
       "    <tr>\n",
       "      <th>24</th>\n",
       "      <td>gme to amc and bb last week ladies go first gm...</td>\n",
       "      <td>19.0</td>\n",
       "      <td>5</td>\n",
       "      <td>0.9901</td>\n",
       "      <td>0.092088</td>\n",
       "    </tr>\n",
       "    <tr>\n",
       "      <th>26</th>\n",
       "      <td>i like green energy amp greenback clne has bot...</td>\n",
       "      <td>4.0</td>\n",
       "      <td>2</td>\n",
       "      <td>0.7269</td>\n",
       "      <td>-0.200000</td>\n",
       "    </tr>\n",
       "    <tr>\n",
       "      <th>28</th>\n",
       "      <td>mvis up look at the chart and get in before it...</td>\n",
       "      <td>0.0</td>\n",
       "      <td>-1</td>\n",
       "      <td>0.0000</td>\n",
       "      <td>-0.300000</td>\n",
       "    </tr>\n",
       "    <tr>\n",
       "      <th>30</th>\n",
       "      <td>me and uwmc are taking our wives sons and leav...</td>\n",
       "      <td>0.0</td>\n",
       "      <td>0</td>\n",
       "      <td>0.0000</td>\n",
       "      <td>-0.400000</td>\n",
       "    </tr>\n",
       "    <tr>\n",
       "      <th>31</th>\n",
       "      <td>no guts no glory lets go uwmc show me those ba...</td>\n",
       "      <td>0.0</td>\n",
       "      <td>0</td>\n",
       "      <td>0.0258</td>\n",
       "      <td>0.000000</td>\n",
       "    </tr>\n",
       "    <tr>\n",
       "      <th>32</th>\n",
       "      <td>not selling price aint right tlry price target...</td>\n",
       "      <td>2.0</td>\n",
       "      <td>2</td>\n",
       "      <td>0.3612</td>\n",
       "      <td>0.285714</td>\n",
       "    </tr>\n",
       "    <tr>\n",
       "      <th>34</th>\n",
       "      <td>official ape uwmc</td>\n",
       "      <td>0.0</td>\n",
       "      <td>0</td>\n",
       "      <td>0.0000</td>\n",
       "      <td>0.000000</td>\n",
       "    </tr>\n",
       "    <tr>\n",
       "      <th>35</th>\n",
       "      <td>sens is already approved in europe and fda app...</td>\n",
       "      <td>42.0</td>\n",
       "      <td>3</td>\n",
       "      <td>0.9975</td>\n",
       "      <td>0.045521</td>\n",
       "    </tr>\n",
       "    <tr>\n",
       "      <th>36</th>\n",
       "      <td>sens gain porn yolo</td>\n",
       "      <td>2.0</td>\n",
       "      <td>1</td>\n",
       "      <td>0.6705</td>\n",
       "      <td>0.000000</td>\n",
       "    </tr>\n",
       "    <tr>\n",
       "      <th>37</th>\n",
       "      <td>super clne transformation</td>\n",
       "      <td>3.0</td>\n",
       "      <td>1</td>\n",
       "      <td>0.5994</td>\n",
       "      <td>0.333333</td>\n",
       "    </tr>\n",
       "    <tr>\n",
       "      <th>39</th>\n",
       "      <td>the two trades that sent me to the moon and ha...</td>\n",
       "      <td>-1.0</td>\n",
       "      <td>0</td>\n",
       "      <td>0.1531</td>\n",
       "      <td>0.000000</td>\n",
       "    </tr>\n",
       "    <tr>\n",
       "      <th>42</th>\n",
       "      <td>wish personal dd fair price share target   how...</td>\n",
       "      <td>47.0</td>\n",
       "      <td>3</td>\n",
       "      <td>0.9954</td>\n",
       "      <td>0.146102</td>\n",
       "    </tr>\n",
       "    <tr>\n",
       "      <th>43</th>\n",
       "      <td>wish yolo palantir cofounder joe lonsdale is b...</td>\n",
       "      <td>1.0</td>\n",
       "      <td>1</td>\n",
       "      <td>0.5859</td>\n",
       "      <td>0.000000</td>\n",
       "    </tr>\n",
       "    <tr>\n",
       "      <th>44</th>\n",
       "      <td>wkhs workhorse group workhorse group is a comp...</td>\n",
       "      <td>0.0</td>\n",
       "      <td>0</td>\n",
       "      <td>0.0000</td>\n",
       "      <td>0.250000</td>\n",
       "    </tr>\n",
       "    <tr>\n",
       "      <th>49</th>\n",
       "      <td>whats going on with rkt its time to enter a po...</td>\n",
       "      <td>20.0</td>\n",
       "      <td>16</td>\n",
       "      <td>0.9991</td>\n",
       "      <td>0.068387</td>\n",
       "    </tr>\n",
       "    <tr>\n",
       "      <th>51</th>\n",
       "      <td>why clne is more than a hype stock and why im ...</td>\n",
       "      <td>34.0</td>\n",
       "      <td>-2</td>\n",
       "      <td>0.9972</td>\n",
       "      <td>0.081306</td>\n",
       "    </tr>\n",
       "    <tr>\n",
       "      <th>52</th>\n",
       "      <td>yolo gt clove back to the basics</td>\n",
       "      <td>0.0</td>\n",
       "      <td>0</td>\n",
       "      <td>0.4939</td>\n",
       "      <td>0.000000</td>\n",
       "    </tr>\n",
       "    <tr>\n",
       "      <th>53</th>\n",
       "      <td>gme earnings megathread the morning after  go...</td>\n",
       "      <td>11.0</td>\n",
       "      <td>0</td>\n",
       "      <td>0.9458</td>\n",
       "      <td>0.500000</td>\n",
       "    </tr>\n",
       "    <tr>\n",
       "      <th>55</th>\n",
       "      <td>clf</td>\n",
       "      <td>0.0</td>\n",
       "      <td>0</td>\n",
       "      <td>0.0000</td>\n",
       "      <td>0.000000</td>\n",
       "    </tr>\n",
       "    <tr>\n",
       "      <th>56</th>\n",
       "      <td>in clf lets go</td>\n",
       "      <td>0.0</td>\n",
       "      <td>0</td>\n",
       "      <td>0.0000</td>\n",
       "      <td>0.000000</td>\n",
       "    </tr>\n",
       "    <tr>\n",
       "      <th>57</th>\n",
       "      <td>amc clf mnmd yolo update im not fing selling a...</td>\n",
       "      <td>0.0</td>\n",
       "      <td>1</td>\n",
       "      <td>0.4939</td>\n",
       "      <td>0.000000</td>\n",
       "    </tr>\n",
       "    <tr>\n",
       "      <th>60</th>\n",
       "      <td>clf yolo</td>\n",
       "      <td>0.0</td>\n",
       "      <td>0</td>\n",
       "      <td>0.2732</td>\n",
       "      <td>0.000000</td>\n",
       "    </tr>\n",
       "    <tr>\n",
       "      <th>61</th>\n",
       "      <td>clf balls of steel clf is imo the best meme st...</td>\n",
       "      <td>15.0</td>\n",
       "      <td>2</td>\n",
       "      <td>0.9726</td>\n",
       "      <td>0.249199</td>\n",
       "    </tr>\n",
       "    <tr>\n",
       "      <th>62</th>\n",
       "      <td>clf german ape sticks his banana into hot amer...</td>\n",
       "      <td>0.0</td>\n",
       "      <td>1</td>\n",
       "      <td>0.0000</td>\n",
       "      <td>0.083333</td>\n",
       "    </tr>\n",
       "    <tr>\n",
       "      <th>63</th>\n",
       "      <td>clf short interest and why its only a bonus to...</td>\n",
       "      <td>0.0</td>\n",
       "      <td>0</td>\n",
       "      <td>0.9837</td>\n",
       "      <td>0.029089</td>\n",
       "    </tr>\n",
       "    <tr>\n",
       "      <th>64</th>\n",
       "      <td>clov is printing and it will go higher imo</td>\n",
       "      <td>0.0</td>\n",
       "      <td>0</td>\n",
       "      <td>0.0000</td>\n",
       "      <td>0.250000</td>\n",
       "    </tr>\n",
       "    <tr>\n",
       "      <th>65</th>\n",
       "      <td>clov to the moon despite whatever you think of...</td>\n",
       "      <td>9.0</td>\n",
       "      <td>2</td>\n",
       "      <td>0.9497</td>\n",
       "      <td>0.025694</td>\n",
       "    </tr>\n",
       "    <tr>\n",
       "      <th>66</th>\n",
       "      <td>crsr dd or why you should park all your cash i...</td>\n",
       "      <td>30.0</td>\n",
       "      <td>1</td>\n",
       "      <td>0.9888</td>\n",
       "      <td>0.089815</td>\n",
       "    </tr>\n",
       "  </tbody>\n",
       "</table>\n",
       "</div>"
      ],
      "text/plain": [
       "                                           text_clean  AFINN_polarity  \\\n",
       "0   life savings of into uwmc i have a crappy hond...            -1.0   \n",
       "1   my current mil portfolio powered entirely by m...             0.0   \n",
       "2              uwmc this rocket is fueled and ready               0.0   \n",
       "3   aso your yolos dont have to be retarded all yo...           -29.0   \n",
       "4   clov was a meme stock but it was undervalued b...           -13.0   \n",
       "5               clov  i did a reverse retard finally             -2.0   \n",
       "6   wish and amazon buyout offer in remember amazo...            14.0   \n",
       "7   wish holding the line boys another shares toda...             2.0   \n",
       "8   wkhs and why it could be a nobrainer hey guys ...            24.0   \n",
       "9                      loss on bb calls in two days              -3.0   \n",
       "10  a more serious take on why clne is an importan...            27.0   \n",
       "11  amc casino version apes vs kenny meme of the y...             0.0   \n",
       "12  amc whos with me  today is a big day and this ...            39.0   \n",
       "13  all red today but still holding bb they cant b...             0.0   \n",
       "14                              bb yolo  soon right               0.0   \n",
       "15  bb holding at the support ready to bounce stil...             2.0   \n",
       "16                        bb to the moon still right              0.0   \n",
       "17                                 bb to the moon                 0.0   \n",
       "18  buy clf dd resume upward tmrw after institutio...             1.0   \n",
       "19  bipartisan group reaches agreement on infrastr...             2.0   \n",
       "20  blackberry bb dd canada and facebook settlemen...            10.0   \n",
       "21  clf we like our steel now  us is the worlds mo...             3.0   \n",
       "24  gme to amc and bb last week ladies go first gm...            19.0   \n",
       "26  i like green energy amp greenback clne has bot...             4.0   \n",
       "28  mvis up look at the chart and get in before it...             0.0   \n",
       "30  me and uwmc are taking our wives sons and leav...             0.0   \n",
       "31  no guts no glory lets go uwmc show me those ba...             0.0   \n",
       "32  not selling price aint right tlry price target...             2.0   \n",
       "34                                 official ape uwmc              0.0   \n",
       "35  sens is already approved in europe and fda app...            42.0   \n",
       "36                              sens gain porn yolo               2.0   \n",
       "37                         super clne transformation              3.0   \n",
       "39  the two trades that sent me to the moon and ha...            -1.0   \n",
       "42  wish personal dd fair price share target   how...            47.0   \n",
       "43  wish yolo palantir cofounder joe lonsdale is b...             1.0   \n",
       "44  wkhs workhorse group workhorse group is a comp...             0.0   \n",
       "49  whats going on with rkt its time to enter a po...            20.0   \n",
       "51  why clne is more than a hype stock and why im ...            34.0   \n",
       "52                  yolo gt clove back to the basics              0.0   \n",
       "53   gme earnings megathread the morning after  go...            11.0   \n",
       "55                                              clf               0.0   \n",
       "56                                   in clf lets go               0.0   \n",
       "57  amc clf mnmd yolo update im not fing selling a...             0.0   \n",
       "60                                          clf yolo              0.0   \n",
       "61  clf balls of steel clf is imo the best meme st...            15.0   \n",
       "62  clf german ape sticks his banana into hot amer...             0.0   \n",
       "63  clf short interest and why its only a bonus to...             0.0   \n",
       "64        clov is printing and it will go higher imo              0.0   \n",
       "65  clov to the moon despite whatever you think of...             9.0   \n",
       "66  crsr dd or why you should park all your cash i...            30.0   \n",
       "\n",
       "    Bing_Liu_polarity  VADER_polarity  TextBlob_polarity  \n",
       "0                   0         -0.5106           0.000000  \n",
       "1                   0          0.0000           0.000000  \n",
       "2                   0          0.3612           0.200000  \n",
       "3                  -5         -0.9917          -0.121420  \n",
       "4                  -1          0.9832           0.011038  \n",
       "5                  -1         -0.5267          -0.450000  \n",
       "6                   5          0.9677           0.131944  \n",
       "7                   0          0.5994           0.000000  \n",
       "8                  10          0.9901           0.130811  \n",
       "9                  -1         -0.3182           0.000000  \n",
       "10                 10          0.9848           0.144586  \n",
       "11                  0          0.0000           0.000000  \n",
       "12                  1          0.9954           0.057346  \n",
       "13                 -1          0.0000           0.000000  \n",
       "14                  1          0.2732           0.285714  \n",
       "15                  1          0.6369           0.200000  \n",
       "16                  1          0.0000           0.285714  \n",
       "17                  0          0.0000           0.000000  \n",
       "18                  0          0.4404           0.114286  \n",
       "19                  0          0.5267           0.000000  \n",
       "20                  3          0.9863           0.042672  \n",
       "21                  0          0.2960           0.041988  \n",
       "24                  5          0.9901           0.092088  \n",
       "26                  2          0.7269          -0.200000  \n",
       "28                 -1          0.0000          -0.300000  \n",
       "30                  0          0.0000          -0.400000  \n",
       "31                  0          0.0258           0.000000  \n",
       "32                  2          0.3612           0.285714  \n",
       "34                  0          0.0000           0.000000  \n",
       "35                  3          0.9975           0.045521  \n",
       "36                  1          0.6705           0.000000  \n",
       "37                  1          0.5994           0.333333  \n",
       "39                  0          0.1531           0.000000  \n",
       "42                  3          0.9954           0.146102  \n",
       "43                  1          0.5859           0.000000  \n",
       "44                  0          0.0000           0.250000  \n",
       "49                 16          0.9991           0.068387  \n",
       "51                 -2          0.9972           0.081306  \n",
       "52                  0          0.4939           0.000000  \n",
       "53                  0          0.9458           0.500000  \n",
       "55                  0          0.0000           0.000000  \n",
       "56                  0          0.0000           0.000000  \n",
       "57                  1          0.4939           0.000000  \n",
       "60                  0          0.2732           0.000000  \n",
       "61                  2          0.9726           0.249199  \n",
       "62                  1          0.0000           0.083333  \n",
       "63                  0          0.9837           0.029089  \n",
       "64                  0          0.0000           0.250000  \n",
       "65                  2          0.9497           0.025694  \n",
       "66                  1          0.9888           0.089815  "
      ]
     },
     "execution_count": 568,
     "metadata": {},
     "output_type": "execute_result"
    }
   ],
   "source": [
    "df_sa[[\"text_clean\",\"AFINN_polarity\", \"Bing_Liu_polarity\", \"VADER_polarity\", \"TextBlob_polarity\"]].head(50)"
   ]
  },
  {
   "cell_type": "markdown",
   "metadata": {},
   "source": [
    "## Naive Bayes"
   ]
  },
  {
   "cell_type": "raw",
   "metadata": {},
   "source": [
    "df_train = pd.DataFrame()\n",
    "df_train[\"target\"] = df_sa.title_clean.sample(1000)"
   ]
  },
  {
   "cell_type": "code",
   "execution_count": 569,
   "metadata": {},
   "outputs": [],
   "source": [
    "if False:\n",
    "    df_train.to_csv(\"/Users/Vincent/Desktop/nlp-stock-market-trend-prediction-with-reddit-posts/data/Classifier/training_list.csv\")"
   ]
  },
  {
   "cell_type": "markdown",
   "metadata": {},
   "source": [
    "## Maximum Entropy (ME)"
   ]
  },
  {
   "cell_type": "code",
   "execution_count": null,
   "metadata": {},
   "outputs": [],
   "source": []
  },
  {
   "cell_type": "markdown",
   "metadata": {},
   "source": [
    "## Support Vector Machines (SVM)"
   ]
  },
  {
   "cell_type": "markdown",
   "metadata": {},
   "source": [
    "## Multilayer perceptron (MLP)"
   ]
  },
  {
   "cell_type": "markdown",
   "metadata": {},
   "source": [
    "# Latent Dirichlet Allocation (LDA)"
   ]
  },
  {
   "cell_type": "code",
   "execution_count": 570,
   "metadata": {},
   "outputs": [],
   "source": [
    "import gensim\n",
    "from gensim import corpora\n",
    "from gensim.models import CoherenceModel\n",
    "\n",
    "import pyLDAvis\n",
    "import pyLDAvis.gensim_models"
   ]
  },
  {
   "cell_type": "code",
   "execution_count": 571,
   "metadata": {},
   "outputs": [
    {
     "name": "stderr",
     "output_type": "stream",
     "text": [
      "C:\\Users\\Vincent\\AppData\\Roaming\\Python\\Python37\\site-packages\\pandas\\core\\frame.py:3607: SettingWithCopyWarning: \n",
      "A value is trying to be set on a copy of a slice from a DataFrame.\n",
      "Try using .loc[row_indexer,col_indexer] = value instead\n",
      "\n",
      "See the caveats in the documentation: https://pandas.pydata.org/pandas-docs/stable/user_guide/indexing.html#returning-a-view-versus-a-copy\n",
      "  self._set_item(key, value)\n"
     ]
    }
   ],
   "source": [
    "df_sa[\"title_bigrams\"] = df_sa.title_tokens_clean.apply(lambda t: [\"_\".join(bigram) for bigram in nltk.bigrams(t)])"
   ]
  },
  {
   "cell_type": "code",
   "execution_count": 572,
   "metadata": {},
   "outputs": [],
   "source": [
    "flatten = lambda nested_list: [elm for sublist in nested_list for elm in sublist]"
   ]
  },
  {
   "cell_type": "code",
   "execution_count": 573,
   "metadata": {},
   "outputs": [],
   "source": [
    "id2word = corpora.Dictionary(df_sa.title_tokens_clean)\n",
    "#id2word = corpora.Dictionary(df_sa.title_bigrams)"
   ]
  },
  {
   "cell_type": "code",
   "execution_count": 574,
   "metadata": {},
   "outputs": [],
   "source": [
    "corpus = [id2word.doc2bow(tokens) for tokens in df_sa.title_tokens_clean]\n",
    "#corpus = [id2word.doc2bow(tokens) for tokens in df_sa.title_bigrams]"
   ]
  },
  {
   "cell_type": "code",
   "execution_count": 536,
   "metadata": {},
   "outputs": [
    {
     "name": "stdout",
     "output_type": "stream",
     "text": [
      "Dictionary(2166 unique tokens: ['buy', 'car', 'civic', 'crappy', 'honda']...)\n"
     ]
    }
   ],
   "source": [
    "print(id2word)"
   ]
  },
  {
   "cell_type": "code",
   "execution_count": 496,
   "metadata": {},
   "outputs": [],
   "source": [
    "lda_model = gensim.models.ldamodel.LdaModel(\n",
    "    corpus=corpus,\n",
    "    id2word=id2word,\n",
    "    num_topics=5,\n",
    "    random_state=100,\n",
    "    update_every=1,\n",
    "    chunksize=100,\n",
    "    passes=10,\n",
    "    alpha='auto',\n",
    "    per_word_topics=True)"
   ]
  },
  {
   "cell_type": "code",
   "execution_count": 497,
   "metadata": {},
   "outputs": [],
   "source": [
    "topics = lda_model.print_topics(num_words=10)"
   ]
  },
  {
   "cell_type": "code",
   "execution_count": 498,
   "metadata": {},
   "outputs": [
    {
     "name": "stdout",
     "output_type": "stream",
     "text": [
      "(0, '0.025*\"like\" + 0.024*\"play\" + 0.024*\"im\" + 0.022*\"next\" + 0.021*\"update\" + 0.020*\"week\" + 0.010*\"fuck\" + 0.010*\"one\" + 0.009*\"buying\" + 0.009*\"fly\"')\n",
      "(1, '0.021*\"go\" + 0.021*\"still\" + 0.020*\"lets\" + 0.016*\"tomorrow\" + 0.016*\"sold\" + 0.016*\"time\" + 0.012*\"make\" + 0.012*\"holding\" + 0.011*\"last\" + 0.009*\"strong\"')\n",
      "(2, '0.022*\"stock\" + 0.016*\"buy\" + 0.014*\"analysis\" + 0.013*\"technical\" + 0.011*\"money\" + 0.010*\"meme\" + 0.010*\"way\" + 0.010*\"true\" + 0.008*\"says\" + 0.008*\"rocket\"')\n",
      "(3, '0.020*\"apes\" + 0.018*\"short\" + 0.016*\"got\" + 0.014*\"get\" + 0.013*\"stock\" + 0.013*\"back\" + 0.011*\"year\" + 0.011*\"bullish\" + 0.009*\"need\" + 0.009*\"dont\"')\n",
      "(4, '0.121*\"yolo\" + 0.027*\"moon\" + 0.024*\"shares\" + 0.017*\"going\" + 0.016*\"options\" + 0.016*\"calls\" + 0.014*\"good\" + 0.013*\"today\" + 0.012*\"retard\" + 0.011*\"long\"')\n"
     ]
    }
   ],
   "source": [
    "for topic in topics:\n",
    "    print(topic)"
   ]
  },
  {
   "cell_type": "code",
   "execution_count": 499,
   "metadata": {},
   "outputs": [
    {
     "name": "stdout",
     "output_type": "stream",
     "text": [
      "Perplexity: -7.929074689785096\n"
     ]
    },
    {
     "name": "stderr",
     "output_type": "stream",
     "text": [
      "C:\\Users\\Vincent\\AppData\\Roaming\\Python\\Python37\\site-packages\\gensim\\topic_coherence\\direct_confirmation_measure.py:202: RuntimeWarning: invalid value encountered in true_divide\n",
      "  numerator = (co_occur_count / num_docs) + EPSILON\n",
      "C:\\Users\\Vincent\\AppData\\Roaming\\Python\\Python37\\site-packages\\gensim\\topic_coherence\\direct_confirmation_measure.py:203: RuntimeWarning: invalid value encountered in true_divide\n",
      "  denominator = (w_prime_count / num_docs) * (w_star_count / num_docs)\n",
      "C:\\Users\\Vincent\\AppData\\Roaming\\Python\\Python37\\site-packages\\gensim\\topic_coherence\\direct_confirmation_measure.py:198: RuntimeWarning: invalid value encountered in true_divide\n",
      "  co_doc_prob = co_occur_count / num_docs\n"
     ]
    },
    {
     "name": "stdout",
     "output_type": "stream",
     "text": [
      "Coherence Score: nan\n"
     ]
    }
   ],
   "source": [
    "# Perplexity: how probable new unseen data is (but mustn't correlate with human judgement)\n",
    "print(\"Perplexity:\", lda_model.log_perplexity(corpus))\n",
    "\n",
    "coherence_model_lda = CoherenceModel(model=lda_model, texts=df_sa.title_bigrams, dictionary=id2word, coherence=\"c_v\")\n",
    "print(\"Coherence Score:\", coherence_model_lda.get_coherence())"
   ]
  },
  {
   "cell_type": "markdown",
   "metadata": {},
   "source": [
    "## hyperparameter tuning"
   ]
  },
  {
   "cell_type": "code",
   "execution_count": 501,
   "metadata": {},
   "outputs": [
    {
     "name": "stdout",
     "output_type": "stream",
     "text": [
      "2 0.49176312423169044\n",
      "3 0.5596221473673748\n",
      "4 0.5941907589748419\n",
      "5 0.5554028807812793\n",
      "6 0.5599493342804385\n",
      "7 0.5691848695067179\n",
      "8 0.571672380313652\n",
      "9 0.5992379512108791\n",
      "10 0.585493984232982\n",
      "11 0.5910865929986246\n",
      "12 0.5742824532201031\n",
      "13 0.5849851560418828\n",
      "14 0.5965099506337707\n",
      "15 0.5856288931415011\n",
      "16 0.6075242210191873\n",
      "17 0.6105487566904504\n",
      "18 0.6063205202305365\n",
      "19 0.5908104597299652\n",
      "20 0.5976307399512523\n",
      "21 0.6014351014056121\n",
      "22 0.599244488932293\n",
      "23 0.5870801526777898\n",
      "24 0.5806243811957262\n",
      "25 0.6044643159269018\n",
      "26 0.5665093131854143\n",
      "27 0.5888858366899637\n",
      "28 0.5783665702317039\n",
      "29 0.5800679388974411\n",
      "30 0.5924328810331445\n",
      "31 0.5781609938001471\n",
      "32 0.5713453327898305\n",
      "33 0.5725985560784537\n",
      "34 0.5667743295853699\n",
      "35 0.5536313555575257\n",
      "36 0.5488864947504919\n",
      "37 0.5463976639533691\n",
      "38 0.5277385440443103\n",
      "39 0.5186600844823881\n",
      "40 0.537416853931823\n",
      "41 0.5352778600974869\n",
      "42 0.521947062015588\n",
      "43 0.5233249513644409\n",
      "44 0.5052922809009084\n",
      "45 0.5132886779552367\n",
      "46 0.5100643823460284\n",
      "47 0.4895577779048218\n",
      "48 0.5050030253368559\n",
      "49 0.5001060145465337\n",
      "50 0.47507799494541963\n",
      "51 0.47075701524870595\n",
      "52 0.46299213931968686\n",
      "53 0.4693105223161106\n",
      "54 0.47635126715548987\n",
      "55 0.4521178237514564\n",
      "56 0.4468056570019355\n"
     ]
    },
    {
     "ename": "KeyboardInterrupt",
     "evalue": "",
     "output_type": "error",
     "traceback": [
      "\u001b[1;31m---------------------------------------------------------------------------\u001b[0m",
      "\u001b[1;31mKeyboardInterrupt\u001b[0m                         Traceback (most recent call last)",
      "\u001b[1;32m<ipython-input-501-a6ef78eb11b1>\u001b[0m in \u001b[0;36m<module>\u001b[1;34m\u001b[0m\n\u001b[0;32m     25\u001b[0m \u001b[1;33m\u001b[0m\u001b[0m\n\u001b[0;32m     26\u001b[0m     \u001b[0mcoherence_model_lda\u001b[0m \u001b[1;33m=\u001b[0m \u001b[0mCoherenceModel\u001b[0m\u001b[1;33m(\u001b[0m\u001b[0mmodel\u001b[0m\u001b[1;33m=\u001b[0m\u001b[0mlda_model\u001b[0m\u001b[1;33m,\u001b[0m \u001b[0mtexts\u001b[0m\u001b[1;33m=\u001b[0m\u001b[0mdf_sa\u001b[0m\u001b[1;33m.\u001b[0m\u001b[0mtitle_tokens_clean\u001b[0m\u001b[1;33m,\u001b[0m \u001b[0mdictionary\u001b[0m\u001b[1;33m=\u001b[0m\u001b[0mid2word\u001b[0m\u001b[1;33m,\u001b[0m \u001b[0mcoherence\u001b[0m\u001b[1;33m=\u001b[0m\u001b[1;34m\"c_v\"\u001b[0m\u001b[1;33m)\u001b[0m\u001b[1;33m\u001b[0m\u001b[1;33m\u001b[0m\u001b[0m\n\u001b[1;32m---> 27\u001b[1;33m     \u001b[0mprint\u001b[0m\u001b[1;33m(\u001b[0m\u001b[0mk\u001b[0m\u001b[1;33m,\u001b[0m \u001b[0mcoherence_model_lda\u001b[0m\u001b[1;33m.\u001b[0m\u001b[0mget_coherence\u001b[0m\u001b[1;33m(\u001b[0m\u001b[1;33m)\u001b[0m\u001b[1;33m)\u001b[0m\u001b[1;33m\u001b[0m\u001b[1;33m\u001b[0m\u001b[0m\n\u001b[0m",
      "\u001b[1;32m~\\AppData\\Roaming\\Python\\Python37\\site-packages\\gensim\\models\\coherencemodel.py\u001b[0m in \u001b[0;36mget_coherence\u001b[1;34m(self)\u001b[0m\n\u001b[0;32m    610\u001b[0m \u001b[1;33m\u001b[0m\u001b[0m\n\u001b[0;32m    611\u001b[0m         \"\"\"\n\u001b[1;32m--> 612\u001b[1;33m         \u001b[0mconfirmed_measures\u001b[0m \u001b[1;33m=\u001b[0m \u001b[0mself\u001b[0m\u001b[1;33m.\u001b[0m\u001b[0mget_coherence_per_topic\u001b[0m\u001b[1;33m(\u001b[0m\u001b[1;33m)\u001b[0m\u001b[1;33m\u001b[0m\u001b[1;33m\u001b[0m\u001b[0m\n\u001b[0m\u001b[0;32m    613\u001b[0m         \u001b[1;32mreturn\u001b[0m \u001b[0mself\u001b[0m\u001b[1;33m.\u001b[0m\u001b[0maggregate_measures\u001b[0m\u001b[1;33m(\u001b[0m\u001b[0mconfirmed_measures\u001b[0m\u001b[1;33m)\u001b[0m\u001b[1;33m\u001b[0m\u001b[1;33m\u001b[0m\u001b[0m\n\u001b[0;32m    614\u001b[0m \u001b[1;33m\u001b[0m\u001b[0m\n",
      "\u001b[1;32m~\\AppData\\Roaming\\Python\\Python37\\site-packages\\gensim\\models\\coherencemodel.py\u001b[0m in \u001b[0;36mget_coherence_per_topic\u001b[1;34m(self, segmented_topics, with_std, with_support)\u001b[0m\n\u001b[0;32m    570\u001b[0m             \u001b[0msegmented_topics\u001b[0m \u001b[1;33m=\u001b[0m \u001b[0mmeasure\u001b[0m\u001b[1;33m.\u001b[0m\u001b[0mseg\u001b[0m\u001b[1;33m(\u001b[0m\u001b[0mself\u001b[0m\u001b[1;33m.\u001b[0m\u001b[0mtopics\u001b[0m\u001b[1;33m)\u001b[0m\u001b[1;33m\u001b[0m\u001b[1;33m\u001b[0m\u001b[0m\n\u001b[0;32m    571\u001b[0m         \u001b[1;32mif\u001b[0m \u001b[0mself\u001b[0m\u001b[1;33m.\u001b[0m\u001b[0m_accumulator\u001b[0m \u001b[1;32mis\u001b[0m \u001b[1;32mNone\u001b[0m\u001b[1;33m:\u001b[0m\u001b[1;33m\u001b[0m\u001b[1;33m\u001b[0m\u001b[0m\n\u001b[1;32m--> 572\u001b[1;33m             \u001b[0mself\u001b[0m\u001b[1;33m.\u001b[0m\u001b[0mestimate_probabilities\u001b[0m\u001b[1;33m(\u001b[0m\u001b[0msegmented_topics\u001b[0m\u001b[1;33m)\u001b[0m\u001b[1;33m\u001b[0m\u001b[1;33m\u001b[0m\u001b[0m\n\u001b[0m\u001b[0;32m    573\u001b[0m \u001b[1;33m\u001b[0m\u001b[0m\n\u001b[0;32m    574\u001b[0m         \u001b[0mkwargs\u001b[0m \u001b[1;33m=\u001b[0m \u001b[0mdict\u001b[0m\u001b[1;33m(\u001b[0m\u001b[0mwith_std\u001b[0m\u001b[1;33m=\u001b[0m\u001b[0mwith_std\u001b[0m\u001b[1;33m,\u001b[0m \u001b[0mwith_support\u001b[0m\u001b[1;33m=\u001b[0m\u001b[0mwith_support\u001b[0m\u001b[1;33m)\u001b[0m\u001b[1;33m\u001b[0m\u001b[1;33m\u001b[0m\u001b[0m\n",
      "\u001b[1;32m~\\AppData\\Roaming\\Python\\Python37\\site-packages\\gensim\\models\\coherencemodel.py\u001b[0m in \u001b[0;36mestimate_probabilities\u001b[1;34m(self, segmented_topics)\u001b[0m\n\u001b[0;32m    542\u001b[0m                 \u001b[0mkwargs\u001b[0m\u001b[1;33m[\u001b[0m\u001b[1;34m'model'\u001b[0m\u001b[1;33m]\u001b[0m \u001b[1;33m=\u001b[0m \u001b[0mself\u001b[0m\u001b[1;33m.\u001b[0m\u001b[0mkeyed_vectors\u001b[0m\u001b[1;33m\u001b[0m\u001b[1;33m\u001b[0m\u001b[0m\n\u001b[0;32m    543\u001b[0m \u001b[1;33m\u001b[0m\u001b[0m\n\u001b[1;32m--> 544\u001b[1;33m             \u001b[0mself\u001b[0m\u001b[1;33m.\u001b[0m\u001b[0m_accumulator\u001b[0m \u001b[1;33m=\u001b[0m \u001b[0mself\u001b[0m\u001b[1;33m.\u001b[0m\u001b[0mmeasure\u001b[0m\u001b[1;33m.\u001b[0m\u001b[0mprob\u001b[0m\u001b[1;33m(\u001b[0m\u001b[1;33m**\u001b[0m\u001b[0mkwargs\u001b[0m\u001b[1;33m)\u001b[0m\u001b[1;33m\u001b[0m\u001b[1;33m\u001b[0m\u001b[0m\n\u001b[0m\u001b[0;32m    545\u001b[0m \u001b[1;33m\u001b[0m\u001b[0m\n\u001b[0;32m    546\u001b[0m         \u001b[1;32mreturn\u001b[0m \u001b[0mself\u001b[0m\u001b[1;33m.\u001b[0m\u001b[0m_accumulator\u001b[0m\u001b[1;33m\u001b[0m\u001b[1;33m\u001b[0m\u001b[0m\n",
      "\u001b[1;32m~\\AppData\\Roaming\\Python\\Python37\\site-packages\\gensim\\topic_coherence\\probability_estimation.py\u001b[0m in \u001b[0;36mp_boolean_sliding_window\u001b[1;34m(texts, segmented_topics, dictionary, window_size, processes)\u001b[0m\n\u001b[0;32m    154\u001b[0m         \u001b[0maccumulator\u001b[0m \u001b[1;33m=\u001b[0m \u001b[0mParallelWordOccurrenceAccumulator\u001b[0m\u001b[1;33m(\u001b[0m\u001b[0mprocesses\u001b[0m\u001b[1;33m,\u001b[0m \u001b[0mtop_ids\u001b[0m\u001b[1;33m,\u001b[0m \u001b[0mdictionary\u001b[0m\u001b[1;33m)\u001b[0m\u001b[1;33m\u001b[0m\u001b[1;33m\u001b[0m\u001b[0m\n\u001b[0;32m    155\u001b[0m     \u001b[0mlogger\u001b[0m\u001b[1;33m.\u001b[0m\u001b[0minfo\u001b[0m\u001b[1;33m(\u001b[0m\u001b[1;34m\"using %s to estimate probabilities from sliding windows\"\u001b[0m\u001b[1;33m,\u001b[0m \u001b[0maccumulator\u001b[0m\u001b[1;33m)\u001b[0m\u001b[1;33m\u001b[0m\u001b[1;33m\u001b[0m\u001b[0m\n\u001b[1;32m--> 156\u001b[1;33m     \u001b[1;32mreturn\u001b[0m \u001b[0maccumulator\u001b[0m\u001b[1;33m.\u001b[0m\u001b[0maccumulate\u001b[0m\u001b[1;33m(\u001b[0m\u001b[0mtexts\u001b[0m\u001b[1;33m,\u001b[0m \u001b[0mwindow_size\u001b[0m\u001b[1;33m)\u001b[0m\u001b[1;33m\u001b[0m\u001b[1;33m\u001b[0m\u001b[0m\n\u001b[0m\u001b[0;32m    157\u001b[0m \u001b[1;33m\u001b[0m\u001b[0m\n\u001b[0;32m    158\u001b[0m \u001b[1;33m\u001b[0m\u001b[0m\n",
      "\u001b[1;32m~\\AppData\\Roaming\\Python\\Python37\\site-packages\\gensim\\topic_coherence\\text_analysis.py\u001b[0m in \u001b[0;36maccumulate\u001b[1;34m(self, texts, window_size)\u001b[0m\n\u001b[0;32m    441\u001b[0m \u001b[1;33m\u001b[0m\u001b[0m\n\u001b[0;32m    442\u001b[0m     \u001b[1;32mdef\u001b[0m \u001b[0maccumulate\u001b[0m\u001b[1;33m(\u001b[0m\u001b[0mself\u001b[0m\u001b[1;33m,\u001b[0m \u001b[0mtexts\u001b[0m\u001b[1;33m,\u001b[0m \u001b[0mwindow_size\u001b[0m\u001b[1;33m)\u001b[0m\u001b[1;33m:\u001b[0m\u001b[1;33m\u001b[0m\u001b[1;33m\u001b[0m\u001b[0m\n\u001b[1;32m--> 443\u001b[1;33m         \u001b[0mworkers\u001b[0m\u001b[1;33m,\u001b[0m \u001b[0minput_q\u001b[0m\u001b[1;33m,\u001b[0m \u001b[0moutput_q\u001b[0m \u001b[1;33m=\u001b[0m \u001b[0mself\u001b[0m\u001b[1;33m.\u001b[0m\u001b[0mstart_workers\u001b[0m\u001b[1;33m(\u001b[0m\u001b[0mwindow_size\u001b[0m\u001b[1;33m)\u001b[0m\u001b[1;33m\u001b[0m\u001b[1;33m\u001b[0m\u001b[0m\n\u001b[0m\u001b[0;32m    444\u001b[0m         \u001b[1;32mtry\u001b[0m\u001b[1;33m:\u001b[0m\u001b[1;33m\u001b[0m\u001b[1;33m\u001b[0m\u001b[0m\n\u001b[0;32m    445\u001b[0m             \u001b[0mself\u001b[0m\u001b[1;33m.\u001b[0m\u001b[0mqueue_all_texts\u001b[0m\u001b[1;33m(\u001b[0m\u001b[0minput_q\u001b[0m\u001b[1;33m,\u001b[0m \u001b[0mtexts\u001b[0m\u001b[1;33m,\u001b[0m \u001b[0mwindow_size\u001b[0m\u001b[1;33m)\u001b[0m\u001b[1;33m\u001b[0m\u001b[1;33m\u001b[0m\u001b[0m\n",
      "\u001b[1;32m~\\AppData\\Roaming\\Python\\Python37\\site-packages\\gensim\\topic_coherence\\text_analysis.py\u001b[0m in \u001b[0;36mstart_workers\u001b[1;34m(self, window_size)\u001b[0m\n\u001b[0;32m    475\u001b[0m             \u001b[0maccumulator\u001b[0m \u001b[1;33m=\u001b[0m \u001b[0mPatchedWordOccurrenceAccumulator\u001b[0m\u001b[1;33m(\u001b[0m\u001b[0mself\u001b[0m\u001b[1;33m.\u001b[0m\u001b[0mrelevant_ids\u001b[0m\u001b[1;33m,\u001b[0m \u001b[0mself\u001b[0m\u001b[1;33m.\u001b[0m\u001b[0mdictionary\u001b[0m\u001b[1;33m)\u001b[0m\u001b[1;33m\u001b[0m\u001b[1;33m\u001b[0m\u001b[0m\n\u001b[0;32m    476\u001b[0m             \u001b[0mworker\u001b[0m \u001b[1;33m=\u001b[0m \u001b[0mAccumulatingWorker\u001b[0m\u001b[1;33m(\u001b[0m\u001b[0minput_q\u001b[0m\u001b[1;33m,\u001b[0m \u001b[0moutput_q\u001b[0m\u001b[1;33m,\u001b[0m \u001b[0maccumulator\u001b[0m\u001b[1;33m,\u001b[0m \u001b[0mwindow_size\u001b[0m\u001b[1;33m)\u001b[0m\u001b[1;33m\u001b[0m\u001b[1;33m\u001b[0m\u001b[0m\n\u001b[1;32m--> 477\u001b[1;33m             \u001b[0mworker\u001b[0m\u001b[1;33m.\u001b[0m\u001b[0mstart\u001b[0m\u001b[1;33m(\u001b[0m\u001b[1;33m)\u001b[0m\u001b[1;33m\u001b[0m\u001b[1;33m\u001b[0m\u001b[0m\n\u001b[0m\u001b[0;32m    478\u001b[0m             \u001b[0mworkers\u001b[0m\u001b[1;33m.\u001b[0m\u001b[0mappend\u001b[0m\u001b[1;33m(\u001b[0m\u001b[0mworker\u001b[0m\u001b[1;33m)\u001b[0m\u001b[1;33m\u001b[0m\u001b[1;33m\u001b[0m\u001b[0m\n\u001b[0;32m    479\u001b[0m \u001b[1;33m\u001b[0m\u001b[0m\n",
      "\u001b[1;32mC:\\ProgramData\\Anaconda3\\lib\\multiprocessing\\process.py\u001b[0m in \u001b[0;36mstart\u001b[1;34m(self)\u001b[0m\n\u001b[0;32m    110\u001b[0m                \u001b[1;34m'daemonic processes are not allowed to have children'\u001b[0m\u001b[1;33m\u001b[0m\u001b[1;33m\u001b[0m\u001b[0m\n\u001b[0;32m    111\u001b[0m         \u001b[0m_cleanup\u001b[0m\u001b[1;33m(\u001b[0m\u001b[1;33m)\u001b[0m\u001b[1;33m\u001b[0m\u001b[1;33m\u001b[0m\u001b[0m\n\u001b[1;32m--> 112\u001b[1;33m         \u001b[0mself\u001b[0m\u001b[1;33m.\u001b[0m\u001b[0m_popen\u001b[0m \u001b[1;33m=\u001b[0m \u001b[0mself\u001b[0m\u001b[1;33m.\u001b[0m\u001b[0m_Popen\u001b[0m\u001b[1;33m(\u001b[0m\u001b[0mself\u001b[0m\u001b[1;33m)\u001b[0m\u001b[1;33m\u001b[0m\u001b[1;33m\u001b[0m\u001b[0m\n\u001b[0m\u001b[0;32m    113\u001b[0m         \u001b[0mself\u001b[0m\u001b[1;33m.\u001b[0m\u001b[0m_sentinel\u001b[0m \u001b[1;33m=\u001b[0m \u001b[0mself\u001b[0m\u001b[1;33m.\u001b[0m\u001b[0m_popen\u001b[0m\u001b[1;33m.\u001b[0m\u001b[0msentinel\u001b[0m\u001b[1;33m\u001b[0m\u001b[1;33m\u001b[0m\u001b[0m\n\u001b[0;32m    114\u001b[0m         \u001b[1;31m# Avoid a refcycle if the target function holds an indirect\u001b[0m\u001b[1;33m\u001b[0m\u001b[1;33m\u001b[0m\u001b[1;33m\u001b[0m\u001b[0m\n",
      "\u001b[1;32mC:\\ProgramData\\Anaconda3\\lib\\multiprocessing\\context.py\u001b[0m in \u001b[0;36m_Popen\u001b[1;34m(process_obj)\u001b[0m\n\u001b[0;32m    221\u001b[0m     \u001b[1;33m@\u001b[0m\u001b[0mstaticmethod\u001b[0m\u001b[1;33m\u001b[0m\u001b[1;33m\u001b[0m\u001b[0m\n\u001b[0;32m    222\u001b[0m     \u001b[1;32mdef\u001b[0m \u001b[0m_Popen\u001b[0m\u001b[1;33m(\u001b[0m\u001b[0mprocess_obj\u001b[0m\u001b[1;33m)\u001b[0m\u001b[1;33m:\u001b[0m\u001b[1;33m\u001b[0m\u001b[1;33m\u001b[0m\u001b[0m\n\u001b[1;32m--> 223\u001b[1;33m         \u001b[1;32mreturn\u001b[0m \u001b[0m_default_context\u001b[0m\u001b[1;33m.\u001b[0m\u001b[0mget_context\u001b[0m\u001b[1;33m(\u001b[0m\u001b[1;33m)\u001b[0m\u001b[1;33m.\u001b[0m\u001b[0mProcess\u001b[0m\u001b[1;33m.\u001b[0m\u001b[0m_Popen\u001b[0m\u001b[1;33m(\u001b[0m\u001b[0mprocess_obj\u001b[0m\u001b[1;33m)\u001b[0m\u001b[1;33m\u001b[0m\u001b[1;33m\u001b[0m\u001b[0m\n\u001b[0m\u001b[0;32m    224\u001b[0m \u001b[1;33m\u001b[0m\u001b[0m\n\u001b[0;32m    225\u001b[0m \u001b[1;32mclass\u001b[0m \u001b[0mDefaultContext\u001b[0m\u001b[1;33m(\u001b[0m\u001b[0mBaseContext\u001b[0m\u001b[1;33m)\u001b[0m\u001b[1;33m:\u001b[0m\u001b[1;33m\u001b[0m\u001b[1;33m\u001b[0m\u001b[0m\n",
      "\u001b[1;32mC:\\ProgramData\\Anaconda3\\lib\\multiprocessing\\context.py\u001b[0m in \u001b[0;36m_Popen\u001b[1;34m(process_obj)\u001b[0m\n\u001b[0;32m    320\u001b[0m         \u001b[1;32mdef\u001b[0m \u001b[0m_Popen\u001b[0m\u001b[1;33m(\u001b[0m\u001b[0mprocess_obj\u001b[0m\u001b[1;33m)\u001b[0m\u001b[1;33m:\u001b[0m\u001b[1;33m\u001b[0m\u001b[1;33m\u001b[0m\u001b[0m\n\u001b[0;32m    321\u001b[0m             \u001b[1;32mfrom\u001b[0m \u001b[1;33m.\u001b[0m\u001b[0mpopen_spawn_win32\u001b[0m \u001b[1;32mimport\u001b[0m \u001b[0mPopen\u001b[0m\u001b[1;33m\u001b[0m\u001b[1;33m\u001b[0m\u001b[0m\n\u001b[1;32m--> 322\u001b[1;33m             \u001b[1;32mreturn\u001b[0m \u001b[0mPopen\u001b[0m\u001b[1;33m(\u001b[0m\u001b[0mprocess_obj\u001b[0m\u001b[1;33m)\u001b[0m\u001b[1;33m\u001b[0m\u001b[1;33m\u001b[0m\u001b[0m\n\u001b[0m\u001b[0;32m    323\u001b[0m \u001b[1;33m\u001b[0m\u001b[0m\n\u001b[0;32m    324\u001b[0m     \u001b[1;32mclass\u001b[0m \u001b[0mSpawnContext\u001b[0m\u001b[1;33m(\u001b[0m\u001b[0mBaseContext\u001b[0m\u001b[1;33m)\u001b[0m\u001b[1;33m:\u001b[0m\u001b[1;33m\u001b[0m\u001b[1;33m\u001b[0m\u001b[0m\n",
      "\u001b[1;32mC:\\ProgramData\\Anaconda3\\lib\\multiprocessing\\popen_spawn_win32.py\u001b[0m in \u001b[0;36m__init__\u001b[1;34m(self, process_obj)\u001b[0m\n\u001b[0;32m     87\u001b[0m             \u001b[1;32mtry\u001b[0m\u001b[1;33m:\u001b[0m\u001b[1;33m\u001b[0m\u001b[1;33m\u001b[0m\u001b[0m\n\u001b[0;32m     88\u001b[0m                 \u001b[0mreduction\u001b[0m\u001b[1;33m.\u001b[0m\u001b[0mdump\u001b[0m\u001b[1;33m(\u001b[0m\u001b[0mprep_data\u001b[0m\u001b[1;33m,\u001b[0m \u001b[0mto_child\u001b[0m\u001b[1;33m)\u001b[0m\u001b[1;33m\u001b[0m\u001b[1;33m\u001b[0m\u001b[0m\n\u001b[1;32m---> 89\u001b[1;33m                 \u001b[0mreduction\u001b[0m\u001b[1;33m.\u001b[0m\u001b[0mdump\u001b[0m\u001b[1;33m(\u001b[0m\u001b[0mprocess_obj\u001b[0m\u001b[1;33m,\u001b[0m \u001b[0mto_child\u001b[0m\u001b[1;33m)\u001b[0m\u001b[1;33m\u001b[0m\u001b[1;33m\u001b[0m\u001b[0m\n\u001b[0m\u001b[0;32m     90\u001b[0m             \u001b[1;32mfinally\u001b[0m\u001b[1;33m:\u001b[0m\u001b[1;33m\u001b[0m\u001b[1;33m\u001b[0m\u001b[0m\n\u001b[0;32m     91\u001b[0m                 \u001b[0mset_spawning_popen\u001b[0m\u001b[1;33m(\u001b[0m\u001b[1;32mNone\u001b[0m\u001b[1;33m)\u001b[0m\u001b[1;33m\u001b[0m\u001b[1;33m\u001b[0m\u001b[0m\n",
      "\u001b[1;32mC:\\ProgramData\\Anaconda3\\lib\\multiprocessing\\reduction.py\u001b[0m in \u001b[0;36mdump\u001b[1;34m(obj, file, protocol)\u001b[0m\n\u001b[0;32m     58\u001b[0m \u001b[1;32mdef\u001b[0m \u001b[0mdump\u001b[0m\u001b[1;33m(\u001b[0m\u001b[0mobj\u001b[0m\u001b[1;33m,\u001b[0m \u001b[0mfile\u001b[0m\u001b[1;33m,\u001b[0m \u001b[0mprotocol\u001b[0m\u001b[1;33m=\u001b[0m\u001b[1;32mNone\u001b[0m\u001b[1;33m)\u001b[0m\u001b[1;33m:\u001b[0m\u001b[1;33m\u001b[0m\u001b[1;33m\u001b[0m\u001b[0m\n\u001b[0;32m     59\u001b[0m     \u001b[1;34m'''Replacement for pickle.dump() using ForkingPickler.'''\u001b[0m\u001b[1;33m\u001b[0m\u001b[1;33m\u001b[0m\u001b[0m\n\u001b[1;32m---> 60\u001b[1;33m     \u001b[0mForkingPickler\u001b[0m\u001b[1;33m(\u001b[0m\u001b[0mfile\u001b[0m\u001b[1;33m,\u001b[0m \u001b[0mprotocol\u001b[0m\u001b[1;33m)\u001b[0m\u001b[1;33m.\u001b[0m\u001b[0mdump\u001b[0m\u001b[1;33m(\u001b[0m\u001b[0mobj\u001b[0m\u001b[1;33m)\u001b[0m\u001b[1;33m\u001b[0m\u001b[1;33m\u001b[0m\u001b[0m\n\u001b[0m\u001b[0;32m     61\u001b[0m \u001b[1;33m\u001b[0m\u001b[0m\n\u001b[0;32m     62\u001b[0m \u001b[1;31m#\u001b[0m\u001b[1;33m\u001b[0m\u001b[1;33m\u001b[0m\u001b[1;33m\u001b[0m\u001b[0m\n",
      "\u001b[1;31mKeyboardInterrupt\u001b[0m: "
     ]
    }
   ],
   "source": [
    "# Topic parameter\n",
    "topics = range(2,100)\n",
    "\n",
    "# Alpha parameter\n",
    "alpha = list(np.arange(0.01, 1, 0.1))\n",
    "alpha.append('symmetric')\n",
    "alpha.append('asymmetric')\n",
    "\n",
    "# Beta parameter\n",
    "beta = list(np.arange(0.1, 1, 0.1))\n",
    "beta.append('symmetric')\n",
    "\n",
    "for k in topics:\n",
    "    lda_model = gensim.models.ldamodel.LdaModel(\n",
    "        corpus=corpus,\n",
    "        id2word=id2word,\n",
    "        num_topics=k,\n",
    "        random_state=100,\n",
    "        update_every=1,\n",
    "        chunksize=1000,\n",
    "        passes=10,\n",
    "        #alpha=.91,\n",
    "        #eta=b,\n",
    "        per_word_topics=True)\n",
    "    \n",
    "    coherence_model_lda = CoherenceModel(model=lda_model, texts=df_sa.title_tokens_clean, dictionary=id2word, coherence=\"c_v\")\n",
    "    print(k, coherence_model_lda.get_coherence())"
   ]
  },
  {
   "cell_type": "markdown",
   "metadata": {},
   "source": [
    "# visualization"
   ]
  },
  {
   "cell_type": "code",
   "execution_count": 575,
   "metadata": {},
   "outputs": [],
   "source": [
    "lda_model = gensim.models.ldamodel.LdaModel(\n",
    "    corpus=corpus,\n",
    "    id2word=id2word,\n",
    "    num_topics=25,\n",
    "    random_state=100,\n",
    "    update_every=1,\n",
    "    chunksize=100,\n",
    "    passes=10,\n",
    "    alpha=.91,\n",
    "    eta=\"symmetric\",\n",
    "    per_word_topics=True)"
   ]
  },
  {
   "cell_type": "markdown",
   "metadata": {},
   "source": [
    "interesting topics:\n",
    "6 - buy\n",
    "7 - gain 20\n",
    "9 - selling"
   ]
  },
  {
   "cell_type": "code",
   "execution_count": 576,
   "metadata": {},
   "outputs": [
    {
     "name": "stderr",
     "output_type": "stream",
     "text": [
      "C:\\Users\\Vincent\\AppData\\Roaming\\Python\\Python37\\site-packages\\pyLDAvis\\_prepare.py:247: FutureWarning: In a future version of pandas all arguments of DataFrame.drop except for the argument 'labels' will be keyword-only\n",
      "  by='saliency', ascending=False).head(R).drop('saliency', 1)\n"
     ]
    },
    {
     "data": {
      "text/html": [
       "\n",
       "<link rel=\"stylesheet\" type=\"text/css\" href=\"https://cdn.jsdelivr.net/gh/bmabey/pyLDAvis@3.3.1/pyLDAvis/js/ldavis.v1.0.0.css\">\n",
       "\n",
       "\n",
       "<div id=\"ldavis_el358014689147168724018026691\"></div>\n",
       "<script type=\"text/javascript\">\n",
       "\n",
       "var ldavis_el358014689147168724018026691_data = {\"mdsDat\": {\"x\": [-0.307638702127434, -0.050031695204663454, 0.014598345732577659, 0.006556984646576422, 0.009699326449653354, 0.016629492791693498, 0.01727456044328893, 0.0169350194875188, 0.016981883475719158, 0.017099557793826606, 0.01636824513831618, 0.016793177384484624, 0.016369078356586672, 0.016636455609412314, 0.01674918357217045, 0.0170887770124131, 0.017050397622878306, 0.01661277373080525, 0.0169067200983603, 0.016746996377454727, 0.01608182086308379, 0.016221262403847084, 0.014913502649122404, 0.014483795484862092, 0.012873040207445612], \"y\": [0.06231222791291893, -0.3059948498945292, 0.010959629944965122, 0.007011481055843693, 0.007972498571211665, 0.011659965395272575, 0.011833218224967813, 0.011524120995807232, 0.011197908094882372, 0.011487649750326076, 0.011324387144894123, 0.011436422295313766, 0.011127966792064284, 0.01092068399026631, 0.011372067122833694, 0.01125627637858138, 0.0113138358961862, 0.010801024261004261, 0.011195529640251592, 0.011680484780255592, 0.010399143373356116, 0.010497488859503678, 0.009495791205061973, 0.009182341359923777, 0.008032706848836349], \"topics\": [1, 2, 3, 4, 5, 6, 7, 8, 9, 10, 11, 12, 13, 14, 15, 16, 17, 18, 19, 20, 21, 22, 23, 24, 25], \"cluster\": [1, 1, 1, 1, 1, 1, 1, 1, 1, 1, 1, 1, 1, 1, 1, 1, 1, 1, 1, 1, 1, 1, 1, 1, 1], \"Freq\": [4.27258968089356, 4.239119930075109, 4.205178219957909, 4.183385211014507, 4.166075397805273, 4.134416667049848, 4.076373049154649, 4.060765199017649, 4.029591328683034, 4.00337579068925, 3.997052087653997, 3.984675026527022, 3.982579108961514, 3.979985488619998, 3.962971546726303, 3.9586191112215916, 3.953272938648887, 3.9393043238916383, 3.922241681182306, 3.9142984070602655, 3.8670802164409523, 3.8608246121655365, 3.820571141293152, 3.7485250212424512, 3.7371288140235985]}, \"tinfo\": {\"Term\": [\"go\", \"call\", \"stock\", \"moon\", \"share\", \"ape\", \"week\", \"today\", \"like\", \"option\", \"still\", \"im\", \"play\", \"updat\", \"make\", \"short\", \"hold\", \"buy\", \"let\", \"month\", \"retard\", \"time\", \"next\", \"good\", \"sell\", \"got\", \"get\", \"look\", \"gain\", \"tomorrow\", \"short\", \"next\", \"gain\", \"ta\", \"meme\", \"hot\", \"bottom\", \"stick\", \"float\", \"term\", \"free\", \"tip\", \"interest\", \"seller\", \"mani\", \"sec\", \"base\", \"push\", \"disguis\", \"summer\", \"warn\", \"file\", \"mememania\", \"boom\", \"cloth\", \"denim\", \"girl\", \"king\", \"margin\", \"claim\", \"potenti\", \"sold\", \"upcom\", \"squeez\", \"loan\", \"bought\", \"estim\", \"fuck\", \"true\", \"start\", \"great\", \"tendi\", \"analysi\", \"daili\", \"expir\", \"technic\", \"let\", \"retard\", \"get\", \"readi\", \"load\", \"life\", \"feel\", \"what\", \"differ\", \"plan\", \"le\", \"paid\", \"weak\", \"humili\", \"lock\", \"homeless\", \"public\", \"safe\", \"strategi\", \"fight\", \"lambo\", \"yesterday\", \"ahead\", \"legaci\", \"medium\", \"realiti\", \"job\", \"tuition\", \"unemploy\", \"post\", \"lockup\", \"start\", \"hope\", \"boy\", \"gon\", \"expiri\", \"june\", \"na\", \"god\", \"bought\", \"stay\", \"analyst\", \"sinc\", \"way\", \"doubl\", \"true\", \"say\", \"sold\", \"expir\", \"big\", \"tendi\", \"fuck\", \"fli\", \"analysi\", \"squeez\", \"move\", \"technic\", \"potenti\", \"play\", \"come\", \"trade\", \"save\", \"know\", \"even\", \"casino\", \"cash\", \"base\", \"dub\", \"yolod\", \"cap\", \"exclud\", \"rvenu\", \"margin\", \"miss\", \"disguis\", \"daili\", \"buster\", \"dave\", \"market\", \"sector\", \"lockup\", \"april\", \"swing\", \"treat\", \"comput\", \"batteri\", \"butcher\", \"covid\", \"close\", \"other\", \"statist\", \"earli\", \"fuck\", \"true\", \"start\", \"expir\", \"sold\", \"analysi\", \"tendi\", \"bought\", \"squeez\", \"technic\", \"say\", \"option\", \"buy\", \"right\", \"green\", \"street\", \"monday\", \"fair\", \"car\", \"aint\", \"other\", \"statist\", \"daili\", \"wonder\", \"dub\", \"bf\", \"sector\", \"dip\", \"buffet\", \"yet\", \"impress\", \"wednesday\", \"better\", \"think\", \"happi\", \"swing\", \"treat\", \"april\", \"honest\", \"beet\", \"far\", \"half\", \"fuck\", \"babi\", \"earli\", \"sold\", \"margin\", \"join\", \"expir\", \"bought\", \"batteri\", \"ill\", \"eow\", \"start\", \"hope\", \"tendi\", \"analysi\", \"hit\", \"technic\", \"squeez\", \"one\", \"way\", \"strong\", \"go\", \"tomorrow\", \"price\", \"goe\", \"beet\", \"strike\", \"plea\", \"expect\", \"hope\", \"strong\", \"wonder\", \"expir\", \"event\", \"offcycl\", \"palantir\", \"candid\", \"investor\", \"charm\", \"cinnamon\", \"contend\", \"lucki\", \"mill\", \"serv\", \"toast\", \"possibl\", \"fdic\", \"boy\", \"general\", \"highest\", \"confer\", \"award\", \"eow\", \"fuck\", \"tendi\", \"pluto\", \"one\", \"bagger\", \"fintech\", \"nurpl\", \"analysi\", \"interest\", \"technic\", \"bought\", \"squeez\", \"hit\", \"start\", \"sold\", \"gang\", \"daili\", \"way\", \"share\", \"day\", \"steel\", \"soon\", \"industri\", \"line\", \"america\", \"say\", \"ternium\", \"weak\", \"group\", \"damn\", \"deal\", \"itzer\", \"senat\", \"expiri\", \"leap\", \"biden\", \"analyst\", \"reunit\", \"lockup\", \"ad\", \"erect\", \"nasdaq\", \"god\", \"begin\", \"futur\", \"gang\", \"real\", \"palantard\", \"hit\", \"yesterday\", \"close\", \"bought\", \"squeez\", \"one\", \"sold\", \"expir\", \"boy\", \"tendi\", \"fuck\", \"analysi\", \"luck\", \"start\", \"technic\", \"fli\", \"daili\", \"today\", \"back\", \"talk\", \"stop\", \"could\", \"help\", \"peopl\", \"fart\", \"dub\", \"treat\", \"aka\", \"financ\", \"none\", \"social\", \"sold\", \"april\", \"swing\", \"disrupt\", \"everyon\", \"fintech\", \"earli\", \"start\", \"push\", \"cramer\", \"ad\", \"thank\", \"plea\", \"head\", \"move\", \"stalk\", \"bought\", \"fli\", \"squeez\", \"tendi\", \"analysi\", \"fuck\", \"technic\", \"week\", \"money\", \"u\", \"home\", \"pop\", \"open\", \"theatr\", \"sinc\", \"movi\", \"box\", \"offic\", \"record\", \"weekend\", \"guest\", \"postreopen\", \"race\", \"tard\", \"lose\", \"afford\", \"charm\", \"cinnamon\", \"contend\", \"lucki\", \"mill\", \"serv\", \"toast\", \"name\", \"bagger\", \"million\", \"le\", \"miss\", \"tendi\", \"strong\", \"biggest\", \"start\", \"general\", \"na\", \"analysi\", \"fuck\", \"sold\", \"bought\", \"technic\", \"gon\", \"luck\", \"one\", \"squeez\", \"expir\", \"daili\", \"potenti\", \"way\", \"say\", \"hit\", \"gang\", \"true\", \"year\", \"take\", \"see\", \"bet\", \"ride\", \"na\", \"town\", \"gon\", \"way\", \"horsey\", \"space\", \"strong\", \"releas\", \"nurpl\", \"stimul\", \"tendi\", \"legaci\", \"medium\", \"realiti\", \"suppos\", \"motor\", \"pentagon\", \"uap\", \"narrat\", \"le\", \"report\", \"may\", \"clevelandcliff\", \"fourth\", \"straight\", \"build\", \"top\", \"friday\", \"start\", \"ill\", \"award\", \"analysi\", \"fuck\", \"one\", \"sold\", \"squeez\", \"sinc\", \"technic\", \"bought\", \"potenti\", \"daili\", \"expir\", \"luck\", \"hope\", \"say\", \"hit\", \"im\", \"bullish\", \"dont\", \"target\", \"extrem\", \"analysi\", \"colleg\", \"technic\", \"build\", \"job\", \"tuition\", \"unemploy\", \"stay\", \"introduc\", \"paycheck\", \"watch\", \"broke\", \"f\", \"gon\", \"margin\", \"join\", \"believ\", \"hope\", \"kid\", \"noth\", \"actual\", \"na\", \"train\", \"march\", \"panason\", \"news\", \"chang\", \"fuck\", \"sold\", \"bought\", \"strong\", \"tendi\", \"hit\", \"breakout\", \"start\", \"potenti\", \"daili\", \"squeez\", \"way\", \"expir\", \"say\", \"true\", \"luck\", \"one\", \"stock\", \"break\", \"wsb\", \"worth\", \"borrow\", \"sofli\", \"seller\", \"cost\", \"potenti\", \"great\", \"energi\", \"fuel\", \"wake\", \"analysi\", \"clean\", \"larg\", \"true\", \"eow\", \"technic\", \"doubl\", \"unbias\", \"believ\", \"cheap\", \"boi\", \"upsid\", \"trend\", \"pattern\", \"game\", \"commerci\", \"confirm\", \"contextlog\", \"sold\", \"premarket\", \"upcom\", \"hit\", \"thank\", \"say\", \"sinc\", \"tendi\", \"bought\", \"fuck\", \"investor\", \"daili\", \"squeez\", \"start\", \"fli\", \"expir\", \"strong\", \"way\", \"updat\", \"time\", \"posit\", \"print\", \"exit\", \"discus\", \"investor\", \"babi\", \"baba\", \"big\", \"post\", \"ahead\", \"juli\", \"strategi\", \"plan\", \"eow\", \"doubl\", \"way\", \"move\", \"true\", \"shine\", \"cent\", \"rang\", \"expiri\", \"brrrrr\", \"work\", \"worthless\", \"gas\", \"natur\", \"ad\", \"expir\", \"gang\", \"earn\", \"sold\", \"start\", \"bought\", \"fuck\", \"tendi\", \"analysi\", \"squeez\", \"technic\", \"daili\", \"potenti\", \"fli\", \"say\", \"call\", \"look\", \"expir\", \"worthless\", \"juli\", \"comfort\", \"cuck\", \"hit\", \"note\", \"rememb\", \"self\", \"student\", \"eerili\", \"similar\", \"loan\", \"past\", \"bunch\", \"letter\", \"root\", \"honest\", \"common\", \"world\", \"cover\", \"fun\", \"august\", \"earn\", \"contract\", \"thousand\", \"work\", \"winwin\", \"biggest\", \"squeez\", \"bought\", \"boy\", \"tendi\", \"start\", \"luck\", \"gang\", \"sold\", \"technic\", \"potenti\", \"fli\", \"fuck\", \"analysi\", \"daili\", \"way\", \"say\", \"one\", \"na\", \"breakout\", \"strong\", \"true\", \"gon\", \"still\", \"hold\", \"two\", \"strong\", \"holdingpati\", \"reward\", \"soar\", \"stimul\", \"nurpl\", \"believ\", \"one\", \"receiv\", \"ship\", \"thousand\", \"build\", \"cover\", \"everi\", \"cheap\", \"unbias\", \"upsid\", \"larg\", \"discount\", \"cosmet\", \"mask\", \"reopen\", \"pattern\", \"contextlog\", \"movement\", \"overvalu\", \"demand\", \"sold\", \"expir\", \"analysi\", \"technic\", \"tendi\", \"squeez\", \"hope\", \"gang\", \"start\", \"fuck\", \"bought\", \"potenti\", \"way\", \"goe\", \"daili\", \"fli\", \"say\", \"na\", \"true\", \"luck\", \"hit\", \"gon\", \"moon\", \"long\", \"ceo\", \"bitch\", \"term\", \"discus\", \"pluto\", \"tip\", \"exit\", \"mani\", \"investor\", \"ship\", \"goncalv\", \"laurenco\", \"steelmak\", \"wen\", \"strength\", \"head\", \"guess\", \"land\", \"idk\", \"name\", \"chad\", \"mega\", \"histori\", \"move\", \"full\", \"revers\", \"brrrrberri\", \"wich\", \"repeat\", \"fuck\", \"luck\", \"incom\", \"new\", \"potenti\", \"squeez\", \"bought\", \"one\", \"interest\", \"tendi\", \"analysi\", \"start\", \"technic\", \"big\", \"boy\", \"daili\", \"sold\", \"way\", \"expir\", \"fli\", \"true\", \"say\", \"na\", \"strong\", \"sell\", \"last\", \"first\", \"infrastructur\", \"russel\", \"support\", \"ago\", \"solar\", \"ban\", \"panel\", \"chine\", \"benefit\", \"manufactur\", \"basic\", \"american\", \"note\", \"rememb\", \"self\", \"deal\", \"biden\", \"ad\", \"expir\", \"say\", \"gainz\", \"greedi\", \"cooooommmmmeeee\", \"jesus\", \"group\", \"post\", \"bit\", \"catalyst\", \"futur\", \"analysi\", \"hit\", \"start\", \"estim\", \"technic\", \"fuck\", \"strong\", \"tendi\", \"bought\", \"sold\", \"gang\", \"squeez\", \"daili\", \"potenti\", \"one\", \"luck\", \"way\", \"fli\", \"true\", \"like\", \"rocket\", \"profit\", \"anoth\", \"wife\", \"ship\", \"doubl\", \"award\", \"confer\", \"candid\", \"potenti\", \"fdic\", \"palantir\", \"possibl\", \"great\", \"start\", \"fund\", \"pile\", \"fintech\", \"true\", \"lift\", \"borrow\", \"sofli\", \"seller\", \"squeez\", \"cost\", \"lock\", \"guy\", \"would\", \"legit\", \"analysi\", \"technic\", \"sold\", \"tendi\", \"fuck\", \"luck\", \"bought\", \"one\", \"hope\", \"daili\", \"say\", \"expir\", \"way\", \"big\", \"strong\", \"gang\", \"fli\", \"month\", \"undervalu\", \"entir\", \"current\", \"here\", \"everyth\", \"decid\", \"order\", \"cow\", \"fuck\", \"past\", \"investor\", \"eerili\", \"similar\", \"exit\", \"discus\", \"train\", \"introduc\", \"paycheck\", \"watch\", \"margin\", \"join\", \"yolod\", \"receiv\", \"thousand\", \"ton\", \"f\", \"cover\", \"cash\", \"shit\", \"miss\", \"sold\", \"true\", \"start\", \"bought\", \"way\", \"tendi\", \"technic\", \"analysi\", \"expir\", \"squeez\", \"fli\", \"daili\", \"luck\", \"potenti\", \"strong\", \"ape\", \"yolo\", \"fellow\", \"end\", \"follow\", \"train\", \"fight\", \"cash\", \"result\", \"caus\", \"due\", \"lack\", \"build\", \"margin\", \"introduc\", \"paycheck\", \"watch\", \"market\", \"join\", \"sold\", \"brother\", \"kid\", \"close\", \"cap\", \"exclud\", \"rvenu\", \"move\", \"fail\", \"test\", \"small\", \"yolod\", \"one\", \"fuck\", \"squeez\", \"bought\", \"miss\", \"luck\", \"friday\", \"analysi\", \"tendi\", \"strong\", \"potenti\", \"fli\", \"start\", \"way\", \"technic\", \"daili\", \"expir\", \"say\", \"good\", \"got\", \"loss\", \"run\", \"porn\", \"power\", \"luck\", \"mani\", \"buster\", \"dave\", \"close\", \"tip\", \"legaci\", \"medium\", \"realiti\", \"le\", \"term\", \"narrat\", \"worthless\", \"wallet\", \"nvidia\", \"unveil\", \"without\", \"second\", \"palantard\", \"trust\", \"enjoy\", \"came\", \"write\", \"gpus\", \"account\", \"tendi\", \"bought\", \"earli\", \"sold\", \"expir\", \"set\", \"eow\", \"one\", \"true\", \"start\", \"analysi\", \"squeez\", \"fuck\", \"technic\", \"daili\", \"potenti\", \"way\", \"say\", \"hit\", \"gang\", \"fli\", \"na\", \"strong\", \"make\", \"need\", \"cant\", \"morn\", \"push\", \"eow\", \"na\", \"stay\", \"gon\", \"colleg\", \"financi\", \"job\", \"tuition\", \"unemploy\", \"shit\", \"hope\", \"broke\", \"read\", \"head\", \"fli\", \"cathi\", \"ton\", \"pick\", \"aunt\", \"gave\", \"wasnt\", \"wood\", \"shoulder\", \"cash\", \"advis\", \"fuck\", \"bought\", \"analysi\", \"tendi\", \"technic\", \"earn\", \"start\", \"sold\", \"daili\", \"squeez\", \"expir\", \"strong\", \"potenti\", \"true\", \"say\", \"luck\", \"way\", \"gang\", \"hit\", \"compani\", \"pay\", \"chart\", \"wall\", \"setup\", \"announc\", \"great\", \"hope\", \"loan\", \"na\", \"hit\", \"student\", \"stay\", \"gon\", \"potenti\", \"safe\", \"past\", \"colleg\", \"eerili\", \"similar\", \"job\", \"tuition\", \"unemploy\", \"borrow\", \"sofli\", \"cost\", \"wonder\", \"seller\", \"technic\", \"fintech\", \"start\", \"fuck\", \"analysi\", \"tendi\", \"expir\", \"bought\", \"daili\", \"breakout\", \"sold\", \"squeez\", \"strong\", \"say\", \"way\", \"fli\", \"portfolio\", \"final\", \"reason\", \"ball\", \"went\", \"hand\", \"tendi\", \"goe\", \"mani\", \"expir\", \"boy\", \"huge\", \"worthless\", \"kreme\", \"krispi\", \"yolod\", \"half\", \"af\", \"semiconductor\", \"soar\", \"ill\", \"think\", \"pressur\", \"movement\", \"overvalu\", \"deep\", \"one\", \"ask\", \"bought\", \"close\", \"hit\", \"analysi\", \"squeez\", \"fuck\", \"daili\", \"technic\", \"start\", \"hope\", \"sold\", \"fli\", \"luck\", \"potenti\", \"say\", \"gang\", \"way\", \"na\", \"strong\", \"want\", \"inc\", \"said\", \"valu\", \"complet\", \"real\", \"analysi\", \"god\", \"fintech\", \"damn\", \"disrupt\", \"everyon\", \"technic\", \"aka\", \"financ\", \"none\", \"social\", \"fuck\", \"contextlog\", \"doubl\", \"tendi\", \"would\", \"sold\", \"game\", \"nasdaq\", \"amazon\", \"disguis\", \"squeez\", \"bought\", \"daili\", \"start\", \"fli\", \"luck\", \"gang\", \"say\", \"expir\", \"potenti\", \"way\", \"na\", \"strong\", \"true\", \"hit\", \"one\", \"put\", \"hedg\", \"made\", \"way\", \"plan\", \"move\", \"big\", \"ahead\", \"strategi\", \"tendi\", \"bought\", \"fuck\", \"expir\", \"analysi\", \"sold\", \"crash\", \"start\", \"squeez\", \"goe\", \"technic\", \"daili\", \"hope\", \"gang\", \"blackberri\", \"plea\", \"say\", \"luck\", \"fli\", \"rocki\", \"expect\", \"other\", \"statist\", \"true\", \"potenti\", \"na\", \"one\", \"hit\", \"strong\", \"gon\"], \"Freq\": [86.0, 83.0, 79.0, 74.0, 73.0, 65.0, 65.0, 58.0, 57.0, 53.0, 52.0, 52.0, 50.0, 45.0, 44.0, 43.0, 42.0, 42.0, 39.0, 38.0, 37.0, 36.0, 36.0, 35.0, 34.0, 34.0, 34.0, 33.0, 33.0, 32.0, 41.97342006925265, 34.82316008161949, 32.42785942902951, 19.755779639808765, 15.20197909135583, 7.245985235721896, 3.251365987905751, 1.4628316272099628, 0.044326493064715373, 0.044326458893685076, 0.044326434973963866, 0.04432638371741842, 0.04432644864237598, 0.04432638371741842, 0.04432641788844872, 0.04432633929507903, 0.04432638371741842, 0.04432638371741842, 0.044326329043769944, 0.04432634612928509, 0.04432631879246085, 0.04432631879246085, 0.044326335877976, 0.044326335877976, 0.044326335877976, 0.044326335877976, 0.04432633929507903, 0.04432634954638812, 0.04432637688321236, 0.04432629487273965, 0.04432646914499416, 0.04432652723574567, 0.04432635296349115, 0.04432644522527295, 0.04432637688321236, 0.044326452059479014, 0.04432635296349115, 0.044326472562097194, 0.04432639738583054, 0.04432644522527295, 0.04432638713452145, 0.04432644522527295, 0.0443264383910669, 0.04432639396872751, 0.04432639738583054, 0.04432638371741842, 37.86554015266743, 36.02736375611491, 32.81350427372189, 10.192641841084678, 10.060838642258831, 9.04572140720864, 7.9846145244606745, 7.9413284653599145, 1.7186501154323968, 0.04471933331594053, 0.044719258728574546, 0.044719231605896005, 0.044719231605896005, 0.04471919431221301, 0.044719231605896005, 0.044719207873552276, 0.044719204483217465, 0.04471922821556119, 0.04471922821556119, 0.04471922143489155, 0.04471922821556119, 0.044719258728574546, 0.04471922821556119, 0.04471922143489155, 0.04471922143489155, 0.04471922143489155, 0.04471922482522637, 0.04471922482522637, 0.04471922482522637, 0.044719231605896005, 0.044719262118909364, 0.04471941468397616, 0.04471932314493608, 0.04471929941259235, 0.04471931297393163, 0.04471924855757009, 0.044719268899578994, 0.04471932314493608, 0.044719262118909364, 0.04471938756129762, 0.04471926550924418, 0.04471925194790491, 0.04471926550924418, 0.044719316364266445, 0.04471926550924418, 0.04471930280292717, 0.04471930280292717, 0.04471935704828426, 0.04471931297393163, 0.04471926550924418, 0.04471933331594053, 0.04471932314493608, 0.04471927907058345, 0.04471930619326199, 0.044719285851253086, 0.044719268899578994, 0.04471927907058345, 0.044719268899578994, 48.55353235255456, 26.760758917221903, 21.062634435045766, 14.829485429143888, 12.228042589708004, 11.864596891094846, 1.6304377213002075, 0.05303351080258889, 0.053033446901995136, 0.05303346035475171, 0.053033463717940856, 0.05303334600632078, 0.05303334600632078, 0.05303334600632078, 0.05303342672286026, 0.05303348389707573, 0.053033342643131635, 0.05303352425534547, 0.05303335609588822, 0.05303335609588822, 0.05303342672286026, 0.05303333591675335, 0.0530333998173471, 0.05303334600632078, 0.05303334600632078, 0.05303334600632078, 0.05303332582718591, 0.05303336618545565, 0.0530332955584836, 0.0530332955584836, 0.05303341999648197, 0.05303344017561684, 0.05303344017561684, 0.05303340654372539, 0.05303359488231752, 0.053033453628373424, 0.05303352425534547, 0.053033493986643164, 0.053033534344912904, 0.05303351080258889, 0.053033514165778034, 0.05303348053388658, 0.053033446901995136, 0.053033453628373424, 0.05303340990691454, 52.40747598206513, 41.14791823750498, 13.74943248391165, 9.920485579455086, 7.179764301494285, 6.288299750390394, 6.1844717806154215, 5.480729507618802, 3.002150481200994, 0.047665495752157734, 0.047665495752157734, 0.04766552586399485, 0.047665315081135064, 0.04766536192177057, 0.0476652615489802, 0.047665274932018914, 0.04766534519297218, 0.047665251511701166, 0.0476652615489802, 0.04766524816594148, 0.04766526824049956, 0.0476652615489802, 0.047665308389615704, 0.047665251511701166, 0.04766528162353827, 0.04766528162353827, 0.0476652782777786, 0.04766524816594148, 0.04766525485746084, 0.04766526824049956, 0.04766528831505763, 0.04766552586399485, 0.04766531842689475, 0.04766533180993346, 0.047665482369119015, 0.047665315081135064, 0.047665315081135064, 0.04766542549120447, 0.047665442220002865, 0.04766529500657699, 0.04766533515569314, 0.04766532177265442, 0.047665422145444794, 0.04766534519297218, 0.047665415453925435, 0.04766540207088672, 0.04766534519297218, 0.04766536861328993, 0.04766535857601089, 0.04766533180993346, 0.04766533180993346, 0.04766532177265442, 84.83959864800073, 31.24104860612703, 22.266672026240357, 0.05091044323037482, 0.05091034660481798, 0.05091037659205976, 0.05091038991972278, 0.05091038325589127, 0.050910469885700846, 0.05091047654953235, 0.05091031994949196, 0.0509105231963529, 0.050910303289913195, 0.050910303289913195, 0.050910303289913195, 0.050910299957997444, 0.05091040991121729, 0.05091029329416594, 0.05091029329416594, 0.05091029329416594, 0.05091029329416594, 0.05091029329416594, 0.05091029329416594, 0.05091029329416594, 0.0509103099537447, 0.05091029329416594, 0.05091039325163853, 0.0509103099537447, 0.0509102533111769, 0.05091031328566045, 0.05091032661332347, 0.05091035660056524, 0.05091054651976317, 0.050910539855931664, 0.050910336609070725, 0.050910399915470035, 0.05091031994949196, 0.050910359932481, 0.050910303289913195, 0.05091044989420633, 0.05091034660481798, 0.050910403247385785, 0.05091040991121729, 0.05091038325589127, 0.050910359932481, 0.050910399915470035, 0.05091040991121729, 0.05091034660481798, 0.05091035660056524, 0.05091034660481798, 72.34785373863397, 21.72185811910389, 12.6615778362562, 6.197130067121259, 5.650338240850999, 4.189573667894694, 3.901173321748876, 0.056620819734670196, 0.05662059488614584, 0.05662061472572152, 0.056620581659762054, 0.05662061472572152, 0.056620634565297194, 0.05662056843337827, 0.056620581659762054, 0.05662064117848909, 0.056620588272953944, 0.056620588272953944, 0.05662064779168098, 0.05662056182018638, 0.05662065440487288, 0.05662066763125666, 0.05662060811252963, 0.05662059488614584, 0.05662065440487288, 0.05662055520699448, 0.05662068747083234, 0.056620727149983695, 0.05662066101806477, 0.056620627952105304, 0.05662073376317559, 0.056620634565297194, 0.05662066101806477, 0.056620780055518835, 0.05662073376317559, 0.05662069408402423, 0.05662078666871073, 0.05662071392359991, 0.05662065440487288, 0.05662074698955937, 0.05662074037636748, 0.056620720536791805, 0.05662066763125666, 0.05662070731040802, 0.05662068747083234, 0.05662065440487288, 0.05662065440487288, 56.67239640591279, 28.27582290631386, 11.851523840521022, 7.510939787525093, 7.245926954815639, 4.512664080984644, 2.593797524335468, 1.334436251558542, 0.058614470030185675, 0.05861425485868767, 0.05861425485868767, 0.05861425485868767, 0.05861425485868767, 0.05861425485868767, 0.05861456131506361, 0.05861424181799082, 0.05861424181799082, 0.058614267899384516, 0.058614267899384516, 0.05861433962321719, 0.05861430702147506, 0.058614489591230945, 0.05861424833833924, 0.05861417009415815, 0.0586142092162487, 0.05861418965520342, 0.05861417009415815, 0.05861418965520342, 0.0586142352976424, 0.05861409837032548, 0.058614398306353004, 0.05861427441973294, 0.058614267899384516, 0.05861432006217191, 0.058614300501126634, 0.05861430702147506, 0.05861424181799082, 63.58167197542786, 22.521353767717095, 20.225209916318878, 6.124734566494556, 4.636673304552832, 0.05966830897829903, 0.05966828299676726, 0.05966838042751139, 0.0596682894921502, 0.05966829598753314, 0.05966829598753314, 0.05966829598753314, 0.05966829598753314, 0.059668270006001375, 0.059668270006001375, 0.059668270006001375, 0.05966829598753314, 0.05966830248291609, 0.05966830248291609, 0.0596682894921502, 0.0596682894921502, 0.0596682894921502, 0.0596682894921502, 0.0596682894921502, 0.0596682894921502, 0.0596682894921502, 0.05966830248291609, 0.059668328464447855, 0.05966830897829903, 0.05966830248291609, 0.059668399913660214, 0.05966856229823375, 0.05966841939980903, 0.05966831547368197, 0.059668471362872566, 0.05966830248291609, 0.05966837393212845, 0.0596684453813408, 0.059668451876723747, 0.05966843888595786, 0.05966841939980903, 0.05966838692289433, 0.059668347950596674, 0.05966835444597962, 0.05966835444597962, 0.0596683674367455, 0.05966837393212845, 0.059668341455213735, 0.059668328464447855, 0.05966832196906491, 0.05966831547368197, 0.05966831547368197, 0.05966830897829903, 0.05966830897829903, 27.605063812204328, 22.253805515289525, 19.870220043050125, 19.52784893035114, 13.611052349940225, 0.06670361787640924, 0.06670350830258819, 0.06670357920329593, 0.06670361787640924, 0.06670339872876714, 0.06670340517428604, 0.06670357920329593, 0.0667033793922105, 0.06670340517428604, 0.06670338583772938, 0.06670374034126805, 0.06670337294669161, 0.06670337294669161, 0.06670337294669161, 0.06670334716461607, 0.0667033278280594, 0.0667033278280594, 0.0667033278280594, 0.06670339872876714, 0.06670338583772938, 0.06670334716461607, 0.066703463183956, 0.06670331493702164, 0.06670330849150276, 0.06670330849150276, 0.0667034180653238, 0.06670343095636157, 0.06670343740188045, 0.06670364365848477, 0.06670345673843711, 0.06670339872876714, 0.06670362432192813, 0.06670363076744701, 0.06670348896603154, 0.06670359853985258, 0.06670352119362596, 0.06670342451084268, 0.06670352119362596, 0.06670354053018261, 0.06670348252051266, 0.066703463183956, 0.06670347607499377, 0.06670344384739935, 0.06670343095636157, 0.06670343095636157, 0.06670343095636157, 50.99723198734641, 24.43374781149779, 20.99355867569305, 9.129375019982701, 5.569321411474996, 0.06125035687916566, 0.06125008152497145, 0.06125028003613472, 0.06125007512138554, 0.061249991874768685, 0.061249991874768685, 0.061249991874768685, 0.06125006231421372, 0.06124997906759686, 0.06124997906759686, 0.06124997906759686, 0.06125000468194051, 0.06124997266401095, 0.06125011354290101, 0.061250030296284154, 0.061250030296284154, 0.06125001108552642, 0.06125011994648692, 0.06124994064608139, 0.06124992783890957, 0.061250030296284154, 0.061250132753658745, 0.06125002389269824, 0.06124992783890957, 0.06124992783890957, 0.06125001108552642, 0.061249991874768685, 0.061250273632548806, 0.0612502160002756, 0.06125015836800239, 0.06125008152497145, 0.061250183982346044, 0.06125007512138554, 0.061250036699870065, 0.061250132753658745, 0.06125008152497145, 0.06125007512138554, 0.061250087928557365, 0.06125006231421372, 0.06125008152497145, 0.061250043103455984, 0.061250036699870065, 0.061250036699870065, 0.061250036699870065, 78.39110026990969, 19.029772979030092, 11.841658143482613, 9.924256029621835, 0.05648764484159725, 0.05648764484159725, 0.05648767041548067, 0.05648764484159725, 0.056487804678368614, 0.056487740743660066, 0.05648761926771383, 0.05648760008730127, 0.056487580906888706, 0.056487862219606305, 0.056487580906888706, 0.056487555333005285, 0.05648770238283494, 0.05648761926771383, 0.056487766317543486, 0.056487612874242976, 0.056487523365651014, 0.05648757451341785, 0.0564875105787093, 0.05648750418523845, 0.0564875105787093, 0.05648750418523845, 0.056487523365651014, 0.05648750418523845, 0.056487497791767594, 0.056487491398296744, 0.05648754893953443, 0.05648781746531032, 0.056487555333005285, 0.056487555333005285, 0.05648764484159725, 0.05648756811994699, 0.0564876384481264, 0.056487580906888706, 0.05648773435018921, 0.05648770238283494, 0.05648773435018921, 0.056487612874242976, 0.0564876384481264, 0.056487651235068104, 0.056487683202422374, 0.056487612874242976, 0.0564876384481264, 0.056487612874242976, 0.056487612874242976, 44.17173740798552, 35.0828737579494, 26.555717335266845, 9.135893811595501, 0.058488955140443784, 0.0584889933824828, 0.058489063492887655, 0.05848893601942427, 0.05848891689840477, 0.058488955140443784, 0.05848887228269258, 0.05848886590901941, 0.058488904151058424, 0.058488859535346244, 0.05848892964575111, 0.05848892964575111, 0.05848891689840477, 0.05848900612982914, 0.05848893601942427, 0.05848898063513646, 0.05848879579861455, 0.05848879579861455, 0.05848879579861455, 0.058488859535346244, 0.05848877667759504, 0.05848885316167307, 0.05848880854596089, 0.05848880217228772, 0.05848880217228772, 0.05848888503003892, 0.05848904437186815, 0.05848894876677061, 0.05848887865636575, 0.05848908898758033, 0.05848903162452181, 0.05848902525084864, 0.05848904437186815, 0.05848903162452181, 0.058488999756155964, 0.05848893601942427, 0.058488942393097446, 0.058488923272077935, 0.058488904151058424, 0.058488891403712086, 0.058488891403712086, 82.38720165146894, 31.536261581002506, 0.058933199595301286, 0.058932791894779596, 0.058932842857344805, 0.058932791894779596, 0.058932791894779596, 0.058932944782475224, 0.058932791894779596, 0.05893278552445894, 0.05893278552445894, 0.058932791894779596, 0.05893278552445894, 0.05893278552445894, 0.05893286833862741, 0.05893278552445894, 0.05893270908061112, 0.05893270908061112, 0.05893270908061112, 0.058932715450931775, 0.05893272182125243, 0.05893272182125243, 0.05893272819157308, 0.05893272819157308, 0.058932715450931775, 0.05893281100574155, 0.05893270908061112, 0.05893270908061112, 0.05893277278381764, 0.05893269633996982, 0.058932766413496984, 0.05893293841215458, 0.058932983004399135, 0.0589328301167035, 0.05893298937471979, 0.05893295752311653, 0.058932855597986104, 0.058932842857344805, 0.058932970263757836, 0.05893290656055132, 0.05893286833862741, 0.05893283648702415, 0.05893295115279588, 0.05893292567151327, 0.058932842857344805, 0.05893282374638285, 0.0589328173760622, 0.0589328173760622, 0.0589328173760622, 0.058932804635420895, 0.05893281100574155, 0.058932804635420895, 0.058932791894779596, 51.216461507239934, 40.53543863198198, 6.890144051487606, 0.0674711103723885, 0.0674709130210554, 0.06747094485191558, 0.0674709130210554, 0.06747090028871133, 0.0674709130210554, 0.0674709321195715, 0.06747106580918424, 0.0674708557255071, 0.06747090665488337, 0.06747083662699098, 0.06747092575339947, 0.06747084299316301, 0.06747082389464691, 0.06747082389464691, 0.06747083662699098, 0.06747082389464691, 0.06747083662699098, 0.06747086209167913, 0.06747081116230284, 0.06747081116230284, 0.06747081116230284, 0.06747083662699098, 0.06747086845785116, 0.06747081116230284, 0.06747081116230284, 0.06747083662699098, 0.06747115493559273, 0.06747107217535628, 0.0674711294709046, 0.06747106580918424, 0.06747113583707663, 0.06747103397832407, 0.06747097031660372, 0.06747095121808762, 0.06747105944301221, 0.06747109127387238, 0.06747104671066814, 0.06747097668277575, 0.06747095758425965, 0.06747090028871133, 0.06747095758425965, 0.0674709321195715, 0.0674709321195715, 0.0674709321195715, 0.06747092575339947, 0.06747092575339947, 0.06747091938722743, 0.0674709130210554, 73.15010028308677, 28.84646665067987, 7.682966527483619, 3.69715625790544, 0.058700755372112466, 0.058700691982538036, 0.05870069832149548, 0.058700628592963607, 0.058700628592963607, 0.05870069832149548, 0.05870074269419758, 0.058700628592963607, 0.05870057154234662, 0.05870057154234662, 0.05870057154234662, 0.058700590559218946, 0.058700584220261504, 0.05870064760983593, 0.058700584220261504, 0.05870055252547429, 0.05870055252547429, 0.05870060323713384, 0.058700590559218946, 0.05870060323713384, 0.0587005398475594, 0.058700691982538036, 0.05870054618651685, 0.05870055252547429, 0.0587005398475594, 0.0587005398475594, 0.05870057788130406, 0.05870090116813366, 0.05870070466045292, 0.05870059689817639, 0.05870059689817639, 0.058700723677325255, 0.05870074269419758, 0.058700787066899685, 0.05870069832149548, 0.058700653948793376, 0.05870080608377201, 0.058700787066899685, 0.05870076805002735, 0.05870073635524014, 0.05870064760983593, 0.058700660287750825, 0.05870069832149548, 0.05870076805002735, 0.058700685643580594, 0.05870071099941036, 0.05870066662670827, 0.05870066662670827, 0.05870066662670827, 0.05870066662670827, 0.05870066662670827, 33.46469803971266, 25.93519714811037, 17.499878462848315, 8.964220443780123, 6.600564526395784, 4.650065136655628, 3.5023545776961122, 0.0658498533527465, 0.06584965706088537, 0.06584965706088537, 0.0658496633928809, 0.0658496633928809, 0.0658496633928809, 0.06584965706088537, 0.06584965706088537, 0.06584965072888986, 0.06584964439689434, 0.06584964439689434, 0.0658496633928809, 0.06584961273691674, 0.0658496950528585, 0.06584987234873305, 0.06584977103680473, 0.06584953675297049, 0.06584953675297049, 0.06584954308496602, 0.06584954308496602, 0.06584954941696154, 0.0658496000729257, 0.06584958107693914, 0.06584963806489881, 0.06584968238886746, 0.0658498850127241, 0.06584973937682713, 0.06584985968474201, 0.06584961906891226, 0.06584980902877785, 0.0658498850127241, 0.06584973304483162, 0.0658498533527465, 0.06584980902877785, 0.06584980902877785, 0.06584970771684953, 0.06584973937682713, 0.06584972671283609, 0.06584972671283609, 0.06584970771684953, 0.06584970138485402, 0.0658496950528585, 0.06584967605687193, 0.06584967605687193, 55.51185660603806, 17.241408300638525, 13.565672215739347, 11.765728244980586, 6.226351985462923, 0.06353275547745392, 0.0635327997415624, 0.06353273650712171, 0.0635327175367895, 0.06353269224301324, 0.06353288826977935, 0.06353268591956918, 0.06353269224301324, 0.06353270488990137, 0.06353281238845053, 0.0635329767979963, 0.06353263533201663, 0.06353262900857255, 0.06353278709467426, 0.06353283135878274, 0.0635326416554607, 0.06353266694923697, 0.06353266694923697, 0.06353269224301324, 0.06353288826977935, 0.06353266694923697, 0.0635326606257929, 0.06353264797890476, 0.06353261636168442, 0.06353260371479628, 0.06353295150422003, 0.06353288194633527, 0.06353295782766409, 0.06353295150422003, 0.06353291988699969, 0.06353277444778613, 0.06353284400567087, 0.06353276180089798, 0.06353274915400985, 0.06353276812434205, 0.06353274915400985, 0.06353276812434205, 0.06353274283056579, 0.0635327175367895, 0.06353273018367765, 0.06353272386023358, 0.06353272386023358, 36.683789117902904, 17.317016611458257, 8.938773195833235, 6.918854474131001, 5.897712020719698, 5.488331227432171, 5.333285438253754, 2.863749211883769, 1.6100646905538536, 0.07071796426630496, 0.07071756099586536, 0.07071768701787774, 0.0707175357914629, 0.0707175357914629, 0.07071752949036227, 0.0707175735980666, 0.07071758620026784, 0.07071751058706041, 0.07071751058706041, 0.07071751058706041, 0.0707175735980666, 0.0707175735980666, 0.0707176051035697, 0.07071746647935609, 0.07071745387715485, 0.07071744127495361, 0.07071747908155733, 0.07071746017825546, 0.07071751058706041, 0.07071749168375856, 0.0707176051035697, 0.07071782564209135, 0.07071763660907279, 0.07071775632998455, 0.0707177437277833, 0.0707176429101734, 0.0707177752332864, 0.07071768071677711, 0.07071772482448145, 0.07071766811457587, 0.07071763660907279, 0.07071759880246907, 0.0707176051035697, 0.07071759250136846, 0.07071759250136846, 0.07071757989916722, 63.639389598714544, 13.975275600187674, 12.588549188850461, 12.121378749596921, 0.06365491677192511, 0.06365496068858201, 0.06365489167669261, 0.06365492304573324, 0.06365484148622759, 0.06365486030765197, 0.06365491049811699, 0.06365483521241946, 0.06365492931954136, 0.06365492304573324, 0.06365486030765197, 0.06365486030765197, 0.06365486030765197, 0.06365494186715763, 0.06365492304573324, 0.06365519281948272, 0.06365481639099507, 0.0636548226648032, 0.06365494186715763, 0.06365481011718695, 0.06365481011718695, 0.06365481011718695, 0.06365495441477388, 0.06365482893861132, 0.06365484148622759, 0.06365484148622759, 0.06365493559334949, 0.0636550046052389, 0.06365516145044209, 0.06365504224808766, 0.06365509243855268, 0.06365495441477388, 0.06365497323619826, 0.06365490422430886, 0.06365506734332017, 0.06365507989093643, 0.06365496696239013, 0.06365497951000638, 0.06365495441477388, 0.06365503597427953, 0.06365496696239013, 0.06365499833143078, 0.06365496696239013, 0.06365496696239013, 0.06365492931954136, 33.55304027882045, 32.844590421162984, 15.021135406039969, 13.598652991211436, 13.054523314069927, 10.806677324508845, 0.054165298535147254, 0.05416522966301985, 0.05416510444097004, 0.05416510444097004, 0.054165179574199925, 0.054165091918765056, 0.054165091918765056, 0.054165091918765056, 0.054165091918765056, 0.05416510444097004, 0.05416515452978996, 0.05416511070207253, 0.054165079396560074, 0.05416504182994513, 0.05416503556884264, 0.05416503556884264, 0.05416503556884264, 0.054165079396560074, 0.05416510444097004, 0.05416503556884264, 0.05416503556884264, 0.05416503556884264, 0.05416504182994513, 0.05416505435215011, 0.054165098179867546, 0.0541653361017622, 0.05416529227404476, 0.05416512948538, 0.054165311057352235, 0.05416524218522483, 0.05416511696317502, 0.05416512322427751, 0.054165179574199925, 0.054165173313097434, 0.05416525470742982, 0.05416526096853231, 0.054165192096404906, 0.05416524844632732, 0.054165198357507396, 0.054165173313097434, 0.05416515452978996, 0.05416514200758498, 0.05416513574648249, 0.05416513574648249, 0.05416512948538, 0.05416512948538, 0.05416512948538, 0.05416512948538, 43.40158417032626, 26.48014602745042, 8.61292023623301, 6.127547177611549, 0.0719017028849595, 0.07190165958593592, 0.07190175236955787, 0.07190164721478633, 0.07190172144168389, 0.07190159154461315, 0.07190157917346356, 0.07190154206001477, 0.07190154206001477, 0.07190154206001477, 0.07190156061673916, 0.0719017028849595, 0.07190154824558957, 0.0719014987609912, 0.07190157298788877, 0.07190168432823511, 0.0719014863898416, 0.07190145546196762, 0.07190146164754241, 0.07190145546196762, 0.07190145546196762, 0.0719014863898416, 0.07190146783311721, 0.0719014863898416, 0.07190153587443998, 0.07190145546196762, 0.07190186989547902, 0.07190180185415625, 0.07190182659645544, 0.07190182659645544, 0.07190173381283349, 0.07190156061673916, 0.07190175855513267, 0.07190178329743187, 0.07190165958593592, 0.07190168432823511, 0.0719016905138099, 0.07190162865806193, 0.07190162865806193, 0.07190161010133754, 0.07190161010133754, 0.07190161010133754, 0.07190161628691234, 0.07190159773018795, 0.07190159773018795, 29.114162579874794, 21.460936251805396, 15.052807328435561, 8.959989305539466, 7.823698108876501, 2.776100517345179, 0.07147101101279472, 0.07147100483722606, 0.07147092455483339, 0.07147099866165739, 0.07147099248608872, 0.07147080721902872, 0.07147088132585272, 0.07147095543267673, 0.07147101101279472, 0.07147078869232272, 0.07147079486789139, 0.07147082574573473, 0.07147078251675405, 0.07147078251675405, 0.07147077634118539, 0.07147077634118539, 0.07147077634118539, 0.07147077016561672, 0.07147077016561672, 0.07147077016561672, 0.07147075163891072, 0.07147079486789139, 0.0714710357150694, 0.07147088132585272, 0.07147108511961872, 0.07147114069973673, 0.0714710727684814, 0.0714710727684814, 0.07147098013495139, 0.07147099248608872, 0.07147091837926473, 0.07147085044800938, 0.07147100483722606, 0.07147091837926473, 0.07147086897471538, 0.07147085662357805, 0.07147084427244071, 0.07147083809687206, 19.98583701497825, 18.734841228806918, 10.989197125375018, 7.579677324329636, 6.215610798271829, 4.390171785950678, 0.07995757254344084, 0.07995716920547065, 0.07995711420483835, 0.07995729754027935, 0.07995712642720108, 0.07995701642593649, 0.07995695531412282, 0.07995692475821597, 0.07995692475821597, 0.07995708976011288, 0.07995698587002965, 0.07995693086939734, 0.07995695531412282, 0.07995697364766692, 0.07995709587129425, 0.07995699809239239, 0.07995691253585324, 0.07995691253585324, 0.07995691253585324, 0.07995696142530419, 0.07995716309428928, 0.07995690642467188, 0.07995731587382345, 0.07995706531538742, 0.07995715087192655, 0.07995733420736754, 0.07995721198374021, 0.07995735254091164, 0.07995716920547065, 0.07995722420610295, 0.07995727309555388, 0.07995712031601972, 0.07995729754027935, 0.07995711420483835, 0.07995712031601972, 0.07995714476074518, 0.07995711420483835, 0.07995709587129425, 0.07995712031601972, 0.07995710198247562, 0.07995710198247562, 21.841826159002025, 17.118669189442667, 10.609583140049885, 9.70596865903885, 2.4990679848265964, 0.08112748187272815, 0.08112773969815866, 0.08112739792956473, 0.08112745189302693, 0.08112728400670009, 0.08112731398640131, 0.08112731398640131, 0.0811275957955928, 0.08112726601887936, 0.08112726601887936, 0.08112726601887936, 0.08112726601887936, 0.08112766175093548, 0.0811272300432379, 0.08112730199452083, 0.0811276377671745, 0.08112714610007447, 0.08112760778747329, 0.08112712811225374, 0.0811271640878952, 0.0811272300432379, 0.08112712811225374, 0.08112745189302693, 0.08112753583619035, 0.08112740992144522, 0.08112752384430987, 0.08112734396610254, 0.08112734996204278, 0.08112733197422205, 0.08112734396610254, 0.08112742790926596, 0.08112737394580376, 0.08112736195392327, 0.08112734396610254, 0.08112733797016229, 0.08112733197422205, 0.08112731998234156, 0.08112731998234156, 25.565471868396262, 10.420055131560659, 7.222860556409189, 0.09111539277159579, 0.0911152074625399, 0.0911152373510973, 0.09111521344025138, 0.09111505204204141, 0.09111504606432994, 0.09111550037040245, 0.09111539874930727, 0.091115482437268, 0.09111533897219247, 0.09111541668244172, 0.0911154226601532, 0.09111489064383144, 0.09111536886074988, 0.09111525528423174, 0.09111504606432994, 0.09111527919507767, 0.09111519550711694, 0.09111513573000214, 0.09111511779686769, 0.09111495639865773, 0.09111495042094625, 0.09111512975229066, 0.09111512975229066, 0.09111511779686769, 0.09111483086671664, 0.0911149324878118, 0.09111506997517585, 0.09111506997517585, 0.09111511779686769, 0.09111515964084806, 0.09111511779686769, 0.09111511181915621, 0.09111510584144474, 0.09111511181915621, 0.09111506997517585], \"Total\": [86.0, 83.0, 79.0, 74.0, 73.0, 65.0, 65.0, 58.0, 57.0, 53.0, 52.0, 52.0, 50.0, 45.0, 44.0, 43.0, 42.0, 42.0, 39.0, 38.0, 37.0, 36.0, 36.0, 35.0, 34.0, 34.0, 34.0, 33.0, 33.0, 32.0, 43.48617268753947, 36.33591269990632, 33.940612047316336, 21.268532258095593, 16.714731709642663, 8.758737854008722, 4.764118606192578, 2.97558424549679, 1.557082887273204, 1.5570824765989326, 1.5570823237219689, 1.557080553135388, 1.5570832687671077, 1.5570814018998915, 1.5570827534922134, 1.5570801297082233, 1.5570817499370746, 1.5570818661830728, 1.5570799637070745, 1.5570806693038497, 1.5570798746511612, 1.5570798823400276, 1.557080498712084, 1.557080498712084, 1.557080498712084, 1.557080498712084, 1.5570806886799538, 1.5570810511630186, 1.5570821662999499, 1.5570792854774749, 1.557085495554154, 1.55708892451934, 1.5570815200497696, 1.5570862208397518, 1.5570829977681624, 1.5570878396357948, 1.5570815760173855, 1.5570892753516594, 1.557084652229375, 1.5570880437150618, 1.5570839761583424, 1.5570891050896136, 1.5570885387636266, 1.5570854660083406, 1.5570869521831259, 1.5570868602596502, 39.37789988119418, 37.53972347797784, 34.32586399558482, 11.705001562947611, 11.573198364121765, 10.558081129071574, 9.496974246323608, 9.453688187222848, 3.2310098372953306, 1.5570826862661642, 1.557081029355156, 1.5570803923131658, 1.5570805238749896, 1.557079297706893, 1.557080653757742, 1.5570798300255064, 1.557079865539563, 1.5570807225480467, 1.557080725290239, 1.5570804910826468, 1.557080760144746, 1.557081849317527, 1.55708081281166, 1.557080584677884, 1.557080584677884, 1.557080584677884, 1.5570807331840921, 1.5570807331840921, 1.5570807331840921, 1.5570809748985641, 1.5570821475269885, 1.5570880437150618, 1.5570845091274441, 1.5570836800321097, 1.5570842389507538, 1.5570816802041592, 1.557082517679402, 1.5570848647138797, 1.5570822733051684, 1.5570878396357948, 1.5570825896475748, 1.5570819505350313, 1.5570826215728522, 1.5570852209824333, 1.5570826516713818, 1.557084652229375, 1.5570846891594339, 1.55708892451934, 1.5570869521831259, 1.5570830748120434, 1.5570891050896136, 1.5570892753516594, 1.5570844971606237, 1.5570885387636266, 1.5570862208397518, 1.5570833798113646, 1.5570868602596502, 1.557085495554154, 50.05757798621679, 28.26480455088414, 22.566680068708003, 16.333531062806127, 13.732088223370239, 13.368642524757082, 3.1344833549624425, 1.5570816027757424, 1.5570817499370746, 1.5570822660612182, 1.5570830558864546, 1.5570797533456056, 1.5570797533456056, 1.5570797533456056, 1.5570821662999499, 1.5570838806019451, 1.5570799637070745, 1.5570854660083406, 1.5570805520029667, 1.5570805520029667, 1.5570826383039704, 1.5570802301376883, 1.5570821475269885, 1.5570805870861861, 1.5570806686745988, 1.5570806816700102, 1.5570801136496508, 1.557081368223497, 1.557079306076574, 1.557079306076574, 1.5570829709355785, 1.557083804683016, 1.557083804683016, 1.5570827667030058, 1.5570892753516594, 1.557084652229375, 1.5570880437150618, 1.5570869521831259, 1.55708892451934, 1.5570885387636266, 1.5570891050896136, 1.5570878396357948, 1.5570862208397518, 1.5570868602596502, 1.5570846891594339, 53.91688965275146, 42.65733190819131, 15.258846154597988, 11.429899250141423, 8.689177972180621, 7.797713421076729, 7.693885451301757, 6.9901431783051375, 4.511564151887331, 1.557083804683016, 1.557083804683016, 1.5570854660083406, 1.5570804104038485, 1.5570822660612182, 1.5570797123310334, 1.5570802301376883, 1.557082570547067, 1.5570795197776026, 1.557079869072712, 1.5570794334665512, 1.5570800936944549, 1.5570799063591891, 1.5570814788912861, 1.5570796638352526, 1.5570806686745988, 1.5570806816700102, 1.5570805870861861, 1.557079686139713, 1.5570799208849333, 1.5570803692829969, 1.5570810357578337, 1.5570892753516594, 1.5570822173638363, 1.5570827667030058, 1.55708892451934, 1.5570821662999499, 1.5570821794867882, 1.5570869521831259, 1.5570878396357948, 1.557081368223497, 1.557083368371984, 1.5570827447835336, 1.5570880437150618, 1.5570845091274441, 1.5570891050896136, 1.5570885387636266, 1.5570847447419698, 1.5570868602596502, 1.5570862208397518, 1.55708481135773, 1.5570852209824333, 1.5570849613293838, 86.34576733965076, 32.74721729143812, 23.772840711551456, 1.5570827918387806, 1.5570799208849333, 1.5570810664436958, 1.5570815481341747, 1.5570814352808693, 1.5570845091274441, 1.5570849613293838, 1.5570804104038485, 1.5570869521831259, 1.5570805205021234, 1.5570805205021234, 1.5570807389030605, 1.5570806686585086, 1.557084047314574, 1.5570805574960767, 1.5570805574960767, 1.5570805574960767, 1.5570805574960767, 1.5570805574960767, 1.5570805574960767, 1.5570805574960767, 1.5570810797643782, 1.557080573715387, 1.5570836800321097, 1.5570811397405087, 1.557079447323623, 1.557081288026557, 1.5570817412186264, 1.5570827447835336, 1.5570892753516594, 1.5570891050896136, 1.557082189182449, 1.55708481135773, 1.557081621389018, 1.5570835645399972, 1.5570810445890457, 1.5570885387636266, 1.5570832687671077, 1.5570868602596502, 1.5570878396357948, 1.5570862208397518, 1.5570847447419698, 1.5570880437150618, 1.55708892451934, 1.5570843052188994, 1.5570854660083406, 1.5570852209824333, 73.8483121214922, 23.222316501962133, 14.16203621911444, 7.697588449979498, 7.150796623709238, 5.690032050752933, 5.401631704607115, 1.5570846891594339, 1.5570797745926654, 1.5570805238749896, 1.5570797557803426, 1.5570806760972062, 1.557081334580783, 1.5570796250836745, 1.557079992460152, 1.5570816802041592, 1.557080251011771, 1.5570802767855976, 1.5570819505350313, 1.5570796009013985, 1.5570821475269885, 1.5570825257839542, 1.5570809734442357, 1.5570806208054064, 1.5570822733051684, 1.5570795483995925, 1.5570832108810717, 1.5570843052188994, 1.557082520761197, 1.557081650781582, 1.5570847447419698, 1.557081849317527, 1.5570829709355785, 1.5570878396357948, 1.5570862208397518, 1.55708481135773, 1.55708892451934, 1.5570869521831259, 1.5570836800321097, 1.5570891050896136, 1.5570892753516594, 1.5570885387636266, 1.5570846942120802, 1.5570880437150618, 1.5570868602596502, 1.5570844971606237, 1.5570854660083406, 58.17086125762711, 29.774287758028194, 13.34998869223535, 9.009404639239422, 8.744391806529967, 6.011128932698971, 4.092262376049796, 2.8329011032728704, 1.5570822660612182, 1.5570806816700102, 1.5570807113502632, 1.5570807113502632, 1.5570807113502632, 1.5570807113502632, 1.55708892451934, 1.5570805870861861, 1.5570806686745988, 1.557081414945279, 1.5570814210035304, 1.5570835645399972, 1.5570827667030058, 1.5570880437150618, 1.5570818661830728, 1.5570809510759416, 1.5570825257839542, 1.557082063287893, 1.5570815481341747, 1.5570820826225718, 1.5570833798113646, 1.5570797603457953, 1.5570878396357948, 1.5570844971606237, 1.5570862208397518, 1.5570891050896136, 1.5570885387636266, 1.5570892753516594, 1.5570868602596502, 65.07908270714502, 24.018764499434266, 21.72262064803605, 7.622145298211719, 6.1340840362699955, 1.557080702921799, 1.5570800397792484, 1.5570826215728522, 1.5570802650388431, 1.5570804611073878, 1.5570804611073878, 1.5570804611073878, 1.5570804611073878, 1.5570797836501369, 1.5570797836501369, 1.5570797836501369, 1.5570805476257397, 1.5570807402175124, 1.5570808690351459, 1.5570805574960767, 1.5570805574960767, 1.5570805574960767, 1.5570805574960767, 1.5570805574960767, 1.5570805574960767, 1.5570805574960767, 1.557080911737533, 1.557081621389018, 1.5570811850538169, 1.557081029355156, 1.5570838806019451, 1.5570891050896136, 1.5570849613293838, 1.5570814488973184, 1.5570880437150618, 1.5570811397405087, 1.5570848647138797, 1.5570885387636266, 1.5570892753516594, 1.55708892451934, 1.5570878396357948, 1.5570868602596502, 1.5570842389507538, 1.5570846942120802, 1.55708481135773, 1.5570862208397518, 1.5570869521831259, 1.5570854660083406, 1.557085495554154, 1.5570852209824333, 1.5570846891594339, 1.5570847447419698, 1.5570843052188994, 1.557084652229375, 29.095439478606774, 23.74418118169197, 21.36059570945257, 21.018224596753587, 15.101428016342668, 1.5570848647138797, 1.5570823461658514, 1.5570842389507538, 1.5570852209824333, 1.5570805661146072, 1.5570807221761767, 1.5570849613293838, 1.5570803561112503, 1.5570810445890457, 1.557080638156721, 1.5570891050896136, 1.557080584677884, 1.557080584677884, 1.557080584677884, 1.5570800688232849, 1.5570796374552494, 1.5570796520640897, 1.5570796520640897, 1.5570813107241401, 1.557081029355156, 1.557080266112259, 1.557083023466779, 1.5570795772496921, 1.55707945802654, 1.55707945802654, 1.5570820244190198, 1.5570823906607512, 1.5570826758757281, 1.5570880437150618, 1.557083368371984, 1.5570817412186264, 1.5570885387636266, 1.5570892753516594, 1.55708481135773, 1.55708892451934, 1.5570862208397518, 1.5570826215728522, 1.5570868602596502, 1.5570878396357948, 1.557085495554154, 1.5570854660083406, 1.5570869521831259, 1.5570846942120802, 1.5570845091274441, 1.5570846891594339, 1.5570847447419698, 52.49306101447782, 25.92957683862921, 22.48938770282447, 10.625204047114119, 7.065150438606412, 1.5570885387636266, 1.557081669638167, 1.5570868602596502, 1.5570820244190198, 1.5570807331840921, 1.5570807331840921, 1.5570807331840921, 1.5570825896475748, 1.5570806387127558, 1.5570806387127558, 1.5570806387127558, 1.557081295245053, 1.5570805945638526, 1.5570842389507538, 1.5570821662999499, 1.5570821794867882, 1.5570816970790984, 1.5570845091274441, 1.5570799532559072, 1.5570796371511644, 1.5570822541189702, 1.5570848647138797, 1.557082141727338, 1.5570797592949328, 1.5570797592949328, 1.5570819477368993, 1.5570814906693387, 1.5570892753516594, 1.55708892451934, 1.5570878396357948, 1.5570849613293838, 1.5570891050896136, 1.5570847447419698, 1.5570832823207785, 1.5570880437150618, 1.557085495554154, 1.5570854660083406, 1.5570862208397518, 1.5570852209824333, 1.5570869521831259, 1.5570846891594339, 1.557084652229375, 1.5570846942120802, 1.55708481135773, 79.89169202527755, 20.530364416886634, 13.34224958133915, 11.424847467478372, 1.557080686378778, 1.557080686378778, 1.5570814018998915, 1.5570807980607821, 1.557085495554154, 1.5570839761583424, 1.5570812409706223, 1.557081221680214, 1.5570807196077876, 1.5570885387636266, 1.5570809136640735, 1.5570803572274334, 1.557084652229375, 1.5570827447835336, 1.5570868602596502, 1.5570826516713818, 1.557080251497964, 1.5570816970790984, 1.5570799397442716, 1.557079776539181, 1.557079981202433, 1.5570798114837348, 1.5570804119612156, 1.5570798941123254, 1.5570797300671368, 1.5570795661953911, 1.5570811920452299, 1.55708892451934, 1.5570814403708706, 1.5570815200497696, 1.5570847447419698, 1.557082063287893, 1.5570846891594339, 1.5570826215728522, 1.5570891050896136, 1.5570878396357948, 1.5570892753516594, 1.557084047314574, 1.5570854660083406, 1.5570862208397518, 1.5570880437150618, 1.5570844971606237, 1.5570869521831259, 1.5570849613293838, 1.5570852209824333, 45.67032756036477, 36.58146391032865, 28.05430748764611, 10.63448396397476, 1.5570806922281675, 1.557081774848747, 1.557084047314574, 1.5570822173638363, 1.5570818644323345, 1.5570830748120434, 1.5570809748985641, 1.55708081281166, 1.5570818311493062, 1.557080725290239, 1.5570826862661642, 1.5570827447835336, 1.5570826516713818, 1.5570852209824333, 1.5570833798113646, 1.557084652229375, 1.557079752652045, 1.557079752652045, 1.557079752652045, 1.5570816802041592, 1.5570795579176762, 1.5570815963862772, 1.5570804226245203, 1.5570802603339555, 1.5570802603339555, 1.5570825257839542, 1.5570869521831259, 1.5570843052188994, 1.5570824388076994, 1.55708892451934, 1.5570880437150618, 1.5570878396357948, 1.5570892753516594, 1.5570891050896136, 1.5570885387636266, 1.5570862208397518, 1.5570868602596502, 1.5570854660083406, 1.557085495554154, 1.5570844971606237, 1.5570846891594339, 83.88534788415231, 33.03440781368586, 1.5570869521831259, 1.5570804226245203, 1.5570818311493062, 1.55708053912936, 1.55708053912936, 1.5570847447419698, 1.5570807245081157, 1.557080608832844, 1.557080608832844, 1.5570808579732511, 1.5570807319889892, 1.5570807319889892, 1.5570829977681624, 1.5570809298172006, 1.5570794812993747, 1.5570794812993747, 1.5570794812993747, 1.557079686139713, 1.5570799008422427, 1.5570799442590542, 1.5570801881947198, 1.5570801999040447, 1.5570798891074098, 1.5570824388076994, 1.5570798929633707, 1.5570799102058606, 1.5570815963862772, 1.5570795881431048, 1.5570814488973184, 1.5570862208397518, 1.5570878396357948, 1.5570836800321097, 1.5570891050896136, 1.5570880437150618, 1.5570846942120802, 1.5570843052188994, 1.55708892451934, 1.5570868602596502, 1.557085495554154, 1.5570844971606237, 1.5570892753516594, 1.5570885387636266, 1.5570854660083406, 1.5570852209824333, 1.5570846891594339, 1.55708481135773, 1.5570848647138797, 1.5570832823207785, 1.5570849613293838, 1.557084652229375, 1.5570842389507538, 52.7060696632565, 42.02504681965853, 8.379752207504177, 1.5570849613293838, 1.5570805708938424, 1.5570814379871312, 1.557080919027085, 1.557080638156721, 1.5570810445890457, 1.5570816970790984, 1.55708481135773, 1.5570800776374547, 1.5570813218453845, 1.5570799102058606, 1.5570820244190198, 1.5570801881947198, 1.5570799140696787, 1.5570799397442716, 1.557080251497964, 1.557079981202433, 1.5570803572274334, 1.5570809490870507, 1.5570798186735524, 1.5570798186735524, 1.5570798186735524, 1.5570804119612156, 1.5570811920452299, 1.5570798810534208, 1.5570798810534208, 1.5570804791068085, 1.55708892451934, 1.5570869521831259, 1.5570885387636266, 1.5570868602596502, 1.5570891050896136, 1.5570862208397518, 1.5570845091274441, 1.5570843052188994, 1.5570880437150618, 1.5570892753516594, 1.5570878396357948, 1.557085495554154, 1.5570852209824333, 1.5570827918387806, 1.5570854660083406, 1.5570844971606237, 1.5570846891594339, 1.5570848647138797, 1.557084652229375, 1.5570846942120802, 1.5570847447419698, 1.5570842389507538, 74.64847866571651, 30.344845026864096, 9.181344903667842, 5.195534634089663, 1.5570824765989326, 1.557081774848747, 1.557082189182449, 1.557080553135388, 1.5570806922281675, 1.5570827534922134, 1.557084047314574, 1.5570813218453845, 1.5570798249673379, 1.5570798249673379, 1.5570798249673379, 1.5570805172616629, 1.5570803776319708, 1.5570820826225718, 1.5570804063483432, 1.5570795658137973, 1.5570795658137973, 1.557080911737533, 1.5570805837565151, 1.5570809344811483, 1.55707932693708, 1.5570833798113646, 1.557079520289707, 1.5570797368621676, 1.557079423026387, 1.5570794384563607, 1.5570804652913672, 1.5570892753516594, 1.5570846942120802, 1.557081202009231, 1.5570812132471796, 1.557085495554154, 1.5570862208397518, 1.5570878396357948, 1.55708481135773, 1.5570832687671077, 1.5570891050896136, 1.5570885387636266, 1.5570880437150618, 1.5570868602596502, 1.5570830748120434, 1.5570836800321097, 1.5570854660083406, 1.55708892451934, 1.5570852209824333, 1.5570869521831259, 1.5570844971606237, 1.557084652229375, 1.5570846891594339, 1.5570848647138797, 1.5570849613293838, 34.955927450595745, 27.426426558993466, 18.991107873731412, 10.455449854663218, 8.09179393727888, 6.141294547538722, 4.993583988579207, 1.5570822524425032, 1.5570805701761354, 1.5570805701761354, 1.5570807656682177, 1.5570807697183275, 1.557080781531271, 1.5570806526552787, 1.557080662372958, 1.5570807245081157, 1.557080608832844, 1.557080608832844, 1.557081334580783, 1.5570802767855976, 1.5570825257839542, 1.5570869521831259, 1.5570846891594339, 1.5570793468461968, 1.5570793468461968, 1.5570795784290548, 1.5570795784290548, 1.5570797557803426, 1.5570809748985641, 1.5570805415491427, 1.5570819280513826, 1.5570832108810717, 1.5570885387636266, 1.5570847447419698, 1.5570880437150618, 1.5570815760173855, 1.5570868602596502, 1.5570892753516594, 1.5570849613293838, 1.5570891050896136, 1.5570878396357948, 1.55708892451934, 1.5570843052188994, 1.5570862208397518, 1.5570854660083406, 1.557085495554154, 1.55708481135773, 1.5570846942120802, 1.5570852209824333, 1.5570844971606237, 1.557084652229375, 57.00540296249504, 18.73495467024986, 15.059218572196336, 13.259274601437575, 7.719898341919912, 1.5570813218453845, 1.5570826516713818, 1.5570817412186264, 1.557081288026557, 1.5570806686585086, 1.557085495554154, 1.557080573715387, 1.5570807389030605, 1.5570810797643782, 1.5570839761583424, 1.5570880437150618, 1.557079753888232, 1.5570796255220145, 1.5570835645399972, 1.557084652229375, 1.5570800183867661, 1.557080686378778, 1.557080686378778, 1.5570814018998915, 1.5570862208397518, 1.5570807980607821, 1.557080653757742, 1.5570805856620218, 1.5570799484626037, 1.557079669255788, 1.5570885387636266, 1.5570868602596502, 1.55708892451934, 1.5570891050896136, 1.5570892753516594, 1.5570846942120802, 1.5570878396357948, 1.55708481135773, 1.5570845091274441, 1.5570854660083406, 1.5570846891594339, 1.5570869521831259, 1.5570852209824333, 1.5570830748120434, 1.5570849613293838, 1.5570843052188994, 1.5570844971606237, 38.17015066797008, 18.80337816152544, 10.425134745900417, 8.405216024198182, 7.384073570786881, 6.974692777499354, 6.819646988320937, 4.350110761950951, 3.0964262406210366, 1.5570892753516594, 1.5570809298172006, 1.557084047314574, 1.5570807319889892, 1.5570807319889892, 1.5570806922281675, 1.557081774848747, 1.557082141727338, 1.5570806387127558, 1.5570806387127558, 1.5570806387127558, 1.5570821662999499, 1.5570821794867882, 1.5570830558864546, 1.5570800776374547, 1.5570799102058606, 1.5570796848286077, 1.5570805945638526, 1.5570801881947198, 1.5570816027757424, 1.5570813106122496, 1.5570838806019451, 1.55708892451934, 1.557084652229375, 1.5570880437150618, 1.5570878396357948, 1.5570852209824333, 1.5570891050896136, 1.5570868602596502, 1.5570885387636266, 1.5570869521831259, 1.5570862208397518, 1.5570844971606237, 1.5570854660083406, 1.5570846942120802, 1.557085495554154, 1.5570849613293838, 65.13281374802462, 15.46869974949773, 14.08197333816052, 13.61480289890698, 1.5570810457558149, 1.557082141727338, 1.5570804910826468, 1.5570816027757424, 1.5570797057739896, 1.5570802170831313, 1.5570814486978806, 1.557079614233745, 1.5570820244190198, 1.5570821662999499, 1.5570806387127558, 1.5570806387127558, 1.5570806387127558, 1.5570826383039704, 1.5570821794867882, 1.55708892451934, 1.5570797942369672, 1.5570799532559072, 1.5570829709355785, 1.5570797533456056, 1.5570797533456056, 1.5570797533456056, 1.5570833798113646, 1.5570803417334054, 1.5570807031854215, 1.5570807413575216, 1.5570830558864546, 1.55708481135773, 1.5570892753516594, 1.5570862208397518, 1.5570878396357948, 1.5570838806019451, 1.5570846942120802, 1.5570826758757281, 1.5570885387636266, 1.5570891050896136, 1.5570849613293838, 1.557085495554154, 1.5570844971606237, 1.5570880437150618, 1.5570852209824333, 1.5570868602596502, 1.5570854660083406, 1.5570869521831259, 1.5570846891594339, 35.05595417118275, 34.347504313525285, 16.52404929840228, 15.101566883573742, 14.557437206432233, 12.309591216871151, 1.5570846942120802, 1.5570827534922134, 1.5570805520029667, 1.5570805520029667, 1.5570829709355785, 1.557080553135388, 1.557080584677884, 1.557080584677884, 1.557080584677884, 1.557081029355156, 1.5570824765989326, 1.5570813107241401, 1.5570804226245203, 1.5570797293467704, 1.5570795652688125, 1.5570795652688125, 1.5570795652688125, 1.5570808569373078, 1.557081650781582, 1.5570796719718278, 1.5570796730030727, 1.5570796802513578, 1.5570798705440494, 1.557080245781681, 1.557081593655986, 1.5570891050896136, 1.5570878396357948, 1.5570827667030058, 1.55708892451934, 1.5570869521831259, 1.5570824542553252, 1.5570827447835336, 1.55708481135773, 1.557084652229375, 1.5570880437150618, 1.5570885387636266, 1.5570862208397518, 1.5570892753516594, 1.5570868602596502, 1.5570854660083406, 1.557085495554154, 1.5570852209824333, 1.5570846891594339, 1.5570847447419698, 1.5570843052188994, 1.5570844971606237, 1.5570848647138797, 1.5570849613293838, 44.88676171008148, 27.965323567205647, 10.098097775988238, 7.612724717366776, 1.5570818661830728, 1.5570827447835336, 1.5570848647138797, 1.5570825896475748, 1.5570842389507538, 1.557081669638167, 1.5570814979201764, 1.5570807331840921, 1.5570807331840921, 1.5570807331840921, 1.5570813106122496, 1.5570845091274441, 1.557081295245053, 1.5570804496230994, 1.5570820826225718, 1.5570844971606237, 1.557080328594045, 1.5570796848286077, 1.557079888972977, 1.5570797882607068, 1.5570797882607068, 1.5570804602001234, 1.5570800662294084, 1.5570805021312777, 1.5570816027757424, 1.5570799464649814, 1.5570892753516594, 1.5570878396357948, 1.5570885387636266, 1.5570891050896136, 1.5570868602596502, 1.5570824388076994, 1.5570880437150618, 1.55708892451934, 1.5570854660083406, 1.5570862208397518, 1.5570869521831259, 1.5570849613293838, 1.557085495554154, 1.557084652229375, 1.5570846891594339, 1.5570846942120802, 1.5570852209824333, 1.5570843052188994, 1.5570847447419698, 30.59977090970091, 22.946544581631514, 16.538415658261677, 10.445597635365582, 9.309306438702617, 4.261708847171295, 1.5570839761583424, 1.5570845091274441, 1.5570829977681624, 1.5570848647138797, 1.5570847447419698, 1.5570808579732511, 1.5570825896475748, 1.5570842389507538, 1.557085495554154, 1.5570807225480467, 1.5570809298172006, 1.557081669638167, 1.5570807319889892, 1.5570807319889892, 1.5570807331840921, 1.5570807331840921, 1.5570807331840921, 1.557080686378778, 1.557080686378778, 1.5570807980607821, 1.5570804104038485, 1.5570814018998915, 1.5570868602596502, 1.5570835645399972, 1.5570880437150618, 1.5570892753516594, 1.5570885387636266, 1.5570891050896136, 1.5570869521831259, 1.5570878396357948, 1.5570854660083406, 1.5570832823207785, 1.55708892451934, 1.5570862208397518, 1.5570849613293838, 1.5570846891594339, 1.5570852209824333, 1.5570844971606237, 21.462959108319694, 20.21196332214836, 12.46631921871646, 9.056799417671078, 7.692732891613271, 5.86729387929212, 1.5570891050896136, 1.5570827918387806, 1.5570827534922134, 1.5570869521831259, 1.5570836800321097, 1.5570815474300939, 1.5570804226245203, 1.5570798355771565, 1.5570798355771565, 1.5570830558864546, 1.5570810357578337, 1.5570799841982919, 1.5570805024940013, 1.557080919027085, 1.557083368371984, 1.5570814788912861, 1.5570798568285698, 1.5570798810534208, 1.5570798810534208, 1.5570808593663454, 1.55708481135773, 1.5570798458368587, 1.5570878396357948, 1.5570829709355785, 1.5570847447419698, 1.5570885387636266, 1.5570862208397518, 1.5570892753516594, 1.5570854660083406, 1.5570868602596502, 1.5570880437150618, 1.5570845091274441, 1.55708892451934, 1.5570844971606237, 1.5570846942120802, 1.557085495554154, 1.5570846891594339, 1.5570843052188994, 1.5570852209824333, 1.5570848647138797, 1.5570849613293838, 23.31777805810028, 18.594621088540922, 12.085535039148143, 11.181920558137108, 3.9750198839248534, 1.557082520761197, 1.5570885387636266, 1.5570822733051684, 1.5570835645399972, 1.5570806760972062, 1.557081414945279, 1.5570814210035304, 1.5570868602596502, 1.5570807113502632, 1.5570807113502632, 1.5570807113502632, 1.5570807113502632, 1.5570892753516594, 1.5570811920452299, 1.5570826516713818, 1.5570891050896136, 1.5570799484626037, 1.55708892451934, 1.5570798941123254, 1.5570806208054064, 1.557081897477473, 1.5570799637070745, 1.5570862208397518, 1.5570878396357948, 1.5570854660083406, 1.5570880437150618, 1.5570844971606237, 1.5570846942120802, 1.5570843052188994, 1.5570846891594339, 1.5570869521831259, 1.557085495554154, 1.5570852209824333, 1.5570848647138797, 1.5570849613293838, 1.557084652229375, 1.5570847447419698, 1.55708481135773, 27.031436070225592, 11.886019333389987, 8.688824758238518, 1.5570852209824333, 1.5570826862661642, 1.5570833798113646, 1.5570830748120434, 1.55708081281166, 1.557080725290239, 1.5570891050896136, 1.5570878396357948, 1.5570892753516594, 1.5570869521831259, 1.5570885387636266, 1.55708892451934, 1.557079857083158, 1.5570880437150618, 1.5570862208397518, 1.5570827918387806, 1.5570868602596502, 1.5570854660083406, 1.5570845091274441, 1.5570843052188994, 1.5570815534010947, 1.5570815481341747, 1.5570846891594339, 1.5570846942120802, 1.5570844971606237, 1.5570796571229002, 1.5570814352808693, 1.557083804683016, 1.557083804683016, 1.557084652229375, 1.557085495554154, 1.5570848647138797, 1.55708481135773, 1.5570847447419698, 1.5570849613293838, 1.5570842389507538], \"Category\": [\"Default\", \"Default\", \"Default\", \"Default\", \"Default\", \"Default\", \"Default\", \"Default\", \"Default\", \"Default\", \"Default\", \"Default\", \"Default\", \"Default\", \"Default\", \"Default\", \"Default\", \"Default\", \"Default\", \"Default\", \"Default\", \"Default\", \"Default\", \"Default\", \"Default\", \"Default\", \"Default\", \"Default\", \"Default\", \"Default\", \"Topic1\", \"Topic1\", \"Topic1\", \"Topic1\", \"Topic1\", \"Topic1\", \"Topic1\", \"Topic1\", \"Topic1\", \"Topic1\", \"Topic1\", \"Topic1\", \"Topic1\", \"Topic1\", \"Topic1\", \"Topic1\", \"Topic1\", \"Topic1\", \"Topic1\", \"Topic1\", \"Topic1\", \"Topic1\", \"Topic1\", \"Topic1\", \"Topic1\", \"Topic1\", \"Topic1\", \"Topic1\", \"Topic1\", \"Topic1\", \"Topic1\", \"Topic1\", \"Topic1\", \"Topic1\", \"Topic1\", \"Topic1\", \"Topic1\", \"Topic1\", \"Topic1\", \"Topic1\", \"Topic1\", \"Topic1\", \"Topic1\", \"Topic1\", \"Topic1\", \"Topic1\", \"Topic2\", \"Topic2\", \"Topic2\", \"Topic2\", \"Topic2\", \"Topic2\", \"Topic2\", \"Topic2\", \"Topic2\", \"Topic2\", \"Topic2\", \"Topic2\", \"Topic2\", \"Topic2\", \"Topic2\", \"Topic2\", \"Topic2\", \"Topic2\", \"Topic2\", \"Topic2\", \"Topic2\", \"Topic2\", \"Topic2\", \"Topic2\", \"Topic2\", \"Topic2\", \"Topic2\", \"Topic2\", \"Topic2\", \"Topic2\", \"Topic2\", \"Topic2\", \"Topic2\", \"Topic2\", \"Topic2\", \"Topic2\", \"Topic2\", \"Topic2\", \"Topic2\", \"Topic2\", \"Topic2\", \"Topic2\", \"Topic2\", \"Topic2\", \"Topic2\", \"Topic2\", \"Topic2\", \"Topic2\", \"Topic2\", \"Topic2\", \"Topic2\", \"Topic2\", \"Topic2\", \"Topic2\", \"Topic2\", \"Topic2\", \"Topic2\", \"Topic2\", \"Topic3\", \"Topic3\", \"Topic3\", \"Topic3\", \"Topic3\", \"Topic3\", \"Topic3\", \"Topic3\", \"Topic3\", \"Topic3\", \"Topic3\", \"Topic3\", \"Topic3\", \"Topic3\", \"Topic3\", \"Topic3\", \"Topic3\", \"Topic3\", \"Topic3\", \"Topic3\", \"Topic3\", \"Topic3\", \"Topic3\", \"Topic3\", \"Topic3\", \"Topic3\", \"Topic3\", \"Topic3\", \"Topic3\", \"Topic3\", \"Topic3\", \"Topic3\", \"Topic3\", \"Topic3\", \"Topic3\", \"Topic3\", \"Topic3\", \"Topic3\", \"Topic3\", \"Topic3\", \"Topic3\", \"Topic3\", \"Topic3\", \"Topic3\", \"Topic3\", \"Topic4\", \"Topic4\", \"Topic4\", \"Topic4\", \"Topic4\", \"Topic4\", \"Topic4\", \"Topic4\", \"Topic4\", \"Topic4\", \"Topic4\", \"Topic4\", \"Topic4\", \"Topic4\", \"Topic4\", \"Topic4\", \"Topic4\", \"Topic4\", \"Topic4\", \"Topic4\", \"Topic4\", \"Topic4\", \"Topic4\", \"Topic4\", \"Topic4\", \"Topic4\", \"Topic4\", \"Topic4\", \"Topic4\", \"Topic4\", \"Topic4\", \"Topic4\", \"Topic4\", \"Topic4\", \"Topic4\", \"Topic4\", \"Topic4\", \"Topic4\", \"Topic4\", \"Topic4\", \"Topic4\", \"Topic4\", \"Topic4\", \"Topic4\", \"Topic4\", \"Topic4\", \"Topic4\", \"Topic4\", \"Topic4\", \"Topic4\", \"Topic4\", \"Topic4\", \"Topic5\", \"Topic5\", \"Topic5\", \"Topic5\", \"Topic5\", \"Topic5\", \"Topic5\", \"Topic5\", \"Topic5\", \"Topic5\", \"Topic5\", \"Topic5\", \"Topic5\", \"Topic5\", \"Topic5\", \"Topic5\", \"Topic5\", \"Topic5\", \"Topic5\", \"Topic5\", \"Topic5\", \"Topic5\", \"Topic5\", \"Topic5\", \"Topic5\", \"Topic5\", \"Topic5\", \"Topic5\", \"Topic5\", \"Topic5\", \"Topic5\", \"Topic5\", \"Topic5\", \"Topic5\", \"Topic5\", \"Topic5\", \"Topic5\", \"Topic5\", \"Topic5\", \"Topic5\", \"Topic5\", \"Topic5\", \"Topic5\", \"Topic5\", \"Topic5\", \"Topic5\", \"Topic5\", \"Topic5\", \"Topic5\", \"Topic5\", \"Topic6\", \"Topic6\", \"Topic6\", \"Topic6\", \"Topic6\", \"Topic6\", \"Topic6\", \"Topic6\", \"Topic6\", \"Topic6\", \"Topic6\", \"Topic6\", \"Topic6\", \"Topic6\", \"Topic6\", \"Topic6\", \"Topic6\", \"Topic6\", \"Topic6\", \"Topic6\", \"Topic6\", \"Topic6\", \"Topic6\", \"Topic6\", \"Topic6\", \"Topic6\", \"Topic6\", \"Topic6\", \"Topic6\", \"Topic6\", \"Topic6\", \"Topic6\", \"Topic6\", \"Topic6\", \"Topic6\", \"Topic6\", \"Topic6\", \"Topic6\", \"Topic6\", \"Topic6\", \"Topic6\", \"Topic6\", \"Topic6\", \"Topic6\", \"Topic6\", \"Topic6\", \"Topic6\", \"Topic7\", \"Topic7\", \"Topic7\", \"Topic7\", \"Topic7\", \"Topic7\", \"Topic7\", \"Topic7\", \"Topic7\", \"Topic7\", \"Topic7\", \"Topic7\", \"Topic7\", \"Topic7\", \"Topic7\", \"Topic7\", \"Topic7\", \"Topic7\", \"Topic7\", \"Topic7\", \"Topic7\", \"Topic7\", \"Topic7\", \"Topic7\", \"Topic7\", \"Topic7\", \"Topic7\", \"Topic7\", \"Topic7\", \"Topic7\", \"Topic7\", \"Topic7\", \"Topic7\", \"Topic7\", \"Topic7\", \"Topic7\", \"Topic7\", \"Topic8\", \"Topic8\", \"Topic8\", \"Topic8\", \"Topic8\", \"Topic8\", \"Topic8\", \"Topic8\", \"Topic8\", \"Topic8\", \"Topic8\", \"Topic8\", \"Topic8\", \"Topic8\", \"Topic8\", \"Topic8\", \"Topic8\", \"Topic8\", \"Topic8\", \"Topic8\", \"Topic8\", \"Topic8\", \"Topic8\", \"Topic8\", \"Topic8\", \"Topic8\", \"Topic8\", \"Topic8\", \"Topic8\", \"Topic8\", \"Topic8\", \"Topic8\", \"Topic8\", \"Topic8\", \"Topic8\", \"Topic8\", \"Topic8\", \"Topic8\", \"Topic8\", \"Topic8\", \"Topic8\", \"Topic8\", \"Topic8\", \"Topic8\", \"Topic8\", \"Topic8\", \"Topic8\", \"Topic8\", \"Topic8\", \"Topic8\", \"Topic8\", \"Topic8\", \"Topic8\", \"Topic8\", \"Topic9\", \"Topic9\", \"Topic9\", \"Topic9\", \"Topic9\", \"Topic9\", \"Topic9\", \"Topic9\", \"Topic9\", \"Topic9\", \"Topic9\", \"Topic9\", \"Topic9\", \"Topic9\", \"Topic9\", \"Topic9\", \"Topic9\", \"Topic9\", \"Topic9\", \"Topic9\", \"Topic9\", \"Topic9\", \"Topic9\", \"Topic9\", \"Topic9\", \"Topic9\", \"Topic9\", \"Topic9\", \"Topic9\", \"Topic9\", \"Topic9\", \"Topic9\", \"Topic9\", \"Topic9\", \"Topic9\", \"Topic9\", \"Topic9\", \"Topic9\", \"Topic9\", \"Topic9\", \"Topic9\", \"Topic9\", \"Topic9\", \"Topic9\", \"Topic9\", \"Topic9\", \"Topic9\", \"Topic9\", \"Topic9\", \"Topic9\", \"Topic9\", \"Topic10\", \"Topic10\", \"Topic10\", \"Topic10\", \"Topic10\", \"Topic10\", \"Topic10\", \"Topic10\", \"Topic10\", \"Topic10\", \"Topic10\", \"Topic10\", \"Topic10\", \"Topic10\", \"Topic10\", \"Topic10\", \"Topic10\", \"Topic10\", \"Topic10\", \"Topic10\", \"Topic10\", \"Topic10\", \"Topic10\", \"Topic10\", \"Topic10\", \"Topic10\", \"Topic10\", \"Topic10\", \"Topic10\", \"Topic10\", \"Topic10\", \"Topic10\", \"Topic10\", \"Topic10\", \"Topic10\", \"Topic10\", \"Topic10\", \"Topic10\", \"Topic10\", \"Topic10\", \"Topic10\", \"Topic10\", \"Topic10\", \"Topic10\", \"Topic10\", \"Topic10\", \"Topic10\", \"Topic10\", \"Topic10\", \"Topic11\", \"Topic11\", \"Topic11\", \"Topic11\", \"Topic11\", \"Topic11\", \"Topic11\", \"Topic11\", \"Topic11\", \"Topic11\", \"Topic11\", \"Topic11\", \"Topic11\", \"Topic11\", \"Topic11\", \"Topic11\", \"Topic11\", \"Topic11\", \"Topic11\", \"Topic11\", \"Topic11\", \"Topic11\", \"Topic11\", \"Topic11\", \"Topic11\", \"Topic11\", \"Topic11\", \"Topic11\", \"Topic11\", \"Topic11\", \"Topic11\", \"Topic11\", \"Topic11\", \"Topic11\", \"Topic11\", \"Topic11\", \"Topic11\", \"Topic11\", \"Topic11\", \"Topic11\", \"Topic11\", \"Topic11\", \"Topic11\", \"Topic11\", \"Topic11\", \"Topic11\", \"Topic11\", \"Topic11\", \"Topic11\", \"Topic12\", \"Topic12\", \"Topic12\", \"Topic12\", \"Topic12\", \"Topic12\", \"Topic12\", \"Topic12\", \"Topic12\", \"Topic12\", \"Topic12\", \"Topic12\", \"Topic12\", \"Topic12\", \"Topic12\", \"Topic12\", \"Topic12\", \"Topic12\", \"Topic12\", \"Topic12\", \"Topic12\", \"Topic12\", \"Topic12\", \"Topic12\", \"Topic12\", \"Topic12\", \"Topic12\", \"Topic12\", \"Topic12\", \"Topic12\", \"Topic12\", \"Topic12\", \"Topic12\", \"Topic12\", \"Topic12\", \"Topic12\", \"Topic12\", \"Topic12\", \"Topic12\", \"Topic12\", \"Topic12\", \"Topic12\", \"Topic12\", \"Topic12\", \"Topic12\", \"Topic13\", \"Topic13\", \"Topic13\", \"Topic13\", \"Topic13\", \"Topic13\", \"Topic13\", \"Topic13\", \"Topic13\", \"Topic13\", \"Topic13\", \"Topic13\", \"Topic13\", \"Topic13\", \"Topic13\", \"Topic13\", \"Topic13\", \"Topic13\", \"Topic13\", \"Topic13\", \"Topic13\", \"Topic13\", \"Topic13\", \"Topic13\", \"Topic13\", \"Topic13\", \"Topic13\", \"Topic13\", \"Topic13\", \"Topic13\", \"Topic13\", \"Topic13\", \"Topic13\", \"Topic13\", \"Topic13\", \"Topic13\", \"Topic13\", \"Topic13\", \"Topic13\", \"Topic13\", \"Topic13\", \"Topic13\", \"Topic13\", \"Topic13\", \"Topic13\", \"Topic13\", \"Topic13\", \"Topic13\", \"Topic13\", \"Topic13\", \"Topic13\", \"Topic13\", \"Topic13\", \"Topic14\", \"Topic14\", \"Topic14\", \"Topic14\", \"Topic14\", \"Topic14\", \"Topic14\", \"Topic14\", \"Topic14\", \"Topic14\", \"Topic14\", \"Topic14\", \"Topic14\", \"Topic14\", \"Topic14\", \"Topic14\", \"Topic14\", \"Topic14\", \"Topic14\", \"Topic14\", \"Topic14\", \"Topic14\", \"Topic14\", \"Topic14\", \"Topic14\", \"Topic14\", \"Topic14\", \"Topic14\", \"Topic14\", \"Topic14\", \"Topic14\", \"Topic14\", \"Topic14\", \"Topic14\", \"Topic14\", \"Topic14\", \"Topic14\", \"Topic14\", \"Topic14\", \"Topic14\", \"Topic14\", \"Topic14\", \"Topic14\", \"Topic14\", \"Topic14\", \"Topic14\", \"Topic14\", \"Topic14\", \"Topic14\", \"Topic14\", \"Topic14\", \"Topic14\", \"Topic15\", \"Topic15\", \"Topic15\", \"Topic15\", \"Topic15\", \"Topic15\", \"Topic15\", \"Topic15\", \"Topic15\", \"Topic15\", \"Topic15\", \"Topic15\", \"Topic15\", \"Topic15\", \"Topic15\", \"Topic15\", \"Topic15\", \"Topic15\", \"Topic15\", \"Topic15\", \"Topic15\", \"Topic15\", \"Topic15\", \"Topic15\", \"Topic15\", \"Topic15\", \"Topic15\", \"Topic15\", \"Topic15\", \"Topic15\", \"Topic15\", \"Topic15\", \"Topic15\", \"Topic15\", \"Topic15\", \"Topic15\", \"Topic15\", \"Topic15\", \"Topic15\", \"Topic15\", \"Topic15\", \"Topic15\", \"Topic15\", \"Topic15\", \"Topic15\", \"Topic15\", \"Topic15\", \"Topic15\", \"Topic15\", \"Topic15\", \"Topic15\", \"Topic15\", \"Topic15\", \"Topic15\", \"Topic15\", \"Topic16\", \"Topic16\", \"Topic16\", \"Topic16\", \"Topic16\", \"Topic16\", \"Topic16\", \"Topic16\", \"Topic16\", \"Topic16\", \"Topic16\", \"Topic16\", \"Topic16\", \"Topic16\", \"Topic16\", \"Topic16\", \"Topic16\", \"Topic16\", \"Topic16\", \"Topic16\", \"Topic16\", \"Topic16\", \"Topic16\", \"Topic16\", \"Topic16\", \"Topic16\", \"Topic16\", \"Topic16\", \"Topic16\", \"Topic16\", \"Topic16\", \"Topic16\", \"Topic16\", \"Topic16\", \"Topic16\", \"Topic16\", \"Topic16\", \"Topic16\", \"Topic16\", \"Topic16\", \"Topic16\", \"Topic16\", \"Topic16\", \"Topic16\", \"Topic16\", \"Topic16\", \"Topic16\", \"Topic16\", \"Topic16\", \"Topic16\", \"Topic16\", \"Topic17\", \"Topic17\", \"Topic17\", \"Topic17\", \"Topic17\", \"Topic17\", \"Topic17\", \"Topic17\", \"Topic17\", \"Topic17\", \"Topic17\", \"Topic17\", \"Topic17\", \"Topic17\", \"Topic17\", \"Topic17\", \"Topic17\", \"Topic17\", \"Topic17\", \"Topic17\", \"Topic17\", \"Topic17\", \"Topic17\", \"Topic17\", \"Topic17\", \"Topic17\", \"Topic17\", \"Topic17\", \"Topic17\", \"Topic17\", \"Topic17\", \"Topic17\", \"Topic17\", \"Topic17\", \"Topic17\", \"Topic17\", \"Topic17\", \"Topic17\", \"Topic17\", \"Topic17\", \"Topic17\", \"Topic17\", \"Topic17\", \"Topic17\", \"Topic17\", \"Topic17\", \"Topic17\", \"Topic18\", \"Topic18\", \"Topic18\", \"Topic18\", \"Topic18\", \"Topic18\", \"Topic18\", \"Topic18\", \"Topic18\", \"Topic18\", \"Topic18\", \"Topic18\", \"Topic18\", \"Topic18\", \"Topic18\", \"Topic18\", \"Topic18\", \"Topic18\", \"Topic18\", \"Topic18\", \"Topic18\", \"Topic18\", \"Topic18\", \"Topic18\", \"Topic18\", \"Topic18\", \"Topic18\", \"Topic18\", \"Topic18\", \"Topic18\", \"Topic18\", \"Topic18\", \"Topic18\", \"Topic18\", \"Topic18\", \"Topic18\", \"Topic18\", \"Topic18\", \"Topic18\", \"Topic18\", \"Topic18\", \"Topic18\", \"Topic18\", \"Topic18\", \"Topic18\", \"Topic18\", \"Topic19\", \"Topic19\", \"Topic19\", \"Topic19\", \"Topic19\", \"Topic19\", \"Topic19\", \"Topic19\", \"Topic19\", \"Topic19\", \"Topic19\", \"Topic19\", \"Topic19\", \"Topic19\", \"Topic19\", \"Topic19\", \"Topic19\", \"Topic19\", \"Topic19\", \"Topic19\", \"Topic19\", \"Topic19\", \"Topic19\", \"Topic19\", \"Topic19\", \"Topic19\", \"Topic19\", \"Topic19\", \"Topic19\", \"Topic19\", \"Topic19\", \"Topic19\", \"Topic19\", \"Topic19\", \"Topic19\", \"Topic19\", \"Topic19\", \"Topic19\", \"Topic19\", \"Topic19\", \"Topic19\", \"Topic19\", \"Topic19\", \"Topic19\", \"Topic19\", \"Topic19\", \"Topic19\", \"Topic19\", \"Topic19\", \"Topic20\", \"Topic20\", \"Topic20\", \"Topic20\", \"Topic20\", \"Topic20\", \"Topic20\", \"Topic20\", \"Topic20\", \"Topic20\", \"Topic20\", \"Topic20\", \"Topic20\", \"Topic20\", \"Topic20\", \"Topic20\", \"Topic20\", \"Topic20\", \"Topic20\", \"Topic20\", \"Topic20\", \"Topic20\", \"Topic20\", \"Topic20\", \"Topic20\", \"Topic20\", \"Topic20\", \"Topic20\", \"Topic20\", \"Topic20\", \"Topic20\", \"Topic20\", \"Topic20\", \"Topic20\", \"Topic20\", \"Topic20\", \"Topic20\", \"Topic20\", \"Topic20\", \"Topic20\", \"Topic20\", \"Topic20\", \"Topic20\", \"Topic20\", \"Topic20\", \"Topic20\", \"Topic20\", \"Topic20\", \"Topic20\", \"Topic20\", \"Topic20\", \"Topic20\", \"Topic20\", \"Topic20\", \"Topic21\", \"Topic21\", \"Topic21\", \"Topic21\", \"Topic21\", \"Topic21\", \"Topic21\", \"Topic21\", \"Topic21\", \"Topic21\", \"Topic21\", \"Topic21\", \"Topic21\", \"Topic21\", \"Topic21\", \"Topic21\", \"Topic21\", \"Topic21\", \"Topic21\", \"Topic21\", \"Topic21\", \"Topic21\", \"Topic21\", \"Topic21\", \"Topic21\", \"Topic21\", \"Topic21\", \"Topic21\", \"Topic21\", \"Topic21\", \"Topic21\", \"Topic21\", \"Topic21\", \"Topic21\", \"Topic21\", \"Topic21\", \"Topic21\", \"Topic21\", \"Topic21\", \"Topic21\", \"Topic21\", \"Topic21\", \"Topic21\", \"Topic21\", \"Topic21\", \"Topic21\", \"Topic21\", \"Topic21\", \"Topic21\", \"Topic22\", \"Topic22\", \"Topic22\", \"Topic22\", \"Topic22\", \"Topic22\", \"Topic22\", \"Topic22\", \"Topic22\", \"Topic22\", \"Topic22\", \"Topic22\", \"Topic22\", \"Topic22\", \"Topic22\", \"Topic22\", \"Topic22\", \"Topic22\", \"Topic22\", \"Topic22\", \"Topic22\", \"Topic22\", \"Topic22\", \"Topic22\", \"Topic22\", \"Topic22\", \"Topic22\", \"Topic22\", \"Topic22\", \"Topic22\", \"Topic22\", \"Topic22\", \"Topic22\", \"Topic22\", \"Topic22\", \"Topic22\", \"Topic22\", \"Topic22\", \"Topic22\", \"Topic22\", \"Topic22\", \"Topic22\", \"Topic22\", \"Topic22\", \"Topic23\", \"Topic23\", \"Topic23\", \"Topic23\", \"Topic23\", \"Topic23\", \"Topic23\", \"Topic23\", \"Topic23\", \"Topic23\", \"Topic23\", \"Topic23\", \"Topic23\", \"Topic23\", \"Topic23\", \"Topic23\", \"Topic23\", \"Topic23\", \"Topic23\", \"Topic23\", \"Topic23\", \"Topic23\", \"Topic23\", \"Topic23\", \"Topic23\", \"Topic23\", \"Topic23\", \"Topic23\", \"Topic23\", \"Topic23\", \"Topic23\", \"Topic23\", \"Topic23\", \"Topic23\", \"Topic23\", \"Topic23\", \"Topic23\", \"Topic23\", \"Topic23\", \"Topic23\", \"Topic23\", \"Topic23\", \"Topic23\", \"Topic23\", \"Topic23\", \"Topic23\", \"Topic23\", \"Topic24\", \"Topic24\", \"Topic24\", \"Topic24\", \"Topic24\", \"Topic24\", \"Topic24\", \"Topic24\", \"Topic24\", \"Topic24\", \"Topic24\", \"Topic24\", \"Topic24\", \"Topic24\", \"Topic24\", \"Topic24\", \"Topic24\", \"Topic24\", \"Topic24\", \"Topic24\", \"Topic24\", \"Topic24\", \"Topic24\", \"Topic24\", \"Topic24\", \"Topic24\", \"Topic24\", \"Topic24\", \"Topic24\", \"Topic24\", \"Topic24\", \"Topic24\", \"Topic24\", \"Topic24\", \"Topic24\", \"Topic24\", \"Topic24\", \"Topic24\", \"Topic24\", \"Topic24\", \"Topic24\", \"Topic24\", \"Topic24\", \"Topic25\", \"Topic25\", \"Topic25\", \"Topic25\", \"Topic25\", \"Topic25\", \"Topic25\", \"Topic25\", \"Topic25\", \"Topic25\", \"Topic25\", \"Topic25\", \"Topic25\", \"Topic25\", \"Topic25\", \"Topic25\", \"Topic25\", \"Topic25\", \"Topic25\", \"Topic25\", \"Topic25\", \"Topic25\", \"Topic25\", \"Topic25\", \"Topic25\", \"Topic25\", \"Topic25\", \"Topic25\", \"Topic25\", \"Topic25\", \"Topic25\", \"Topic25\", \"Topic25\", \"Topic25\", \"Topic25\", \"Topic25\", \"Topic25\", \"Topic25\", \"Topic25\"], \"logprob\": [30.0, 29.0, 28.0, 27.0, 26.0, 25.0, 24.0, 23.0, 22.0, 21.0, 20.0, 19.0, 18.0, 17.0, 16.0, 15.0, 14.0, 13.0, 12.0, 11.0, 10.0, 9.0, 8.0, 7.0, 6.0, 5.0, 4.0, 3.0, 2.0, 1.0, -1.7218, -1.9085, -1.9798, -2.4754, -2.7374, -3.4784, -4.2798, -5.0785, -8.575, -8.575, -8.575, -8.575, -8.575, -8.575, -8.575, -8.575, -8.575, -8.575, -8.575, -8.575, -8.575, -8.575, -8.575, -8.575, -8.575, -8.575, -8.575, -8.575, -8.575, -8.575, -8.575, -8.575, -8.575, -8.575, -8.575, -8.575, -8.575, -8.575, -8.575, -8.575, -8.575, -8.575, -8.575, -8.575, -8.575, -8.575, -1.8169, -1.8667, -1.9601, -3.1293, -3.1423, -3.2487, -3.3734, -3.3789, -4.9094, -8.5583, -8.5583, -8.5583, -8.5583, -8.5583, -8.5583, -8.5583, -8.5583, -8.5583, -8.5583, -8.5583, -8.5583, -8.5583, -8.5583, -8.5583, -8.5583, -8.5583, -8.5583, -8.5583, -8.5583, -8.5583, -8.5583, -8.5583, -8.5583, -8.5583, -8.5583, -8.5583, -8.5583, -8.5583, -8.5583, -8.5583, -8.5583, -8.5583, -8.5583, -8.5583, -8.5583, -8.5583, -8.5583, -8.5583, -8.5583, -8.5583, -8.5583, -8.5583, -8.5583, -8.5583, -8.5583, -8.5583, -8.5583, -8.5583, -1.5603, -2.156, -2.3954, -2.7463, -2.9392, -2.9694, -4.9541, -8.3798, -8.3798, -8.3798, -8.3798, -8.3798, -8.3798, -8.3798, -8.3798, -8.3798, -8.3798, -8.3798, -8.3798, -8.3798, -8.3798, -8.3798, -8.3798, -8.3798, -8.3798, -8.3798, -8.3798, -8.3798, -8.3798, -8.3798, -8.3798, -8.3798, -8.3798, -8.3798, -8.3798, -8.3798, -8.3798, -8.3798, -8.3798, -8.3798, -8.3798, -8.3798, -8.3798, -8.3798, -8.3798, -1.4787, -1.7206, -2.8167, -3.1431, -3.4665, -3.599, -3.6157, -3.7365, -4.3384, -8.4813, -8.4813, -8.4813, -8.4813, -8.4813, -8.4813, -8.4813, -8.4813, -8.4813, -8.4813, -8.4813, -8.4813, -8.4813, -8.4813, -8.4813, -8.4813, -8.4813, -8.4813, -8.4813, -8.4813, -8.4813, -8.4813, -8.4813, -8.4813, -8.4813, -8.4813, -8.4813, -8.4813, -8.4813, -8.4813, -8.4813, -8.4813, -8.4813, -8.4813, -8.4813, -8.4813, -8.4813, -8.4813, -8.4813, -8.4813, -8.4813, -8.4813, -8.4813, -0.9928, -1.9918, -2.3305, -8.4113, -8.4113, -8.4113, -8.4113, -8.4113, -8.4113, -8.4113, -8.4113, -8.4113, -8.4113, -8.4113, -8.4113, -8.4113, -8.4113, -8.4113, -8.4113, -8.4113, -8.4113, -8.4113, -8.4113, -8.4113, -8.4113, -8.4113, -8.4113, -8.4113, -8.4113, -8.4113, -8.4113, -8.4113, -8.4113, -8.4113, -8.4113, -8.4113, -8.4113, -8.4113, -8.4113, -8.4113, -8.4113, -8.4113, -8.4113, -8.4113, -8.4113, -8.4113, -8.4113, -8.4113, -8.4113, -8.4113, -1.1445, -2.3476, -2.8874, -3.6019, -3.6942, -3.9934, -4.0647, -8.2973, -8.2973, -8.2973, -8.2973, -8.2973, -8.2973, -8.2973, -8.2973, -8.2973, -8.2973, -8.2973, -8.2973, -8.2973, -8.2973, -8.2973, -8.2973, -8.2973, -8.2973, -8.2973, -8.2973, -8.2973, -8.2973, -8.2973, -8.2973, -8.2973, -8.2973, -8.2973, -8.2973, -8.2973, -8.2973, -8.2973, -8.2973, -8.2973, -8.2973, -8.2973, -8.2973, -8.2973, -8.2973, -8.2973, -8.2973, -1.3745, -2.0698, -2.9394, -3.3955, -3.4314, -3.9049, -4.4587, -5.1233, -8.2486, -8.2486, -8.2486, -8.2486, -8.2486, -8.2486, -8.2486, -8.2486, -8.2486, -8.2486, -8.2486, -8.2486, -8.2486, -8.2486, -8.2486, -8.2486, -8.2486, -8.2486, -8.2486, -8.2486, -8.2486, -8.2486, -8.2486, -8.2486, -8.2486, -8.2486, -8.2486, -8.2486, -8.2486, -1.2557, -2.2935, -2.401, -3.5956, -3.874, -8.2269, -8.2269, -8.2269, -8.2269, -8.2269, -8.2269, -8.2269, -8.2269, -8.2269, -8.2269, -8.2269, -8.2269, -8.2269, -8.2269, -8.2269, -8.2269, -8.2269, -8.2269, -8.2269, -8.2269, -8.2269, -8.2269, -8.2269, -8.2269, -8.2269, -8.2269, -8.2269, -8.2269, -8.2269, -8.2269, -8.2269, -8.2269, -8.2269, -8.2269, -8.2269, -8.2269, -8.2269, -8.2269, -8.2269, -8.2269, -8.2269, -8.2269, -8.2269, -8.2269, -8.2269, -8.2269, -8.2269, -8.2269, -8.2269, -2.0823, -2.2978, -2.411, -2.4284, -2.7894, -8.1078, -8.1078, -8.1078, -8.1078, -8.1078, -8.1078, -8.1078, -8.1078, -8.1078, -8.1078, -8.1078, -8.1078, -8.1078, -8.1078, -8.1078, -8.1078, -8.1078, -8.1078, -8.1078, -8.1078, -8.1078, -8.1078, -8.1078, -8.1078, -8.1078, -8.1078, -8.1078, -8.1078, -8.1078, -8.1078, -8.1078, -8.1078, -8.1078, -8.1078, -8.1078, -8.1078, -8.1078, -8.1078, -8.1078, -8.1078, -8.1078, -8.1078, -8.1078, -8.1078, -8.1078, -8.1078, -1.462, -2.1978, -2.3495, -3.1822, -3.6765, -8.1865, -8.1865, -8.1865, -8.1865, -8.1865, -8.1865, -8.1865, -8.1865, -8.1865, -8.1865, -8.1865, -8.1865, -8.1865, -8.1865, -8.1865, -8.1865, -8.1865, -8.1865, -8.1865, -8.1865, -8.1865, -8.1865, -8.1865, -8.1865, -8.1865, -8.1865, -8.1865, -8.1865, -8.1865, -8.1865, -8.1865, -8.1865, -8.1865, -8.1865, -8.1865, -8.1865, -8.1865, -8.1865, -8.1865, -8.1865, -8.1865, -8.1865, -8.1865, -8.1865, -1.0305, -2.4462, -2.9205, -3.0972, -8.2659, -8.2659, -8.2659, -8.2659, -8.2659, -8.2659, -8.2659, -8.2659, -8.2659, -8.2659, -8.2659, -8.2659, -8.2659, -8.2659, -8.2659, -8.2659, -8.2659, -8.2659, -8.2659, -8.2659, -8.2659, -8.2659, -8.2659, -8.2659, -8.2659, -8.2659, -8.2659, -8.2659, -8.2659, -8.2659, -8.2659, -8.2659, -8.2659, -8.2659, -8.2659, -8.2659, -8.2659, -8.2659, -8.2659, -8.2659, -8.2659, -8.2659, -8.2659, -8.2659, -8.2659, -1.601, -1.8313, -2.1098, -3.1769, -8.228, -8.228, -8.228, -8.228, -8.228, -8.228, -8.228, -8.228, -8.228, -8.228, -8.228, -8.228, -8.228, -8.228, -8.228, -8.228, -8.228, -8.228, -8.228, -8.228, -8.228, -8.228, -8.228, -8.228, -8.228, -8.228, -8.228, -8.228, -8.228, -8.228, -8.228, -8.228, -8.228, -8.228, -8.228, -8.228, -8.228, -8.228, -8.228, -8.228, -8.228, -0.9771, -1.9374, -8.2199, -8.2199, -8.2199, -8.2199, -8.2199, -8.2199, -8.2199, -8.2199, -8.2199, -8.2199, -8.2199, -8.2199, -8.2199, -8.2199, -8.2199, -8.2199, -8.2199, -8.2199, -8.2199, -8.2199, -8.2199, -8.2199, -8.2199, -8.2199, -8.2199, -8.2199, -8.2199, -8.2199, -8.2199, -8.2199, -8.2199, -8.2199, -8.2199, -8.2199, -8.2199, -8.2199, -8.2199, -8.2199, -8.2199, -8.2199, -8.2199, -8.2199, -8.2199, -8.2199, -8.2199, -8.2199, -8.2199, -8.2199, -8.2199, -8.2199, -8.2199, -1.4518, -1.6857, -3.4578, -8.0839, -8.0839, -8.0839, -8.0839, -8.0839, -8.0839, -8.0839, -8.0839, -8.0839, -8.0839, -8.0839, -8.0839, -8.0839, -8.0839, -8.0839, -8.0839, -8.0839, -8.0839, -8.0839, -8.0839, -8.0839, -8.0839, -8.0839, -8.0839, -8.0839, -8.0839, -8.0839, -8.0839, -8.0839, -8.0839, -8.0839, -8.0839, -8.0839, -8.0839, -8.0839, -8.0839, -8.0839, -8.0839, -8.0839, -8.0839, -8.0839, -8.0839, -8.0839, -8.0839, -8.0839, -8.0839, -8.0839, -8.0839, -8.0839, -1.0911, -2.0216, -3.3446, -4.076, -8.2189, -8.2189, -8.2189, -8.2189, -8.2189, -8.2189, -8.2189, -8.2189, -8.2189, -8.2189, -8.2189, -8.2189, -8.2189, -8.2189, -8.2189, -8.2189, -8.2189, -8.2189, -8.2189, -8.2189, -8.2189, -8.2189, -8.2189, -8.2189, -8.2189, -8.2189, -8.2189, -8.2189, -8.2189, -8.2189, -8.2189, -8.2189, -8.2189, -8.2189, -8.2189, -8.2189, -8.2189, -8.2189, -8.2189, -8.2189, -8.2189, -8.2189, -8.2189, -8.2189, -8.2189, -8.2189, -8.2189, -8.2189, -8.2189, -8.2189, -8.2189, -1.872, -2.1269, -2.5203, -3.1893, -3.4953, -3.8456, -4.1291, -8.1029, -8.1029, -8.1029, -8.1029, -8.1029, -8.1029, -8.1029, -8.1029, -8.1029, -8.1029, -8.1029, -8.1029, -8.1029, -8.1029, -8.1029, -8.1029, -8.1029, -8.1029, -8.1029, -8.1029, -8.1029, -8.1029, -8.1029, -8.1029, -8.1029, -8.1029, -8.1029, -8.1029, -8.1029, -8.1029, -8.1029, -8.1029, -8.1029, -8.1029, -8.1029, -8.1029, -8.1029, -8.1029, -8.1029, -8.1029, -8.1029, -8.1029, -8.1029, -8.1029, -1.3646, -2.5338, -2.7736, -2.916, -3.5524, -8.1373, -8.1373, -8.1373, -8.1373, -8.1374, -8.1373, -8.1374, -8.1374, -8.1373, -8.1373, -8.1373, -8.1374, -8.1374, -8.1373, -8.1373, -8.1374, -8.1374, -8.1374, -8.1374, -8.1373, -8.1374, -8.1374, -8.1374, -8.1374, -8.1374, -8.1373, -8.1373, -8.1373, -8.1373, -8.1373, -8.1373, -8.1373, -8.1373, -8.1373, -8.1373, -8.1373, -8.1373, -8.1373, -8.1373, -8.1373, -8.1373, -8.1373, -1.7753, -2.5259, -3.1872, -3.4434, -3.603, -3.675, -3.7036, -4.3255, -4.9013, -8.0267, -8.0267, -8.0267, -8.0267, -8.0267, -8.0267, -8.0267, -8.0267, -8.0267, -8.0267, -8.0267, -8.0267, -8.0267, -8.0267, -8.0267, -8.0267, -8.0267, -8.0267, -8.0267, -8.0267, -8.0267, -8.0267, -8.0267, -8.0267, -8.0267, -8.0267, -8.0267, -8.0267, -8.0267, -8.0267, -8.0267, -8.0267, -8.0267, -8.0267, -8.0267, -8.0267, -8.0267, -1.22, -2.736, -2.8405, -2.8783, -8.1275, -8.1275, -8.1275, -8.1275, -8.1275, -8.1275, -8.1275, -8.1275, -8.1275, -8.1275, -8.1275, -8.1275, -8.1275, -8.1275, -8.1275, -8.1275, -8.1275, -8.1275, -8.1275, -8.1275, -8.1275, -8.1275, -8.1275, -8.1275, -8.1275, -8.1275, -8.1275, -8.1275, -8.1275, -8.1275, -8.1275, -8.1275, -8.1275, -8.1275, -8.1275, -8.1275, -8.1275, -8.1275, -8.1275, -8.1275, -8.1275, -8.1275, -8.1275, -8.1275, -8.1275, -1.8581, -1.8795, -2.6618, -2.7613, -2.8021, -2.9911, -8.287, -8.287, -8.287, -8.287, -8.287, -8.287, -8.287, -8.287, -8.287, -8.287, -8.287, -8.287, -8.287, -8.287, -8.287, -8.287, -8.287, -8.287, -8.287, -8.287, -8.287, -8.287, -8.287, -8.287, -8.287, -8.287, -8.287, -8.287, -8.287, -8.287, -8.287, -8.287, -8.287, -8.287, -8.287, -8.287, -8.287, -8.287, -8.287, -8.287, -8.287, -8.287, -8.287, -8.287, -8.287, -8.287, -8.287, -8.287, -1.5886, -2.0827, -3.2058, -3.5463, -7.9916, -7.9916, -7.9916, -7.9916, -7.9916, -7.9916, -7.9916, -7.9916, -7.9916, -7.9916, -7.9916, -7.9916, -7.9916, -7.9916, -7.9916, -7.9916, -7.9916, -7.9916, -7.9916, -7.9916, -7.9916, -7.9916, -7.9916, -7.9916, -7.9916, -7.9916, -7.9916, -7.9916, -7.9916, -7.9916, -7.9916, -7.9916, -7.9916, -7.9916, -7.9916, -7.9916, -7.9916, -7.9916, -7.9916, -7.9916, -7.9916, -7.9916, -7.9916, -7.9916, -7.9916, -1.9863, -2.2913, -2.6459, -3.1647, -3.3003, -4.3364, -7.9959, -7.9959, -7.996, -7.9959, -7.996, -7.996, -7.996, -7.996, -7.9959, -7.996, -7.996, -7.996, -7.996, -7.996, -7.996, -7.996, -7.996, -7.996, -7.996, -7.996, -7.996, -7.996, -7.9959, -7.996, -7.9959, -7.9959, -7.9959, -7.9959, -7.996, -7.996, -7.996, -7.996, -7.9959, -7.996, -7.996, -7.996, -7.996, -7.996, -2.352, -2.4166, -2.9501, -3.3215, -3.5199, -3.8676, -7.8733, -7.8733, -7.8733, -7.8733, -7.8733, -7.8733, -7.8733, -7.8733, -7.8733, -7.8733, -7.8733, -7.8733, -7.8733, -7.8733, -7.8733, -7.8733, -7.8733, -7.8733, -7.8733, -7.8733, -7.8733, -7.8733, -7.8733, -7.8733, -7.8733, -7.8733, -7.8733, -7.8733, -7.8733, -7.8733, -7.8733, -7.8733, -7.8733, -7.8733, -7.8733, -7.8733, -7.8733, -7.8733, -7.8733, -7.8733, -7.8733, -2.2441, -2.4878, -2.9662, -3.0552, -4.4121, -7.8397, -7.8397, -7.8397, -7.8397, -7.8397, -7.8397, -7.8397, -7.8397, -7.8397, -7.8397, -7.8397, -7.8397, -7.8397, -7.8397, -7.8397, -7.8397, -7.8397, -7.8397, -7.8397, -7.8397, -7.8397, -7.8397, -7.8397, -7.8397, -7.8397, -7.8397, -7.8397, -7.8397, -7.8397, -7.8397, -7.8397, -7.8397, -7.8397, -7.8397, -7.8397, -7.8397, -7.8397, -7.8397, -2.0837, -2.9812, -3.3477, -7.7206, -7.7206, -7.7206, -7.7206, -7.7206, -7.7206, -7.7206, -7.7206, -7.7206, -7.7206, -7.7206, -7.7206, -7.7206, -7.7206, -7.7206, -7.7206, -7.7206, -7.7206, -7.7206, -7.7206, -7.7206, -7.7206, -7.7206, -7.7206, -7.7206, -7.7206, -7.7206, -7.7206, -7.7206, -7.7206, -7.7206, -7.7206, -7.7206, -7.7206, -7.7206, -7.7206], \"loglift\": [30.0, 29.0, 28.0, 27.0, 26.0, 25.0, 24.0, 23.0, 22.0, 21.0, 20.0, 19.0, 18.0, 17.0, 16.0, 15.0, 14.0, 13.0, 12.0, 11.0, 10.0, 9.0, 8.0, 7.0, 6.0, 5.0, 4.0, 3.0, 2.0, 1.0, 3.1175, 3.1104, 3.1074, 3.0792, 3.0581, 2.9633, 2.7709, 2.4429, -0.406, -0.406, -0.406, -0.406, -0.406, -0.406, -0.406, -0.406, -0.406, -0.406, -0.406, -0.406, -0.406, -0.406, -0.406, -0.406, -0.406, -0.406, -0.406, -0.406, -0.406, -0.406, -0.406, -0.406, -0.406, -0.406, -0.406, -0.406, -0.406, -0.406, -0.406, -0.406, -0.406, -0.406, -0.406, -0.406, -0.406, -0.406, 3.1217, 3.1197, 3.1158, 3.0225, 3.0208, 3.0062, 2.9874, 2.9865, 2.5296, -0.3893, -0.3893, -0.3893, -0.3893, -0.3893, -0.3893, -0.3893, -0.3894, -0.3894, -0.3894, -0.3894, -0.3894, -0.3894, -0.3894, -0.3894, -0.3894, -0.3894, -0.3894, -0.3894, -0.3894, -0.3894, -0.3894, -0.3894, -0.3894, -0.3894, -0.3894, -0.3894, -0.3894, -0.3894, -0.3894, -0.3894, -0.3894, -0.3894, -0.3894, -0.3894, -0.3894, -0.3894, -0.3894, -0.3894, -0.3894, -0.3894, -0.3894, -0.3894, -0.3894, -0.3894, -0.3894, -0.3894, -0.3894, -0.3894, 3.1383, 3.1142, 3.0999, 3.0723, 3.0529, 3.0495, 2.5152, -0.2108, -0.2108, -0.2108, -0.2108, -0.2108, -0.2108, -0.2108, -0.2108, -0.2108, -0.2108, -0.2108, -0.2108, -0.2108, -0.2108, -0.2108, -0.2108, -0.2108, -0.2108, -0.2108, -0.2108, -0.2108, -0.2108, -0.2108, -0.2108, -0.2108, -0.2108, -0.2108, -0.2108, -0.2108, -0.2108, -0.2108, -0.2108, -0.2108, -0.2108, -0.2108, -0.2108, -0.2108, -0.2108, 3.1457, 3.138, 3.0699, 3.0324, 2.9832, 2.9589, 2.9557, 2.9308, 2.7667, -0.3123, -0.3123, -0.3123, -0.3123, -0.3123, -0.3123, -0.3123, -0.3123, -0.3123, -0.3123, -0.3123, -0.3123, -0.3123, -0.3123, -0.3123, -0.3123, -0.3123, -0.3123, -0.3123, -0.3123, -0.3123, -0.3123, -0.3123, -0.3123, -0.3123, -0.3123, -0.3123, -0.3123, -0.3123, -0.3123, -0.3123, -0.3123, -0.3123, -0.3123, -0.3123, -0.3123, -0.3123, -0.3123, -0.3123, -0.3123, -0.3123, -0.3123, -0.3123, 3.1606, 3.1311, 3.1127, -0.2423, -0.2423, -0.2423, -0.2423, -0.2423, -0.2423, -0.2423, -0.2423, -0.2423, -0.2423, -0.2423, -0.2423, -0.2423, -0.2423, -0.2423, -0.2423, -0.2423, -0.2423, -0.2423, -0.2423, -0.2423, -0.2423, -0.2423, -0.2423, -0.2423, -0.2423, -0.2423, -0.2423, -0.2423, -0.2423, -0.2423, -0.2423, -0.2423, -0.2423, -0.2423, -0.2423, -0.2423, -0.2423, -0.2423, -0.2423, -0.2423, -0.2423, -0.2423, -0.2423, -0.2423, -0.2423, -0.2423, 3.1653, 3.119, 3.0738, 2.969, 2.9503, 2.8797, 2.8604, -0.1284, -0.1284, -0.1284, -0.1284, -0.1284, -0.1284, -0.1284, -0.1284, -0.1284, -0.1284, -0.1284, -0.1284, -0.1284, -0.1284, -0.1284, -0.1284, -0.1284, -0.1284, -0.1284, -0.1284, -0.1284, -0.1284, -0.1284, -0.1284, -0.1284, -0.1284, -0.1284, -0.1284, -0.1284, -0.1284, -0.1284, -0.1284, -0.1284, -0.1284, -0.1284, -0.1284, -0.1284, -0.1284, -0.1284, -0.1284, 3.1739, 3.1483, 3.0809, 3.0181, 3.012, 2.9132, 2.744, 2.4472, -0.0796, -0.0796, -0.0796, -0.0796, -0.0796, -0.0796, -0.0796, -0.0796, -0.0796, -0.0796, -0.0796, -0.0796, -0.0796, -0.0796, -0.0796, -0.0796, -0.0796, -0.0796, -0.0796, -0.0796, -0.0796, -0.0796, -0.0796, -0.0796, -0.0796, -0.0796, -0.0796, -0.0796, -0.0796, 3.1805, 3.1394, 3.1324, 2.9851, 2.9239, -0.058, -0.058, -0.058, -0.058, -0.058, -0.058, -0.058, -0.058, -0.058, -0.058, -0.058, -0.058, -0.058, -0.058, -0.058, -0.058, -0.058, -0.058, -0.058, -0.058, -0.058, -0.058, -0.058, -0.058, -0.058, -0.058, -0.058, -0.058, -0.058, -0.058, -0.058, -0.058, -0.058, -0.058, -0.058, -0.058, -0.058, -0.058, -0.058, -0.058, -0.058, -0.058, -0.058, -0.058, -0.058, -0.058, -0.058, -0.058, -0.058, 3.1589, 3.1467, 3.1392, 3.138, 3.1076, 0.0612, 0.0612, 0.0612, 0.0612, 0.0612, 0.0612, 0.0612, 0.0612, 0.0612, 0.0612, 0.0612, 0.0612, 0.0612, 0.0612, 0.0612, 0.0612, 0.0612, 0.0612, 0.0612, 0.0612, 0.0612, 0.0612, 0.0612, 0.0612, 0.0612, 0.0612, 0.0612, 0.0612, 0.0612, 0.0612, 0.0612, 0.0612, 0.0612, 0.0612, 0.0612, 0.0612, 0.0612, 0.0612, 0.0612, 0.0612, 0.0612, 0.0612, 0.0612, 0.0612, 0.0612, 0.0612, 3.1891, 3.1586, 3.1492, 3.0663, 2.9801, -0.0176, -0.0176, -0.0176, -0.0176, -0.0176, -0.0176, -0.0176, -0.0176, -0.0176, -0.0176, -0.0176, -0.0176, -0.0176, -0.0176, -0.0176, -0.0176, -0.0176, -0.0176, -0.0176, -0.0176, -0.0176, -0.0176, -0.0176, -0.0176, -0.0176, -0.0176, -0.0176, -0.0176, -0.0176, -0.0176, -0.0176, -0.0176, -0.0176, -0.0176, -0.0176, -0.0176, -0.0176, -0.0176, -0.0176, -0.0176, -0.0176, -0.0176, -0.0176, -0.0176, 3.2007, 3.1437, 3.1003, 3.0788, -0.0969, -0.0969, -0.0969, -0.0969, -0.0969, -0.0969, -0.0969, -0.0969, -0.0969, -0.0969, -0.0969, -0.0969, -0.0969, -0.0969, -0.0969, -0.0969, -0.0969, -0.0969, -0.0969, -0.0969, -0.0969, -0.0969, -0.0969, -0.0969, -0.0969, -0.0969, -0.0969, -0.0969, -0.0969, -0.0969, -0.0969, -0.0969, -0.0969, -0.0969, -0.0969, -0.0969, -0.0969, -0.0969, -0.0969, -0.0969, -0.0969, -0.0969, -0.0969, -0.0969, -0.0969, 3.1894, 3.1809, 3.1678, 3.0708, -0.059, -0.059, -0.059, -0.059, -0.059, -0.059, -0.059, -0.059, -0.059, -0.059, -0.059, -0.059, -0.059, -0.059, -0.059, -0.059, -0.059, -0.059, -0.059, -0.059, -0.059, -0.059, -0.059, -0.059, -0.059, -0.059, -0.059, -0.059, -0.059, -0.059, -0.059, -0.059, -0.059, -0.059, -0.059, -0.059, -0.059, -0.059, -0.059, -0.059, -0.059, 3.2052, 3.1768, -0.0509, -0.0509, -0.0509, -0.0509, -0.0509, -0.0509, -0.0509, -0.0509, -0.0509, -0.0509, -0.0509, -0.0509, -0.0509, -0.0509, -0.0509, -0.0509, -0.0509, -0.0509, -0.0509, -0.0509, -0.0509, -0.0509, -0.0509, -0.0509, -0.0509, -0.0509, -0.0509, -0.0509, -0.0509, -0.0509, -0.0509, -0.0509, -0.0509, -0.0509, -0.0509, -0.0509, -0.0509, -0.0509, -0.0509, -0.0509, -0.0509, -0.0509, -0.0509, -0.0509, -0.0509, -0.0509, -0.0509, -0.0509, -0.0509, -0.0509, -0.0509, 3.1952, 3.1878, 3.0282, 0.085, 0.085, 0.085, 0.085, 0.085, 0.085, 0.085, 0.085, 0.085, 0.085, 0.085, 0.085, 0.085, 0.085, 0.085, 0.085, 0.085, 0.085, 0.085, 0.085, 0.085, 0.085, 0.085, 0.085, 0.085, 0.085, 0.085, 0.085, 0.085, 0.085, 0.085, 0.085, 0.085, 0.085, 0.085, 0.085, 0.085, 0.085, 0.085, 0.085, 0.085, 0.085, 0.085, 0.085, 0.085, 0.085, 0.085, 0.085, 0.085, 3.2079, 3.1775, 3.05, 2.8879, -0.0499, -0.0499, -0.0499, -0.0499, -0.0499, -0.0499, -0.0499, -0.0499, -0.0499, -0.0499, -0.0499, -0.0499, -0.0499, -0.0499, -0.0499, -0.0499, -0.0499, -0.0499, -0.0499, -0.0499, -0.0499, -0.0499, -0.0499, -0.0499, -0.0499, -0.0499, -0.0499, -0.0499, -0.0499, -0.0499, -0.0499, -0.0499, -0.0499, -0.0499, -0.0499, -0.0499, -0.0499, -0.0499, -0.0499, -0.0499, -0.0499, -0.0499, -0.0499, -0.0499, -0.0499, -0.0499, -0.0499, -0.0499, -0.0499, -0.0499, -0.0499, 3.1857, 3.1734, 3.1475, 3.0754, 3.0256, 2.9511, 2.8746, 0.0661, 0.0661, 0.0661, 0.0661, 0.0661, 0.0661, 0.0661, 0.0661, 0.0661, 0.0661, 0.0661, 0.0661, 0.0661, 0.0661, 0.0661, 0.0661, 0.0661, 0.0661, 0.0661, 0.0661, 0.0661, 0.0661, 0.0661, 0.0661, 0.0661, 0.0661, 0.0661, 0.0661, 0.0661, 0.0661, 0.0661, 0.0661, 0.0661, 0.0661, 0.0661, 0.0661, 0.0661, 0.0661, 0.0661, 0.0661, 0.0661, 0.0661, 0.0661, 0.0661, 3.2041, 3.1475, 3.1262, 3.1111, 3.0156, 0.0316, 0.0316, 0.0316, 0.0316, 0.0316, 0.0316, 0.0316, 0.0316, 0.0316, 0.0316, 0.0316, 0.0316, 0.0316, 0.0316, 0.0316, 0.0316, 0.0316, 0.0316, 0.0316, 0.0316, 0.0316, 0.0316, 0.0316, 0.0316, 0.0316, 0.0316, 0.0316, 0.0316, 0.0316, 0.0316, 0.0316, 0.0316, 0.0316, 0.0316, 0.0316, 0.0316, 0.0316, 0.0316, 0.0316, 0.0316, 0.0316, 0.0316, 3.1944, 3.1518, 3.0803, 3.0396, 3.0094, 2.9945, 2.9883, 2.8161, 2.5802, 0.1423, 0.1423, 0.1423, 0.1423, 0.1423, 0.1423, 0.1423, 0.1423, 0.1423, 0.1423, 0.1423, 0.1423, 0.1423, 0.1423, 0.1423, 0.1423, 0.1423, 0.1423, 0.1423, 0.1423, 0.1423, 0.1423, 0.1423, 0.1423, 0.1423, 0.1423, 0.1423, 0.1423, 0.1423, 0.1423, 0.1423, 0.1423, 0.1423, 0.1423, 0.1423, 0.1423, 0.1423, 3.2153, 3.137, 3.1264, 3.1223, 0.0414, 0.0414, 0.0414, 0.0414, 0.0414, 0.0414, 0.0414, 0.0414, 0.0414, 0.0414, 0.0414, 0.0414, 0.0414, 0.0414, 0.0414, 0.0414, 0.0414, 0.0414, 0.0414, 0.0414, 0.0414, 0.0414, 0.0414, 0.0414, 0.0414, 0.0414, 0.0414, 0.0414, 0.0414, 0.0414, 0.0414, 0.0414, 0.0414, 0.0414, 0.0414, 0.0414, 0.0414, 0.0414, 0.0414, 0.0414, 0.0414, 0.0414, 0.0414, 0.0414, 0.0414, 3.1967, 3.1958, 3.1452, 3.1357, 3.1316, 3.1103, -0.118, -0.118, -0.118, -0.118, -0.118, -0.118, -0.118, -0.118, -0.118, -0.118, -0.118, -0.118, -0.118, -0.118, -0.118, -0.118, -0.118, -0.118, -0.118, -0.118, -0.118, -0.118, -0.118, -0.118, -0.118, -0.118, -0.118, -0.118, -0.118, -0.118, -0.118, -0.118, -0.118, -0.118, -0.118, -0.118, -0.118, -0.118, -0.118, -0.118, -0.118, -0.118, -0.118, -0.118, -0.118, -0.118, -0.118, -0.118, 3.219, 3.1981, 3.0936, 3.0356, 0.1774, 0.1774, 0.1774, 0.1774, 0.1774, 0.1774, 0.1774, 0.1774, 0.1774, 0.1774, 0.1774, 0.1774, 0.1774, 0.1774, 0.1774, 0.1774, 0.1774, 0.1774, 0.1774, 0.1774, 0.1774, 0.1774, 0.1774, 0.1774, 0.1774, 0.1774, 0.1774, 0.1774, 0.1774, 0.1774, 0.1774, 0.1774, 0.1774, 0.1774, 0.1774, 0.1774, 0.1774, 0.1774, 0.1774, 0.1774, 0.1774, 0.1774, 0.1774, 0.1774, 0.1774, 3.2045, 3.1874, 3.1602, 3.1009, 3.0804, 2.8257, 0.173, 0.173, 0.173, 0.173, 0.173, 0.173, 0.173, 0.173, 0.173, 0.173, 0.173, 0.173, 0.173, 0.173, 0.173, 0.173, 0.173, 0.173, 0.173, 0.173, 0.173, 0.173, 0.173, 0.173, 0.173, 0.173, 0.173, 0.173, 0.173, 0.173, 0.173, 0.173, 0.173, 0.173, 0.173, 0.173, 0.173, 0.173, 3.1935, 3.1889, 3.1387, 3.0867, 3.0516, 2.9747, 0.2957, 0.2957, 0.2957, 0.2957, 0.2957, 0.2957, 0.2957, 0.2957, 0.2957, 0.2957, 0.2957, 0.2957, 0.2957, 0.2957, 0.2957, 0.2957, 0.2957, 0.2957, 0.2957, 0.2957, 0.2957, 0.2957, 0.2957, 0.2957, 0.2957, 0.2957, 0.2957, 0.2957, 0.2957, 0.2957, 0.2957, 0.2957, 0.2957, 0.2957, 0.2957, 0.2957, 0.2957, 0.2957, 0.2957, 0.2957, 0.2957, 3.2184, 3.2011, 3.1536, 3.1423, 2.8197, 0.3293, 0.3293, 0.3293, 0.3293, 0.3293, 0.3293, 0.3293, 0.3293, 0.3293, 0.3293, 0.3293, 0.3293, 0.3293, 0.3293, 0.3293, 0.3293, 0.3293, 0.3293, 0.3293, 0.3293, 0.3293, 0.3293, 0.3293, 0.3293, 0.3293, 0.3293, 0.3293, 0.3293, 0.3293, 0.3293, 0.3293, 0.3293, 0.3293, 0.3293, 0.3293, 0.3293, 0.3293, 0.3293, 3.2311, 3.1552, 3.1021, 0.4484, 0.4484, 0.4484, 0.4484, 0.4484, 0.4484, 0.4484, 0.4484, 0.4484, 0.4484, 0.4484, 0.4484, 0.4484, 0.4484, 0.4484, 0.4484, 0.4484, 0.4484, 0.4484, 0.4484, 0.4484, 0.4484, 0.4484, 0.4484, 0.4484, 0.4484, 0.4484, 0.4484, 0.4484, 0.4484, 0.4484, 0.4484, 0.4484, 0.4484, 0.4484, 0.4484]}, \"token.table\": {\"Topic\": [16, 4, 6, 22, 17, 19, 7, 23, 9, 15, 1, 11, 10, 4, 13, 21, 4, 3, 15, 22, 3, 22, 24, 7, 18, 18, 6, 18, 2, 10, 19, 18, 3, 18, 10, 4, 7, 2, 19, 23, 16, 1, 2, 5, 20, 20, 4, 23, 25, 7, 18, 14, 8, 1, 10, 24, 6, 16, 3, 16, 2, 2, 17, 6, 2, 15, 13, 20, 25, 21, 1, 4, 8, 18, 15, 21, 21, 1, 4, 18, 22, 7, 3, 8, 20, 23, 12, 20, 5, 12, 17, 25, 2, 23, 2, 9, 4, 17, 20, 16, 24, 3, 9, 16, 22, 6, 1, 6, 6, 1, 14, 11, 7, 4, 16, 1, 9, 7, 10, 12, 7, 5, 3, 14, 8, 18, 12, 24, 22, 24, 8, 23, 2, 17, 11, 11, 9, 19], \"Freq\": [0.8010278808063254, 0.6649578503156172, 0.740516980561328, 0.7039429739531002, 0.9050268857618317, 0.9826076338048735, 0.9404087253926071, 0.8833142516539435, 0.9515551567133382, 0.7698918940419808, 0.6297072445048889, 0.9254584874476033, 0.9255839441330729, 0.9611477831816045, 0.9775247056642595, 0.8912569673667302, 0.715292930696782, 0.6380636849877176, 0.8713320416493766, 0.9069792602840303, 0.955251608104802, 0.9477195135080654, 0.5031421372476861, 0.800513077967604, 0.6459059071915334, 0.8328161917370549, 0.947364574853725, 0.7331757800019277, 0.6190015198697737, 0.9337737548702842, 0.8813935896907755, 0.8632981941589928, 0.8976229245248705, 0.7168774538901851, 0.8492388169420904, 0.7798400480455344, 0.35299502649234493, 0.8423735594625725, 0.9231660711053544, 0.9400373282480536, 0.8951557809597026, 0.9428233042877676, 0.961374198891094, 0.9844142060333191, 0.969878036523371, 0.9607684942339562, 0.8748983504711355, 0.6817452955812389, 0.8413245611933495, 0.8317905098992814, 0.8125596180050807, 0.9756086691810887, 0.7871799559380873, 0.7992019074753131, 0.9715569832350599, 0.9142428834151604, 0.8390673537136202, 0.8607950996949141, 0.8738656353501685, 0.9479907980018737, 0.965008294364316, 0.8524276229719988, 0.9823630233233065, 0.7029837379335501, 0.8640653763441176, 0.955681268905031, 0.9686869575649752, 0.9077678073406837, 0.8056325446502741, 0.9579661878424677, 0.8974119513594441, 0.7694563362360018, 0.9575846418137677, 0.969343828947681, 0.9779167814913072, 0.7881540739693772, 0.9297228382685212, 0.9632343706090597, 0.964447325038646, 0.6896376125040437, 0.9151704704511501, 0.7330908246640477, 0.9788727695433448, 0.8151176231749822, 0.8930143277043244, 0.9318379585528537, 0.9624190514019859, 0.8936121278279116, 0.925425794373408, 0.8463034060221711, 0.9296631118594719, 0.9618430901138215, 0.8543356398734004, 0.8823775331763537, 0.9589841550409636, 0.9270646448037424, 0.9175005670911325, 0.9073947761931404, 0.9270561199333602, 0.8650739322155763, 0.9101789837494313, 0.9183562294228726, 0.9363034754292702, 0.9440459002737056, 0.8593551036993163, 0.9749715048537408, 0.9658242472103019, 0.7794648985184419, 0.9179470945324907, 0.33606845496422655, 0.9676304897299928, 0.9763217929508988, 0.8879610052319021, 0.8055997957932598, 0.8141605912720593, 0.94035637989957, 0.9265427951233447, 0.8988771658645274, 0.8470425565563104, 0.956768709032387, 0.9798720315925598, 0.9466453202454264, 0.9305755182446871, 0.8353468965026685, 0.920699225201827, 0.9040928632060687, 0.9634264160212774, 0.8943007552242873, 0.8616069959969325, 0.9434861222704493, 0.9834189010929844, 0.7799568871735151, 0.8462305760002129, 0.7772123069832836, 0.8752852087054729, 0.8993985554567606, 0.9623501312151608, 0.9050534451322957], \"Term\": [\"ago\", \"aint\", \"america\", \"announc\", \"anoth\", \"ape\", \"back\", \"ball\", \"bet\", \"bitch\", \"bottom\", \"break\", \"bullish\", \"buy\", \"call\", \"cant\", \"car\", \"casino\", \"ceo\", \"chart\", \"come\", \"compani\", \"complet\", \"could\", \"cow\", \"current\", \"day\", \"decid\", \"differ\", \"dont\", \"end\", \"entir\", \"even\", \"everyth\", \"extrem\", \"fair\", \"fart\", \"feel\", \"fellow\", \"final\", \"first\", \"gain\", \"get\", \"go\", \"good\", \"got\", \"green\", \"hand\", \"hedg\", \"help\", \"here\", \"hold\", \"home\", \"hot\", \"im\", \"inc\", \"industri\", \"infrastructur\", \"know\", \"last\", \"let\", \"life\", \"like\", \"line\", \"load\", \"long\", \"look\", \"loss\", \"made\", \"make\", \"meme\", \"monday\", \"money\", \"month\", \"moon\", \"morn\", \"need\", \"next\", \"option\", \"order\", \"pay\", \"peopl\", \"play\", \"pop\", \"porn\", \"portfolio\", \"posit\", \"power\", \"price\", \"print\", \"profit\", \"put\", \"readi\", \"reason\", \"retard\", \"ride\", \"right\", \"rocket\", \"run\", \"russel\", \"said\", \"save\", \"see\", \"sell\", \"setup\", \"share\", \"short\", \"soon\", \"steel\", \"stick\", \"still\", \"stock\", \"stop\", \"street\", \"support\", \"ta\", \"take\", \"talk\", \"target\", \"time\", \"today\", \"tomorrow\", \"trade\", \"two\", \"u\", \"undervalu\", \"updat\", \"valu\", \"wall\", \"want\", \"week\", \"went\", \"what\", \"wife\", \"worth\", \"wsb\", \"year\", \"yolo\"]}, \"R\": 30, \"lambda.step\": 0.01, \"plot.opts\": {\"xlab\": \"PC1\", \"ylab\": \"PC2\"}, \"topic.order\": [1, 12, 16, 22, 9, 6, 17, 5, 23, 14, 24, 2, 7, 8, 11, 3, 21, 4, 20, 10, 19, 25, 13, 18, 15]};\n",
       "\n",
       "function LDAvis_load_lib(url, callback){\n",
       "  var s = document.createElement('script');\n",
       "  s.src = url;\n",
       "  s.async = true;\n",
       "  s.onreadystatechange = s.onload = callback;\n",
       "  s.onerror = function(){console.warn(\"failed to load library \" + url);};\n",
       "  document.getElementsByTagName(\"head\")[0].appendChild(s);\n",
       "}\n",
       "\n",
       "if(typeof(LDAvis) !== \"undefined\"){\n",
       "   // already loaded: just create the visualization\n",
       "   !function(LDAvis){\n",
       "       new LDAvis(\"#\" + \"ldavis_el358014689147168724018026691\", ldavis_el358014689147168724018026691_data);\n",
       "   }(LDAvis);\n",
       "}else if(typeof define === \"function\" && define.amd){\n",
       "   // require.js is available: use it to load d3/LDAvis\n",
       "   require.config({paths: {d3: \"https://d3js.org/d3.v5\"}});\n",
       "   require([\"d3\"], function(d3){\n",
       "      window.d3 = d3;\n",
       "      LDAvis_load_lib(\"https://cdn.jsdelivr.net/gh/bmabey/pyLDAvis@3.3.1/pyLDAvis/js/ldavis.v3.0.0.js\", function(){\n",
       "        new LDAvis(\"#\" + \"ldavis_el358014689147168724018026691\", ldavis_el358014689147168724018026691_data);\n",
       "      });\n",
       "    });\n",
       "}else{\n",
       "    // require.js not available: dynamically load d3 & LDAvis\n",
       "    LDAvis_load_lib(\"https://d3js.org/d3.v5.js\", function(){\n",
       "         LDAvis_load_lib(\"https://cdn.jsdelivr.net/gh/bmabey/pyLDAvis@3.3.1/pyLDAvis/js/ldavis.v3.0.0.js\", function(){\n",
       "                 new LDAvis(\"#\" + \"ldavis_el358014689147168724018026691\", ldavis_el358014689147168724018026691_data);\n",
       "            })\n",
       "         });\n",
       "}\n",
       "</script>"
      ],
      "text/plain": [
       "PreparedData(topic_coordinates=              x         y  topics  cluster      Freq\n",
       "topic                                               \n",
       "0     -0.307639  0.062312       1        1  4.272590\n",
       "11    -0.050032 -0.305995       2        1  4.239120\n",
       "15     0.014598  0.010960       3        1  4.205178\n",
       "21     0.006557  0.007011       4        1  4.183385\n",
       "8      0.009699  0.007972       5        1  4.166075\n",
       "5      0.016629  0.011660       6        1  4.134417\n",
       "16     0.017275  0.011833       7        1  4.076373\n",
       "4      0.016935  0.011524       8        1  4.060765\n",
       "22     0.016982  0.011198       9        1  4.029591\n",
       "13     0.017100  0.011488      10        1  4.003376\n",
       "23     0.016368  0.011324      11        1  3.997052\n",
       "1      0.016793  0.011436      12        1  3.984675\n",
       "6      0.016369  0.011128      13        1  3.982579\n",
       "7      0.016636  0.010921      14        1  3.979985\n",
       "10     0.016749  0.011372      15        1  3.962972\n",
       "2      0.017089  0.011256      16        1  3.958619\n",
       "20     0.017050  0.011314      17        1  3.953273\n",
       "3      0.016613  0.010801      18        1  3.939304\n",
       "19     0.016907  0.011196      19        1  3.922242\n",
       "9      0.016747  0.011680      20        1  3.914298\n",
       "18     0.016082  0.010399      21        1  3.867080\n",
       "24     0.016221  0.010497      22        1  3.860825\n",
       "12     0.014914  0.009496      23        1  3.820571\n",
       "17     0.014484  0.009182      24        1  3.748525\n",
       "14     0.012873  0.008033      25        1  3.737129, topic_info=       Term       Freq      Total Category  logprob  loglift\n",
       "91       go  86.000000  86.000000  Default  30.0000  30.0000\n",
       "40     call  83.000000  83.000000  Default  29.0000  29.0000\n",
       "22    stock  79.000000  79.000000  Default  28.0000  28.0000\n",
       "65     moon  74.000000  74.000000  Default  27.0000  27.0000\n",
       "36    share  73.000000  73.000000  Default  26.0000  26.0000\n",
       "..      ...        ...        ...      ...      ...      ...\n",
       "579      na   0.091115   1.557085  Topic25  -7.7206   0.4484\n",
       "485     one   0.091115   1.557085  Topic25  -7.7206   0.4484\n",
       "817     hit   0.091115   1.557085  Topic25  -7.7206   0.4484\n",
       "468  strong   0.091115   1.557085  Topic25  -7.7206   0.4484\n",
       "578     gon   0.091115   1.557084  Topic25  -7.7206   0.4484\n",
       "\n",
       "[1242 rows x 6 columns], token_table=      Topic      Freq     Term\n",
       "term                          \n",
       "232      16  0.801028      ago\n",
       "114       4  0.664958     aint\n",
       "204       6  0.740517  america\n",
       "191      22  0.703943  announc\n",
       "30       17  0.905027    anoth\n",
       "...     ...       ...      ...\n",
       "241      17  0.777212     wife\n",
       "222      11  0.875285    worth\n",
       "138      11  0.899399      wsb\n",
       "54        9  0.962350     year\n",
       "21       19  0.905053     yolo\n",
       "\n",
       "[138 rows x 3 columns], R=30, lambda_step=0.01, plot_opts={'xlab': 'PC1', 'ylab': 'PC2'}, topic_order=[1, 12, 16, 22, 9, 6, 17, 5, 23, 14, 24, 2, 7, 8, 11, 3, 21, 4, 20, 10, 19, 25, 13, 18, 15])"
      ]
     },
     "execution_count": 576,
     "metadata": {},
     "output_type": "execute_result"
    }
   ],
   "source": [
    "pyLDAvis.enable_notebook()\n",
    "vis = pyLDAvis.gensim_models.prepare(lda_model, corpus, id2word)\n",
    "vis"
   ]
  },
  {
   "cell_type": "code",
   "execution_count": null,
   "metadata": {},
   "outputs": [],
   "source": []
  }
 ],
 "metadata": {
  "kernelspec": {
   "display_name": "Python 3",
   "language": "python",
   "name": "python3"
  },
  "language_info": {
   "codemirror_mode": {
    "name": "ipython",
    "version": 3
   },
   "file_extension": ".py",
   "mimetype": "text/x-python",
   "name": "python",
   "nbconvert_exporter": "python",
   "pygments_lexer": "ipython3",
   "version": "3.7.4"
  }
 },
 "nbformat": 4,
 "nbformat_minor": 2
}
