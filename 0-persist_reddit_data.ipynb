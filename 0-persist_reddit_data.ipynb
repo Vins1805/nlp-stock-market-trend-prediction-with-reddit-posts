{
 "cells": [
  {
   "cell_type": "code",
   "execution_count": 1,
   "metadata": {},
   "outputs": [],
   "source": [
    "from common.tools import Reddit\n",
    "from common.translations import IO"
   ]
  },
  {
   "cell_type": "markdown",
   "metadata": {},
   "source": [
    "# load threads and store raw data"
   ]
  },
  {
   "cell_type": "code",
   "execution_count": 2,
   "metadata": {},
   "outputs": [],
   "source": [
    "r = Reddit()"
   ]
  },
  {
   "cell_type": "code",
   "execution_count": 3,
   "metadata": {},
   "outputs": [],
   "source": [
    "url1 = IO[\"BASE\"] +  IO[\"SUBR\"][\"WALLSTREETBETS\"] + IO[\"LIST\"][\"HOT\"]\n",
    "url2 = IO[\"BASE\"] +  IO[\"SUBR\"][\"STOCKMARKET\"] + IO[\"LIST\"][\"HOT\"]\n",
    "#url3 = IO[\"BASE\"] +  IO[\"SUBR\"][\"SECURITYANALYSIS\"] + IO[\"LIST\"][\"HOT\"]\n",
    "url4 = IO[\"BASE\"] +  IO[\"SUBR\"][\"WALLSTREETBETS\"] + IO[\"LIST\"][\"NEW\"]"
   ]
  },
  {
   "cell_type": "code",
   "execution_count": 4,
   "metadata": {},
   "outputs": [
    {
     "name": "stdout",
     "output_type": "stream",
     "text": [
      "SKIP: 2021-06-30\n",
      "C:\\Users\\Vincent\\Desktop\\nlp-stock-market-trend-prediction-with-reddit-posts\\data\\wallstreetbets\\HOT\\2021-07-01.pd\n",
      "C:\\Users\\Vincent\\Desktop\\nlp-stock-market-trend-prediction-with-reddit-posts\\data\\wallstreetbets\\HOT\\2021-07-02.pd\n",
      "C:\\Users\\Vincent\\Desktop\\nlp-stock-market-trend-prediction-with-reddit-posts\\data\\wallstreetbets\\HOT\\2021-07-03.pd\n",
      "SKIP: 2021-06-22\n",
      "C:\\Users\\Vincent\\Desktop\\nlp-stock-market-trend-prediction-with-reddit-posts\\data\\StockMarket\\HOT\\2021-06-23.pd\n",
      "C:\\Users\\Vincent\\Desktop\\nlp-stock-market-trend-prediction-with-reddit-posts\\data\\StockMarket\\HOT\\2021-06-24.pd\n",
      "C:\\Users\\Vincent\\Desktop\\nlp-stock-market-trend-prediction-with-reddit-posts\\data\\StockMarket\\HOT\\2021-06-25.pd\n",
      "C:\\Users\\Vincent\\Desktop\\nlp-stock-market-trend-prediction-with-reddit-posts\\data\\StockMarket\\HOT\\2021-06-26.pd\n",
      "C:\\Users\\Vincent\\Desktop\\nlp-stock-market-trend-prediction-with-reddit-posts\\data\\StockMarket\\HOT\\2021-06-27.pd\n",
      "C:\\Users\\Vincent\\Desktop\\nlp-stock-market-trend-prediction-with-reddit-posts\\data\\StockMarket\\HOT\\2021-06-28.pd\n",
      "C:\\Users\\Vincent\\Desktop\\nlp-stock-market-trend-prediction-with-reddit-posts\\data\\StockMarket\\HOT\\2021-06-29.pd\n",
      "C:\\Users\\Vincent\\Desktop\\nlp-stock-market-trend-prediction-with-reddit-posts\\data\\StockMarket\\HOT\\2021-06-30.pd\n",
      "C:\\Users\\Vincent\\Desktop\\nlp-stock-market-trend-prediction-with-reddit-posts\\data\\StockMarket\\HOT\\2021-07-01.pd\n",
      "C:\\Users\\Vincent\\Desktop\\nlp-stock-market-trend-prediction-with-reddit-posts\\data\\StockMarket\\HOT\\2021-07-02.pd\n",
      "C:\\Users\\Vincent\\Desktop\\nlp-stock-market-trend-prediction-with-reddit-posts\\data\\StockMarket\\HOT\\2021-07-03.pd\n",
      "SKIP: 2021-06-26\n",
      "C:\\Users\\Vincent\\Desktop\\nlp-stock-market-trend-prediction-with-reddit-posts\\data\\wallstreetbets\\NEW\\2021-06-27.pd\n",
      "C:\\Users\\Vincent\\Desktop\\nlp-stock-market-trend-prediction-with-reddit-posts\\data\\wallstreetbets\\NEW\\2021-06-28.pd\n",
      "C:\\Users\\Vincent\\Desktop\\nlp-stock-market-trend-prediction-with-reddit-posts\\data\\wallstreetbets\\NEW\\2021-06-29.pd\n",
      "C:\\Users\\Vincent\\Desktop\\nlp-stock-market-trend-prediction-with-reddit-posts\\data\\wallstreetbets\\NEW\\2021-06-30.pd\n",
      "C:\\Users\\Vincent\\Desktop\\nlp-stock-market-trend-prediction-with-reddit-posts\\data\\wallstreetbets\\NEW\\2021-07-01.pd\n",
      "C:\\Users\\Vincent\\Desktop\\nlp-stock-market-trend-prediction-with-reddit-posts\\data\\wallstreetbets\\NEW\\2021-07-02.pd\n",
      "C:\\Users\\Vincent\\Desktop\\nlp-stock-market-trend-prediction-with-reddit-posts\\data\\wallstreetbets\\NEW\\2021-07-03.pd\n"
     ]
    }
   ],
   "source": [
    "for url in [url1, url2, url4]:\n",
    "    r.bulk_store_threads(url, 20)"
   ]
  },
  {
   "cell_type": "markdown",
   "metadata": {},
   "source": [
    "# load raw data"
   ]
  },
  {
   "cell_type": "code",
   "execution_count": null,
   "metadata": {},
   "outputs": [],
   "source": [
    "r.subreddits"
   ]
  },
  {
   "cell_type": "code",
   "execution_count": null,
   "metadata": {},
   "outputs": [],
   "source": [
    "cols = [\"created_at\", \"title\", \"selftext\", \"score\",\"permalink\"]"
   ]
  },
  {
   "cell_type": "code",
   "execution_count": null,
   "metadata": {},
   "outputs": [],
   "source": [
    "subreddit = r.subreddits[2]"
   ]
  },
  {
   "cell_type": "code",
   "execution_count": null,
   "metadata": {},
   "outputs": [],
   "source": [
    "df = r.load_raw_text(os.path.join(r.filepath, subreddit, \"hot\"), cols)\n",
    "df.head()"
   ]
  },
  {
   "cell_type": "code",
   "execution_count": null,
   "metadata": {},
   "outputs": [],
   "source": [
    "df.shape"
   ]
  },
  {
   "cell_type": "code",
   "execution_count": null,
   "metadata": {},
   "outputs": [],
   "source": [
    "df.columns"
   ]
  },
  {
   "cell_type": "markdown",
   "metadata": {},
   "source": [
    "# load comments and store data"
   ]
  },
  {
   "cell_type": "code",
   "execution_count": null,
   "metadata": {},
   "outputs": [],
   "source": [
    "def load_comments(url):\n",
    "    df = r.get_comments(url)\n",
    "    if not \"body\" in df.columns:\n",
    "        return []\n",
    "    return df.body.to_list()"
   ]
  },
  {
   "cell_type": "code",
   "execution_count": null,
   "metadata": {},
   "outputs": [],
   "source": [
    "df[\"all_comments\"] = df.permalink.apply(lambda url: load_comments(url))"
   ]
  },
  {
   "cell_type": "code",
   "execution_count": null,
   "metadata": {},
   "outputs": [],
   "source": [
    "df.head()"
   ]
  },
  {
   "cell_type": "code",
   "execution_count": null,
   "metadata": {},
   "outputs": [],
   "source": [
    "filepath = IO[\"OUTPUT\"][\"THREADS\"] + subreddit + \".pd\"\n",
    "df.to_pickle(filepath)"
   ]
  },
  {
   "cell_type": "code",
   "execution_count": null,
   "metadata": {},
   "outputs": [],
   "source": []
  }
 ],
 "metadata": {
  "kernelspec": {
   "display_name": "Python 3",
   "language": "python",
   "name": "python3"
  },
  "language_info": {
   "codemirror_mode": {
    "name": "ipython",
    "version": 3
   },
   "file_extension": ".py",
   "mimetype": "text/x-python",
   "name": "python",
   "nbconvert_exporter": "python",
   "pygments_lexer": "ipython3",
   "version": "3.7.4"
  }
 },
 "nbformat": 4,
 "nbformat_minor": 2
}
