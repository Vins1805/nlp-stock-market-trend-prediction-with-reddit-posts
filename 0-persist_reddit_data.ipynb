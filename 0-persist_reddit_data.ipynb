{
 "cells": [
  {
   "cell_type": "code",
   "execution_count": 1,
   "metadata": {},
   "outputs": [],
   "source": [
    "from common.tools import Reddit\n",
    "from common.translations import IO\n",
    "import os"
   ]
  },
  {
   "cell_type": "markdown",
   "metadata": {},
   "source": [
    "# load threads and store raw data"
   ]
  },
  {
   "cell_type": "code",
   "execution_count": 2,
   "metadata": {},
   "outputs": [],
   "source": [
    "r = Reddit()"
   ]
  },
  {
   "cell_type": "code",
   "execution_count": 3,
   "metadata": {},
   "outputs": [],
   "source": [
    "url1 = IO[\"BASE\"] +  IO[\"SUBR\"][\"WALLSTREETBETS\"] + IO[\"LIST\"][\"HOT\"]\n",
    "url2 = IO[\"BASE\"] +  IO[\"SUBR\"][\"STOCKMARKET\"] + IO[\"LIST\"][\"HOT\"]\n",
    "#url3 = IO[\"BASE\"] +  IO[\"SUBR\"][\"SECURITYANALYSIS\"] + IO[\"LIST\"][\"HOT\"]\n",
    "url4 = IO[\"BASE\"] +  IO[\"SUBR\"][\"WALLSTREETBETS\"] + IO[\"LIST\"][\"NEW\"]"
   ]
  },
  {
   "cell_type": "code",
   "execution_count": 4,
   "metadata": {},
   "outputs": [
    {
     "name": "stdout",
     "output_type": "stream",
     "text": [
      "SKIP: 2021-07-11\n",
      "C:\\Users\\Vincent\\Desktop\\nlp-stock-market-trend-prediction-with-reddit-posts\\data\\wallstreetbets\\HOT\\2021-07-12.pd\n",
      "C:\\Users\\Vincent\\Desktop\\nlp-stock-market-trend-prediction-with-reddit-posts\\data\\wallstreetbets\\HOT\\2021-07-13.pd\n",
      "C:\\Users\\Vincent\\Desktop\\nlp-stock-market-trend-prediction-with-reddit-posts\\data\\wallstreetbets\\HOT\\2021-07-14.pd\n",
      "SKIP: 2021-07-01\n",
      "C:\\Users\\Vincent\\Desktop\\nlp-stock-market-trend-prediction-with-reddit-posts\\data\\StockMarket\\HOT\\2021-07-02.pd\n",
      "C:\\Users\\Vincent\\Desktop\\nlp-stock-market-trend-prediction-with-reddit-posts\\data\\StockMarket\\HOT\\2021-07-03.pd\n",
      "C:\\Users\\Vincent\\Desktop\\nlp-stock-market-trend-prediction-with-reddit-posts\\data\\StockMarket\\HOT\\2021-07-04.pd\n",
      "C:\\Users\\Vincent\\Desktop\\nlp-stock-market-trend-prediction-with-reddit-posts\\data\\StockMarket\\HOT\\2021-07-05.pd\n",
      "C:\\Users\\Vincent\\Desktop\\nlp-stock-market-trend-prediction-with-reddit-posts\\data\\StockMarket\\HOT\\2021-07-06.pd\n",
      "C:\\Users\\Vincent\\Desktop\\nlp-stock-market-trend-prediction-with-reddit-posts\\data\\StockMarket\\HOT\\2021-07-07.pd\n",
      "C:\\Users\\Vincent\\Desktop\\nlp-stock-market-trend-prediction-with-reddit-posts\\data\\StockMarket\\HOT\\2021-07-08.pd\n",
      "C:\\Users\\Vincent\\Desktop\\nlp-stock-market-trend-prediction-with-reddit-posts\\data\\StockMarket\\HOT\\2021-07-09.pd\n",
      "C:\\Users\\Vincent\\Desktop\\nlp-stock-market-trend-prediction-with-reddit-posts\\data\\StockMarket\\HOT\\2021-07-10.pd\n",
      "C:\\Users\\Vincent\\Desktop\\nlp-stock-market-trend-prediction-with-reddit-posts\\data\\StockMarket\\HOT\\2021-07-11.pd\n",
      "C:\\Users\\Vincent\\Desktop\\nlp-stock-market-trend-prediction-with-reddit-posts\\data\\StockMarket\\HOT\\2021-07-12.pd\n",
      "C:\\Users\\Vincent\\Desktop\\nlp-stock-market-trend-prediction-with-reddit-posts\\data\\StockMarket\\HOT\\2021-07-13.pd\n",
      "C:\\Users\\Vincent\\Desktop\\nlp-stock-market-trend-prediction-with-reddit-posts\\data\\StockMarket\\HOT\\2021-07-14.pd\n",
      "SKIP: 2021-07-02\n",
      "C:\\Users\\Vincent\\Desktop\\nlp-stock-market-trend-prediction-with-reddit-posts\\data\\wallstreetbets\\NEW\\2021-07-03.pd\n",
      "C:\\Users\\Vincent\\Desktop\\nlp-stock-market-trend-prediction-with-reddit-posts\\data\\wallstreetbets\\NEW\\2021-07-04.pd\n",
      "C:\\Users\\Vincent\\Desktop\\nlp-stock-market-trend-prediction-with-reddit-posts\\data\\wallstreetbets\\NEW\\2021-07-05.pd\n",
      "C:\\Users\\Vincent\\Desktop\\nlp-stock-market-trend-prediction-with-reddit-posts\\data\\wallstreetbets\\NEW\\2021-07-06.pd\n",
      "C:\\Users\\Vincent\\Desktop\\nlp-stock-market-trend-prediction-with-reddit-posts\\data\\wallstreetbets\\NEW\\2021-07-07.pd\n",
      "C:\\Users\\Vincent\\Desktop\\nlp-stock-market-trend-prediction-with-reddit-posts\\data\\wallstreetbets\\NEW\\2021-07-08.pd\n",
      "C:\\Users\\Vincent\\Desktop\\nlp-stock-market-trend-prediction-with-reddit-posts\\data\\wallstreetbets\\NEW\\2021-07-09.pd\n",
      "C:\\Users\\Vincent\\Desktop\\nlp-stock-market-trend-prediction-with-reddit-posts\\data\\wallstreetbets\\NEW\\2021-07-10.pd\n",
      "C:\\Users\\Vincent\\Desktop\\nlp-stock-market-trend-prediction-with-reddit-posts\\data\\wallstreetbets\\NEW\\2021-07-11.pd\n",
      "C:\\Users\\Vincent\\Desktop\\nlp-stock-market-trend-prediction-with-reddit-posts\\data\\wallstreetbets\\NEW\\2021-07-12.pd\n",
      "C:\\Users\\Vincent\\Desktop\\nlp-stock-market-trend-prediction-with-reddit-posts\\data\\wallstreetbets\\NEW\\2021-07-13.pd\n",
      "C:\\Users\\Vincent\\Desktop\\nlp-stock-market-trend-prediction-with-reddit-posts\\data\\wallstreetbets\\NEW\\2021-07-14.pd\n"
     ]
    }
   ],
   "source": [
    "for url in [url1, url2, url4]:\n",
    "    r.bulk_store_threads(url, 20)"
   ]
  },
  {
   "cell_type": "markdown",
   "metadata": {},
   "source": [
    "# load raw data"
   ]
  },
  {
   "cell_type": "code",
   "execution_count": 5,
   "metadata": {},
   "outputs": [
    {
     "data": {
      "text/plain": [
       "['SecurityAnalysis',\n",
       " 'StockMarket',\n",
       " 'Symbols',\n",
       " 'symbols.pd',\n",
       " 'wallstreetbets',\n",
       " 'wallstreetbets.pd']"
      ]
     },
     "execution_count": 5,
     "metadata": {},
     "output_type": "execute_result"
    }
   ],
   "source": [
    "r.subreddits"
   ]
  },
  {
   "cell_type": "code",
   "execution_count": 6,
   "metadata": {},
   "outputs": [],
   "source": [
    "cols = [\"created_at\", \"title\", \"selftext\", \"score\",\"permalink\"]"
   ]
  },
  {
   "cell_type": "code",
   "execution_count": 11,
   "metadata": {},
   "outputs": [],
   "source": [
    "subreddit = r.subreddits[-2]"
   ]
  },
  {
   "cell_type": "code",
   "execution_count": 12,
   "metadata": {},
   "outputs": [
    {
     "data": {
      "text/html": [
       "<div>\n",
       "<style scoped>\n",
       "    .dataframe tbody tr th:only-of-type {\n",
       "        vertical-align: middle;\n",
       "    }\n",
       "\n",
       "    .dataframe tbody tr th {\n",
       "        vertical-align: top;\n",
       "    }\n",
       "\n",
       "    .dataframe thead th {\n",
       "        text-align: right;\n",
       "    }\n",
       "</style>\n",
       "<table border=\"1\" class=\"dataframe\">\n",
       "  <thead>\n",
       "    <tr style=\"text-align: right;\">\n",
       "      <th></th>\n",
       "      <th>created_at</th>\n",
       "      <th>title</th>\n",
       "      <th>selftext</th>\n",
       "      <th>score</th>\n",
       "      <th>permalink</th>\n",
       "    </tr>\n",
       "  </thead>\n",
       "  <tbody>\n",
       "    <tr>\n",
       "      <th>0</th>\n",
       "      <td>2021-07-11</td>\n",
       "      <td>What if; A catastrophic space expedition</td>\n",
       "      <td>Hey everybody, long time lurker, sometime comm...</td>\n",
       "      <td>5.0</td>\n",
       "      <td>/r/wallstreetbets/comments/oi1u2d/what_if_a_ca...</td>\n",
       "    </tr>\n",
       "    <tr>\n",
       "      <th>1</th>\n",
       "      <td>2021-07-11</td>\n",
       "      <td>I built a program that tracks mentions and sen...</td>\n",
       "      <td>Hey Guys,\\n\\nHope all of you had a blast on th...</td>\n",
       "      <td>24.0</td>\n",
       "      <td>/r/wallstreetbets/comments/oi4nmn/i_built_a_pr...</td>\n",
       "    </tr>\n",
       "    <tr>\n",
       "      <th>2</th>\n",
       "      <td>2021-07-11</td>\n",
       "      <td>Bidens bill is targeting everything</td>\n",
       "      <td>Takeaways from this bill as I read them. Inter...</td>\n",
       "      <td>129.0</td>\n",
       "      <td>/r/wallstreetbets/comments/ohvo8m/bidens_bill_...</td>\n",
       "    </tr>\n",
       "    <tr>\n",
       "      <th>3</th>\n",
       "      <td>2021-07-11</td>\n",
       "      <td>$SPCE TO THE MOON 🚀🚀🚀 literally</td>\n",
       "      <td>$SPCE Virgin Galactics is launching a rocket w...</td>\n",
       "      <td>187.0</td>\n",
       "      <td>/r/wallstreetbets/comments/ohwbig/spce_to_the_...</td>\n",
       "    </tr>\n",
       "    <tr>\n",
       "      <th>4</th>\n",
       "      <td>2021-07-11</td>\n",
       "      <td>Meet TATTOOED CHEF. The Growth Stock You've Ne...</td>\n",
       "      <td>&amp;amp;#x200B;\\n\\n[\\^TTCF Products\\^](https://pr...</td>\n",
       "      <td>93.0</td>\n",
       "      <td>/r/wallstreetbets/comments/ohwf32/meet_tattooe...</td>\n",
       "    </tr>\n",
       "  </tbody>\n",
       "</table>\n",
       "</div>"
      ],
      "text/plain": [
       "   created_at                                              title  \\\n",
       "0  2021-07-11           What if; A catastrophic space expedition   \n",
       "1  2021-07-11  I built a program that tracks mentions and sen...   \n",
       "2  2021-07-11                Bidens bill is targeting everything   \n",
       "3  2021-07-11                    $SPCE TO THE MOON 🚀🚀🚀 literally   \n",
       "4  2021-07-11  Meet TATTOOED CHEF. The Growth Stock You've Ne...   \n",
       "\n",
       "                                            selftext  score  \\\n",
       "0  Hey everybody, long time lurker, sometime comm...    5.0   \n",
       "1  Hey Guys,\\n\\nHope all of you had a blast on th...   24.0   \n",
       "2  Takeaways from this bill as I read them. Inter...  129.0   \n",
       "3  $SPCE Virgin Galactics is launching a rocket w...  187.0   \n",
       "4  &amp;#x200B;\\n\\n[\\^TTCF Products\\^](https://pr...   93.0   \n",
       "\n",
       "                                           permalink  \n",
       "0  /r/wallstreetbets/comments/oi1u2d/what_if_a_ca...  \n",
       "1  /r/wallstreetbets/comments/oi4nmn/i_built_a_pr...  \n",
       "2  /r/wallstreetbets/comments/ohvo8m/bidens_bill_...  \n",
       "3  /r/wallstreetbets/comments/ohwbig/spce_to_the_...  \n",
       "4  /r/wallstreetbets/comments/ohwf32/meet_tattooe...  "
      ]
     },
     "execution_count": 12,
     "metadata": {},
     "output_type": "execute_result"
    }
   ],
   "source": [
    "df = r.load_raw_text(os.path.join(r.filepath, subreddit, \"hot\"), cols)\n",
    "df.head()"
   ]
  },
  {
   "cell_type": "code",
   "execution_count": 13,
   "metadata": {},
   "outputs": [
    {
     "data": {
      "text/plain": [
       "(2464, 5)"
      ]
     },
     "execution_count": 13,
     "metadata": {},
     "output_type": "execute_result"
    }
   ],
   "source": [
    "df.shape"
   ]
  },
  {
   "cell_type": "code",
   "execution_count": 14,
   "metadata": {},
   "outputs": [
    {
     "data": {
      "text/plain": [
       "Index(['created_at', 'title', 'selftext', 'score', 'permalink'], dtype='object')"
      ]
     },
     "execution_count": 14,
     "metadata": {},
     "output_type": "execute_result"
    }
   ],
   "source": [
    "df.columns"
   ]
  },
  {
   "cell_type": "markdown",
   "metadata": {},
   "source": [
    "# load comments and store data"
   ]
  },
  {
   "cell_type": "code",
   "execution_count": null,
   "metadata": {},
   "outputs": [],
   "source": [
    "def load_comments(url):\n",
    "    df = r.get_comments(url)\n",
    "    if not \"body\" in df.columns:\n",
    "        return []\n",
    "    return df.body.to_list()"
   ]
  },
  {
   "cell_type": "code",
   "execution_count": null,
   "metadata": {},
   "outputs": [],
   "source": [
    "df[\"all_comments\"] = df.permalink.apply(lambda url: load_comments(url))"
   ]
  },
  {
   "cell_type": "code",
   "execution_count": null,
   "metadata": {},
   "outputs": [],
   "source": [
    "df.head()"
   ]
  },
  {
   "cell_type": "code",
   "execution_count": null,
   "metadata": {},
   "outputs": [],
   "source": [
    "filepath = IO[\"OUTPUT\"][\"THREADS\"] + subreddit + \".pd\"\n",
    "df.to_pickle(filepath)"
   ]
  },
  {
   "cell_type": "code",
   "execution_count": null,
   "metadata": {},
   "outputs": [],
   "source": []
  }
 ],
 "metadata": {
  "kernelspec": {
   "display_name": "Python 3",
   "language": "python",
   "name": "python3"
  },
  "language_info": {
   "codemirror_mode": {
    "name": "ipython",
    "version": 3
   },
   "file_extension": ".py",
   "mimetype": "text/x-python",
   "name": "python",
   "nbconvert_exporter": "python",
   "pygments_lexer": "ipython3",
   "version": "3.7.4"
  }
 },
 "nbformat": 4,
 "nbformat_minor": 2
}
