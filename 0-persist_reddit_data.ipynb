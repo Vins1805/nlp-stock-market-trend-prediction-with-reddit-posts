{
 "cells": [
  {
   "cell_type": "code",
   "execution_count": 1,
   "metadata": {},
   "outputs": [],
   "source": [
    "from common.tools import Reddit\n",
    "from common.translations import IO\n",
    "import os"
   ]
  },
  {
   "cell_type": "markdown",
   "metadata": {},
   "source": [
    "# load threads and store raw data"
   ]
  },
  {
   "cell_type": "code",
   "execution_count": 2,
   "metadata": {},
   "outputs": [],
   "source": [
    "r = Reddit()"
   ]
  },
  {
   "cell_type": "code",
   "execution_count": 3,
   "metadata": {},
   "outputs": [],
   "source": [
    "url1 = IO[\"BASE\"] +  IO[\"SUBR\"][\"WALLSTREETBETS\"] + IO[\"LIST\"][\"HOT\"]\n",
    "url2 = IO[\"BASE\"] +  IO[\"SUBR\"][\"STOCKMARKET\"] + IO[\"LIST\"][\"HOT\"]\n",
    "#url3 = IO[\"BASE\"] +  IO[\"SUBR\"][\"SECURITYANALYSIS\"] + IO[\"LIST\"][\"HOT\"]\n",
    "url4 = IO[\"BASE\"] +  IO[\"SUBR\"][\"WALLSTREETBETS\"] + IO[\"LIST\"][\"NEW\"]"
   ]
  },
  {
   "cell_type": "code",
   "execution_count": 4,
   "metadata": {},
   "outputs": [
    {
     "name": "stdout",
     "output_type": "stream",
     "text": [
      "SKIP: 2021-07-06\n",
      "C:\\Users\\Vincent\\Desktop\\nlp-stock-market-trend-prediction-with-reddit-posts\\data\\wallstreetbets\\HOT\\2021-07-13.pd\n",
      "C:\\Users\\Vincent\\Desktop\\nlp-stock-market-trend-prediction-with-reddit-posts\\data\\wallstreetbets\\HOT\\2021-07-14.pd\n",
      "C:\\Users\\Vincent\\Desktop\\nlp-stock-market-trend-prediction-with-reddit-posts\\data\\wallstreetbets\\HOT\\2021-07-15.pd\n",
      "C:\\Users\\Vincent\\Desktop\\nlp-stock-market-trend-prediction-with-reddit-posts\\data\\wallstreetbets\\HOT\\2021-07-16.pd\n",
      "C:\\Users\\Vincent\\Desktop\\nlp-stock-market-trend-prediction-with-reddit-posts\\data\\wallstreetbets\\HOT\\2021-07-17.pd\n",
      "C:\\Users\\Vincent\\Desktop\\nlp-stock-market-trend-prediction-with-reddit-posts\\data\\wallstreetbets\\HOT\\2021-07-18.pd\n",
      "C:\\Users\\Vincent\\Desktop\\nlp-stock-market-trend-prediction-with-reddit-posts\\data\\wallstreetbets\\HOT\\2021-07-19.pd\n",
      "C:\\Users\\Vincent\\Desktop\\nlp-stock-market-trend-prediction-with-reddit-posts\\data\\wallstreetbets\\HOT\\2021-07-20.pd\n",
      "SKIP: 2021-07-07\n",
      "C:\\Users\\Vincent\\Desktop\\nlp-stock-market-trend-prediction-with-reddit-posts\\data\\StockMarket\\HOT\\2021-07-08.pd\n",
      "C:\\Users\\Vincent\\Desktop\\nlp-stock-market-trend-prediction-with-reddit-posts\\data\\StockMarket\\HOT\\2021-07-09.pd\n",
      "C:\\Users\\Vincent\\Desktop\\nlp-stock-market-trend-prediction-with-reddit-posts\\data\\StockMarket\\HOT\\2021-07-10.pd\n",
      "C:\\Users\\Vincent\\Desktop\\nlp-stock-market-trend-prediction-with-reddit-posts\\data\\StockMarket\\HOT\\2021-07-11.pd\n",
      "C:\\Users\\Vincent\\Desktop\\nlp-stock-market-trend-prediction-with-reddit-posts\\data\\StockMarket\\HOT\\2021-07-12.pd\n",
      "C:\\Users\\Vincent\\Desktop\\nlp-stock-market-trend-prediction-with-reddit-posts\\data\\StockMarket\\HOT\\2021-07-13.pd\n",
      "C:\\Users\\Vincent\\Desktop\\nlp-stock-market-trend-prediction-with-reddit-posts\\data\\StockMarket\\HOT\\2021-07-14.pd\n",
      "C:\\Users\\Vincent\\Desktop\\nlp-stock-market-trend-prediction-with-reddit-posts\\data\\StockMarket\\HOT\\2021-07-15.pd\n",
      "C:\\Users\\Vincent\\Desktop\\nlp-stock-market-trend-prediction-with-reddit-posts\\data\\StockMarket\\HOT\\2021-07-16.pd\n",
      "C:\\Users\\Vincent\\Desktop\\nlp-stock-market-trend-prediction-with-reddit-posts\\data\\StockMarket\\HOT\\2021-07-17.pd\n",
      "C:\\Users\\Vincent\\Desktop\\nlp-stock-market-trend-prediction-with-reddit-posts\\data\\StockMarket\\HOT\\2021-07-18.pd\n",
      "C:\\Users\\Vincent\\Desktop\\nlp-stock-market-trend-prediction-with-reddit-posts\\data\\StockMarket\\HOT\\2021-07-19.pd\n",
      "C:\\Users\\Vincent\\Desktop\\nlp-stock-market-trend-prediction-with-reddit-posts\\data\\StockMarket\\HOT\\2021-07-20.pd\n",
      "SKIP: 2021-07-07\n",
      "C:\\Users\\Vincent\\Desktop\\nlp-stock-market-trend-prediction-with-reddit-posts\\data\\wallstreetbets\\NEW\\2021-07-08.pd\n",
      "C:\\Users\\Vincent\\Desktop\\nlp-stock-market-trend-prediction-with-reddit-posts\\data\\wallstreetbets\\NEW\\2021-07-09.pd\n",
      "C:\\Users\\Vincent\\Desktop\\nlp-stock-market-trend-prediction-with-reddit-posts\\data\\wallstreetbets\\NEW\\2021-07-10.pd\n",
      "C:\\Users\\Vincent\\Desktop\\nlp-stock-market-trend-prediction-with-reddit-posts\\data\\wallstreetbets\\NEW\\2021-07-11.pd\n",
      "C:\\Users\\Vincent\\Desktop\\nlp-stock-market-trend-prediction-with-reddit-posts\\data\\wallstreetbets\\NEW\\2021-07-12.pd\n",
      "C:\\Users\\Vincent\\Desktop\\nlp-stock-market-trend-prediction-with-reddit-posts\\data\\wallstreetbets\\NEW\\2021-07-13.pd\n",
      "C:\\Users\\Vincent\\Desktop\\nlp-stock-market-trend-prediction-with-reddit-posts\\data\\wallstreetbets\\NEW\\2021-07-14.pd\n",
      "C:\\Users\\Vincent\\Desktop\\nlp-stock-market-trend-prediction-with-reddit-posts\\data\\wallstreetbets\\NEW\\2021-07-15.pd\n",
      "C:\\Users\\Vincent\\Desktop\\nlp-stock-market-trend-prediction-with-reddit-posts\\data\\wallstreetbets\\NEW\\2021-07-16.pd\n",
      "C:\\Users\\Vincent\\Desktop\\nlp-stock-market-trend-prediction-with-reddit-posts\\data\\wallstreetbets\\NEW\\2021-07-17.pd\n",
      "C:\\Users\\Vincent\\Desktop\\nlp-stock-market-trend-prediction-with-reddit-posts\\data\\wallstreetbets\\NEW\\2021-07-18.pd\n",
      "C:\\Users\\Vincent\\Desktop\\nlp-stock-market-trend-prediction-with-reddit-posts\\data\\wallstreetbets\\NEW\\2021-07-19.pd\n",
      "C:\\Users\\Vincent\\Desktop\\nlp-stock-market-trend-prediction-with-reddit-posts\\data\\wallstreetbets\\NEW\\2021-07-20.pd\n"
     ]
    }
   ],
   "source": [
    "for url in [url1, url2, url4]:\n",
    "    r.bulk_store_threads(url, 20)"
   ]
  },
  {
   "cell_type": "markdown",
   "metadata": {},
   "source": [
    "# load raw data"
   ]
  },
  {
   "cell_type": "code",
   "execution_count": 5,
   "metadata": {},
   "outputs": [
    {
     "data": {
      "text/plain": [
       "['Classifier',\n",
       " 'SecurityAnalysis',\n",
       " 'StockMarket',\n",
       " 'Symbols',\n",
       " 'symbols.pd',\n",
       " 'wallstreetbets',\n",
       " 'wallstreetbets.pd']"
      ]
     },
     "execution_count": 5,
     "metadata": {},
     "output_type": "execute_result"
    }
   ],
   "source": [
    "r.subreddits"
   ]
  },
  {
   "cell_type": "code",
   "execution_count": 16,
   "metadata": {},
   "outputs": [],
   "source": [
    "cols = [\"id\", \"created_at\", \"title\", \"selftext\", \"score\",\"permalink\"]"
   ]
  },
  {
   "cell_type": "code",
   "execution_count": 17,
   "metadata": {},
   "outputs": [],
   "source": [
    "subreddit = r.subreddits[-2]"
   ]
  },
  {
   "cell_type": "code",
   "execution_count": 18,
   "metadata": {},
   "outputs": [
    {
     "data": {
      "text/html": [
       "<div>\n",
       "<style scoped>\n",
       "    .dataframe tbody tr th:only-of-type {\n",
       "        vertical-align: middle;\n",
       "    }\n",
       "\n",
       "    .dataframe tbody tr th {\n",
       "        vertical-align: top;\n",
       "    }\n",
       "\n",
       "    .dataframe thead th {\n",
       "        text-align: right;\n",
       "    }\n",
       "</style>\n",
       "<table border=\"1\" class=\"dataframe\">\n",
       "  <thead>\n",
       "    <tr style=\"text-align: right;\">\n",
       "      <th></th>\n",
       "      <th>id</th>\n",
       "      <th>created_at</th>\n",
       "      <th>title</th>\n",
       "      <th>selftext</th>\n",
       "      <th>score</th>\n",
       "      <th>permalink</th>\n",
       "    </tr>\n",
       "  </thead>\n",
       "  <tbody>\n",
       "    <tr>\n",
       "      <th>0</th>\n",
       "      <td>t3_olv4sd</td>\n",
       "      <td>2021-07-17</td>\n",
       "      <td>$MU is extremely undervalued and set for a big...</td>\n",
       "      <td>Never done a DD before, so this will def be sh...</td>\n",
       "      <td>32.0</td>\n",
       "      <td>/r/wallstreetbets/comments/olv4sd/mu_is_extrem...</td>\n",
       "    </tr>\n",
       "    <tr>\n",
       "      <th>1</th>\n",
       "      <td>t3_om0qrd</td>\n",
       "      <td>2021-07-17</td>\n",
       "      <td>Fraternal Association of Gambling Gentlemen an...</td>\n",
       "      <td>Inductions\\n------\\n\\n\\n----------\\nUser|Cast ...</td>\n",
       "      <td>11.0</td>\n",
       "      <td>/r/wallstreetbets/comments/om0qrd/fraternal_as...</td>\n",
       "    </tr>\n",
       "    <tr>\n",
       "      <th>2</th>\n",
       "      <td>t3_olzpz7</td>\n",
       "      <td>2021-07-17</td>\n",
       "      <td>CLNE - Back of the Envelope Valuation</td>\n",
       "      <td>&amp;amp;#x200B;\\n\\nCLNE, maybe to the moon, or ma...</td>\n",
       "      <td>5.0</td>\n",
       "      <td>/r/wallstreetbets/comments/olzpz7/clne_back_of...</td>\n",
       "    </tr>\n",
       "    <tr>\n",
       "      <th>3</th>\n",
       "      <td>t3_olzc1w</td>\n",
       "      <td>2021-07-17</td>\n",
       "      <td>We Are In The Mids Of A Major Correction Right...</td>\n",
       "      <td>Some Cold Hard Facts:\\n\\nHere's a line chart o...</td>\n",
       "      <td>8.0</td>\n",
       "      <td>/r/wallstreetbets/comments/olzc1w/we_are_in_th...</td>\n",
       "    </tr>\n",
       "    <tr>\n",
       "      <th>4</th>\n",
       "      <td>t3_olxsn6</td>\n",
       "      <td>2021-07-17</td>\n",
       "      <td>Let's visualize green bars together (TLRY)</td>\n",
       "      <td>LOOK, I can't say this is a DD, I just felt li...</td>\n",
       "      <td>23.0</td>\n",
       "      <td>/r/wallstreetbets/comments/olxsn6/lets_visuali...</td>\n",
       "    </tr>\n",
       "  </tbody>\n",
       "</table>\n",
       "</div>"
      ],
      "text/plain": [
       "          id  created_at                                              title  \\\n",
       "0  t3_olv4sd  2021-07-17  $MU is extremely undervalued and set for a big...   \n",
       "1  t3_om0qrd  2021-07-17  Fraternal Association of Gambling Gentlemen an...   \n",
       "2  t3_olzpz7  2021-07-17              CLNE - Back of the Envelope Valuation   \n",
       "3  t3_olzc1w  2021-07-17  We Are In The Mids Of A Major Correction Right...   \n",
       "4  t3_olxsn6  2021-07-17         Let's visualize green bars together (TLRY)   \n",
       "\n",
       "                                            selftext  score  \\\n",
       "0  Never done a DD before, so this will def be sh...   32.0   \n",
       "1  Inductions\\n------\\n\\n\\n----------\\nUser|Cast ...   11.0   \n",
       "2  &amp;#x200B;\\n\\nCLNE, maybe to the moon, or ma...    5.0   \n",
       "3  Some Cold Hard Facts:\\n\\nHere's a line chart o...    8.0   \n",
       "4  LOOK, I can't say this is a DD, I just felt li...   23.0   \n",
       "\n",
       "                                           permalink  \n",
       "0  /r/wallstreetbets/comments/olv4sd/mu_is_extrem...  \n",
       "1  /r/wallstreetbets/comments/om0qrd/fraternal_as...  \n",
       "2  /r/wallstreetbets/comments/olzpz7/clne_back_of...  \n",
       "3  /r/wallstreetbets/comments/olzc1w/we_are_in_th...  \n",
       "4  /r/wallstreetbets/comments/olxsn6/lets_visuali...  "
      ]
     },
     "execution_count": 18,
     "metadata": {},
     "output_type": "execute_result"
    }
   ],
   "source": [
    "df = r.load_raw_text(os.path.join(r.filepath, subreddit, \"hot\"), cols)\n",
    "df.head()"
   ]
  },
  {
   "cell_type": "code",
   "execution_count": 19,
   "metadata": {},
   "outputs": [
    {
     "data": {
      "text/plain": [
       "(2854, 6)"
      ]
     },
     "execution_count": 19,
     "metadata": {},
     "output_type": "execute_result"
    }
   ],
   "source": [
    "df.shape"
   ]
  },
  {
   "cell_type": "code",
   "execution_count": 20,
   "metadata": {},
   "outputs": [
    {
     "data": {
      "text/plain": [
       "Index(['id', 'created_at', 'title', 'selftext', 'score', 'permalink'], dtype='object')"
      ]
     },
     "execution_count": 20,
     "metadata": {},
     "output_type": "execute_result"
    }
   ],
   "source": [
    "df.columns"
   ]
  },
  {
   "cell_type": "markdown",
   "metadata": {},
   "source": [
    "# load comments and store data"
   ]
  },
  {
   "cell_type": "code",
   "execution_count": 23,
   "metadata": {},
   "outputs": [],
   "source": [
    "def load_comments(url):\n",
    "    try:\n",
    "        df = r.get_comments(url)\n",
    "        if not \"body\" in df.columns:\n",
    "            return []\n",
    "        return df.body.to_list()\n",
    "    except:\n",
    "        return []"
   ]
  },
  {
   "cell_type": "code",
   "execution_count": 24,
   "metadata": {},
   "outputs": [],
   "source": [
    "df[\"all_comments\"] = df.permalink.apply(lambda url: load_comments(url))"
   ]
  },
  {
   "cell_type": "code",
   "execution_count": 25,
   "metadata": {},
   "outputs": [
    {
     "data": {
      "text/html": [
       "<div>\n",
       "<style scoped>\n",
       "    .dataframe tbody tr th:only-of-type {\n",
       "        vertical-align: middle;\n",
       "    }\n",
       "\n",
       "    .dataframe tbody tr th {\n",
       "        vertical-align: top;\n",
       "    }\n",
       "\n",
       "    .dataframe thead th {\n",
       "        text-align: right;\n",
       "    }\n",
       "</style>\n",
       "<table border=\"1\" class=\"dataframe\">\n",
       "  <thead>\n",
       "    <tr style=\"text-align: right;\">\n",
       "      <th></th>\n",
       "      <th>id</th>\n",
       "      <th>created_at</th>\n",
       "      <th>title</th>\n",
       "      <th>selftext</th>\n",
       "      <th>score</th>\n",
       "      <th>permalink</th>\n",
       "      <th>all_comments</th>\n",
       "    </tr>\n",
       "  </thead>\n",
       "  <tbody>\n",
       "    <tr>\n",
       "      <th>0</th>\n",
       "      <td>t3_olv4sd</td>\n",
       "      <td>2021-07-17</td>\n",
       "      <td>$MU is extremely undervalued and set for a big...</td>\n",
       "      <td>Never done a DD before, so this will def be sh...</td>\n",
       "      <td>32.0</td>\n",
       "      <td>/r/wallstreetbets/comments/olv4sd/mu_is_extrem...</td>\n",
       "      <td>[\\n**User Report**| | | |\\n:--|:--|:--|:--\\n**...</td>\n",
       "    </tr>\n",
       "    <tr>\n",
       "      <th>1</th>\n",
       "      <td>t3_om0qrd</td>\n",
       "      <td>2021-07-17</td>\n",
       "      <td>Fraternal Association of Gambling Gentlemen an...</td>\n",
       "      <td>Inductions\\n------\\n\\n\\n----------\\nUser|Cast ...</td>\n",
       "      <td>11.0</td>\n",
       "      <td>/r/wallstreetbets/comments/om0qrd/fraternal_as...</td>\n",
       "      <td>[Good morning, partially clowdy today., hangov...</td>\n",
       "    </tr>\n",
       "    <tr>\n",
       "      <th>2</th>\n",
       "      <td>t3_olzpz7</td>\n",
       "      <td>2021-07-17</td>\n",
       "      <td>CLNE - Back of the Envelope Valuation</td>\n",
       "      <td>&amp;amp;#x200B;\\n\\nCLNE, maybe to the moon, or ma...</td>\n",
       "      <td>5.0</td>\n",
       "      <td>/r/wallstreetbets/comments/olzpz7/clne_back_of...</td>\n",
       "      <td>[\\n**User Report**| | | |\\n:--|:--|:--|:--\\n**...</td>\n",
       "    </tr>\n",
       "    <tr>\n",
       "      <th>3</th>\n",
       "      <td>t3_olzc1w</td>\n",
       "      <td>2021-07-17</td>\n",
       "      <td>We Are In The Mids Of A Major Correction Right...</td>\n",
       "      <td>Some Cold Hard Facts:\\n\\nHere's a line chart o...</td>\n",
       "      <td>8.0</td>\n",
       "      <td>/r/wallstreetbets/comments/olzc1w/we_are_in_th...</td>\n",
       "      <td>[\\n**User Report**| | | |\\n:--|:--|:--|:--\\n**...</td>\n",
       "    </tr>\n",
       "    <tr>\n",
       "      <th>4</th>\n",
       "      <td>t3_olxsn6</td>\n",
       "      <td>2021-07-17</td>\n",
       "      <td>Let's visualize green bars together (TLRY)</td>\n",
       "      <td>LOOK, I can't say this is a DD, I just felt li...</td>\n",
       "      <td>23.0</td>\n",
       "      <td>/r/wallstreetbets/comments/olxsn6/lets_visuali...</td>\n",
       "      <td>[\\n**User Report**| | | |\\n:--|:--|:--|:--\\n**...</td>\n",
       "    </tr>\n",
       "  </tbody>\n",
       "</table>\n",
       "</div>"
      ],
      "text/plain": [
       "          id  created_at                                              title  \\\n",
       "0  t3_olv4sd  2021-07-17  $MU is extremely undervalued and set for a big...   \n",
       "1  t3_om0qrd  2021-07-17  Fraternal Association of Gambling Gentlemen an...   \n",
       "2  t3_olzpz7  2021-07-17              CLNE - Back of the Envelope Valuation   \n",
       "3  t3_olzc1w  2021-07-17  We Are In The Mids Of A Major Correction Right...   \n",
       "4  t3_olxsn6  2021-07-17         Let's visualize green bars together (TLRY)   \n",
       "\n",
       "                                            selftext  score  \\\n",
       "0  Never done a DD before, so this will def be sh...   32.0   \n",
       "1  Inductions\\n------\\n\\n\\n----------\\nUser|Cast ...   11.0   \n",
       "2  &amp;#x200B;\\n\\nCLNE, maybe to the moon, or ma...    5.0   \n",
       "3  Some Cold Hard Facts:\\n\\nHere's a line chart o...    8.0   \n",
       "4  LOOK, I can't say this is a DD, I just felt li...   23.0   \n",
       "\n",
       "                                           permalink  \\\n",
       "0  /r/wallstreetbets/comments/olv4sd/mu_is_extrem...   \n",
       "1  /r/wallstreetbets/comments/om0qrd/fraternal_as...   \n",
       "2  /r/wallstreetbets/comments/olzpz7/clne_back_of...   \n",
       "3  /r/wallstreetbets/comments/olzc1w/we_are_in_th...   \n",
       "4  /r/wallstreetbets/comments/olxsn6/lets_visuali...   \n",
       "\n",
       "                                        all_comments  \n",
       "0  [\\n**User Report**| | | |\\n:--|:--|:--|:--\\n**...  \n",
       "1  [Good morning, partially clowdy today., hangov...  \n",
       "2  [\\n**User Report**| | | |\\n:--|:--|:--|:--\\n**...  \n",
       "3  [\\n**User Report**| | | |\\n:--|:--|:--|:--\\n**...  \n",
       "4  [\\n**User Report**| | | |\\n:--|:--|:--|:--\\n**...  "
      ]
     },
     "execution_count": 25,
     "metadata": {},
     "output_type": "execute_result"
    }
   ],
   "source": [
    "df.head()"
   ]
  },
  {
   "cell_type": "code",
   "execution_count": 26,
   "metadata": {},
   "outputs": [
    {
     "name": "stdout",
     "output_type": "stream",
     "text": [
      "C:\\Users\\Vincent\\Desktop\\nlp-stock-market-trend-prediction-with-reddit-posts\\data\\wallstreetbets.pd\n"
     ]
    }
   ],
   "source": [
    "if True:\n",
    "    filepath = IO[\"OUTPUT\"][\"THREADS\"] + subreddit + \".pd\"\n",
    "    df.to_pickle(filepath)\n",
    "    print(filepath)"
   ]
  },
  {
   "cell_type": "code",
   "execution_count": null,
   "metadata": {},
   "outputs": [],
   "source": []
  }
 ],
 "metadata": {
  "kernelspec": {
   "display_name": "Python 3",
   "language": "python",
   "name": "python3"
  },
  "language_info": {
   "codemirror_mode": {
    "name": "ipython",
    "version": 3
   },
   "file_extension": ".py",
   "mimetype": "text/x-python",
   "name": "python",
   "nbconvert_exporter": "python",
   "pygments_lexer": "ipython3",
   "version": "3.7.4"
  }
 },
 "nbformat": 4,
 "nbformat_minor": 2
}
