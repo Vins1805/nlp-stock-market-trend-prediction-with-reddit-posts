{
 "cells": [
  {
   "cell_type": "code",
   "execution_count": 1,
   "metadata": {},
   "outputs": [],
   "source": [
    "from common.tools import Reddit\n",
    "from common.translations import IO\n",
    "import os"
   ]
  },
  {
   "cell_type": "markdown",
   "metadata": {},
   "source": [
    "# load threads and store raw data"
   ]
  },
  {
   "cell_type": "code",
   "execution_count": 2,
   "metadata": {},
   "outputs": [],
   "source": [
    "r = Reddit()"
   ]
  },
  {
   "cell_type": "code",
   "execution_count": 3,
   "metadata": {},
   "outputs": [],
   "source": [
    "url1 = IO[\"BASE\"] +  IO[\"SUBR\"][\"WALLSTREETBETS\"] + IO[\"LIST\"][\"HOT\"]\n",
    "url2 = IO[\"BASE\"] +  IO[\"SUBR\"][\"STOCKMARKET\"] + IO[\"LIST\"][\"HOT\"]\n",
    "#url3 = IO[\"BASE\"] +  IO[\"SUBR\"][\"SECURITYANALYSIS\"] + IO[\"LIST\"][\"HOT\"]\n",
    "url4 = IO[\"BASE\"] +  IO[\"SUBR\"][\"WALLSTREETBETS\"] + IO[\"LIST\"][\"NEW\"]"
   ]
  },
  {
   "cell_type": "code",
   "execution_count": 4,
   "metadata": {},
   "outputs": [
    {
     "name": "stderr",
     "output_type": "stream",
     "text": [
      "C:\\Users\\Vincent\\Desktop\\nlp-stock-market-trend-prediction-with-reddit-posts\\common\\tools.py:160: PerformanceWarning: DataFrame is highly fragmented.  This is usually the result of calling `frame.insert` many times, which has poor performance.  Consider using pd.concat instead.  To get a de-fragmented frame, use `newframe = frame.copy()`\n",
      "  df.reset_index(inplace=True)\n"
     ]
    },
    {
     "name": "stdout",
     "output_type": "stream",
     "text": [
      "SKIP: 2021-07-31\n",
      "C:\\Users\\Vincent\\Desktop\\nlp-stock-market-trend-prediction-with-reddit-posts\\data\\wallstreetbets\\HOT\\2021-08-01.pd\n",
      "C:\\Users\\Vincent\\Desktop\\nlp-stock-market-trend-prediction-with-reddit-posts\\data\\wallstreetbets\\HOT\\2021-08-02.pd\n",
      "C:\\Users\\Vincent\\Desktop\\nlp-stock-market-trend-prediction-with-reddit-posts\\data\\wallstreetbets\\HOT\\2021-08-03.pd\n",
      "C:\\Users\\Vincent\\Desktop\\nlp-stock-market-trend-prediction-with-reddit-posts\\data\\wallstreetbets\\HOT\\2021-08-04.pd\n",
      "SKIP: 2021-07-20\n",
      "C:\\Users\\Vincent\\Desktop\\nlp-stock-market-trend-prediction-with-reddit-posts\\data\\StockMarket\\HOT\\2021-07-21.pd\n",
      "C:\\Users\\Vincent\\Desktop\\nlp-stock-market-trend-prediction-with-reddit-posts\\data\\StockMarket\\HOT\\2021-07-22.pd\n",
      "C:\\Users\\Vincent\\Desktop\\nlp-stock-market-trend-prediction-with-reddit-posts\\data\\StockMarket\\HOT\\2021-07-23.pd\n",
      "C:\\Users\\Vincent\\Desktop\\nlp-stock-market-trend-prediction-with-reddit-posts\\data\\StockMarket\\HOT\\2021-07-24.pd\n",
      "C:\\Users\\Vincent\\Desktop\\nlp-stock-market-trend-prediction-with-reddit-posts\\data\\StockMarket\\HOT\\2021-07-25.pd\n",
      "C:\\Users\\Vincent\\Desktop\\nlp-stock-market-trend-prediction-with-reddit-posts\\data\\StockMarket\\HOT\\2021-07-26.pd\n",
      "C:\\Users\\Vincent\\Desktop\\nlp-stock-market-trend-prediction-with-reddit-posts\\data\\StockMarket\\HOT\\2021-07-27.pd\n",
      "C:\\Users\\Vincent\\Desktop\\nlp-stock-market-trend-prediction-with-reddit-posts\\data\\StockMarket\\HOT\\2021-07-28.pd\n",
      "C:\\Users\\Vincent\\Desktop\\nlp-stock-market-trend-prediction-with-reddit-posts\\data\\StockMarket\\HOT\\2021-07-29.pd\n",
      "C:\\Users\\Vincent\\Desktop\\nlp-stock-market-trend-prediction-with-reddit-posts\\data\\StockMarket\\HOT\\2021-07-30.pd\n",
      "C:\\Users\\Vincent\\Desktop\\nlp-stock-market-trend-prediction-with-reddit-posts\\data\\StockMarket\\HOT\\2021-07-31.pd\n",
      "C:\\Users\\Vincent\\Desktop\\nlp-stock-market-trend-prediction-with-reddit-posts\\data\\StockMarket\\HOT\\2021-08-01.pd\n",
      "C:\\Users\\Vincent\\Desktop\\nlp-stock-market-trend-prediction-with-reddit-posts\\data\\StockMarket\\HOT\\2021-08-02.pd\n",
      "C:\\Users\\Vincent\\Desktop\\nlp-stock-market-trend-prediction-with-reddit-posts\\data\\StockMarket\\HOT\\2021-08-03.pd\n",
      "C:\\Users\\Vincent\\Desktop\\nlp-stock-market-trend-prediction-with-reddit-posts\\data\\StockMarket\\HOT\\2021-08-04.pd\n",
      "SKIP: 2021-07-20\n",
      "C:\\Users\\Vincent\\Desktop\\nlp-stock-market-trend-prediction-with-reddit-posts\\data\\wallstreetbets\\NEW\\2021-07-21.pd\n",
      "C:\\Users\\Vincent\\Desktop\\nlp-stock-market-trend-prediction-with-reddit-posts\\data\\wallstreetbets\\NEW\\2021-07-22.pd\n",
      "C:\\Users\\Vincent\\Desktop\\nlp-stock-market-trend-prediction-with-reddit-posts\\data\\wallstreetbets\\NEW\\2021-07-23.pd\n",
      "C:\\Users\\Vincent\\Desktop\\nlp-stock-market-trend-prediction-with-reddit-posts\\data\\wallstreetbets\\NEW\\2021-07-24.pd\n",
      "C:\\Users\\Vincent\\Desktop\\nlp-stock-market-trend-prediction-with-reddit-posts\\data\\wallstreetbets\\NEW\\2021-07-25.pd\n",
      "C:\\Users\\Vincent\\Desktop\\nlp-stock-market-trend-prediction-with-reddit-posts\\data\\wallstreetbets\\NEW\\2021-07-26.pd\n",
      "C:\\Users\\Vincent\\Desktop\\nlp-stock-market-trend-prediction-with-reddit-posts\\data\\wallstreetbets\\NEW\\2021-07-27.pd\n",
      "C:\\Users\\Vincent\\Desktop\\nlp-stock-market-trend-prediction-with-reddit-posts\\data\\wallstreetbets\\NEW\\2021-07-28.pd\n",
      "C:\\Users\\Vincent\\Desktop\\nlp-stock-market-trend-prediction-with-reddit-posts\\data\\wallstreetbets\\NEW\\2021-07-29.pd\n",
      "C:\\Users\\Vincent\\Desktop\\nlp-stock-market-trend-prediction-with-reddit-posts\\data\\wallstreetbets\\NEW\\2021-07-30.pd\n",
      "C:\\Users\\Vincent\\Desktop\\nlp-stock-market-trend-prediction-with-reddit-posts\\data\\wallstreetbets\\NEW\\2021-07-31.pd\n",
      "C:\\Users\\Vincent\\Desktop\\nlp-stock-market-trend-prediction-with-reddit-posts\\data\\wallstreetbets\\NEW\\2021-08-01.pd\n",
      "C:\\Users\\Vincent\\Desktop\\nlp-stock-market-trend-prediction-with-reddit-posts\\data\\wallstreetbets\\NEW\\2021-08-02.pd\n",
      "C:\\Users\\Vincent\\Desktop\\nlp-stock-market-trend-prediction-with-reddit-posts\\data\\wallstreetbets\\NEW\\2021-08-03.pd\n",
      "C:\\Users\\Vincent\\Desktop\\nlp-stock-market-trend-prediction-with-reddit-posts\\data\\wallstreetbets\\NEW\\2021-08-04.pd\n"
     ]
    }
   ],
   "source": [
    "for url in [url1, url2, url4]:\n",
    "    r.bulk_store_threads(url, 20)"
   ]
  },
  {
   "cell_type": "markdown",
   "metadata": {},
   "source": [
    "# load raw data"
   ]
  },
  {
   "cell_type": "code",
   "execution_count": 9,
   "metadata": {},
   "outputs": [
    {
     "data": {
      "text/plain": [
       "['Classifier',\n",
       " 'SecurityAnalysis',\n",
       " 'StockMarket',\n",
       " 'Symbols',\n",
       " 'symbols.pd',\n",
       " 'wallstreetbets',\n",
       " 'wallstreetbets.pd']"
      ]
     },
     "execution_count": 9,
     "metadata": {},
     "output_type": "execute_result"
    }
   ],
   "source": [
    "r.subreddits"
   ]
  },
  {
   "cell_type": "code",
   "execution_count": 10,
   "metadata": {},
   "outputs": [],
   "source": [
    "cols = [\"id\", \"created_at\", \"title\", \"selftext\", \"score\",\"permalink\"]"
   ]
  },
  {
   "cell_type": "code",
   "execution_count": 11,
   "metadata": {},
   "outputs": [],
   "source": [
    "subreddit = r.subreddits[-2]"
   ]
  },
  {
   "cell_type": "code",
   "execution_count": 12,
   "metadata": {},
   "outputs": [
    {
     "data": {
      "text/html": [
       "<div>\n",
       "<style scoped>\n",
       "    .dataframe tbody tr th:only-of-type {\n",
       "        vertical-align: middle;\n",
       "    }\n",
       "\n",
       "    .dataframe tbody tr th {\n",
       "        vertical-align: top;\n",
       "    }\n",
       "\n",
       "    .dataframe thead th {\n",
       "        text-align: right;\n",
       "    }\n",
       "</style>\n",
       "<table border=\"1\" class=\"dataframe\">\n",
       "  <thead>\n",
       "    <tr style=\"text-align: right;\">\n",
       "      <th></th>\n",
       "      <th>id</th>\n",
       "      <th>created_at</th>\n",
       "      <th>title</th>\n",
       "      <th>selftext</th>\n",
       "      <th>score</th>\n",
       "      <th>permalink</th>\n",
       "    </tr>\n",
       "  </thead>\n",
       "  <tbody>\n",
       "    <tr>\n",
       "      <th>0</th>\n",
       "      <td>t3_orp8pf</td>\n",
       "      <td>2021-07-26</td>\n",
       "      <td>The most speculative play of the year $bb</td>\n",
       "      <td>Good evening gents. If you’re reading this you...</td>\n",
       "      <td>94.0</td>\n",
       "      <td>/r/wallstreetbets/comments/orp8pf/the_most_spe...</td>\n",
       "    </tr>\n",
       "    <tr>\n",
       "      <th>1</th>\n",
       "      <td>t3_orvmod</td>\n",
       "      <td>2021-07-26</td>\n",
       "      <td>Can anyone tell me how dumb i am? plzzz</td>\n",
       "      <td>**$5,000 Cash into Volatile Market**\\n\\nMonday...</td>\n",
       "      <td>0.0</td>\n",
       "      <td>/r/wallstreetbets/comments/orvmod/can_anyone_t...</td>\n",
       "    </tr>\n",
       "    <tr>\n",
       "      <th>2</th>\n",
       "      <td>t3_orvfvg</td>\n",
       "      <td>2021-07-26</td>\n",
       "      <td>Huya: The number 1 game livestreaming platform...</td>\n",
       "      <td>Just thinking aloud... This company has alot o...</td>\n",
       "      <td>4.0</td>\n",
       "      <td>/r/wallstreetbets/comments/orvfvg/huya_the_num...</td>\n",
       "    </tr>\n",
       "    <tr>\n",
       "      <th>3</th>\n",
       "      <td>t3_orv4dt</td>\n",
       "      <td>2021-07-26</td>\n",
       "      <td>RIP Biz it's like he was part of this sub</td>\n",
       "      <td></td>\n",
       "      <td>47.0</td>\n",
       "      <td>/r/wallstreetbets/comments/orv4dt/rip_biz_its_...</td>\n",
       "    </tr>\n",
       "    <tr>\n",
       "      <th>4</th>\n",
       "      <td>t3_oruxsq</td>\n",
       "      <td>2021-07-26</td>\n",
       "      <td>Fraternal Association of Gambling Gentlemen an...</td>\n",
       "      <td>Inductions\\n------\\n\\n\\n----------\\nUser|Cast ...</td>\n",
       "      <td>1.0</td>\n",
       "      <td>/r/wallstreetbets/comments/oruxsq/fraternal_as...</td>\n",
       "    </tr>\n",
       "  </tbody>\n",
       "</table>\n",
       "</div>"
      ],
      "text/plain": [
       "          id  created_at                                              title  \\\n",
       "0  t3_orp8pf  2021-07-26          The most speculative play of the year $bb   \n",
       "1  t3_orvmod  2021-07-26            Can anyone tell me how dumb i am? plzzz   \n",
       "2  t3_orvfvg  2021-07-26  Huya: The number 1 game livestreaming platform...   \n",
       "3  t3_orv4dt  2021-07-26          RIP Biz it's like he was part of this sub   \n",
       "4  t3_oruxsq  2021-07-26  Fraternal Association of Gambling Gentlemen an...   \n",
       "\n",
       "                                            selftext  score  \\\n",
       "0  Good evening gents. If you’re reading this you...   94.0   \n",
       "1  **$5,000 Cash into Volatile Market**\\n\\nMonday...    0.0   \n",
       "2  Just thinking aloud... This company has alot o...    4.0   \n",
       "3                                                      47.0   \n",
       "4  Inductions\\n------\\n\\n\\n----------\\nUser|Cast ...    1.0   \n",
       "\n",
       "                                           permalink  \n",
       "0  /r/wallstreetbets/comments/orp8pf/the_most_spe...  \n",
       "1  /r/wallstreetbets/comments/orvmod/can_anyone_t...  \n",
       "2  /r/wallstreetbets/comments/orvfvg/huya_the_num...  \n",
       "3  /r/wallstreetbets/comments/orv4dt/rip_biz_its_...  \n",
       "4  /r/wallstreetbets/comments/oruxsq/fraternal_as...  "
      ]
     },
     "execution_count": 12,
     "metadata": {},
     "output_type": "execute_result"
    }
   ],
   "source": [
    "df = r.load_raw_text(os.path.join(r.filepath, subreddit, \"hot\"), cols)\n",
    "df.head()"
   ]
  },
  {
   "cell_type": "code",
   "execution_count": 13,
   "metadata": {},
   "outputs": [
    {
     "data": {
      "text/plain": [
       "(3184, 6)"
      ]
     },
     "execution_count": 13,
     "metadata": {},
     "output_type": "execute_result"
    }
   ],
   "source": [
    "df.shape"
   ]
  },
  {
   "cell_type": "code",
   "execution_count": 14,
   "metadata": {},
   "outputs": [
    {
     "data": {
      "text/plain": [
       "Index(['id', 'created_at', 'title', 'selftext', 'score', 'permalink'], dtype='object')"
      ]
     },
     "execution_count": 14,
     "metadata": {},
     "output_type": "execute_result"
    }
   ],
   "source": [
    "df.columns"
   ]
  },
  {
   "cell_type": "markdown",
   "metadata": {},
   "source": [
    "# load comments and store data"
   ]
  },
  {
   "cell_type": "code",
   "execution_count": 15,
   "metadata": {},
   "outputs": [],
   "source": [
    "def load_comments(url):\n",
    "    try:\n",
    "        df = r.get_comments(url)\n",
    "        if not \"body\" in df.columns:\n",
    "            return []\n",
    "        return df.body.to_list()\n",
    "    except:\n",
    "        return []"
   ]
  },
  {
   "cell_type": "code",
   "execution_count": 16,
   "metadata": {},
   "outputs": [],
   "source": [
    "df[\"all_comments\"] = df.permalink.apply(lambda url: load_comments(url))"
   ]
  },
  {
   "cell_type": "code",
   "execution_count": 17,
   "metadata": {},
   "outputs": [
    {
     "data": {
      "text/html": [
       "<div>\n",
       "<style scoped>\n",
       "    .dataframe tbody tr th:only-of-type {\n",
       "        vertical-align: middle;\n",
       "    }\n",
       "\n",
       "    .dataframe tbody tr th {\n",
       "        vertical-align: top;\n",
       "    }\n",
       "\n",
       "    .dataframe thead th {\n",
       "        text-align: right;\n",
       "    }\n",
       "</style>\n",
       "<table border=\"1\" class=\"dataframe\">\n",
       "  <thead>\n",
       "    <tr style=\"text-align: right;\">\n",
       "      <th></th>\n",
       "      <th>id</th>\n",
       "      <th>created_at</th>\n",
       "      <th>title</th>\n",
       "      <th>selftext</th>\n",
       "      <th>score</th>\n",
       "      <th>permalink</th>\n",
       "      <th>all_comments</th>\n",
       "    </tr>\n",
       "  </thead>\n",
       "  <tbody>\n",
       "    <tr>\n",
       "      <th>0</th>\n",
       "      <td>t3_orp8pf</td>\n",
       "      <td>2021-07-26</td>\n",
       "      <td>The most speculative play of the year $bb</td>\n",
       "      <td>Good evening gents. If you’re reading this you...</td>\n",
       "      <td>94.0</td>\n",
       "      <td>/r/wallstreetbets/comments/orp8pf/the_most_spe...</td>\n",
       "      <td>[\\n**User Report**| | | |\\n:--|:--|:--|:--\\n**...</td>\n",
       "    </tr>\n",
       "    <tr>\n",
       "      <th>1</th>\n",
       "      <td>t3_orvmod</td>\n",
       "      <td>2021-07-26</td>\n",
       "      <td>Can anyone tell me how dumb i am? plzzz</td>\n",
       "      <td>**$5,000 Cash into Volatile Market**\\n\\nMonday...</td>\n",
       "      <td>0.0</td>\n",
       "      <td>/r/wallstreetbets/comments/orvmod/can_anyone_t...</td>\n",
       "      <td>[\\n**User Report**| | | |\\n:--|:--|:--|:--\\n**...</td>\n",
       "    </tr>\n",
       "    <tr>\n",
       "      <th>2</th>\n",
       "      <td>t3_orvfvg</td>\n",
       "      <td>2021-07-26</td>\n",
       "      <td>Huya: The number 1 game livestreaming platform...</td>\n",
       "      <td>Just thinking aloud... This company has alot o...</td>\n",
       "      <td>4.0</td>\n",
       "      <td>/r/wallstreetbets/comments/orvfvg/huya_the_num...</td>\n",
       "      <td>[\\n**User Report**| | | |\\n:--|:--|:--|:--\\n**...</td>\n",
       "    </tr>\n",
       "    <tr>\n",
       "      <th>3</th>\n",
       "      <td>t3_orv4dt</td>\n",
       "      <td>2021-07-26</td>\n",
       "      <td>RIP Biz it's like he was part of this sub</td>\n",
       "      <td></td>\n",
       "      <td>47.0</td>\n",
       "      <td>/r/wallstreetbets/comments/orv4dt/rip_biz_its_...</td>\n",
       "      <td>[\\n**User Report**| | | |\\n:--|:--|:--|:--\\n**...</td>\n",
       "    </tr>\n",
       "    <tr>\n",
       "      <th>4</th>\n",
       "      <td>t3_oruxsq</td>\n",
       "      <td>2021-07-26</td>\n",
       "      <td>Fraternal Association of Gambling Gentlemen an...</td>\n",
       "      <td>Inductions\\n------\\n\\n\\n----------\\nUser|Cast ...</td>\n",
       "      <td>1.0</td>\n",
       "      <td>/r/wallstreetbets/comments/oruxsq/fraternal_as...</td>\n",
       "      <td>[Choppy waters ahead and good morning ☕️, “Wha...</td>\n",
       "    </tr>\n",
       "  </tbody>\n",
       "</table>\n",
       "</div>"
      ],
      "text/plain": [
       "          id  created_at                                              title  \\\n",
       "0  t3_orp8pf  2021-07-26          The most speculative play of the year $bb   \n",
       "1  t3_orvmod  2021-07-26            Can anyone tell me how dumb i am? plzzz   \n",
       "2  t3_orvfvg  2021-07-26  Huya: The number 1 game livestreaming platform...   \n",
       "3  t3_orv4dt  2021-07-26          RIP Biz it's like he was part of this sub   \n",
       "4  t3_oruxsq  2021-07-26  Fraternal Association of Gambling Gentlemen an...   \n",
       "\n",
       "                                            selftext  score  \\\n",
       "0  Good evening gents. If you’re reading this you...   94.0   \n",
       "1  **$5,000 Cash into Volatile Market**\\n\\nMonday...    0.0   \n",
       "2  Just thinking aloud... This company has alot o...    4.0   \n",
       "3                                                      47.0   \n",
       "4  Inductions\\n------\\n\\n\\n----------\\nUser|Cast ...    1.0   \n",
       "\n",
       "                                           permalink  \\\n",
       "0  /r/wallstreetbets/comments/orp8pf/the_most_spe...   \n",
       "1  /r/wallstreetbets/comments/orvmod/can_anyone_t...   \n",
       "2  /r/wallstreetbets/comments/orvfvg/huya_the_num...   \n",
       "3  /r/wallstreetbets/comments/orv4dt/rip_biz_its_...   \n",
       "4  /r/wallstreetbets/comments/oruxsq/fraternal_as...   \n",
       "\n",
       "                                        all_comments  \n",
       "0  [\\n**User Report**| | | |\\n:--|:--|:--|:--\\n**...  \n",
       "1  [\\n**User Report**| | | |\\n:--|:--|:--|:--\\n**...  \n",
       "2  [\\n**User Report**| | | |\\n:--|:--|:--|:--\\n**...  \n",
       "3  [\\n**User Report**| | | |\\n:--|:--|:--|:--\\n**...  \n",
       "4  [Choppy waters ahead and good morning ☕️, “Wha...  "
      ]
     },
     "execution_count": 17,
     "metadata": {},
     "output_type": "execute_result"
    }
   ],
   "source": [
    "df.head()"
   ]
  },
  {
   "cell_type": "code",
   "execution_count": 18,
   "metadata": {},
   "outputs": [
    {
     "name": "stdout",
     "output_type": "stream",
     "text": [
      "C:\\Users\\Vincent\\Desktop\\nlp-stock-market-trend-prediction-with-reddit-posts\\data\\wallstreetbets.pd\n"
     ]
    }
   ],
   "source": [
    "if True:\n",
    "    filepath = IO[\"OUTPUT\"][\"THREADS\"] + subreddit + \".pd\"\n",
    "    df.to_pickle(filepath)\n",
    "    print(filepath)"
   ]
  },
  {
   "cell_type": "code",
   "execution_count": null,
   "metadata": {},
   "outputs": [],
   "source": []
  }
 ],
 "metadata": {
  "kernelspec": {
   "display_name": "Python 3",
   "language": "python",
   "name": "python3"
  },
  "language_info": {
   "codemirror_mode": {
    "name": "ipython",
    "version": 3
   },
   "file_extension": ".py",
   "mimetype": "text/x-python",
   "name": "python",
   "nbconvert_exporter": "python",
   "pygments_lexer": "ipython3",
   "version": "3.7.4"
  }
 },
 "nbformat": 4,
 "nbformat_minor": 2
}
