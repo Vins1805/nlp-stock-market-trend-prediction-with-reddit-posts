{
 "cells": [
  {
   "cell_type": "code",
   "execution_count": 1,
   "metadata": {},
   "outputs": [],
   "source": [
    "from common.tools import Reddit\n",
    "from common.translations import IO\n",
    "import pandas as pd\n",
    "from datetime import datetime as dt\n",
    "import os\n",
    "import matplotlib.pyplot as plt"
   ]
  },
  {
   "cell_type": "code",
   "execution_count": 2,
   "metadata": {},
   "outputs": [
    {
     "data": {
      "text/plain": [
       "['SecurityAnalysis', 'StockMarket', 'wallstreetbets', 'wallstreetbets.pd']"
      ]
     },
     "execution_count": 2,
     "metadata": {},
     "output_type": "execute_result"
    }
   ],
   "source": [
    "r = Reddit()\n",
    "r.subreddits"
   ]
  },
  {
   "cell_type": "code",
   "execution_count": 3,
   "metadata": {},
   "outputs": [],
   "source": [
    "subreddit = r.subreddits[2]"
   ]
  },
  {
   "cell_type": "code",
   "execution_count": 4,
   "metadata": {},
   "outputs": [],
   "source": [
    "filepath = IO[\"OUTPUT\"][\"THREADS\"] + subreddit + \".pd\"\n",
    "df = pd.read_pickle(filepath)"
   ]
  },
  {
   "cell_type": "code",
   "execution_count": 5,
   "metadata": {},
   "outputs": [
    {
     "data": {
      "text/html": [
       "<div>\n",
       "<style scoped>\n",
       "    .dataframe tbody tr th:only-of-type {\n",
       "        vertical-align: middle;\n",
       "    }\n",
       "\n",
       "    .dataframe tbody tr th {\n",
       "        vertical-align: top;\n",
       "    }\n",
       "\n",
       "    .dataframe thead th {\n",
       "        text-align: right;\n",
       "    }\n",
       "</style>\n",
       "<table border=\"1\" class=\"dataframe\">\n",
       "  <thead>\n",
       "    <tr style=\"text-align: right;\">\n",
       "      <th></th>\n",
       "      <th>created_at</th>\n",
       "      <th>title</th>\n",
       "      <th>selftext</th>\n",
       "      <th>score</th>\n",
       "      <th>permalink</th>\n",
       "      <th>all_comments</th>\n",
       "    </tr>\n",
       "  </thead>\n",
       "  <tbody>\n",
       "    <tr>\n",
       "      <th>0</th>\n",
       "      <td>2021-05-16</td>\n",
       "      <td>Life savings of 43k into UWMC - I have a crapp...</td>\n",
       "      <td></td>\n",
       "      <td>1120.0</td>\n",
       "      <td>/r/wallstreetbets/comments/ndgwki/life_savings...</td>\n",
       "      <td>[Can't you just turn your civic into a sports ...</td>\n",
       "    </tr>\n",
       "    <tr>\n",
       "      <th>1</th>\n",
       "      <td>2021-06-08</td>\n",
       "      <td>My current $3.7 mil portfolio, powered entirel...</td>\n",
       "      <td></td>\n",
       "      <td>4467.0</td>\n",
       "      <td>/r/wallstreetbets/comments/nv5gs3/my_current_3...</td>\n",
       "      <td>[You could retire comfortably. I’m glad you’ve...</td>\n",
       "    </tr>\n",
       "    <tr>\n",
       "      <th>2</th>\n",
       "      <td>2021-06-09</td>\n",
       "      <td>$UWMC This rocket is fueled and ready 🚀🚀🚀</td>\n",
       "      <td></td>\n",
       "      <td>358.0</td>\n",
       "      <td>/r/wallstreetbets/comments/nw73p0/uwmc_this_ro...</td>\n",
       "      <td>[I’m in for 400 shares at 7.90 cost basis. Bee...</td>\n",
       "    </tr>\n",
       "    <tr>\n",
       "      <th>3</th>\n",
       "      <td>2021-06-10</td>\n",
       "      <td>$ASO - Your YOLOs don't have to be retarded(A ...</td>\n",
       "      <td>All you retards dumping your life savings in c...</td>\n",
       "      <td>208.0</td>\n",
       "      <td>/r/wallstreetbets/comments/nwysob/aso_your_yol...</td>\n",
       "      <td>[Smooth brain enjoy, picturebook good, easy.\\n...</td>\n",
       "    </tr>\n",
       "    <tr>\n",
       "      <th>4</th>\n",
       "      <td>2021-06-10</td>\n",
       "      <td>$CLOV was a meme stock, but it was undervalued...</td>\n",
       "      <td>I’ll admit it, I didn’t do any fucking researc...</td>\n",
       "      <td>240.0</td>\n",
       "      <td>/r/wallstreetbets/comments/nwz20e/clov_was_a_m...</td>\n",
       "      <td>[Just a dumb ape here but isn't Ortex reportin...</td>\n",
       "    </tr>\n",
       "  </tbody>\n",
       "</table>\n",
       "</div>"
      ],
      "text/plain": [
       "   created_at                                              title  \\\n",
       "0  2021-05-16  Life savings of 43k into UWMC - I have a crapp...   \n",
       "1  2021-06-08  My current $3.7 mil portfolio, powered entirel...   \n",
       "2  2021-06-09          $UWMC This rocket is fueled and ready 🚀🚀🚀   \n",
       "3  2021-06-10  $ASO - Your YOLOs don't have to be retarded(A ...   \n",
       "4  2021-06-10  $CLOV was a meme stock, but it was undervalued...   \n",
       "\n",
       "                                            selftext   score  \\\n",
       "0                                                     1120.0   \n",
       "1                                                     4467.0   \n",
       "2                                                      358.0   \n",
       "3  All you retards dumping your life savings in c...   208.0   \n",
       "4  I’ll admit it, I didn’t do any fucking researc...   240.0   \n",
       "\n",
       "                                           permalink  \\\n",
       "0  /r/wallstreetbets/comments/ndgwki/life_savings...   \n",
       "1  /r/wallstreetbets/comments/nv5gs3/my_current_3...   \n",
       "2  /r/wallstreetbets/comments/nw73p0/uwmc_this_ro...   \n",
       "3  /r/wallstreetbets/comments/nwysob/aso_your_yol...   \n",
       "4  /r/wallstreetbets/comments/nwz20e/clov_was_a_m...   \n",
       "\n",
       "                                        all_comments  \n",
       "0  [Can't you just turn your civic into a sports ...  \n",
       "1  [You could retire comfortably. I’m glad you’ve...  \n",
       "2  [I’m in for 400 shares at 7.90 cost basis. Bee...  \n",
       "3  [Smooth brain enjoy, picturebook good, easy.\\n...  \n",
       "4  [Just a dumb ape here but isn't Ortex reportin...  "
      ]
     },
     "execution_count": 5,
     "metadata": {},
     "output_type": "execute_result"
    }
   ],
   "source": [
    "df.head()"
   ]
  },
  {
   "cell_type": "markdown",
   "metadata": {},
   "source": [
    "# Text pre-processing"
   ]
  },
  {
   "cell_type": "code",
   "execution_count": 6,
   "metadata": {},
   "outputs": [],
   "source": [
    "import re\n",
    "import string"
   ]
  },
  {
   "cell_type": "code",
   "execution_count": 7,
   "metadata": {},
   "outputs": [],
   "source": [
    "#df[\"text\"] = df.apply(lambda row: row[\"title\"] + \" \".join(row[\"all_comments\"]), axis=1)\n",
    "df[\"text\"] = df.apply(lambda row: row[\"title\"] + row[\"selftext\"], axis=1)"
   ]
  },
  {
   "cell_type": "code",
   "execution_count": 8,
   "metadata": {},
   "outputs": [],
   "source": [
    "def cleaning(text):\n",
    "    text = text.lower()\n",
    "    text = re.sub(\"\\[.*\\]\", \"\", text)\n",
    "    text = re.sub(\"\\(.*\\)\", \"\", text)\n",
    "    text = re.sub(f\"[{re.escape(string.punctuation)}]\", \"\", text)\n",
    "    text = re.sub(\"\\w*\\d\\w*\", \"\", text)\n",
    "    text = re.sub(\"\\s{2}\", \" \", text)\n",
    "    text = text.encode(\"ascii\", \"ignore\").decode(\"ascii\") # removing emojis\n",
    "    return text"
   ]
  },
  {
   "cell_type": "code",
   "execution_count": 9,
   "metadata": {},
   "outputs": [],
   "source": [
    "df[\"text\"] = df.text.apply(lambda text: cleaning(text))\n",
    "#df[\"title\"] = df.title.apply(lambda title: cleaning(title))\n",
    "#df[\"selftext\"] = df.selftext.apply(lambda text: cleaning(text))\n",
    "#df[\"all_comments\"] = df.all_comments.apply(lambda comments: [cleaning(comment) for comment in comments])"
   ]
  },
  {
   "cell_type": "code",
   "execution_count": 10,
   "metadata": {},
   "outputs": [
    {
     "name": "stderr",
     "output_type": "stream",
     "text": [
      "C:\\ProgramData\\Anaconda3\\lib\\site-packages\\sklearn\\feature_extraction\\image.py:167: DeprecationWarning: `np.int` is a deprecated alias for the builtin `int`. To silence this warning, use `int` by itself. Doing this will not modify any behavior and is safe. When replacing `np.int`, you may wish to use e.g. `np.int64` or `np.int32` to specify the precision. If you wish to review your current use, check the release note link for additional information.\n",
      "Deprecated in NumPy 1.20; for more details and guidance: https://numpy.org/devdocs/release/1.20.0-notes.html#deprecations\n",
      "  dtype=np.int):\n",
      "C:\\ProgramData\\Anaconda3\\lib\\site-packages\\sklearn\\linear_model\\least_angle.py:30: DeprecationWarning: `np.float` is a deprecated alias for the builtin `float`. To silence this warning, use `float` by itself. Doing this will not modify any behavior and is safe. If you specifically wanted the numpy scalar type, use `np.float64` here.\n",
      "Deprecated in NumPy 1.20; for more details and guidance: https://numpy.org/devdocs/release/1.20.0-notes.html#deprecations\n",
      "  method='lar', copy_X=True, eps=np.finfo(np.float).eps,\n",
      "C:\\ProgramData\\Anaconda3\\lib\\site-packages\\sklearn\\linear_model\\least_angle.py:167: DeprecationWarning: `np.float` is a deprecated alias for the builtin `float`. To silence this warning, use `float` by itself. Doing this will not modify any behavior and is safe. If you specifically wanted the numpy scalar type, use `np.float64` here.\n",
      "Deprecated in NumPy 1.20; for more details and guidance: https://numpy.org/devdocs/release/1.20.0-notes.html#deprecations\n",
      "  method='lar', copy_X=True, eps=np.finfo(np.float).eps,\n",
      "C:\\ProgramData\\Anaconda3\\lib\\site-packages\\sklearn\\linear_model\\least_angle.py:284: DeprecationWarning: `np.float` is a deprecated alias for the builtin `float`. To silence this warning, use `float` by itself. Doing this will not modify any behavior and is safe. If you specifically wanted the numpy scalar type, use `np.float64` here.\n",
      "Deprecated in NumPy 1.20; for more details and guidance: https://numpy.org/devdocs/release/1.20.0-notes.html#deprecations\n",
      "  eps=np.finfo(np.float).eps, copy_Gram=True, verbose=0,\n",
      "C:\\ProgramData\\Anaconda3\\lib\\site-packages\\sklearn\\linear_model\\least_angle.py:862: DeprecationWarning: `np.float` is a deprecated alias for the builtin `float`. To silence this warning, use `float` by itself. Doing this will not modify any behavior and is safe. If you specifically wanted the numpy scalar type, use `np.float64` here.\n",
      "Deprecated in NumPy 1.20; for more details and guidance: https://numpy.org/devdocs/release/1.20.0-notes.html#deprecations\n",
      "  eps=np.finfo(np.float).eps, copy_X=True, fit_path=True,\n",
      "C:\\ProgramData\\Anaconda3\\lib\\site-packages\\sklearn\\linear_model\\least_angle.py:1101: DeprecationWarning: `np.float` is a deprecated alias for the builtin `float`. To silence this warning, use `float` by itself. Doing this will not modify any behavior and is safe. If you specifically wanted the numpy scalar type, use `np.float64` here.\n",
      "Deprecated in NumPy 1.20; for more details and guidance: https://numpy.org/devdocs/release/1.20.0-notes.html#deprecations\n",
      "  eps=np.finfo(np.float).eps, copy_X=True, fit_path=True,\n",
      "C:\\ProgramData\\Anaconda3\\lib\\site-packages\\sklearn\\linear_model\\least_angle.py:1127: DeprecationWarning: `np.float` is a deprecated alias for the builtin `float`. To silence this warning, use `float` by itself. Doing this will not modify any behavior and is safe. If you specifically wanted the numpy scalar type, use `np.float64` here.\n",
      "Deprecated in NumPy 1.20; for more details and guidance: https://numpy.org/devdocs/release/1.20.0-notes.html#deprecations\n",
      "  eps=np.finfo(np.float).eps, positive=False):\n",
      "C:\\ProgramData\\Anaconda3\\lib\\site-packages\\sklearn\\linear_model\\least_angle.py:1362: DeprecationWarning: `np.float` is a deprecated alias for the builtin `float`. To silence this warning, use `float` by itself. Doing this will not modify any behavior and is safe. If you specifically wanted the numpy scalar type, use `np.float64` here.\n",
      "Deprecated in NumPy 1.20; for more details and guidance: https://numpy.org/devdocs/release/1.20.0-notes.html#deprecations\n",
      "  max_n_alphas=1000, n_jobs=None, eps=np.finfo(np.float).eps,\n",
      "C:\\ProgramData\\Anaconda3\\lib\\site-packages\\sklearn\\linear_model\\least_angle.py:1602: DeprecationWarning: `np.float` is a deprecated alias for the builtin `float`. To silence this warning, use `float` by itself. Doing this will not modify any behavior and is safe. If you specifically wanted the numpy scalar type, use `np.float64` here.\n",
      "Deprecated in NumPy 1.20; for more details and guidance: https://numpy.org/devdocs/release/1.20.0-notes.html#deprecations\n",
      "  max_n_alphas=1000, n_jobs=None, eps=np.finfo(np.float).eps,\n",
      "C:\\ProgramData\\Anaconda3\\lib\\site-packages\\sklearn\\linear_model\\least_angle.py:1738: DeprecationWarning: `np.float` is a deprecated alias for the builtin `float`. To silence this warning, use `float` by itself. Doing this will not modify any behavior and is safe. If you specifically wanted the numpy scalar type, use `np.float64` here.\n",
      "Deprecated in NumPy 1.20; for more details and guidance: https://numpy.org/devdocs/release/1.20.0-notes.html#deprecations\n",
      "  eps=np.finfo(np.float).eps, copy_X=True, positive=False):\n",
      "[nltk_data] Downloading package wordnet to\n",
      "[nltk_data]     C:\\Users\\Vincent\\AppData\\Roaming\\nltk_data...\n",
      "[nltk_data]   Package wordnet is already up-to-date!\n",
      "[nltk_data] Downloading package stopwords to\n",
      "[nltk_data]     C:\\Users\\Vincent\\AppData\\Roaming\\nltk_data...\n",
      "[nltk_data]   Package stopwords is already up-to-date!\n"
     ]
    }
   ],
   "source": [
    "import nltk\n",
    "nltk.download('wordnet')\n",
    "nltk.download(\"stopwords\")\n",
    "\n",
    "from nltk.corpus import stopwords\n",
    "from nltk.corpus import wordnet\n",
    "from nltk.stem.wordnet import WordNetLemmatizer\n",
    "from nltk.tokenize import word_tokenize"
   ]
  },
  {
   "cell_type": "code",
   "execution_count": 11,
   "metadata": {},
   "outputs": [],
   "source": [
    "def get_lemma(word):\n",
    "    lemma = wordnet.morphy(word)\n",
    "    if lemma:\n",
    "        return lemma\n",
    "    return word"
   ]
  },
  {
   "cell_type": "code",
   "execution_count": 12,
   "metadata": {},
   "outputs": [],
   "source": [
    "def get_root_word(word):\n",
    "    return WordNetLemmatizer().lemmatize(word)"
   ]
  },
  {
   "cell_type": "code",
   "execution_count": 13,
   "metadata": {},
   "outputs": [],
   "source": [
    "stop_words = set(stopwords.words(\"english\"))"
   ]
  },
  {
   "cell_type": "code",
   "execution_count": 14,
   "metadata": {},
   "outputs": [],
   "source": [
    "df[\"tokens\"] = df.text.apply(lambda t: [get_lemma(token) for token in word_tokenize(t) if token not in stop_words])"
   ]
  },
  {
   "cell_type": "markdown",
   "metadata": {},
   "source": [
    "# LDA"
   ]
  },
  {
   "cell_type": "code",
   "execution_count": 15,
   "metadata": {},
   "outputs": [
    {
     "name": "stderr",
     "output_type": "stream",
     "text": [
      "C:\\Users\\Vincent\\AppData\\Roaming\\Python\\Python37\\site-packages\\gensim\\similarities\\__init__.py:15: UserWarning: The gensim.similarities.levenshtein submodule is disabled, because the optional Levenshtein package <https://pypi.org/project/python-Levenshtein/> is unavailable. Install Levenhstein (e.g. `pip install python-Levenshtein`) to suppress this warning.\n",
      "  warnings.warn(msg)\n"
     ]
    }
   ],
   "source": [
    "import gensim\n",
    "from gensim import corpora"
   ]
  },
  {
   "cell_type": "code",
   "execution_count": 16,
   "metadata": {},
   "outputs": [],
   "source": [
    "id2word = corpora.Dictionary(df.tokens)"
   ]
  },
  {
   "cell_type": "code",
   "execution_count": 18,
   "metadata": {},
   "outputs": [],
   "source": [
    "corpus = [id2word.doc2bow(tokens) for tokens in df.tokens]"
   ]
  },
  {
   "cell_type": "code",
   "execution_count": 68,
   "metadata": {},
   "outputs": [],
   "source": [
    "lda_model = gensim.models.ldamodel.LdaModel(corpus=corpus,\n",
    "                                           id2word=id2word,\n",
    "                                           num_topics=5, \n",
    "                                           random_state=100,\n",
    "                                           update_every=1,\n",
    "                                           chunksize=100,\n",
    "                                           passes=10,\n",
    "                                           alpha='auto',\n",
    "                                           per_word_topics=True)"
   ]
  },
  {
   "cell_type": "code",
   "execution_count": 69,
   "metadata": {},
   "outputs": [],
   "source": [
    "topics = lda_model.print_topics(num_words=10)"
   ]
  },
  {
   "cell_type": "code",
   "execution_count": 70,
   "metadata": {},
   "outputs": [
    {
     "name": "stdout",
     "output_type": "stream",
     "text": [
      "(0, '0.026*\"company\" + 0.024*\"share\" + 0.015*\"growth\" + 0.011*\"revenue\" + 0.010*\"million\" + 0.010*\"market\" + 0.009*\"data\" + 0.006*\"billion\" + 0.006*\"cash\" + 0.006*\"available\"')\n",
      "(1, '0.020*\"levi\" + 0.019*\"loan\" + 0.014*\"increase\" + 0.010*\"price\" + 0.010*\"earnings\" + 0.010*\"year\" + 0.009*\"demand\" + 0.007*\"sales\" + 0.007*\"home\" + 0.007*\"industry\"')\n",
      "(2, '0.018*\"product\" + 0.018*\"company\" + 0.016*\"ttcf\" + 0.016*\"tilray\" + 0.012*\"yolo\" + 0.011*\"wish\" + 0.011*\"cannabis\" + 0.010*\"food\" + 0.009*\"merger\" + 0.008*\"customer\"')\n",
      "(3, '0.014*\"stock\" + 0.009*\"price\" + 0.009*\"short\" + 0.009*\"sofi\" + 0.008*\"like\" + 0.008*\"share\" + 0.007*\"get\" + 0.006*\"see\" + 0.006*\"market\" + 0.006*\"call\"')\n",
      "(4, '0.011*\"car\" + 0.008*\"us\" + 0.008*\"ev\" + 0.008*\"vehicle\" + 0.006*\"spac\" + 0.006*\"cell\" + 0.006*\"state\" + 0.006*\"canoo\" + 0.005*\"technology\" + 0.005*\"design\"')\n"
     ]
    }
   ],
   "source": [
    "for topic in topics:\n",
    "    print(topic)"
   ]
  },
  {
   "cell_type": "markdown",
   "metadata": {},
   "source": [
    "# Scores"
   ]
  },
  {
   "cell_type": "code",
   "execution_count": 71,
   "metadata": {},
   "outputs": [],
   "source": [
    "import pyLDAvis\n",
    "import pyLDAvis.gensim_models"
   ]
  },
  {
   "cell_type": "code",
   "execution_count": 72,
   "metadata": {},
   "outputs": [],
   "source": [
    "from gensim.models import CoherenceModel"
   ]
  },
  {
   "cell_type": "code",
   "execution_count": 73,
   "metadata": {},
   "outputs": [
    {
     "name": "stdout",
     "output_type": "stream",
     "text": [
      "Perplexity: -8.118002870761714\n"
     ]
    }
   ],
   "source": [
    "print(\"Perplexity:\", lda_model.log_perplexity(corpus))"
   ]
  },
  {
   "cell_type": "code",
   "execution_count": 74,
   "metadata": {},
   "outputs": [
    {
     "name": "stdout",
     "output_type": "stream",
     "text": [
      "Coherence Score: 0.39798589040340004\n"
     ]
    }
   ],
   "source": [
    "coherence_model_lda = CoherenceModel(model=lda_model, texts=df.tokens, dictionary=id2word, coherence=\"c_v\")\n",
    "print(\"Coherence Score:\", coherence_model_lda.get_coherence())"
   ]
  },
  {
   "cell_type": "code",
   "execution_count": 75,
   "metadata": {},
   "outputs": [
    {
     "name": "stderr",
     "output_type": "stream",
     "text": [
      "C:\\Users\\Vincent\\AppData\\Roaming\\Python\\Python37\\site-packages\\pyLDAvis\\_prepare.py:247: FutureWarning: In a future version of pandas all arguments of DataFrame.drop except for the argument 'labels' will be keyword-only\n",
      "  by='saliency', ascending=False).head(R).drop('saliency', 1)\n"
     ]
    },
    {
     "data": {
      "text/html": [
       "\n",
       "<link rel=\"stylesheet\" type=\"text/css\" href=\"https://cdn.jsdelivr.net/gh/bmabey/pyLDAvis@3.3.1/pyLDAvis/js/ldavis.v1.0.0.css\">\n",
       "\n",
       "\n",
       "<div id=\"ldavis_el1496221969303943284417267\"></div>\n",
       "<script type=\"text/javascript\">\n",
       "\n",
       "var ldavis_el1496221969303943284417267_data = {\"mdsDat\": {\"x\": [-0.267822417772213, -0.05359682922100897, -0.040098899886279675, 0.19455568034629728, 0.1669624665332044], \"y\": [-0.05777587098130052, -0.016180787646551228, 0.1078706731837362, -0.23023956416750532, 0.1963255496116209], \"topics\": [1, 2, 3, 4, 5], \"cluster\": [1, 1, 1, 1, 1], \"Freq\": [58.087254796684974, 15.2297851914762, 10.479117406375671, 8.844604627917548, 7.359237977545612]}, \"tinfo\": {\"Term\": [\"share\", \"company\", \"levi\", \"loan\", \"increase\", \"product\", \"growth\", \"wish\", \"ttcf\", \"tilray\", \"price\", \"year\", \"earnings\", \"us\", \"dd\", \"data\", \"sofi\", \"yolo\", \"stock\", \"revenue\", \"cannabis\", \"short\", \"market\", \"like\", \"merger\", \"food\", \"get\", \"million\", \"demand\", \"car\", \"sofi\", \"get\", \"call\", \"buy\", \"know\", \"time\", \"week\", \"option\", \"dont\", \"im\", \"right\", \"sell\", \"money\", \"think\", \"today\", \"play\", \"want\", \"look\", \"volume\", \"like\", \"post\", \"stocks\", \"let\", \"selling\", \"lot\", \"looking\", \"buying\", \"trade\", \"days\", \"close\", \"short\", \"interest\", \"go\", \"long\", \"stock\", \"see\", \"going\", \"good\", \"would\", \"last\", \"make\", \"even\", \"price\", \"one\", \"share\", \"market\", \"also\", \"company\", \"yoy\", \"amd\", \"exchange\", \"outstanding\", \"none\", \"publicly\", \"paysafe\", \"apparel\", \"gaming\", \"regulator\", \"digital\", \"freefloat\", \"patient\", \"clover\", \"corsair\", \"moat\", \"ampamp\", \"publish\", \"initiate\", \"dtc\", \"aggregate\", \"nio\", \"rite\", \"aid\", \"gambling\", \"respectively\", \"nvidia\", \"coverage\", \"body\", \"woman\", \"available\", \"unlock\", \"member\", \"ipo\", \"utilization\", \"approve\", \"si\", \"gross\", \"fund\", \"grow\", \"growth\", \"million\", \"data\", \"revenue\", \"billion\", \"company\", \"share\", \"cash\", \"competitor\", \"acquire\", \"provide\", \"management\", \"expect\", \"market\", \"compare\", \"result\", \"cap\", \"retail\", \"year\", \"sales\", \"increase\", \"product\", \"financial\", \"new\", \"business\", \"investor\", \"levi\", \"loan\", \"levis\", \"steel\", \"lzb\", \"delta\", \"mortgage\", \"denim\", \"jean\", \"kbh\", \"lent\", \"sndl\", \"capacity\", \"diversify\", \"timely\", \"furniture\", \"housing\", \"whenever\", \"material\", \"goldman\", \"vertically\", \"oil\", \"commodity\", \"jack\", \"clothes\", \"impact\", \"len\", \"fiscal\", \"sachs\", \"tlry\", \"donate\", \"strauss\", \"pv\", \"boom\", \"demand\", \"rates\", \"home\", \"lending\", \"raise\", \"supply\", \"increase\", \"despite\", \"quarter\", \"earnings\", \"sales\", \"year\", \"industry\", \"box\", \"inflation\", \"price\", \"continue\", \"strong\", \"us\", \"beat\", \"market\", \"company\", \"growth\", \"analyst\", \"high\", \"higher\", \"tilray\", \"ttcf\", \"cannabis\", \"food\", \"inc\", \"strike\", \"aphria\", \"marketing\", \"galileo\", \"fintech\", \"ecommerce\", \"discussion\", \"plantbased\", \"stadium\", \"student\", \"charter\", \"recommend\", \"mobile\", \"natural\", \"ampnbsp\", \"irwin\", \"baba\", \"twitter\", \"solar\", \"rely\", \"football\", \"array\", \"banking\", \"distribution\", \"taste\", \"bynd\", \"unpriced\", \"yolo\", \"amazon\", \"pipe\", \"merger\", \"product\", \"customer\", \"wish\", \"online\", \"app\", \"store\", \"company\", \"daily\", \"sector\", \"dd\", \"business\", \"consumer\", \"amp\", \"revenue\", \"account\", \"become\", \"car\", \"ev\", \"vehicle\", \"cell\", \"canoo\", \"spac\", \"workhorse\", \"blackberry\", \"battery\", \"design\", \"psfe\", \"apple\", \"electric\", \"bus\", \"charge\", \"dkng\", \"draftkings\", \"truck\", \"fisker\", \"usps\", \"save\", \"lordstown\", \"nyse\", \"deploy\", \"role\", \"operator\", \"hindenburg\", \"goev\", \"citadel\", \"ford\", \"beachbody\", \"laws\", \"impress\", \"manufacturing\", \"tesla\", \"state\", \"award\", \"technology\", \"production\", \"produce\", \"commercial\", \"us\", \"model\", \"sport\", \"contract\", \"ceo\", \"use\", \"facility\", \"include\", \"plan\", \"company\"], \"Freq\": [1474.0, 1657.0, 377.0, 371.0, 559.0, 478.0, 631.0, 347.0, 261.0, 251.0, 1271.0, 602.0, 459.0, 466.0, 354.0, 355.0, 931.0, 209.0, 1530.0, 462.0, 181.0, 992.0, 1103.0, 851.0, 192.0, 162.0, 755.0, 420.0, 203.0, 144.0, 930.7504485600808, 754.7794847550497, 640.2187665394215, 598.5853697806294, 558.8425008007429, 556.1620963304313, 492.59411230051023, 478.5224333592771, 465.84607811315533, 428.4158408519415, 440.90880364213587, 425.03540371859225, 410.35284465484096, 400.6778677208956, 388.17198892552346, 379.84395623326077, 359.11517559465403, 355.42477903303325, 320.6445454727738, 849.3951250248261, 293.4097532317792, 275.2533814790819, 270.1242950558256, 249.56717627570944, 243.5731620334463, 233.19311445356416, 225.13355191863872, 320.4494718113989, 275.34329959543413, 207.12171347435984, 983.9496710796536, 594.9247318925061, 622.3846034283192, 325.9276608143737, 1465.8986242982105, 687.4820597960393, 484.2023639421699, 406.9290413549675, 465.98304209922765, 458.04367497003864, 559.4668155443255, 442.37678295337145, 1000.0643014784866, 529.5084996264411, 816.9379201969676, 645.082346324693, 450.41157540570936, 458.88664804984273, 127.61562755013821, 104.64528441676119, 102.12658900456186, 78.97336610825603, 74.44109613026158, 73.78532157177463, 69.3863976438353, 87.5805901070102, 59.29562923202033, 67.66868503128714, 54.37478832026574, 66.49200358822785, 51.40555627075051, 46.78451410929218, 45.8665993722833, 50.180875688667314, 44.90043620893734, 42.80625442855857, 41.062810185296655, 51.774216594433966, 38.82783611044386, 37.319923053147726, 34.95956393477293, 31.933474952872835, 31.713266842922177, 38.003744053113444, 30.580084417259712, 44.321594305288194, 30.06511834073465, 31.772872410746896, 170.26897173080536, 39.02672529887337, 115.30062708041913, 88.84853660666492, 50.14109008098723, 73.37946887596743, 90.50377846603587, 74.89182701743191, 81.80542538558434, 165.1978332317011, 411.5141984638236, 277.9335463845624, 240.27564800973235, 297.111808610162, 179.31372410162533, 736.204876203202, 656.668522216914, 178.79046679381466, 105.89210948224677, 81.4198523745772, 140.27112211465177, 87.85736377456409, 147.24830493514668, 267.86588723042667, 109.7485777417649, 111.68536534011302, 125.94707310074526, 114.28088009473508, 165.90946109832515, 119.06379065987056, 147.37385509104493, 128.1559011451949, 112.87957459503495, 121.97474127806862, 120.4800663483503, 99.4196395834618, 376.43517770360114, 371.1055790629047, 130.8031142140249, 78.67575311957711, 73.69404131067824, 67.69596621607398, 54.71610068511107, 65.2794035416129, 65.2794035416129, 53.59346228272901, 65.72767121745511, 55.755635635184504, 51.911754571581575, 54.51391332261334, 51.118642987757134, 42.35302645552118, 41.25289588786078, 40.386223959798535, 38.22591734977146, 37.860668476819875, 40.22484207200701, 34.27527332153025, 33.36375279524441, 39.343766377188004, 34.66308571961007, 33.21300331987632, 30.748088006809883, 31.40928683838643, 29.926393878714496, 28.29916252327948, 32.47433467752035, 32.47433467752035, 35.95501404751742, 88.69556216022467, 164.7051348373705, 75.99725841444379, 138.91039885681482, 115.53171765421229, 74.15999180441639, 79.18910283216003, 265.5383453718314, 72.18911277093241, 121.10592638151957, 196.46345795754618, 142.14134239517978, 193.23703202496264, 136.4393308676299, 51.971735367079944, 70.85643243110917, 199.45856821737658, 98.95135595731267, 99.36311745783634, 119.82093039542276, 79.72123580507284, 127.17054037390055, 127.98559843314837, 96.51059245977001, 84.82556897878649, 80.9320343486806, 71.33898312123942, 250.4035703492832, 260.8115775743392, 180.37906617822918, 161.6769046328748, 109.4226283868515, 116.49384591934474, 102.50438042138605, 79.2911057329926, 80.71975424975109, 77.71143549177566, 66.08264237843126, 57.370717190463566, 62.52981137479557, 54.65431535623284, 55.3896447277246, 61.89608568327163, 48.535205527817034, 42.08897847779646, 41.81455077372349, 41.26390169587568, 40.29760256736455, 38.600779748449696, 38.44174855551117, 38.216065799751405, 37.84839359337785, 39.94670136071921, 38.845798037976834, 33.37118343992389, 34.300796946608, 28.4114968183918, 36.71770106439176, 36.71770106439176, 188.54911510053873, 70.23438984837024, 82.31632334136683, 142.6346452625386, 293.87300892197334, 130.0905992810666, 182.51775219558883, 76.90460751292238, 70.5618981426144, 66.94337821650062, 285.4806201629081, 93.36368920807968, 84.51849849760794, 110.75425328589978, 114.96906873957006, 69.39056790195502, 78.2114820262731, 83.34804817038722, 70.10937445443203, 69.8330891553219, 143.8845121595902, 108.0570901397766, 101.06914164859447, 81.92642972205324, 74.77079604819356, 85.93963543825117, 58.161039610856996, 57.57977644954287, 56.273963366719435, 65.16188503682655, 60.06236443360249, 49.48487234382548, 48.659387168497126, 54.72122498224074, 53.9227101072199, 42.10048546856413, 41.09786611903519, 38.92380335222876, 36.803768792581266, 35.610871158458245, 36.640745529562444, 31.88254002145963, 31.84663698247719, 33.872701008547466, 32.921065538776155, 34.937840142385525, 27.89237482631326, 27.393862303344022, 33.668327456797314, 26.399603121149376, 38.13037904317083, 33.55868160946829, 31.860741636048676, 51.32010428679188, 55.044468098872876, 76.45823575156307, 36.361368260994254, 68.52091391672589, 64.25381817863088, 61.00935362774078, 39.78586425964467, 110.62460015294832, 64.77860014955624, 47.16508860642488, 49.78763743081578, 53.37782243446436, 58.415718091649374, 40.743766726111566, 47.6498218715572, 44.51974643658849, 49.33623532684075], \"Total\": [1474.0, 1657.0, 377.0, 371.0, 559.0, 478.0, 631.0, 347.0, 261.0, 251.0, 1271.0, 602.0, 459.0, 466.0, 354.0, 355.0, 931.0, 209.0, 1530.0, 462.0, 181.0, 992.0, 1103.0, 851.0, 192.0, 162.0, 755.0, 420.0, 203.0, 144.0, 931.4474695567437, 755.409597000698, 640.845240026783, 599.2199671037921, 559.4760979123938, 556.8292293146704, 493.22177162372077, 479.1476813733129, 466.472229345163, 429.0419724749884, 441.55862448911046, 425.6671921745781, 410.97955654893474, 401.3061791621186, 388.8097223298501, 380.4777227959583, 359.74718171242614, 356.0521786820489, 321.28583634743956, 851.1137146571854, 294.0381882122841, 275.8763323620397, 270.75144229709036, 250.205412455091, 244.2048440178905, 233.83106568600058, 225.76877308809387, 321.35513470302425, 276.1305248980915, 207.75308026650188, 992.4901097637749, 600.6370921135804, 632.3066334109469, 328.6961580166208, 1530.074301655309, 708.0111595371292, 494.77617911778486, 414.334454785937, 479.6920778380684, 472.57772443384374, 605.3760007604533, 472.7284703286359, 1271.0130670723106, 615.2404832647634, 1474.0817830907197, 1103.7046531651658, 630.6392364322605, 1657.893978175942, 128.2679993181341, 105.29554572447876, 102.79141679230965, 79.65376432553256, 75.10083697470633, 74.46198612785673, 70.06523074532176, 88.47859767444223, 59.938254757934864, 68.40975781656037, 55.02838709285564, 67.32931570062378, 52.05347287256638, 47.431987947769535, 46.50641934638264, 50.88692829315202, 45.55130086019808, 43.48703558952359, 41.727946149657264, 52.65418204526035, 39.49401745013206, 37.98819315939362, 35.60487914451088, 32.589355814989844, 32.366977777993924, 38.78747384828374, 31.223717015913746, 45.25473059040865, 30.713028164564225, 32.47568959381657, 175.1680941772105, 40.0434957154204, 121.8538391040396, 96.0358754894861, 52.88681901747747, 80.72236686134241, 103.40433438577917, 84.02622523758072, 93.69875792742273, 213.1162065231402, 631.8735768016905, 420.3879703780984, 355.13469259528284, 462.73486328505646, 248.8784944978889, 1657.893978175942, 1474.0817830907197, 272.3675224679193, 146.9416528247713, 102.71857739070393, 236.963473233667, 117.72612182344709, 320.5814869451705, 1103.7046531651658, 186.71622199561324, 194.7295899114612, 262.41838625211824, 214.7291623133456, 602.8532960816495, 289.5208313356682, 559.0596340184774, 478.9535713284241, 309.25653381381454, 483.2007523350069, 512.6875826971668, 292.534818275109, 377.1984531806312, 371.9193509630084, 131.57257551845603, 79.31855099524843, 74.35310696210706, 68.39155066059426, 55.3682095645241, 66.05892954978097, 66.05892954978097, 54.24849849305389, 66.62367726460714, 56.51957564986686, 52.657179471322245, 55.32587912887191, 51.90133873816143, 43.007208640084244, 41.89711673973013, 41.09089434110649, 38.896973111238246, 38.53205519698926, 40.956695425307174, 34.92198484310316, 34.00669404085284, 40.1158904515175, 35.3532082426838, 33.8747535339433, 31.397641149808067, 32.07853943789056, 30.607826783422617, 28.961045288592953, 33.275653685358364, 33.275653685358364, 37.04695617921798, 98.35100676956895, 203.32153024498504, 87.30474504392025, 173.3637668392647, 163.28815734515626, 97.43782849481495, 107.01253579626997, 559.0596340184774, 99.20892934896152, 220.47681035281812, 459.86192640404573, 289.5208313356682, 602.8532960816495, 333.66215363632904, 63.31418867168015, 116.42857551441995, 1271.0130670723106, 263.62045851650083, 268.8211955015503, 466.9340241209037, 183.53367878158338, 1103.7046531651658, 1657.893978175942, 631.8735768016905, 318.5519332007805, 517.9821470697731, 237.87353164781342, 251.1107555522522, 261.74379368797423, 181.08351399297638, 162.38654531699453, 110.12073012578674, 117.28593303676455, 103.21977078149904, 79.9930554189682, 81.45875210320496, 78.43606301700265, 66.77908648185914, 58.06935380262361, 63.30983226112487, 55.39782223521816, 56.15389018712843, 62.797207519847134, 49.25574216956727, 42.79074481407151, 42.5183286124007, 41.970376735501965, 41.01068768132258, 39.284143360132774, 39.12643482887578, 38.9178922458439, 38.54383723871803, 40.69392647502461, 39.579482106506916, 34.06881811413709, 35.05875904998478, 29.11492870433872, 37.62762744287861, 37.62762744287861, 209.92937404724879, 76.421655719855, 97.8808769764277, 192.12544328732582, 478.9535713284241, 210.515802224934, 347.3756111133721, 106.45998832051558, 103.05682507777748, 104.5015019772068, 1657.893978175942, 196.5048521032777, 179.8234907891267, 354.19545948984876, 512.6875826971668, 119.87470403886313, 237.8271220830326, 462.73486328505646, 163.33797773255966, 211.74812606263455, 144.49188456762917, 108.65605228528347, 101.66510958065668, 82.53729037251317, 75.36545932056451, 86.62644694657554, 58.75882342529761, 58.175418794372014, 56.86924165823593, 65.87976072503807, 60.75157608528955, 50.08628517873557, 49.256225171671296, 55.49455527695363, 54.684803639956876, 42.697122090797606, 41.69532136096827, 39.52567071513106, 37.43222810549257, 36.23737373756725, 37.32018875843052, 32.476641518587115, 32.48730958360602, 34.55628355098301, 33.614237209699105, 35.682231932370726, 28.490269194205943, 27.9910967894022, 34.403350266755865, 26.99519153806928, 39.01268342589836, 34.35756238934093, 32.66080394161982, 62.98047226056421, 72.01311215149224, 120.38747435509858, 39.81828383873224, 131.3450213847455, 127.98516720112333, 118.70311534420111, 48.37799276286141, 466.9340241209037, 169.81663499028656, 87.42501156241835, 110.4372420680082, 205.1495764708663, 401.872058921112, 55.35806666249659, 211.4081762001543, 167.00641459787366, 1657.893978175942], \"Category\": [\"Default\", \"Default\", \"Default\", \"Default\", \"Default\", \"Default\", \"Default\", \"Default\", \"Default\", \"Default\", \"Default\", \"Default\", \"Default\", \"Default\", \"Default\", \"Default\", \"Default\", \"Default\", \"Default\", \"Default\", \"Default\", \"Default\", \"Default\", \"Default\", \"Default\", \"Default\", \"Default\", \"Default\", \"Default\", \"Default\", \"Topic1\", \"Topic1\", \"Topic1\", \"Topic1\", \"Topic1\", \"Topic1\", \"Topic1\", \"Topic1\", \"Topic1\", \"Topic1\", \"Topic1\", \"Topic1\", \"Topic1\", \"Topic1\", \"Topic1\", \"Topic1\", \"Topic1\", \"Topic1\", \"Topic1\", \"Topic1\", \"Topic1\", \"Topic1\", \"Topic1\", \"Topic1\", \"Topic1\", \"Topic1\", \"Topic1\", \"Topic1\", \"Topic1\", \"Topic1\", \"Topic1\", \"Topic1\", \"Topic1\", \"Topic1\", \"Topic1\", \"Topic1\", \"Topic1\", \"Topic1\", \"Topic1\", \"Topic1\", \"Topic1\", \"Topic1\", \"Topic1\", \"Topic1\", \"Topic1\", \"Topic1\", \"Topic1\", \"Topic1\", \"Topic2\", \"Topic2\", \"Topic2\", \"Topic2\", \"Topic2\", \"Topic2\", \"Topic2\", \"Topic2\", \"Topic2\", \"Topic2\", \"Topic2\", \"Topic2\", \"Topic2\", \"Topic2\", \"Topic2\", \"Topic2\", \"Topic2\", \"Topic2\", \"Topic2\", \"Topic2\", \"Topic2\", \"Topic2\", \"Topic2\", \"Topic2\", \"Topic2\", \"Topic2\", \"Topic2\", \"Topic2\", \"Topic2\", \"Topic2\", \"Topic2\", \"Topic2\", \"Topic2\", \"Topic2\", \"Topic2\", \"Topic2\", \"Topic2\", \"Topic2\", \"Topic2\", \"Topic2\", \"Topic2\", \"Topic2\", \"Topic2\", \"Topic2\", \"Topic2\", \"Topic2\", \"Topic2\", \"Topic2\", \"Topic2\", \"Topic2\", \"Topic2\", \"Topic2\", \"Topic2\", \"Topic2\", \"Topic2\", \"Topic2\", \"Topic2\", \"Topic2\", \"Topic2\", \"Topic2\", \"Topic2\", \"Topic2\", \"Topic2\", \"Topic2\", \"Topic2\", \"Topic2\", \"Topic3\", \"Topic3\", \"Topic3\", \"Topic3\", \"Topic3\", \"Topic3\", \"Topic3\", \"Topic3\", \"Topic3\", \"Topic3\", \"Topic3\", \"Topic3\", \"Topic3\", \"Topic3\", \"Topic3\", \"Topic3\", \"Topic3\", \"Topic3\", \"Topic3\", \"Topic3\", \"Topic3\", \"Topic3\", \"Topic3\", \"Topic3\", \"Topic3\", \"Topic3\", \"Topic3\", \"Topic3\", \"Topic3\", \"Topic3\", \"Topic3\", \"Topic3\", \"Topic3\", \"Topic3\", \"Topic3\", \"Topic3\", \"Topic3\", \"Topic3\", \"Topic3\", \"Topic3\", \"Topic3\", \"Topic3\", \"Topic3\", \"Topic3\", \"Topic3\", \"Topic3\", \"Topic3\", \"Topic3\", \"Topic3\", \"Topic3\", \"Topic3\", \"Topic3\", \"Topic3\", \"Topic3\", \"Topic3\", \"Topic3\", \"Topic3\", \"Topic3\", \"Topic3\", \"Topic3\", \"Topic4\", \"Topic4\", \"Topic4\", \"Topic4\", \"Topic4\", \"Topic4\", \"Topic4\", \"Topic4\", \"Topic4\", \"Topic4\", \"Topic4\", \"Topic4\", \"Topic4\", \"Topic4\", \"Topic4\", \"Topic4\", \"Topic4\", \"Topic4\", \"Topic4\", \"Topic4\", \"Topic4\", \"Topic4\", \"Topic4\", \"Topic4\", \"Topic4\", \"Topic4\", \"Topic4\", \"Topic4\", \"Topic4\", \"Topic4\", \"Topic4\", \"Topic4\", \"Topic4\", \"Topic4\", \"Topic4\", \"Topic4\", \"Topic4\", \"Topic4\", \"Topic4\", \"Topic4\", \"Topic4\", \"Topic4\", \"Topic4\", \"Topic4\", \"Topic4\", \"Topic4\", \"Topic4\", \"Topic4\", \"Topic4\", \"Topic4\", \"Topic4\", \"Topic4\", \"Topic5\", \"Topic5\", \"Topic5\", \"Topic5\", \"Topic5\", \"Topic5\", \"Topic5\", \"Topic5\", \"Topic5\", \"Topic5\", \"Topic5\", \"Topic5\", \"Topic5\", \"Topic5\", \"Topic5\", \"Topic5\", \"Topic5\", \"Topic5\", \"Topic5\", \"Topic5\", \"Topic5\", \"Topic5\", \"Topic5\", \"Topic5\", \"Topic5\", \"Topic5\", \"Topic5\", \"Topic5\", \"Topic5\", \"Topic5\", \"Topic5\", \"Topic5\", \"Topic5\", \"Topic5\", \"Topic5\", \"Topic5\", \"Topic5\", \"Topic5\", \"Topic5\", \"Topic5\", \"Topic5\", \"Topic5\", \"Topic5\", \"Topic5\", \"Topic5\", \"Topic5\", \"Topic5\", \"Topic5\", \"Topic5\", \"Topic5\", \"Topic5\"], \"logprob\": [30.0, 29.0, 28.0, 27.0, 26.0, 25.0, 24.0, 23.0, 22.0, 21.0, 20.0, 19.0, 18.0, 17.0, 16.0, 15.0, 14.0, 13.0, 12.0, 11.0, 10.0, 9.0, 8.0, 7.0, 6.0, 5.0, 4.0, 3.0, 2.0, 1.0, -4.7358, -4.9454, -5.11, -5.1773, -5.246, -5.2508, -5.3722, -5.4011, -5.428, -5.5117, -5.483, -5.5197, -5.5548, -5.5787, -5.6104, -5.6321, -5.6882, -5.6985, -5.8015, -4.8273, -5.8903, -5.9541, -5.973, -6.0521, -6.0764, -6.12, -6.1551, -5.8021, -5.9538, -6.2385, -4.6803, -5.1834, -5.1383, -5.7852, -4.2816, -5.0388, -5.3893, -5.5632, -5.4277, -5.4449, -5.2449, -5.4797, -4.664, -5.2999, -4.8663, -5.1025, -5.4617, -5.443, -5.3841, -5.5826, -5.6069, -5.864, -5.9231, -5.932, -5.9935, -5.7606, -6.1506, -6.0185, -6.2372, -6.0361, -6.2934, -6.3876, -6.4074, -6.3175, -6.4287, -6.4765, -6.518, -6.2863, -6.574, -6.6136, -6.679, -6.7695, -6.7764, -6.5955, -6.8128, -6.4417, -6.8298, -6.7745, -5.0958, -6.5689, -5.4856, -5.7462, -6.3183, -5.9375, -5.7278, -5.9171, -5.8288, -5.126, -4.2133, -4.6058, -4.7514, -4.539, -5.044, -3.6316, -3.746, -5.0469, -5.5707, -5.8335, -5.2896, -5.7574, -5.241, -4.6427, -5.535, -5.5175, -5.3973, -5.4945, -5.1217, -5.4535, -5.2402, -5.3799, -5.5068, -5.4293, -5.4417, -5.6338, -3.9285, -3.9428, -4.9856, -5.4939, -5.5594, -5.6443, -5.8571, -5.6806, -5.6806, -5.8779, -5.6738, -5.8383, -5.9097, -5.8608, -5.9251, -6.1132, -6.1396, -6.1608, -6.2158, -6.2254, -6.1648, -6.3249, -6.3518, -6.1869, -6.3136, -6.3563, -6.4335, -6.4122, -6.4605, -6.5164, -6.3788, -6.3788, -6.277, -5.3741, -4.7551, -5.5286, -4.9254, -5.1097, -5.5531, -5.4874, -4.2775, -5.58, -5.0626, -4.5788, -4.9025, -4.5954, -4.9434, -5.9086, -5.5986, -4.5637, -5.2647, -5.2605, -5.0733, -5.4807, -5.0137, -5.0074, -5.2896, -5.4187, -5.4657, -5.5918, -4.1666, -4.1259, -4.4946, -4.6041, -4.9945, -4.9319, -5.0598, -5.3166, -5.2987, -5.3367, -5.4988, -5.6402, -5.5541, -5.6887, -5.6753, -5.5642, -5.8074, -5.9499, -5.9565, -5.9697, -5.9934, -6.0364, -6.0406, -6.0464, -6.0561, -6.0022, -6.0301, -6.182, -6.1545, -6.3429, -6.0864, -6.0864, -4.4503, -5.4379, -5.2791, -4.7294, -4.0066, -4.8215, -4.4829, -5.3471, -5.4332, -5.4859, -4.0355, -5.1532, -5.2527, -4.9824, -4.945, -5.45, -5.3303, -5.2667, -5.4396, -5.4436, -4.5368, -4.8232, -4.89, -5.1, -5.1914, -5.0522, -5.4426, -5.4527, -5.4756, -5.329, -5.4105, -5.6042, -5.621, -5.5036, -5.5183, -5.7658, -5.7899, -5.8442, -5.9003, -5.9332, -5.9047, -6.0438, -6.0449, -5.9832, -6.0117, -5.9523, -6.1775, -6.1955, -5.9893, -6.2325, -5.8648, -5.9926, -6.0445, -5.5678, -5.4977, -5.1691, -5.9123, -5.2787, -5.343, -5.3948, -5.8223, -4.7997, -5.3349, -5.6522, -5.5981, -5.5285, -5.4383, -5.7985, -5.642, -5.7099, -5.6072], \"loglift\": [30.0, 29.0, 28.0, 27.0, 26.0, 25.0, 24.0, 23.0, 22.0, 21.0, 20.0, 19.0, 18.0, 17.0, 16.0, 15.0, 14.0, 13.0, 12.0, 11.0, 10.0, 9.0, 8.0, 7.0, 6.0, 5.0, 4.0, 3.0, 2.0, 1.0, 0.5425, 0.5424, 0.5422, 0.5422, 0.5421, 0.542, 0.542, 0.5419, 0.5419, 0.5418, 0.5418, 0.5417, 0.5417, 0.5417, 0.5416, 0.5416, 0.5415, 0.5415, 0.5412, 0.5412, 0.5411, 0.541, 0.5409, 0.5407, 0.5406, 0.5405, 0.5404, 0.5404, 0.5404, 0.5402, 0.5346, 0.5337, 0.5274, 0.5348, 0.5004, 0.5138, 0.5216, 0.5252, 0.5142, 0.512, 0.4644, 0.4769, 0.3035, 0.3932, -0.047, 0.0062, 0.2067, -0.7413, 1.8768, 1.8757, 1.8754, 1.8733, 1.8731, 1.8728, 1.8722, 1.8717, 1.8711, 1.871, 1.87, 1.8694, 1.8694, 1.8682, 1.8681, 1.8679, 1.8675, 1.8661, 1.8658, 1.8651, 1.8649, 1.8642, 1.8636, 1.8616, 1.8615, 1.8615, 1.8611, 1.8611, 1.8606, 1.86, 1.8536, 1.8562, 1.8266, 1.8041, 1.8286, 1.7865, 1.7487, 1.7668, 1.7462, 1.6272, 1.4531, 1.4681, 1.4912, 1.4389, 1.5541, 1.0701, 1.0733, 1.461, 1.5543, 1.6495, 1.3576, 1.5893, 1.1039, 0.466, 1.3505, 1.326, 1.1478, 1.2512, 0.5917, 0.9933, 0.5486, 0.5636, 0.8741, 0.5053, 0.4337, 0.8027, 2.2538, 2.2536, 2.2499, 2.2476, 2.2469, 2.2456, 2.2439, 2.2439, 2.2439, 2.2436, 2.2422, 2.2422, 2.2415, 2.241, 2.2406, 2.2405, 2.2403, 2.2385, 2.2384, 2.2382, 2.2378, 2.2371, 2.2367, 2.2364, 2.2361, 2.2361, 2.2349, 2.2347, 2.2333, 2.2327, 2.2314, 2.2314, 2.2259, 2.1525, 2.0452, 2.1171, 2.0342, 1.9098, 1.9828, 1.9547, 1.5113, 1.9378, 1.6567, 1.4053, 1.5444, 1.118, 1.3615, 2.0584, 1.7592, 0.4038, 1.2759, 1.2605, 0.8956, 1.4219, 0.0949, -0.3056, 0.3767, 0.9326, 0.3995, 1.0515, 2.4225, 2.4218, 2.4215, 2.421, 2.419, 2.4186, 2.4184, 2.4165, 2.4162, 2.4161, 2.4149, 2.4133, 2.413, 2.4119, 2.4117, 2.4109, 2.4106, 2.4088, 2.4087, 2.4084, 2.4078, 2.4078, 2.4077, 2.4072, 2.4072, 2.4068, 2.4067, 2.4047, 2.4035, 2.4009, 2.4009, 2.4009, 2.3179, 2.3409, 2.2522, 2.1275, 1.9369, 1.944, 1.7818, 2.1002, 2.0466, 1.98, 0.6662, 1.6812, 1.6704, 1.2628, 0.9304, 1.8787, 1.3132, 0.7112, 1.5796, 1.3161, 2.605, 2.6037, 2.6033, 2.6018, 2.6013, 2.6013, 2.599, 2.5989, 2.5987, 2.5983, 2.5978, 2.5971, 2.597, 2.5952, 2.5952, 2.5951, 2.5948, 2.5939, 2.5923, 2.5918, 2.5908, 2.5908, 2.5893, 2.5892, 2.5884, 2.5881, 2.588, 2.5876, 2.5876, 2.5869, 2.5863, 2.5857, 2.5844, 2.4045, 2.3405, 2.1552, 2.5184, 1.9585, 1.9201, 1.9436, 2.4137, 1.1692, 1.6455, 1.9921, 1.8125, 1.2629, 0.6807, 2.3027, 1.1193, 1.2871, -0.9054]}, \"token.table\": {\"Topic\": [1, 4, 2, 5, 2, 2, 1, 2, 3, 4, 1, 4, 2, 1, 2, 3, 4, 5, 2, 4, 1, 2, 3, 4, 1, 4, 2, 5, 2, 3, 4, 2, 5, 1, 5, 4, 4, 5, 5, 1, 3, 1, 2, 3, 4, 1, 2, 3, 4, 5, 5, 2, 1, 3, 1, 3, 5, 1, 2, 3, 4, 5, 1, 1, 4, 1, 4, 5, 1, 2, 3, 4, 3, 5, 1, 2, 5, 5, 1, 3, 4, 5, 5, 4, 5, 1, 3, 2, 3, 4, 5, 3, 1, 2, 3, 4, 5, 1, 2, 3, 4, 2, 3, 4, 3, 4, 1, 2, 3, 1, 5, 2, 2, 2, 3, 4, 5, 1, 4, 1, 2, 1, 1, 4, 3, 1, 3, 5, 3, 5, 5, 1, 3, 2, 4, 4, 3, 5, 3, 1, 5, 2, 1, 2, 3, 4, 5, 5, 1, 3, 2, 1, 2, 3, 5, 3, 4, 5, 1, 2, 4, 4, 3, 5, 4, 4, 5, 2, 2, 5, 3, 4, 2, 2, 1, 1, 2, 5, 1, 3, 3, 1, 3, 2, 3, 1, 2, 3, 4, 1, 2, 3, 4, 1, 2, 3, 1, 2, 3, 5, 1, 2, 3, 3, 1, 3, 5, 4, 1, 2, 3, 4, 5, 1, 2, 3, 1, 2, 3, 4, 5, 1, 3, 2, 1, 3, 1, 2, 5, 1, 2, 4, 4, 3, 3, 3, 1, 1, 2, 3, 5, 3, 1, 3, 3, 1, 3, 3, 1, 3, 3, 1, 2, 1, 1, 5, 1, 3, 1, 4, 5, 2, 4, 3, 5, 1, 2, 3, 4, 5, 4, 3, 2, 3, 5, 1, 4, 1, 2, 3, 4, 5, 2, 4, 1, 2, 4, 5, 1, 3, 4, 1, 2, 3, 4, 5, 2, 2, 2, 5, 3, 1, 2, 3, 5, 4, 5, 5, 1, 2, 2, 2, 2, 4, 1, 2, 3, 4, 5, 4, 1, 1, 1, 2, 3, 4, 3, 4, 5, 1, 2, 3, 4, 5, 3, 5, 1, 2, 3, 4, 5, 5, 2, 2, 3, 5, 1, 2, 3, 2, 3, 1, 3, 4, 2, 4, 2, 1, 2, 3, 1, 2, 4, 1, 2, 3, 4, 5, 1, 2, 5, 3, 1, 2, 3, 4, 5, 1, 3, 4, 5, 1, 2, 3, 1, 1, 1, 2, 1, 2, 1, 2, 5, 3, 1, 4, 5, 1, 2, 5, 4, 1, 3, 5, 3, 1, 2, 1, 1, 4, 3, 4, 1, 2, 3, 4, 1, 3, 5, 4, 2, 3, 4, 5, 1, 5, 1, 4, 1, 3, 3, 1, 1, 5, 4, 4, 2, 4, 1, 2, 3, 5, 1, 2, 3, 4, 5, 5, 2, 5, 5, 3, 1, 1, 1, 3, 1, 4, 2, 5, 1, 2, 5, 1, 2, 3, 5, 1, 4, 2], \"Freq\": [0.5693715649661888, 0.428559242447669, 0.7885623229759657, 0.20444208373450962, 0.9874913345861599, 0.9819156960838494, 0.7135616910641371, 0.0998986367489792, 0.09197017351493322, 0.09355586616174241, 0.07851177710667094, 0.915970732911161, 0.9971931792323666, 0.15137045634110358, 0.23966988920674734, 0.17659886573128752, 0.3279693220723911, 0.10091363756073572, 0.9878971434451437, 0.9768794847466513, 0.5807530286855804, 0.15382107246266724, 0.26683247263932075, 0.9978708460614173, 0.31050830428600384, 0.6889403001345711, 0.9945908085455509, 0.9783117239607788, 0.9043342364501379, 0.08671698157741048, 0.9853590275651523, 0.9704963726328943, 0.022835208767832807, 0.07534227271447155, 0.9041072725736587, 0.992766970695328, 0.9686276726549086, 0.9847150826547018, 0.9740422002033806, 0.5612049008322689, 0.4358873016172963, 0.46753660512072753, 0.1794584948948247, 0.018890367883665757, 0.33058143796415074, 0.008036049896697543, 0.71922646575443, 0.09643259876037051, 0.12857679834716068, 0.04419827443183648, 0.9969846578158371, 0.9767841789893289, 0.09150897683321646, 0.904922104239585, 0.17373672838234122, 0.8213008978074312, 0.9910882198355229, 0.36864555799401544, 0.23406067174223202, 0.10142629108830055, 0.22430814375297237, 0.07216870712052154, 0.9996329109244219, 0.9965948652792922, 0.9833200367514163, 0.9986810543732092, 0.9940164956539422, 0.995150838011747, 0.4649064486007036, 0.4801492829810546, 0.04572850314105282, 0.007621417190175469, 0.9875196606062018, 0.9965957633599903, 0.3414504018589587, 0.6572002358360602, 0.003671509697408158, 0.9934903318234918, 0.0779918743935218, 0.3412144504716579, 0.32171648187327745, 0.258348083928541, 0.9874772588658157, 0.9873050482444593, 0.9882758433807063, 0.996375118647888, 0.9900091601232006, 0.9908924764392075, 0.06201166746841605, 0.1240233349368321, 0.826822232912214, 0.9703971800480375, 0.2768572695492891, 0.4439367110855703, 0.07720638453662093, 0.17190484056982003, 0.029555569080425198, 0.2088731208417246, 0.5891293151946079, 0.14996018932226382, 0.048201489425013365, 0.7213747631272772, 0.08847048981749626, 0.19055182422229963, 0.4171021768178056, 0.5756010040085717, 0.45899320819376477, 0.163113288862247, 0.37553989761308026, 0.5432949870574592, 0.45274582254788265, 0.989110764632065, 0.9722740457397712, 0.2802639962246592, 0.03325166056902736, 0.6175308391390796, 0.06650332113805472, 0.5241600850948248, 0.4732707564448418, 0.32100496621972163, 0.6757999288836245, 0.99590583149578, 0.6860618720239816, 0.3133862872208311, 0.9942748679213693, 0.15246786684443922, 0.811522517075241, 0.03442822799713144, 0.9839699256860803, 0.9839021013309406, 0.9866459635652, 0.2721529218910236, 0.7257411250427295, 0.9813116984308422, 0.9815848854413238, 0.9698004413540348, 0.994109824660665, 0.9836728552965434, 0.9616640533219738, 0.9989876581810113, 0.9833237558010723, 0.987575876789843, 0.4457859810291885, 0.12612481414484358, 0.42621488917912653, 0.9883333761675404, 0.9947981159583731, 0.9939621192608677, 0.9349976312886893, 0.06346137768927755, 0.9923007502279232, 0.32441049853196063, 0.45854176234805977, 0.2121145567324358, 0.003119331716653468, 0.21677057606004937, 0.03612842934334156, 0.740632801538502, 0.6176102333054992, 0.36539244169382934, 0.01616780715459422, 0.9944405290088549, 0.9663781625725574, 0.9884530489535794, 0.9976195976320578, 0.9829476647958634, 0.9631344887230809, 0.9802565095636125, 0.8751450052680061, 0.11739750070668376, 0.9765804693693724, 0.9943682895777272, 0.988661969600281, 0.9843463116881852, 0.9994577815766118, 0.9836999441942459, 0.014233600478694876, 0.9645924274829616, 0.9782200930994709, 0.020211158948336177, 0.9861918811683101, 0.9822982262246902, 0.016894564087402534, 0.8925784752074791, 0.1071094170248975, 0.10792234140814934, 0.7742254927106366, 0.10323006569475154, 0.009384551426795595, 0.09495570348691858, 0.6520291639435075, 0.15351172063718505, 0.10128608371937982, 0.752921702429768, 0.09073671798512588, 0.1563760458892595, 0.5717323783688404, 0.12611743640489126, 0.29847793282490936, 0.9827916966714498, 0.028841089987596893, 0.167278321928062, 0.8017823016551937, 0.9785876258430114, 0.9975713973414357, 0.9741768295652166, 0.97976767679078, 0.9898227143562655, 0.3547639516505382, 0.21285837099032293, 0.14663576668222247, 0.06149241828609329, 0.22704892905634447, 0.26115282004991724, 0.2629415379954646, 0.47579897351560263, 0.038961565938248996, 0.2547487003654742, 0.4075979205847587, 0.1618403508204189, 0.1318699154833043, 0.38650305392104234, 0.6098159295198667, 0.9825549489772037, 0.9906148118596139, 0.00832449421730768, 0.6187297671683714, 0.33842125386557326, 0.04102075804431191, 0.06247665228664337, 0.9267370089185434, 0.010412775381107228, 0.9753555051508469, 0.9721833308706902, 0.9839699256860803, 0.9954192558327544, 0.999149029039542, 0.9691527474103692, 0.0042321080672941885, 0.027508702437412224, 0.9895929057687789, 0.9873353177103084, 0.2878347135772501, 0.7104005696800215, 0.9906388045479673, 0.9972246046384277, 0.9968227516032329, 0.9956482153199493, 0.9975165308456617, 0.0011749311317381175, 0.9975280905372954, 0.9917974154827679, 0.006084646720753178, 0.9970448750350479, 0.9964458713663111, 0.9853235588318354, 0.9991611795469728, 0.9952509454341024, 0.9233930636460691, 0.07103023566508224, 0.004955597837098761, 0.7474976550401693, 0.24633445450187397, 0.17465731210287777, 0.809774810658797, 0.5843954704279731, 0.2428185830615454, 0.11506701510752339, 0.05526840883117265, 0.0027181184671068517, 0.9875857296140644, 0.9769397709000887, 0.9437536055126853, 0.016413106182829307, 0.032826212365658615, 0.255041701721515, 0.7443053744117683, 0.17127036231613135, 0.6612938989428405, 0.09039269122240265, 0.040438835546864345, 0.035681325482527365, 0.9825706065800915, 0.9815206578546986, 0.08833056903322807, 0.5005398911882923, 0.02355481840886082, 0.3827657991439883, 0.9976165321770254, 0.9933498018552505, 0.9878092900328748, 0.4904793687814584, 0.25248305059636256, 0.11589385929013364, 0.0848508612659907, 0.05587739644345729, 0.9739868344028029, 0.9853418814083645, 0.9928350293528563, 0.9850000018514328, 0.9735987273562646, 0.8614517646621104, 0.12352893229117054, 0.0032507613760834352, 0.013003045504333741, 0.7232764272731145, 0.27240281027169244, 0.9808803458913732, 0.9996917831828183, 0.9917924239856295, 0.9797617178176484, 0.9847965854962537, 0.15324750312170166, 0.8377530170653024, 0.4430967527695321, 0.20358499451573095, 0.0838291153888304, 0.005987793956345028, 0.2694507280355263, 0.9951060956875237, 0.99874441322754, 0.9964692061987044, 0.7867739725944988, 0.050353534246047923, 0.15656802054630525, 0.0062941917807559904, 0.3117020129818145, 0.1684875745847646, 0.5138871024835321, 0.002087885047451266, 0.267249286073762, 0.06472443647098924, 0.6138382039506721, 0.05428501123373291, 0.4922445419085021, 0.5000579473356211, 0.13926196957561926, 0.5908083557753544, 0.08018113399808381, 0.15614220831205794, 0.033760477472877394, 0.9876286981553465, 0.9937956781455779, 0.9888004417196714, 0.971739751731472, 0.026992770881429776, 0.13606873190877755, 0.3129580833901884, 0.5488105520320694, 0.23604795340060272, 0.7594586326802001, 0.1259954426814516, 0.870513967617302, 0.9948078709546827, 0.9940102431343328, 0.9858904230175679, 0.9796977278962811, 0.31839023554761187, 0.5751565545376215, 0.10270652759600384, 0.46570292978684485, 0.5309013399570032, 0.004657029297868449, 0.09724791359037682, 0.641836229696487, 0.06267087764713172, 0.17936837395558392, 0.019449582718075363, 0.9987348803576042, 0.9830113411688371, 0.981726873471284, 0.9801414589894432, 0.0034539828978337236, 0.4110239648422131, 0.49046557149238873, 0.09671152113934425, 0.9914204946683667, 0.5171738107845885, 0.005561008718113854, 0.4726857410396776, 0.005561008718113854, 0.9703236887524972, 0.00847444269652836, 0.01977369962523284, 0.9984325966697841, 0.999179024733816, 0.5542433326100735, 0.4457011866888841, 0.9914456479916001, 0.008060533723508944, 0.03868309799352188, 0.8800404793526229, 0.08703697048542423, 0.9908071558589615, 0.9995195976462777, 0.9764146465064041, 0.9927684100103761, 0.2973977301843069, 0.1601372393300114, 0.5376035891793239, 0.9928188109357619, 0.14951721594313583, 0.21596931191786287, 0.6312949117599068, 0.9959839029930398, 0.9581234051274566, 0.041174471025259056, 0.9968234594300402, 0.35406189671867305, 0.6411391102743539, 0.9616640533219738, 0.9890359141674606, 0.4501133170479565, 0.17855734891158606, 0.3682745321301462, 0.9794512867535413, 0.2149280907031986, 0.7382312680675083, 0.03737879838316498, 0.9617059442026876, 0.2893143539006903, 0.06852182066068982, 0.11420303443448303, 0.5253339583986218, 0.23606811998678118, 0.7637497999572332, 0.9992370434894428, 0.9955766309180609, 0.9985108013893397, 0.9826336129264677, 0.9668159322629324, 0.9979174329155196, 0.9957830619253164, 0.9867005238463968, 0.9971583139470312, 0.9712103892470045, 0.97394094354708, 0.9833200367514163, 0.4604504895628035, 0.04711586404828687, 0.25699562208156473, 0.23772095042544739, 0.6967391581084376, 0.06967391581084376, 0.0671855616747422, 0.022395187224914067, 0.14432453989389063, 0.9934494773466112, 0.9454151512397926, 0.0378166060495917, 0.9934578383537864, 0.9766412935571938, 0.999110336295278, 0.9979230366479329, 0.9995503612442114, 0.9734516768593381, 0.47211144004717054, 0.526807277613611, 0.9853524405558076, 0.9870857961228184, 0.9714565270709129, 0.018762035930554113, 0.010423353294752285, 0.40142436239947815, 0.27535720726575774, 0.320144222905369, 0.003317556714045274, 0.10003364272059198, 0.9003027844853279, 0.9979106299345218], \"Term\": [\"account\", \"account\", \"acquire\", \"acquire\", \"aggregate\", \"aid\", \"also\", \"also\", \"also\", \"also\", \"amazon\", \"amazon\", \"amd\", \"amp\", \"amp\", \"amp\", \"amp\", \"amp\", \"ampamp\", \"ampnbsp\", \"analyst\", \"analyst\", \"analyst\", \"aphria\", \"app\", \"app\", \"apparel\", \"apple\", \"approve\", \"approve\", \"array\", \"available\", \"available\", \"award\", \"award\", \"baba\", \"banking\", \"battery\", \"beachbody\", \"beat\", \"beat\", \"become\", \"become\", \"become\", \"become\", \"billion\", \"billion\", \"billion\", \"billion\", \"billion\", \"blackberry\", \"body\", \"boom\", \"boom\", \"box\", \"box\", \"bus\", \"business\", \"business\", \"business\", \"business\", \"business\", \"buy\", \"buying\", \"bynd\", \"call\", \"cannabis\", \"canoo\", \"cap\", \"cap\", \"cap\", \"cap\", \"capacity\", \"car\", \"cash\", \"cash\", \"cash\", \"cell\", \"ceo\", \"ceo\", \"ceo\", \"ceo\", \"charge\", \"charter\", \"citadel\", \"close\", \"clothes\", \"clover\", \"commercial\", \"commercial\", \"commercial\", \"commodity\", \"company\", \"company\", \"company\", \"company\", \"company\", \"compare\", \"compare\", \"compare\", \"compare\", \"competitor\", \"competitor\", \"competitor\", \"consumer\", \"consumer\", \"continue\", \"continue\", \"continue\", \"contract\", \"contract\", \"corsair\", \"coverage\", \"customer\", \"customer\", \"customer\", \"customer\", \"daily\", \"daily\", \"data\", \"data\", \"days\", \"dd\", \"dd\", \"delta\", \"demand\", \"demand\", \"demand\", \"denim\", \"deploy\", \"design\", \"despite\", \"despite\", \"digital\", \"discussion\", \"distribution\", \"diversify\", \"dkng\", \"donate\", \"dont\", \"draftkings\", \"dtc\", \"earnings\", \"earnings\", \"earnings\", \"ecommerce\", \"electric\", \"ev\", \"even\", \"even\", \"exchange\", \"expect\", \"expect\", \"expect\", \"expect\", \"facility\", \"facility\", \"facility\", \"financial\", \"financial\", \"financial\", \"fintech\", \"fiscal\", \"fisker\", \"food\", \"football\", \"ford\", \"freefloat\", \"fund\", \"fund\", \"furniture\", \"galileo\", \"gambling\", \"gaming\", \"get\", \"go\", \"go\", \"goev\", \"going\", \"going\", \"goldman\", \"good\", \"good\", \"gross\", \"gross\", \"grow\", \"grow\", \"grow\", \"grow\", \"growth\", \"growth\", \"growth\", \"growth\", \"high\", \"high\", \"high\", \"higher\", \"higher\", \"higher\", \"hindenburg\", \"home\", \"home\", \"home\", \"housing\", \"im\", \"impact\", \"impress\", \"inc\", \"include\", \"include\", \"include\", \"include\", \"include\", \"increase\", \"increase\", \"increase\", \"industry\", \"industry\", \"industry\", \"industry\", \"industry\", \"inflation\", \"inflation\", \"initiate\", \"interest\", \"interest\", \"investor\", \"investor\", \"investor\", \"ipo\", \"ipo\", \"ipo\", \"irwin\", \"jack\", \"jean\", \"kbh\", \"know\", \"last\", \"last\", \"last\", \"laws\", \"len\", \"lending\", \"lending\", \"lent\", \"let\", \"levi\", \"levis\", \"like\", \"like\", \"loan\", \"long\", \"long\", \"look\", \"looking\", \"lordstown\", \"lot\", \"lzb\", \"make\", \"make\", \"make\", \"management\", \"management\", \"manufacturing\", \"manufacturing\", \"market\", \"market\", \"market\", \"market\", \"market\", \"marketing\", \"material\", \"member\", \"member\", \"member\", \"merger\", \"merger\", \"million\", \"million\", \"million\", \"million\", \"million\", \"moat\", \"mobile\", \"model\", \"model\", \"model\", \"model\", \"money\", \"mortgage\", \"natural\", \"new\", \"new\", \"new\", \"new\", \"new\", \"nio\", \"none\", \"nvidia\", \"nyse\", \"oil\", \"one\", \"one\", \"one\", \"one\", \"online\", \"online\", \"operator\", \"option\", \"outstanding\", \"patient\", \"paysafe\", \"pipe\", \"pipe\", \"plan\", \"plan\", \"plan\", \"plan\", \"plan\", \"plantbased\", \"play\", \"post\", \"price\", \"price\", \"price\", \"price\", \"produce\", \"produce\", \"produce\", \"product\", \"product\", \"product\", \"product\", \"product\", \"production\", \"production\", \"provide\", \"provide\", \"provide\", \"provide\", \"provide\", \"psfe\", \"publicly\", \"publish\", \"pv\", \"pv\", \"quarter\", \"quarter\", \"quarter\", \"raise\", \"raise\", \"rates\", \"rates\", \"recommend\", \"regulator\", \"rely\", \"respectively\", \"result\", \"result\", \"result\", \"retail\", \"retail\", \"retail\", \"revenue\", \"revenue\", \"revenue\", \"revenue\", \"revenue\", \"right\", \"rite\", \"role\", \"sachs\", \"sales\", \"sales\", \"sales\", \"sales\", \"save\", \"sector\", \"sector\", \"sector\", \"sector\", \"see\", \"see\", \"see\", \"sell\", \"selling\", \"share\", \"share\", \"short\", \"short\", \"si\", \"si\", \"si\", \"sndl\", \"sofi\", \"solar\", \"spac\", \"sport\", \"sport\", \"sport\", \"stadium\", \"state\", \"state\", \"state\", \"steel\", \"stock\", \"stock\", \"stocks\", \"store\", \"store\", \"strauss\", \"strike\", \"strong\", \"strong\", \"strong\", \"student\", \"supply\", \"supply\", \"supply\", \"taste\", \"technology\", \"technology\", \"technology\", \"technology\", \"tesla\", \"tesla\", \"think\", \"tilray\", \"time\", \"timely\", \"tlry\", \"today\", \"trade\", \"truck\", \"ttcf\", \"twitter\", \"unlock\", \"unpriced\", \"us\", \"us\", \"us\", \"us\", \"use\", \"use\", \"use\", \"use\", \"use\", \"usps\", \"utilization\", \"utilization\", \"vehicle\", \"vertically\", \"volume\", \"want\", \"week\", \"whenever\", \"wish\", \"wish\", \"woman\", \"workhorse\", \"would\", \"would\", \"would\", \"year\", \"year\", \"year\", \"year\", \"yolo\", \"yolo\", \"yoy\"]}, \"R\": 30, \"lambda.step\": 0.01, \"plot.opts\": {\"xlab\": \"PC1\", \"ylab\": \"PC2\"}, \"topic.order\": [4, 1, 2, 3, 5]};\n",
       "\n",
       "function LDAvis_load_lib(url, callback){\n",
       "  var s = document.createElement('script');\n",
       "  s.src = url;\n",
       "  s.async = true;\n",
       "  s.onreadystatechange = s.onload = callback;\n",
       "  s.onerror = function(){console.warn(\"failed to load library \" + url);};\n",
       "  document.getElementsByTagName(\"head\")[0].appendChild(s);\n",
       "}\n",
       "\n",
       "if(typeof(LDAvis) !== \"undefined\"){\n",
       "   // already loaded: just create the visualization\n",
       "   !function(LDAvis){\n",
       "       new LDAvis(\"#\" + \"ldavis_el1496221969303943284417267\", ldavis_el1496221969303943284417267_data);\n",
       "   }(LDAvis);\n",
       "}else if(typeof define === \"function\" && define.amd){\n",
       "   // require.js is available: use it to load d3/LDAvis\n",
       "   require.config({paths: {d3: \"https://d3js.org/d3.v5\"}});\n",
       "   require([\"d3\"], function(d3){\n",
       "      window.d3 = d3;\n",
       "      LDAvis_load_lib(\"https://cdn.jsdelivr.net/gh/bmabey/pyLDAvis@3.3.1/pyLDAvis/js/ldavis.v3.0.0.js\", function(){\n",
       "        new LDAvis(\"#\" + \"ldavis_el1496221969303943284417267\", ldavis_el1496221969303943284417267_data);\n",
       "      });\n",
       "    });\n",
       "}else{\n",
       "    // require.js not available: dynamically load d3 & LDAvis\n",
       "    LDAvis_load_lib(\"https://d3js.org/d3.v5.js\", function(){\n",
       "         LDAvis_load_lib(\"https://cdn.jsdelivr.net/gh/bmabey/pyLDAvis@3.3.1/pyLDAvis/js/ldavis.v3.0.0.js\", function(){\n",
       "                 new LDAvis(\"#\" + \"ldavis_el1496221969303943284417267\", ldavis_el1496221969303943284417267_data);\n",
       "            })\n",
       "         });\n",
       "}\n",
       "</script>"
      ],
      "text/plain": [
       "PreparedData(topic_coordinates=              x         y  topics  cluster       Freq\n",
       "topic                                                \n",
       "3     -0.267822 -0.057776       1        1  58.087255\n",
       "0     -0.053597 -0.016181       2        1  15.229785\n",
       "1     -0.040099  0.107871       3        1  10.479117\n",
       "2      0.194556 -0.230240       4        1   8.844605\n",
       "4      0.166962  0.196326       5        1   7.359238, topic_info=           Term         Freq        Total Category  logprob  loglift\n",
       "283       share  1474.000000  1474.000000  Default  30.0000  30.0000\n",
       "48      company  1657.000000  1657.000000  Default  29.0000  29.0000\n",
       "13844      levi   377.000000   377.000000  Default  28.0000  28.0000\n",
       "1511       loan   371.000000   371.000000  Default  27.0000  27.0000\n",
       "96     increase   559.000000   559.000000  Default  26.0000  26.0000\n",
       "...         ...          ...          ...      ...      ...      ...\n",
       "877         use    58.415718   401.872059   Topic5  -5.4383   0.6807\n",
       "1634   facility    40.743767    55.358067   Topic5  -5.7985   2.3027\n",
       "467     include    47.649822   211.408176   Topic5  -5.6420   1.1193\n",
       "674        plan    44.519746   167.006415   Topic5  -5.7099   1.2871\n",
       "48      company    49.336235  1657.893978   Topic5  -5.6072  -0.9054\n",
       "\n",
       "[307 rows x 6 columns], token_table=      Topic      Freq       Term\n",
       "term                            \n",
       "25        1  0.569372    account\n",
       "25        4  0.428559    account\n",
       "1973      2  0.788562    acquire\n",
       "1973      5  0.204442    acquire\n",
       "2290      2  0.987491  aggregate\n",
       "...     ...       ...        ...\n",
       "177       3  0.320144       year\n",
       "177       5  0.003318       year\n",
       "581       1  0.100034       yolo\n",
       "581       4  0.900303       yolo\n",
       "179       2  0.997911        yoy\n",
       "\n",
       "[470 rows x 3 columns], R=30, lambda_step=0.01, plot_opts={'xlab': 'PC1', 'ylab': 'PC2'}, topic_order=[4, 1, 2, 3, 5])"
      ]
     },
     "execution_count": 75,
     "metadata": {},
     "output_type": "execute_result"
    }
   ],
   "source": [
    "pyLDAvis.enable_notebook()\n",
    "vis = pyLDAvis.gensim_models.prepare(lda_model, corpus, id2word)\n",
    "vis"
   ]
  },
  {
   "cell_type": "code",
   "execution_count": null,
   "metadata": {},
   "outputs": [],
   "source": []
  }
 ],
 "metadata": {
  "kernelspec": {
   "display_name": "Python 3",
   "language": "python",
   "name": "python3"
  },
  "language_info": {
   "codemirror_mode": {
    "name": "ipython",
    "version": 3
   },
   "file_extension": ".py",
   "mimetype": "text/x-python",
   "name": "python",
   "nbconvert_exporter": "python",
   "pygments_lexer": "ipython3",
   "version": "3.7.4"
  }
 },
 "nbformat": 4,
 "nbformat_minor": 2
}
