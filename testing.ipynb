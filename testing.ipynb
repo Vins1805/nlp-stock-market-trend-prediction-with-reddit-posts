{
 "cells": [
  {
   "cell_type": "code",
   "execution_count": 1,
   "metadata": {},
   "outputs": [],
   "source": [
    "from tools.tools import Reddit\n",
    "from tools.translations import IO\n",
    "import pandas as pd\n",
    "from datetime import datetime as dt\n",
    "import os"
   ]
  },
  {
   "cell_type": "markdown",
   "metadata": {},
   "source": [
    "# Create DataFrames"
   ]
  },
  {
   "cell_type": "code",
   "execution_count": 2,
   "metadata": {},
   "outputs": [],
   "source": [
    "r = Reddit()"
   ]
  },
  {
   "cell_type": "code",
   "execution_count": 3,
   "metadata": {},
   "outputs": [
    {
     "name": "stdout",
     "output_type": "stream",
     "text": [
      "https://oauth.reddit.com/r/StockMarket/hot/\n"
     ]
    }
   ],
   "source": [
    "url = IO[\"BASE\"] + IO[\"SUBR\"][\"STOCKMARKET\"] + IO[\"LIST\"][\"HOT\"]\n",
    "print(url)"
   ]
  },
  {
   "cell_type": "code",
   "execution_count": 4,
   "metadata": {},
   "outputs": [],
   "source": [
    "#print(r.pretty(r.open(url)))\n",
    "#print(r.open(url))"
   ]
  },
  {
   "cell_type": "code",
   "execution_count": 5,
   "metadata": {},
   "outputs": [
    {
     "data": {
      "text/html": [
       "<style  type=\"text/css\" >\n",
       "</style><table id=\"T_d19bfcc6_cbbe_11eb_8062_1c1b0d37e28f\" ><thead>    <tr>        <th class=\"blank level0\" ></th>        <th class=\"col_heading level0 col0\" >award_count0</th>        <th class=\"col_heading level0 col1\" >award_count1</th>        <th class=\"col_heading level0 col2\" >award_count2</th>        <th class=\"col_heading level0 col3\" >award_count3</th>        <th class=\"col_heading level0 col4\" >award_name0</th>        <th class=\"col_heading level0 col5\" >award_name1</th>        <th class=\"col_heading level0 col6\" >award_name2</th>        <th class=\"col_heading level0 col7\" >award_name3</th>        <th class=\"col_heading level0 col8\" >created_at</th>        <th class=\"col_heading level0 col9\" >downs</th>        <th class=\"col_heading level0 col10\" >id</th>        <th class=\"col_heading level0 col11\" >kind</th>        <th class=\"col_heading level0 col12\" >num_comments</th>        <th class=\"col_heading level0 col13\" >permalink</th>        <th class=\"col_heading level0 col14\" >score</th>        <th class=\"col_heading level0 col15\" >selftext</th>        <th class=\"col_heading level0 col16\" >subreddit</th>        <th class=\"col_heading level0 col17\" >title</th>        <th class=\"col_heading level0 col18\" >total_awards_received</th>        <th class=\"col_heading level0 col19\" >ups</th>        <th class=\"col_heading level0 col20\" >upvote_ratio</th>    </tr></thead><tbody>\n",
       "                <tr>\n",
       "                        <th id=\"T_d19bfcc6_cbbe_11eb_8062_1c1b0d37e28flevel0_row0\" class=\"row_heading level0 row0\" >0</th>\n",
       "                        <td id=\"T_d19bfcc6_cbbe_11eb_8062_1c1b0d37e28frow0_col0\" class=\"data row0 col0\" >3</td>\n",
       "                        <td id=\"T_d19bfcc6_cbbe_11eb_8062_1c1b0d37e28frow0_col1\" class=\"data row0 col1\" >1</td>\n",
       "                        <td id=\"T_d19bfcc6_cbbe_11eb_8062_1c1b0d37e28frow0_col2\" class=\"data row0 col2\" >1</td>\n",
       "                        <td id=\"T_d19bfcc6_cbbe_11eb_8062_1c1b0d37e28frow0_col3\" class=\"data row0 col3\" >1</td>\n",
       "                        <td id=\"T_d19bfcc6_cbbe_11eb_8062_1c1b0d37e28frow0_col4\" class=\"data row0 col4\" >Helpful</td>\n",
       "                        <td id=\"T_d19bfcc6_cbbe_11eb_8062_1c1b0d37e28frow0_col5\" class=\"data row0 col5\" >Silver</td>\n",
       "                        <td id=\"T_d19bfcc6_cbbe_11eb_8062_1c1b0d37e28frow0_col6\" class=\"data row0 col6\" >I'll Drink to That</td>\n",
       "                        <td id=\"T_d19bfcc6_cbbe_11eb_8062_1c1b0d37e28frow0_col7\" class=\"data row0 col7\" >Hugz</td>\n",
       "                        <td id=\"T_d19bfcc6_cbbe_11eb_8062_1c1b0d37e28frow0_col8\" class=\"data row0 col8\" >2021-06-12 13:52:27</td>\n",
       "                        <td id=\"T_d19bfcc6_cbbe_11eb_8062_1c1b0d37e28frow0_col9\" class=\"data row0 col9\" >0</td>\n",
       "                        <td id=\"T_d19bfcc6_cbbe_11eb_8062_1c1b0d37e28frow0_col10\" class=\"data row0 col10\" >t3_ny78dh</td>\n",
       "                        <td id=\"T_d19bfcc6_cbbe_11eb_8062_1c1b0d37e28frow0_col11\" class=\"data row0 col11\" >Link</td>\n",
       "                        <td id=\"T_d19bfcc6_cbbe_11eb_8062_1c1b0d37e28frow0_col12\" class=\"data row0 col12\" >79</td>\n",
       "                        <td id=\"T_d19bfcc6_cbbe_11eb_8062_1c1b0d37e28frow0_col13\" class=\"data row0 col13\" >/r/StockMarket/comments/ny78dh/no_matter_the_amount_anything_positive_is_great/</td>\n",
       "                        <td id=\"T_d19bfcc6_cbbe_11eb_8062_1c1b0d37e28frow0_col14\" class=\"data row0 col14\" >5141</td>\n",
       "                        <td id=\"T_d19bfcc6_cbbe_11eb_8062_1c1b0d37e28frow0_col15\" class=\"data row0 col15\" ></td>\n",
       "                        <td id=\"T_d19bfcc6_cbbe_11eb_8062_1c1b0d37e28frow0_col16\" class=\"data row0 col16\" >StockMarket</td>\n",
       "                        <td id=\"T_d19bfcc6_cbbe_11eb_8062_1c1b0d37e28frow0_col17\" class=\"data row0 col17\" >No matter the amount, anything positive is great</td>\n",
       "                        <td id=\"T_d19bfcc6_cbbe_11eb_8062_1c1b0d37e28frow0_col18\" class=\"data row0 col18\" >6</td>\n",
       "                        <td id=\"T_d19bfcc6_cbbe_11eb_8062_1c1b0d37e28frow0_col19\" class=\"data row0 col19\" >5141</td>\n",
       "                        <td id=\"T_d19bfcc6_cbbe_11eb_8062_1c1b0d37e28frow0_col20\" class=\"data row0 col20\" >0.96</td>\n",
       "            </tr>\n",
       "            <tr>\n",
       "                        <th id=\"T_d19bfcc6_cbbe_11eb_8062_1c1b0d37e28flevel0_row1\" class=\"row_heading level0 row1\" >1</th>\n",
       "                        <td id=\"T_d19bfcc6_cbbe_11eb_8062_1c1b0d37e28frow1_col0\" class=\"data row1 col0\" >1</td>\n",
       "                        <td id=\"T_d19bfcc6_cbbe_11eb_8062_1c1b0d37e28frow1_col1\" class=\"data row1 col1\" >2</td>\n",
       "                        <td id=\"T_d19bfcc6_cbbe_11eb_8062_1c1b0d37e28frow1_col2\" class=\"data row1 col2\" >nan</td>\n",
       "                        <td id=\"T_d19bfcc6_cbbe_11eb_8062_1c1b0d37e28frow1_col3\" class=\"data row1 col3\" >nan</td>\n",
       "                        <td id=\"T_d19bfcc6_cbbe_11eb_8062_1c1b0d37e28frow1_col4\" class=\"data row1 col4\" >Helpful</td>\n",
       "                        <td id=\"T_d19bfcc6_cbbe_11eb_8062_1c1b0d37e28frow1_col5\" class=\"data row1 col5\" >Wholesome</td>\n",
       "                        <td id=\"T_d19bfcc6_cbbe_11eb_8062_1c1b0d37e28frow1_col6\" class=\"data row1 col6\" >nan</td>\n",
       "                        <td id=\"T_d19bfcc6_cbbe_11eb_8062_1c1b0d37e28frow1_col7\" class=\"data row1 col7\" >nan</td>\n",
       "                        <td id=\"T_d19bfcc6_cbbe_11eb_8062_1c1b0d37e28frow1_col8\" class=\"data row1 col8\" >2021-06-12 13:51:43</td>\n",
       "                        <td id=\"T_d19bfcc6_cbbe_11eb_8062_1c1b0d37e28frow1_col9\" class=\"data row1 col9\" >0</td>\n",
       "                        <td id=\"T_d19bfcc6_cbbe_11eb_8062_1c1b0d37e28frow1_col10\" class=\"data row1 col10\" >t3_ny77tp</td>\n",
       "                        <td id=\"T_d19bfcc6_cbbe_11eb_8062_1c1b0d37e28frow1_col11\" class=\"data row1 col11\" >Link</td>\n",
       "                        <td id=\"T_d19bfcc6_cbbe_11eb_8062_1c1b0d37e28frow1_col12\" class=\"data row1 col12\" >24</td>\n",
       "                        <td id=\"T_d19bfcc6_cbbe_11eb_8062_1c1b0d37e28frow1_col13\" class=\"data row1 col13\" >/r/StockMarket/comments/ny77tp/hopefully_im_not_the_only_one/</td>\n",
       "                        <td id=\"T_d19bfcc6_cbbe_11eb_8062_1c1b0d37e28frow1_col14\" class=\"data row1 col14\" >605</td>\n",
       "                        <td id=\"T_d19bfcc6_cbbe_11eb_8062_1c1b0d37e28frow1_col15\" class=\"data row1 col15\" ></td>\n",
       "                        <td id=\"T_d19bfcc6_cbbe_11eb_8062_1c1b0d37e28frow1_col16\" class=\"data row1 col16\" >StockMarket</td>\n",
       "                        <td id=\"T_d19bfcc6_cbbe_11eb_8062_1c1b0d37e28frow1_col17\" class=\"data row1 col17\" >Hopefully I’m not the only one</td>\n",
       "                        <td id=\"T_d19bfcc6_cbbe_11eb_8062_1c1b0d37e28frow1_col18\" class=\"data row1 col18\" >3</td>\n",
       "                        <td id=\"T_d19bfcc6_cbbe_11eb_8062_1c1b0d37e28frow1_col19\" class=\"data row1 col19\" >605</td>\n",
       "                        <td id=\"T_d19bfcc6_cbbe_11eb_8062_1c1b0d37e28frow1_col20\" class=\"data row1 col20\" >0.99</td>\n",
       "            </tr>\n",
       "    </tbody></table>"
      ],
      "text/plain": [
       "<pandas.io.formats.style.Styler at 0x1fd5b1548c8>"
      ]
     },
     "execution_count": 5,
     "metadata": {},
     "output_type": "execute_result"
    }
   ],
   "source": [
    "df = r.get_threads(url)\n",
    "df.head(2).style"
   ]
  },
  {
   "cell_type": "code",
   "execution_count": 6,
   "metadata": {},
   "outputs": [
    {
     "data": {
      "text/html": [
       "<style  type=\"text/css\" >\n",
       "</style><table id=\"T_d28b7e34_cbbe_11eb_9a92_1c1b0d37e28f\" ><thead>    <tr>        <th class=\"blank level0\" ></th>        <th class=\"col_heading level0 col0\" >archived</th>        <th class=\"col_heading level0 col1\" >body</th>        <th class=\"col_heading level0 col2\" >controversiality</th>        <th class=\"col_heading level0 col3\" >created_at</th>        <th class=\"col_heading level0 col4\" >depth</th>        <th class=\"col_heading level0 col5\" >downs</th>        <th class=\"col_heading level0 col6\" >id</th>        <th class=\"col_heading level0 col7\" >kind</th>        <th class=\"col_heading level0 col8\" >link_id</th>        <th class=\"col_heading level0 col9\" >name</th>        <th class=\"col_heading level0 col10\" >parent_id</th>        <th class=\"col_heading level0 col11\" >permalink</th>        <th class=\"col_heading level0 col12\" >score</th>        <th class=\"col_heading level0 col13\" >subreddit</th>        <th class=\"col_heading level0 col14\" >total_awards_received</th>        <th class=\"col_heading level0 col15\" >ups</th>    </tr></thead><tbody>\n",
       "                <tr>\n",
       "                        <th id=\"T_d28b7e34_cbbe_11eb_9a92_1c1b0d37e28flevel0_row0\" class=\"row_heading level0 row0\" >0</th>\n",
       "                        <td id=\"T_d28b7e34_cbbe_11eb_9a92_1c1b0d37e28frow0_col0\" class=\"data row0 col0\" >0</td>\n",
       "                        <td id=\"T_d28b7e34_cbbe_11eb_9a92_1c1b0d37e28frow0_col1\" class=\"data row0 col1\" >Better than bank savings account interest rates</td>\n",
       "                        <td id=\"T_d28b7e34_cbbe_11eb_9a92_1c1b0d37e28frow0_col2\" class=\"data row0 col2\" >0</td>\n",
       "                        <td id=\"T_d28b7e34_cbbe_11eb_9a92_1c1b0d37e28frow0_col3\" class=\"data row0 col3\" >2021-06-12 15:37:38</td>\n",
       "                        <td id=\"T_d28b7e34_cbbe_11eb_9a92_1c1b0d37e28frow0_col4\" class=\"data row0 col4\" >0</td>\n",
       "                        <td id=\"T_d28b7e34_cbbe_11eb_9a92_1c1b0d37e28frow0_col5\" class=\"data row0 col5\" >0</td>\n",
       "                        <td id=\"T_d28b7e34_cbbe_11eb_9a92_1c1b0d37e28frow0_col6\" class=\"data row0 col6\" >t1_h1iweep</td>\n",
       "                        <td id=\"T_d28b7e34_cbbe_11eb_9a92_1c1b0d37e28frow0_col7\" class=\"data row0 col7\" >Comment</td>\n",
       "                        <td id=\"T_d28b7e34_cbbe_11eb_9a92_1c1b0d37e28frow0_col8\" class=\"data row0 col8\" >t3_ny78dh</td>\n",
       "                        <td id=\"T_d28b7e34_cbbe_11eb_9a92_1c1b0d37e28frow0_col9\" class=\"data row0 col9\" >t1_h1iweep</td>\n",
       "                        <td id=\"T_d28b7e34_cbbe_11eb_9a92_1c1b0d37e28frow0_col10\" class=\"data row0 col10\" >t3_ny78dh</td>\n",
       "                        <td id=\"T_d28b7e34_cbbe_11eb_9a92_1c1b0d37e28frow0_col11\" class=\"data row0 col11\" >/r/StockMarket/comments/ny78dh/no_matter_the_amount_anything_positive_is_great/h1iweep/</td>\n",
       "                        <td id=\"T_d28b7e34_cbbe_11eb_9a92_1c1b0d37e28frow0_col12\" class=\"data row0 col12\" >109</td>\n",
       "                        <td id=\"T_d28b7e34_cbbe_11eb_9a92_1c1b0d37e28frow0_col13\" class=\"data row0 col13\" >StockMarket</td>\n",
       "                        <td id=\"T_d28b7e34_cbbe_11eb_9a92_1c1b0d37e28frow0_col14\" class=\"data row0 col14\" >0</td>\n",
       "                        <td id=\"T_d28b7e34_cbbe_11eb_9a92_1c1b0d37e28frow0_col15\" class=\"data row0 col15\" >109</td>\n",
       "            </tr>\n",
       "            <tr>\n",
       "                        <th id=\"T_d28b7e34_cbbe_11eb_9a92_1c1b0d37e28flevel0_row1\" class=\"row_heading level0 row1\" >1</th>\n",
       "                        <td id=\"T_d28b7e34_cbbe_11eb_9a92_1c1b0d37e28frow1_col0\" class=\"data row1 col0\" >0</td>\n",
       "                        <td id=\"T_d28b7e34_cbbe_11eb_9a92_1c1b0d37e28frow1_col1\" class=\"data row1 col1\" >This.  I have a friend who is really skeptical about putting any money in stock market.  I told him, in the end, with my stocks, there’s going to be 2 outcomes.\n",
       "\n",
       "1. It actually goes to the number I wish for it to go and I have life changing money\n",
       "\n",
       "Or\n",
       "\n",
       "2.  It doesn’t but I still make over $5000 profit in 5 years.\n",
       "\n",
       "Either way, I highly doubt leaving the money I am investing in my bank’s savings account would even come close to earning me $5000.  I think I need something like a minimum of $100,000 deposited in savings to even earn 1%, if that.</td>\n",
       "                        <td id=\"T_d28b7e34_cbbe_11eb_9a92_1c1b0d37e28frow1_col2\" class=\"data row1 col2\" >0</td>\n",
       "                        <td id=\"T_d28b7e34_cbbe_11eb_9a92_1c1b0d37e28frow1_col3\" class=\"data row1 col3\" >2021-06-12 16:17:05</td>\n",
       "                        <td id=\"T_d28b7e34_cbbe_11eb_9a92_1c1b0d37e28frow1_col4\" class=\"data row1 col4\" >1</td>\n",
       "                        <td id=\"T_d28b7e34_cbbe_11eb_9a92_1c1b0d37e28frow1_col5\" class=\"data row1 col5\" >0</td>\n",
       "                        <td id=\"T_d28b7e34_cbbe_11eb_9a92_1c1b0d37e28frow1_col6\" class=\"data row1 col6\" >t1_h1j0zfv</td>\n",
       "                        <td id=\"T_d28b7e34_cbbe_11eb_9a92_1c1b0d37e28frow1_col7\" class=\"data row1 col7\" >Comment</td>\n",
       "                        <td id=\"T_d28b7e34_cbbe_11eb_9a92_1c1b0d37e28frow1_col8\" class=\"data row1 col8\" >t3_ny78dh</td>\n",
       "                        <td id=\"T_d28b7e34_cbbe_11eb_9a92_1c1b0d37e28frow1_col9\" class=\"data row1 col9\" >t1_h1j0zfv</td>\n",
       "                        <td id=\"T_d28b7e34_cbbe_11eb_9a92_1c1b0d37e28frow1_col10\" class=\"data row1 col10\" >t1_h1iweep</td>\n",
       "                        <td id=\"T_d28b7e34_cbbe_11eb_9a92_1c1b0d37e28frow1_col11\" class=\"data row1 col11\" >/r/StockMarket/comments/ny78dh/no_matter_the_amount_anything_positive_is_great/h1j0zfv/</td>\n",
       "                        <td id=\"T_d28b7e34_cbbe_11eb_9a92_1c1b0d37e28frow1_col12\" class=\"data row1 col12\" >34</td>\n",
       "                        <td id=\"T_d28b7e34_cbbe_11eb_9a92_1c1b0d37e28frow1_col13\" class=\"data row1 col13\" >StockMarket</td>\n",
       "                        <td id=\"T_d28b7e34_cbbe_11eb_9a92_1c1b0d37e28frow1_col14\" class=\"data row1 col14\" >0</td>\n",
       "                        <td id=\"T_d28b7e34_cbbe_11eb_9a92_1c1b0d37e28frow1_col15\" class=\"data row1 col15\" >34</td>\n",
       "            </tr>\n",
       "            <tr>\n",
       "                        <th id=\"T_d28b7e34_cbbe_11eb_9a92_1c1b0d37e28flevel0_row2\" class=\"row_heading level0 row2\" >2</th>\n",
       "                        <td id=\"T_d28b7e34_cbbe_11eb_9a92_1c1b0d37e28frow2_col0\" class=\"data row2 col0\" >0</td>\n",
       "                        <td id=\"T_d28b7e34_cbbe_11eb_9a92_1c1b0d37e28frow2_col1\" class=\"data row2 col1\" >3. Or you lose a portion of your principal investment.\n",
       "\n",
       "Always a possibility, especially now when half the market is overvalued.</td>\n",
       "                        <td id=\"T_d28b7e34_cbbe_11eb_9a92_1c1b0d37e28frow2_col2\" class=\"data row2 col2\" >0</td>\n",
       "                        <td id=\"T_d28b7e34_cbbe_11eb_9a92_1c1b0d37e28frow2_col3\" class=\"data row2 col3\" >2021-06-12 18:09:23</td>\n",
       "                        <td id=\"T_d28b7e34_cbbe_11eb_9a92_1c1b0d37e28frow2_col4\" class=\"data row2 col4\" >2</td>\n",
       "                        <td id=\"T_d28b7e34_cbbe_11eb_9a92_1c1b0d37e28frow2_col5\" class=\"data row2 col5\" >0</td>\n",
       "                        <td id=\"T_d28b7e34_cbbe_11eb_9a92_1c1b0d37e28frow2_col6\" class=\"data row2 col6\" >t1_h1jemw7</td>\n",
       "                        <td id=\"T_d28b7e34_cbbe_11eb_9a92_1c1b0d37e28frow2_col7\" class=\"data row2 col7\" >Comment</td>\n",
       "                        <td id=\"T_d28b7e34_cbbe_11eb_9a92_1c1b0d37e28frow2_col8\" class=\"data row2 col8\" >t3_ny78dh</td>\n",
       "                        <td id=\"T_d28b7e34_cbbe_11eb_9a92_1c1b0d37e28frow2_col9\" class=\"data row2 col9\" >t1_h1jemw7</td>\n",
       "                        <td id=\"T_d28b7e34_cbbe_11eb_9a92_1c1b0d37e28frow2_col10\" class=\"data row2 col10\" >t1_h1j0zfv</td>\n",
       "                        <td id=\"T_d28b7e34_cbbe_11eb_9a92_1c1b0d37e28frow2_col11\" class=\"data row2 col11\" >/r/StockMarket/comments/ny78dh/no_matter_the_amount_anything_positive_is_great/h1jemw7/</td>\n",
       "                        <td id=\"T_d28b7e34_cbbe_11eb_9a92_1c1b0d37e28frow2_col12\" class=\"data row2 col12\" >25</td>\n",
       "                        <td id=\"T_d28b7e34_cbbe_11eb_9a92_1c1b0d37e28frow2_col13\" class=\"data row2 col13\" >StockMarket</td>\n",
       "                        <td id=\"T_d28b7e34_cbbe_11eb_9a92_1c1b0d37e28frow2_col14\" class=\"data row2 col14\" >0</td>\n",
       "                        <td id=\"T_d28b7e34_cbbe_11eb_9a92_1c1b0d37e28frow2_col15\" class=\"data row2 col15\" >25</td>\n",
       "            </tr>\n",
       "            <tr>\n",
       "                        <th id=\"T_d28b7e34_cbbe_11eb_9a92_1c1b0d37e28flevel0_row3\" class=\"row_heading level0 row3\" >3</th>\n",
       "                        <td id=\"T_d28b7e34_cbbe_11eb_9a92_1c1b0d37e28frow3_col0\" class=\"data row3 col0\" >0</td>\n",
       "                        <td id=\"T_d28b7e34_cbbe_11eb_9a92_1c1b0d37e28frow3_col1\" class=\"data row3 col1\" >Not me.  I’ve gotten into my stocks and cryptos 2 and half years ago and have just been holding and DCA-ing my way in.  I have actually pulled my initial investments this year so I’m riding my profits to bigger profits.  I have certain target numbers in my head before I pull anymore profits, and that’s when I will just “ shut her down “ until 2030 before I look at where the remainder of my stocks and cryptos are at, and re-evaluate again from there on forward.\n",
       "\n",
       "I guess technically if everything crashes, then all I did was break-even after all these years.  But, I actually believe that if I just hold and stick to my plan, that won’t happen.\n",
       "\n",
       "Again, this is just me.  Im not speaking for all of you guys here because I have no idea what you hold, and how long you have been holding, but for me, I am going to either \n",
       "\n",
       "1. Make a minimum of $5000 within 5 years.\n",
       "\n",
       "Or \n",
       "\n",
       "2.  My stocks and cryptos hit numbers beyond my expectation and I have a life changing outcome.</td>\n",
       "                        <td id=\"T_d28b7e34_cbbe_11eb_9a92_1c1b0d37e28frow3_col2\" class=\"data row3 col2\" >1</td>\n",
       "                        <td id=\"T_d28b7e34_cbbe_11eb_9a92_1c1b0d37e28frow3_col3\" class=\"data row3 col3\" >2021-06-12 18:49:10</td>\n",
       "                        <td id=\"T_d28b7e34_cbbe_11eb_9a92_1c1b0d37e28frow3_col4\" class=\"data row3 col4\" >3</td>\n",
       "                        <td id=\"T_d28b7e34_cbbe_11eb_9a92_1c1b0d37e28frow3_col5\" class=\"data row3 col5\" >0</td>\n",
       "                        <td id=\"T_d28b7e34_cbbe_11eb_9a92_1c1b0d37e28frow3_col6\" class=\"data row3 col6\" >t1_h1jjdnf</td>\n",
       "                        <td id=\"T_d28b7e34_cbbe_11eb_9a92_1c1b0d37e28frow3_col7\" class=\"data row3 col7\" >Comment</td>\n",
       "                        <td id=\"T_d28b7e34_cbbe_11eb_9a92_1c1b0d37e28frow3_col8\" class=\"data row3 col8\" >t3_ny78dh</td>\n",
       "                        <td id=\"T_d28b7e34_cbbe_11eb_9a92_1c1b0d37e28frow3_col9\" class=\"data row3 col9\" >t1_h1jjdnf</td>\n",
       "                        <td id=\"T_d28b7e34_cbbe_11eb_9a92_1c1b0d37e28frow3_col10\" class=\"data row3 col10\" >t1_h1jemw7</td>\n",
       "                        <td id=\"T_d28b7e34_cbbe_11eb_9a92_1c1b0d37e28frow3_col11\" class=\"data row3 col11\" >/r/StockMarket/comments/ny78dh/no_matter_the_amount_anything_positive_is_great/h1jjdnf/</td>\n",
       "                        <td id=\"T_d28b7e34_cbbe_11eb_9a92_1c1b0d37e28frow3_col12\" class=\"data row3 col12\" >-3</td>\n",
       "                        <td id=\"T_d28b7e34_cbbe_11eb_9a92_1c1b0d37e28frow3_col13\" class=\"data row3 col13\" >StockMarket</td>\n",
       "                        <td id=\"T_d28b7e34_cbbe_11eb_9a92_1c1b0d37e28frow3_col14\" class=\"data row3 col14\" >0</td>\n",
       "                        <td id=\"T_d28b7e34_cbbe_11eb_9a92_1c1b0d37e28frow3_col15\" class=\"data row3 col15\" >-3</td>\n",
       "            </tr>\n",
       "            <tr>\n",
       "                        <th id=\"T_d28b7e34_cbbe_11eb_9a92_1c1b0d37e28flevel0_row4\" class=\"row_heading level0 row4\" >4</th>\n",
       "                        <td id=\"T_d28b7e34_cbbe_11eb_9a92_1c1b0d37e28frow4_col0\" class=\"data row4 col0\" >0</td>\n",
       "                        <td id=\"T_d28b7e34_cbbe_11eb_9a92_1c1b0d37e28frow4_col1\" class=\"data row4 col1\" >Yeah most of us have an amazing 2020 profit to buffer any losses but anyone that is just starting to invest now could easily see their investments drop below their principal for a long stretch. \n",
       "\n",
       "Regardless of whether it's guaranteed to come back at some point, seeing red can take quite a psychological toll on new investors so I understand people settling for a 1.5% HISA even if that is a mistake longterm.</td>\n",
       "                        <td id=\"T_d28b7e34_cbbe_11eb_9a92_1c1b0d37e28frow4_col2\" class=\"data row4 col2\" >0</td>\n",
       "                        <td id=\"T_d28b7e34_cbbe_11eb_9a92_1c1b0d37e28frow4_col3\" class=\"data row4 col3\" >2021-06-12 19:14:35</td>\n",
       "                        <td id=\"T_d28b7e34_cbbe_11eb_9a92_1c1b0d37e28frow4_col4\" class=\"data row4 col4\" >4</td>\n",
       "                        <td id=\"T_d28b7e34_cbbe_11eb_9a92_1c1b0d37e28frow4_col5\" class=\"data row4 col5\" >0</td>\n",
       "                        <td id=\"T_d28b7e34_cbbe_11eb_9a92_1c1b0d37e28frow4_col6\" class=\"data row4 col6\" >t1_h1jmbh7</td>\n",
       "                        <td id=\"T_d28b7e34_cbbe_11eb_9a92_1c1b0d37e28frow4_col7\" class=\"data row4 col7\" >Comment</td>\n",
       "                        <td id=\"T_d28b7e34_cbbe_11eb_9a92_1c1b0d37e28frow4_col8\" class=\"data row4 col8\" >t3_ny78dh</td>\n",
       "                        <td id=\"T_d28b7e34_cbbe_11eb_9a92_1c1b0d37e28frow4_col9\" class=\"data row4 col9\" >t1_h1jmbh7</td>\n",
       "                        <td id=\"T_d28b7e34_cbbe_11eb_9a92_1c1b0d37e28frow4_col10\" class=\"data row4 col10\" >t1_h1jjdnf</td>\n",
       "                        <td id=\"T_d28b7e34_cbbe_11eb_9a92_1c1b0d37e28frow4_col11\" class=\"data row4 col11\" >/r/StockMarket/comments/ny78dh/no_matter_the_amount_anything_positive_is_great/h1jmbh7/</td>\n",
       "                        <td id=\"T_d28b7e34_cbbe_11eb_9a92_1c1b0d37e28frow4_col12\" class=\"data row4 col12\" >6</td>\n",
       "                        <td id=\"T_d28b7e34_cbbe_11eb_9a92_1c1b0d37e28frow4_col13\" class=\"data row4 col13\" >StockMarket</td>\n",
       "                        <td id=\"T_d28b7e34_cbbe_11eb_9a92_1c1b0d37e28frow4_col14\" class=\"data row4 col14\" >0</td>\n",
       "                        <td id=\"T_d28b7e34_cbbe_11eb_9a92_1c1b0d37e28frow4_col15\" class=\"data row4 col15\" >6</td>\n",
       "            </tr>\n",
       "    </tbody></table>"
      ],
      "text/plain": [
       "<pandas.io.formats.style.Styler at 0x1fd5c91e4c8>"
      ]
     },
     "execution_count": 6,
     "metadata": {},
     "output_type": "execute_result"
    }
   ],
   "source": [
    "r.get_comments(IO[\"BASE\"] + df.loc[0].permalink).head().style"
   ]
  },
  {
   "cell_type": "markdown",
   "metadata": {},
   "source": [
    "# Persist Data"
   ]
  },
  {
   "cell_type": "code",
   "execution_count": 7,
   "metadata": {},
   "outputs": [
    {
     "name": "stdout",
     "output_type": "stream",
     "text": [
      "C:\\Users\\Vincent\\Desktop\\nlp-stock-market-trend-prediction-with-reddit-posts\\data\\StockMarket --from_date 2021-06-10 --to_date 2021-06-12.pd\n",
      "C:\\Users\\Vincent\\Desktop\\nlp-stock-market-trend-prediction-with-reddit-posts\\data\\StockMarket --from_date 2021-06-08 --to_date 2021-06-11.pd\n",
      "C:\\Users\\Vincent\\Desktop\\nlp-stock-market-trend-prediction-with-reddit-posts\\data\\StockMarket --from_date 2021-06-07 --to_date 2021-06-09.pd\n",
      "C:\\Users\\Vincent\\Desktop\\nlp-stock-market-trend-prediction-with-reddit-posts\\data\\StockMarket --from_date 2021-06-04 --to_date 2021-06-08.pd\n",
      "C:\\Users\\Vincent\\Desktop\\nlp-stock-market-trend-prediction-with-reddit-posts\\data\\StockMarket --from_date 2021-06-03 --to_date 2021-06-06.pd\n"
     ]
    },
    {
     "ename": "AttributeError",
     "evalue": "'DataFrame' object has no attribute 'subreddit'",
     "output_type": "error",
     "traceback": [
      "\u001b[1;31m---------------------------------------------------------------------------\u001b[0m",
      "\u001b[1;31mAttributeError\u001b[0m                            Traceback (most recent call last)",
      "\u001b[1;32m<ipython-input-7-c64f6fd9338b>\u001b[0m in \u001b[0;36m<module>\u001b[1;34m\u001b[0m\n\u001b[1;32m----> 1\u001b[1;33m \u001b[0mr\u001b[0m\u001b[1;33m.\u001b[0m\u001b[0mbulk_store_threads\u001b[0m\u001b[1;33m(\u001b[0m\u001b[0murl\u001b[0m\u001b[1;33m,\u001b[0m \u001b[1;36m10\u001b[0m\u001b[1;33m)\u001b[0m\u001b[1;33m\u001b[0m\u001b[1;33m\u001b[0m\u001b[0m\n\u001b[0m",
      "\u001b[1;32m~\\Desktop\\nlp-stock-market-trend-prediction-with-reddit-posts\\tools\\tools.py\u001b[0m in \u001b[0;36mbulk_store_threads\u001b[1;34m(self, url, n)\u001b[0m\n\u001b[0;32m    137\u001b[0m                 \u001b[0mparams\u001b[0m\u001b[1;33m[\u001b[0m\u001b[1;34m\"after\"\u001b[0m\u001b[1;33m]\u001b[0m \u001b[1;33m=\u001b[0m \u001b[0mdf\u001b[0m\u001b[1;33m.\u001b[0m\u001b[0mid\u001b[0m\u001b[1;33m.\u001b[0m\u001b[0miloc\u001b[0m\u001b[1;33m[\u001b[0m\u001b[1;33m-\u001b[0m\u001b[1;36m1\u001b[0m\u001b[1;33m]\u001b[0m\u001b[1;33m\u001b[0m\u001b[1;33m\u001b[0m\u001b[0m\n\u001b[0;32m    138\u001b[0m             \u001b[0mdf\u001b[0m \u001b[1;33m=\u001b[0m \u001b[0mself\u001b[0m\u001b[1;33m.\u001b[0m\u001b[0mget_threads\u001b[0m\u001b[1;33m(\u001b[0m\u001b[0murl\u001b[0m\u001b[1;33m,\u001b[0m \u001b[0mparams\u001b[0m\u001b[1;33m)\u001b[0m\u001b[1;33m\u001b[0m\u001b[1;33m\u001b[0m\u001b[0m\n\u001b[1;32m--> 139\u001b[1;33m             \u001b[0mfilepath\u001b[0m \u001b[1;33m=\u001b[0m \u001b[0mIO\u001b[0m\u001b[1;33m[\u001b[0m\u001b[1;34m\"OUTPUT\"\u001b[0m\u001b[1;33m]\u001b[0m\u001b[1;33m[\u001b[0m\u001b[1;34m\"THREADS\"\u001b[0m\u001b[1;33m]\u001b[0m \u001b[1;33m+\u001b[0m \u001b[1;34mf\"{df.subreddit.iloc[i]} --from_date {df.created_at.min().date()} --to_date {df.created_at.max().date()}.pd\"\u001b[0m\u001b[1;33m\u001b[0m\u001b[1;33m\u001b[0m\u001b[0m\n\u001b[0m\u001b[0;32m    140\u001b[0m             \u001b[0mprint\u001b[0m\u001b[1;33m(\u001b[0m\u001b[0mfilepath\u001b[0m\u001b[1;33m)\u001b[0m\u001b[1;33m\u001b[0m\u001b[1;33m\u001b[0m\u001b[0m\n\u001b[0;32m    141\u001b[0m             \u001b[0mdf\u001b[0m\u001b[1;33m.\u001b[0m\u001b[0mto_pickle\u001b[0m\u001b[1;33m(\u001b[0m\u001b[0mfilepath\u001b[0m\u001b[1;33m)\u001b[0m\u001b[1;33m\u001b[0m\u001b[1;33m\u001b[0m\u001b[0m\n",
      "\u001b[1;32mC:\\ProgramData\\Anaconda3\\lib\\site-packages\\pandas\\core\\generic.py\u001b[0m in \u001b[0;36m__getattr__\u001b[1;34m(self, name)\u001b[0m\n\u001b[0;32m   5177\u001b[0m             \u001b[1;32mif\u001b[0m \u001b[0mself\u001b[0m\u001b[1;33m.\u001b[0m\u001b[0m_info_axis\u001b[0m\u001b[1;33m.\u001b[0m\u001b[0m_can_hold_identifiers_and_holds_name\u001b[0m\u001b[1;33m(\u001b[0m\u001b[0mname\u001b[0m\u001b[1;33m)\u001b[0m\u001b[1;33m:\u001b[0m\u001b[1;33m\u001b[0m\u001b[1;33m\u001b[0m\u001b[0m\n\u001b[0;32m   5178\u001b[0m                 \u001b[1;32mreturn\u001b[0m \u001b[0mself\u001b[0m\u001b[1;33m[\u001b[0m\u001b[0mname\u001b[0m\u001b[1;33m]\u001b[0m\u001b[1;33m\u001b[0m\u001b[1;33m\u001b[0m\u001b[0m\n\u001b[1;32m-> 5179\u001b[1;33m             \u001b[1;32mreturn\u001b[0m \u001b[0mobject\u001b[0m\u001b[1;33m.\u001b[0m\u001b[0m__getattribute__\u001b[0m\u001b[1;33m(\u001b[0m\u001b[0mself\u001b[0m\u001b[1;33m,\u001b[0m \u001b[0mname\u001b[0m\u001b[1;33m)\u001b[0m\u001b[1;33m\u001b[0m\u001b[1;33m\u001b[0m\u001b[0m\n\u001b[0m\u001b[0;32m   5180\u001b[0m \u001b[1;33m\u001b[0m\u001b[0m\n\u001b[0;32m   5181\u001b[0m     \u001b[1;32mdef\u001b[0m \u001b[0m__setattr__\u001b[0m\u001b[1;33m(\u001b[0m\u001b[0mself\u001b[0m\u001b[1;33m,\u001b[0m \u001b[0mname\u001b[0m\u001b[1;33m,\u001b[0m \u001b[0mvalue\u001b[0m\u001b[1;33m)\u001b[0m\u001b[1;33m:\u001b[0m\u001b[1;33m\u001b[0m\u001b[1;33m\u001b[0m\u001b[0m\n",
      "\u001b[1;31mAttributeError\u001b[0m: 'DataFrame' object has no attribute 'subreddit'"
     ]
    }
   ],
   "source": [
    "r.bulk_store_threads(url, 10)"
   ]
  },
  {
   "cell_type": "code",
   "execution_count": 8,
   "metadata": {},
   "outputs": [
    {
     "name": "stdout",
     "output_type": "stream",
     "text": [
      "StockMarket --from_date 2021-06-03 --to_date 2021-06-06.pd\n",
      "StockMarket --from_date 2021-06-04 --to_date 2021-06-08.pd\n",
      "StockMarket --from_date 2021-06-07 --to_date 2021-06-09.pd\n",
      "StockMarket --from_date 2021-06-08 --to_date 2021-06-11.pd\n"
     ]
    },
    {
     "data": {
      "text/html": [
       "<div>\n",
       "<style scoped>\n",
       "    .dataframe tbody tr th:only-of-type {\n",
       "        vertical-align: middle;\n",
       "    }\n",
       "\n",
       "    .dataframe tbody tr th {\n",
       "        vertical-align: top;\n",
       "    }\n",
       "\n",
       "    .dataframe thead th {\n",
       "        text-align: right;\n",
       "    }\n",
       "</style>\n",
       "<table border=\"1\" class=\"dataframe\">\n",
       "  <thead>\n",
       "    <tr style=\"text-align: right;\">\n",
       "      <th></th>\n",
       "      <th>selftext</th>\n",
       "      <th>title</th>\n",
       "    </tr>\n",
       "  </thead>\n",
       "  <tbody>\n",
       "    <tr>\n",
       "      <td>0</td>\n",
       "      <td>\\n\\nThere will probably be a press release o...</td>\n",
       "      <td>$KTRA gets added to Russell Microcap Index ! T...</td>\n",
       "    </tr>\n",
       "    <tr>\n",
       "      <td>1</td>\n",
       "      <td></td>\n",
       "      <td>Gold and Silver Forecast | Precious metals ana...</td>\n",
       "    </tr>\n",
       "    <tr>\n",
       "      <td>2</td>\n",
       "      <td></td>\n",
       "      <td>Trading E-Books For Stock Market Traders</td>\n",
       "    </tr>\n",
       "    <tr>\n",
       "      <td>3</td>\n",
       "      <td></td>\n",
       "      <td>Down 100k from total high and still holding</td>\n",
       "    </tr>\n",
       "    <tr>\n",
       "      <td>4</td>\n",
       "      <td>Immunotherapy is field of oncology where drugs...</td>\n",
       "      <td>The best value biotech stock $AGEN</td>\n",
       "    </tr>\n",
       "    <tr>\n",
       "      <td>...</td>\n",
       "      <td>...</td>\n",
       "      <td>...</td>\n",
       "    </tr>\n",
       "    <tr>\n",
       "      <td>95</td>\n",
       "      <td>UONE Catalyst (Last and Final Update)\\n\\nUONE ...</td>\n",
       "      <td>UONE TO THE MOOONNN</td>\n",
       "    </tr>\n",
       "    <tr>\n",
       "      <td>96</td>\n",
       "      <td></td>\n",
       "      <td>Why A Good Company ≠ A Good Investment</td>\n",
       "    </tr>\n",
       "    <tr>\n",
       "      <td>97</td>\n",
       "      <td></td>\n",
       "      <td>The most and least data-hungry cryptocurrency ...</td>\n",
       "    </tr>\n",
       "    <tr>\n",
       "      <td>98</td>\n",
       "      <td></td>\n",
       "      <td>Need some help for #CLOV! Help!!!!!!!!!!!!!!!!...</td>\n",
       "    </tr>\n",
       "    <tr>\n",
       "      <td>99</td>\n",
       "      <td></td>\n",
       "      <td>Need some help for clov! HELP!!!!!!!!!!!!!!!!!...</td>\n",
       "    </tr>\n",
       "  </tbody>\n",
       "</table>\n",
       "<p>371 rows × 2 columns</p>\n",
       "</div>"
      ],
      "text/plain": [
       "                                             selftext  \\\n",
       "0     \\n\\nThere will probably be a press release o...   \n",
       "1                                                       \n",
       "2                                                       \n",
       "3                                                       \n",
       "4   Immunotherapy is field of oncology where drugs...   \n",
       "..                                                ...   \n",
       "95  UONE Catalyst (Last and Final Update)\\n\\nUONE ...   \n",
       "96                                                      \n",
       "97                                                      \n",
       "98                                                      \n",
       "99                                                      \n",
       "\n",
       "                                                title  \n",
       "0   $KTRA gets added to Russell Microcap Index ! T...  \n",
       "1   Gold and Silver Forecast | Precious metals ana...  \n",
       "2            Trading E-Books For Stock Market Traders  \n",
       "3         Down 100k from total high and still holding  \n",
       "4                  The best value biotech stock $AGEN  \n",
       "..                                                ...  \n",
       "95                                UONE TO THE MOOONNN  \n",
       "96             Why A Good Company ≠ A Good Investment  \n",
       "97  The most and least data-hungry cryptocurrency ...  \n",
       "98  Need some help for #CLOV! Help!!!!!!!!!!!!!!!!...  \n",
       "99  Need some help for clov! HELP!!!!!!!!!!!!!!!!!...  \n",
       "\n",
       "[371 rows x 2 columns]"
      ]
     },
     "execution_count": 8,
     "metadata": {},
     "output_type": "execute_result"
    }
   ],
   "source": [
    "r.load_threads()"
   ]
  },
  {
   "cell_type": "code",
   "execution_count": null,
   "metadata": {},
   "outputs": [],
   "source": []
  },
  {
   "cell_type": "code",
   "execution_count": null,
   "metadata": {},
   "outputs": [],
   "source": []
  },
  {
   "cell_type": "code",
   "execution_count": null,
   "metadata": {},
   "outputs": [],
   "source": []
  },
  {
   "cell_type": "code",
   "execution_count": null,
   "metadata": {},
   "outputs": [],
   "source": []
  },
  {
   "cell_type": "code",
   "execution_count": null,
   "metadata": {},
   "outputs": [],
   "source": [
    "fp = os.path.join(os.getcwd(), \"data\")\n",
    "x = os.listdir(fp)[-2]\n",
    "x"
   ]
  },
  {
   "cell_type": "code",
   "execution_count": null,
   "metadata": {
    "scrolled": false
   },
   "outputs": [],
   "source": [
    "y = pd.read_pickle(os.path.join(fp, x))[[\"selftext\", \"title\"]]"
   ]
  },
  {
   "cell_type": "code",
   "execution_count": null,
   "metadata": {},
   "outputs": [],
   "source": [
    "y"
   ]
  },
  {
   "cell_type": "code",
   "execution_count": null,
   "metadata": {},
   "outputs": [],
   "source": []
  },
  {
   "cell_type": "code",
   "execution_count": null,
   "metadata": {},
   "outputs": [],
   "source": []
  },
  {
   "cell_type": "code",
   "execution_count": null,
   "metadata": {},
   "outputs": [],
   "source": []
  },
  {
   "cell_type": "code",
   "execution_count": null,
   "metadata": {},
   "outputs": [],
   "source": []
  }
 ],
 "metadata": {
  "kernelspec": {
   "display_name": "Python 3",
   "language": "python",
   "name": "python3"
  },
  "language_info": {
   "codemirror_mode": {
    "name": "ipython",
    "version": 3
   },
   "file_extension": ".py",
   "mimetype": "text/x-python",
   "name": "python",
   "nbconvert_exporter": "python",
   "pygments_lexer": "ipython3",
   "version": "3.7.4"
  }
 },
 "nbformat": 4,
 "nbformat_minor": 2
}
