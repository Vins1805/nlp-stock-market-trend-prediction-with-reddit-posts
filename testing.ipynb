{
 "cells": [
  {
   "cell_type": "code",
   "execution_count": 31,
   "metadata": {},
   "outputs": [],
   "source": [
    "from common.tools import Reddit\n",
    "from common.translations import IO\n",
    "import pandas as pd\n",
    "from datetime import datetime as dt\n",
    "import os\n",
    "import matplotlib.pyplot as plt"
   ]
  },
  {
   "cell_type": "code",
   "execution_count": 2,
   "metadata": {},
   "outputs": [
    {
     "data": {
      "text/plain": [
       "['SecurityAnalysis', 'StockMarket', 'wallstreetbets']"
      ]
     },
     "execution_count": 2,
     "metadata": {},
     "output_type": "execute_result"
    }
   ],
   "source": [
    "r = Reddit()\n",
    "r.subreddits"
   ]
  },
  {
   "cell_type": "markdown",
   "metadata": {},
   "source": [
    "# Load Data"
   ]
  },
  {
   "cell_type": "code",
   "execution_count": 3,
   "metadata": {
    "scrolled": true
   },
   "outputs": [
    {
     "data": {
      "text/html": [
       "<style  type=\"text/css\" >\n",
       "</style><table id=\"T_6aae7fec_d5a4_11eb_aae1_1c1b0d37e28f\" ><thead>    <tr>        <th class=\"blank level0\" ></th>        <th class=\"col_heading level0 col0\" >title</th>        <th class=\"col_heading level0 col1\" >selftext</th>        <th class=\"col_heading level0 col2\" >created_at</th>    </tr></thead><tbody>\n",
       "                <tr>\n",
       "                        <th id=\"T_6aae7fec_d5a4_11eb_aae1_1c1b0d37e28flevel0_row0\" class=\"row_heading level0 row0\" >0</th>\n",
       "                        <td id=\"T_6aae7fec_d5a4_11eb_aae1_1c1b0d37e28frow0_col0\" class=\"data row0 col0\" >Over 600 million shares of China Insurance will be auctioned, yet no one sign up even with 10% off in starting price</td>\n",
       "                        <td id=\"T_6aae7fec_d5a4_11eb_aae1_1c1b0d37e28frow0_col1\" class=\"data row0 col1\" >Recently, Alibaba’s auction website showed that the 633 million shares of China Insurance held by Zhongrong Xinda Group will be auctioned, with 1.69 yuan per share and a total valuation of more than 1 billion yuan. The starting price is 962 million yuan, accounting for 90% of the estimated price. The auction will be held from 10:00 on July 2 to 10:00 on July 3. Although the starting price is 10% off, very few people responded. At present, 13 people have set reminders for this auction and 781 checked this information, but no one has signed up for bidding. It is worth mentioning that in January 2017, this equity was pledged by Zhongrong Xinda to AVIC Trust and has now been frozen by the court.\n",
       "\n",
       "This is not the first time that China Insurance's equity got auctioned. From September 26 to 27, 2019, Zhongrong Xinda held an auction for its 1.15% equity in China Insurance, which was 169 million shares. At that time, the assessed price was 285 million yuan, but the starting price was 200 million yuan, discounted by nearly 30%. It was finally suspended because \"the existing outsider filed an objection to the auction subject of this case.\" In 2016, Zhongrong Xinda bought stakes of China Insurance, holding 7.79% of the shares, and became the company's second largest shareholder. However, in April 2020, Zhongrong Xinda had a debt crisis - its own funds could not provide strong support for debt repayment, and it got involved in a number of lawsuits and equity freezes.\n",
       "\n",
       "source: Zhongke Caijing\n",
       "\n",
       "translation: InsurView</td>\n",
       "                        <td id=\"T_6aae7fec_d5a4_11eb_aae1_1c1b0d37e28frow0_col2\" class=\"data row0 col2\" >2021-06-25</td>\n",
       "            </tr>\n",
       "            <tr>\n",
       "                        <th id=\"T_6aae7fec_d5a4_11eb_aae1_1c1b0d37e28flevel0_row1\" class=\"row_heading level0 row1\" >1</th>\n",
       "                        <td id=\"T_6aae7fec_d5a4_11eb_aae1_1c1b0d37e28frow1_col0\" class=\"data row1 col0\" >a deep-dive analysis of media sentiment surrounding Bitcoin over the past 90 days (3/25-6/23)</td>\n",
       "                        <td id=\"T_6aae7fec_d5a4_11eb_aae1_1c1b0d37e28frow1_col1\" class=\"data row1 col1\" >We will analyze Bitcoin’s news conversation over the past 90 days, and determine whether it’s currently overhyped or if now is the time to snipe.\n",
       "\n",
       "In 2021 $BTC price has followed a head and shoulders pattern, starting the year at $30K, doubling to an elated peak of $63K per coin in mid-April, and falling back down to the $30K-$40K price range in recent weeks (the past 90 days are shown in the chart above). Some speculate that this puzzling performance is indicative of institutional manipulation (search “Wycoff BTC” on Twitter\n",
       "\n",
       "One thing is for sure over the past 90 days: Bitcoin has gone from an emotional high of significant optimism to one of the most pessimistic and fearful tickers on the internet, and it has taken the entire cryptocurrency market with it. As of today, the investor sentiment Fear &amp; Greed Index points to “extreme fear” \n",
       "\n",
       "over the past 90 days Bitcoin news sentiment has trended definitively downwards, falling below the neutral line from optimistic to pessimistic just last week.\n",
       "\n",
       "Overall, $BTC was still more optimistic and less speculative than both the FAANG stocks and S&amp;P 500 in the news over the last 90 days.\n",
       "\n",
       "we can see a clear correlation between the weekly price of Bitcoin and its news sentiment and time-sense.\n",
       "\n",
       "Bitcoin’s news sentiment showed a 0.496 correlation with price (considered significant), and Bitcoin’s news time-sense showed a -0.766 correlation with price (a strong correlation) over the past 90 days.\n",
       "\n",
       "news is more reactive and past-oriented when things are going good, but when things take a turn downwards, news articles tend become more speculative. \n",
       "\n",
       "So where does this leave us?\n",
       "\n",
       "This is the part of the report where we determine if Bitcoin is currently overhyped in the news (and due for a correction), or if it’s underhyped and time to put some money into it. We call this our Hype-Or-Snipe scale, \n",
       "\n",
       "Based on our analysis, we have determined that Bitcoin is currently SLIGHTLY undervalued in the news, and receives a Hype-Or-Snipe rating of +0.05.</td>\n",
       "                        <td id=\"T_6aae7fec_d5a4_11eb_aae1_1c1b0d37e28frow1_col2\" class=\"data row1 col2\" >2021-06-25</td>\n",
       "            </tr>\n",
       "            <tr>\n",
       "                        <th id=\"T_6aae7fec_d5a4_11eb_aae1_1c1b0d37e28flevel0_row2\" class=\"row_heading level0 row2\" >2</th>\n",
       "                        <td id=\"T_6aae7fec_d5a4_11eb_aae1_1c1b0d37e28frow2_col0\" class=\"data row2 col0\" >How To Use Point and Figure Charts?</td>\n",
       "                        <td id=\"T_6aae7fec_d5a4_11eb_aae1_1c1b0d37e28frow2_col1\" class=\"data row2 col1\" ></td>\n",
       "                        <td id=\"T_6aae7fec_d5a4_11eb_aae1_1c1b0d37e28frow2_col2\" class=\"data row2 col2\" >2021-06-25</td>\n",
       "            </tr>\n",
       "            <tr>\n",
       "                        <th id=\"T_6aae7fec_d5a4_11eb_aae1_1c1b0d37e28flevel0_row3\" class=\"row_heading level0 row3\" >3</th>\n",
       "                        <td id=\"T_6aae7fec_d5a4_11eb_aae1_1c1b0d37e28frow3_col0\" class=\"data row3 col0\" >Back from the abyss after fifteen months.</td>\n",
       "                        <td id=\"T_6aae7fec_d5a4_11eb_aae1_1c1b0d37e28frow3_col1\" class=\"data row3 col1\" ></td>\n",
       "                        <td id=\"T_6aae7fec_d5a4_11eb_aae1_1c1b0d37e28frow3_col2\" class=\"data row3 col2\" >2021-06-25</td>\n",
       "            </tr>\n",
       "            <tr>\n",
       "                        <th id=\"T_6aae7fec_d5a4_11eb_aae1_1c1b0d37e28flevel0_row4\" class=\"row_heading level0 row4\" >4</th>\n",
       "                        <td id=\"T_6aae7fec_d5a4_11eb_aae1_1c1b0d37e28frow4_col0\" class=\"data row4 col0\" >RMED short squeeze potential</td>\n",
       "                        <td id=\"T_6aae7fec_d5a4_11eb_aae1_1c1b0d37e28frow4_col1\" class=\"data row4 col1\" >RMED is a very high risk but very high reward situation given this current climate.\n",
       "\n",
       "RMED has something that does make it notable and that's an extremely small float with an extremely high short interest. Again, that makes it of interest to anyone looking for something that could move a lot quickly. The prospect of an FDA approval gives it a story line:\n",
       "\n",
       "\"I'm pleased by our recent progress, particularly with the increased enrollment in our atherectomy pivotal study. We have enrolled 20 subjects since mid-March bringing total enrollment to 50, reaching the halfway point in this 100 subject study,\" said Will McGuire, Ra Medical Systems CEO. \"We also recently generated six-month real time aging data with the next generation DABRA catheter. This important milestone gives me confidence we have strong data to support this catheter's extended shelf life when we submit to the FDA for approval later this year.\"</td>\n",
       "                        <td id=\"T_6aae7fec_d5a4_11eb_aae1_1c1b0d37e28frow4_col2\" class=\"data row4 col2\" >2021-06-25</td>\n",
       "            </tr>\n",
       "    </tbody></table>"
      ],
      "text/plain": [
       "<pandas.io.formats.style.Styler at 0x2640dfb4148>"
      ]
     },
     "execution_count": 3,
     "metadata": {},
     "output_type": "execute_result"
    }
   ],
   "source": [
    "df = r.load_raw_text(os.path.join(r.filepath, r.subreddits[1]))\n",
    "df.head().style"
   ]
  },
  {
   "cell_type": "code",
   "execution_count": 4,
   "metadata": {},
   "outputs": [
    {
     "data": {
      "text/plain": [
       "(1144, 3)"
      ]
     },
     "execution_count": 4,
     "metadata": {},
     "output_type": "execute_result"
    }
   ],
   "source": [
    "df.shape"
   ]
  },
  {
   "cell_type": "markdown",
   "metadata": {},
   "source": [
    "# Text pre-processing"
   ]
  },
  {
   "cell_type": "code",
   "execution_count": 5,
   "metadata": {},
   "outputs": [],
   "source": [
    "import re\n",
    "import string"
   ]
  },
  {
   "cell_type": "code",
   "execution_count": 6,
   "metadata": {},
   "outputs": [],
   "source": [
    "text = df.title.iloc[0]"
   ]
  },
  {
   "cell_type": "code",
   "execution_count": 7,
   "metadata": {},
   "outputs": [],
   "source": [
    "def cleaning(text):\n",
    "    text = text.lower()\n",
    "    text = re.sub(\"\\[.*\\]\", \"\", text)\n",
    "    text = re.sub(\"\\(.*\\)\", \"\", text)\n",
    "    text = re.sub(f\"[{re.escape(string.punctuation)}]\", \"\", text)\n",
    "    text = re.sub(\"\\w*\\d\\w*\", \"\", text)\n",
    "    text = re.sub(\"\\s{2}\", \" \", text)\n",
    "    text = text.encode(\"ascii\", \"ignore\").decode(\"ascii\") # removing emojis\n",
    "    return text"
   ]
  },
  {
   "cell_type": "code",
   "execution_count": 8,
   "metadata": {},
   "outputs": [],
   "source": [
    "df[\"title_cleaned\"] = df.title.apply(lambda t: cleaning(t))\n",
    "df[\"selftext_cleaned\"] = df.selftext.apply(lambda t: cleaning(t))"
   ]
  },
  {
   "cell_type": "code",
   "execution_count": 9,
   "metadata": {},
   "outputs": [
    {
     "data": {
      "text/html": [
       "<div>\n",
       "<style scoped>\n",
       "    .dataframe tbody tr th:only-of-type {\n",
       "        vertical-align: middle;\n",
       "    }\n",
       "\n",
       "    .dataframe tbody tr th {\n",
       "        vertical-align: top;\n",
       "    }\n",
       "\n",
       "    .dataframe thead th {\n",
       "        text-align: right;\n",
       "    }\n",
       "</style>\n",
       "<table border=\"1\" class=\"dataframe\">\n",
       "  <thead>\n",
       "    <tr style=\"text-align: right;\">\n",
       "      <th></th>\n",
       "      <th>title</th>\n",
       "      <th>selftext</th>\n",
       "      <th>created_at</th>\n",
       "      <th>title_cleaned</th>\n",
       "      <th>selftext_cleaned</th>\n",
       "    </tr>\n",
       "  </thead>\n",
       "  <tbody>\n",
       "    <tr>\n",
       "      <td>0</td>\n",
       "      <td>Over 600 million shares of China Insurance wil...</td>\n",
       "      <td>Recently, Alibaba’s auction website showed tha...</td>\n",
       "      <td>2021-06-25</td>\n",
       "      <td>over million shares of china insurance will be...</td>\n",
       "      <td>recently alibabasauction website showed that t...</td>\n",
       "    </tr>\n",
       "    <tr>\n",
       "      <td>1</td>\n",
       "      <td>a deep-dive analysis of media sentiment surrou...</td>\n",
       "      <td>We will analyze Bitcoin’s news conversation ov...</td>\n",
       "      <td>2021-06-25</td>\n",
       "      <td>a deepdive analysis of media sentiment surroun...</td>\n",
       "      <td>we will analyze bitcoins news conversation ove...</td>\n",
       "    </tr>\n",
       "    <tr>\n",
       "      <td>2</td>\n",
       "      <td>How To Use Point and Figure Charts?</td>\n",
       "      <td></td>\n",
       "      <td>2021-06-25</td>\n",
       "      <td>how to use point and figure charts</td>\n",
       "      <td></td>\n",
       "    </tr>\n",
       "    <tr>\n",
       "      <td>3</td>\n",
       "      <td>Back from the abyss after fifteen months.</td>\n",
       "      <td></td>\n",
       "      <td>2021-06-25</td>\n",
       "      <td>back from the abyss after fifteen months</td>\n",
       "      <td></td>\n",
       "    </tr>\n",
       "    <tr>\n",
       "      <td>4</td>\n",
       "      <td>RMED short squeeze potential</td>\n",
       "      <td>RMED is a very high risk but very high reward ...</td>\n",
       "      <td>2021-06-25</td>\n",
       "      <td>rmed short squeeze potential</td>\n",
       "      <td>rmed is a very high risk but very high reward ...</td>\n",
       "    </tr>\n",
       "  </tbody>\n",
       "</table>\n",
       "</div>"
      ],
      "text/plain": [
       "                                               title  \\\n",
       "0  Over 600 million shares of China Insurance wil...   \n",
       "1  a deep-dive analysis of media sentiment surrou...   \n",
       "2                How To Use Point and Figure Charts?   \n",
       "3          Back from the abyss after fifteen months.   \n",
       "4                       RMED short squeeze potential   \n",
       "\n",
       "                                            selftext  created_at  \\\n",
       "0  Recently, Alibaba’s auction website showed tha...  2021-06-25   \n",
       "1  We will analyze Bitcoin’s news conversation ov...  2021-06-25   \n",
       "2                                                     2021-06-25   \n",
       "3                                                     2021-06-25   \n",
       "4  RMED is a very high risk but very high reward ...  2021-06-25   \n",
       "\n",
       "                                       title_cleaned  \\\n",
       "0  over million shares of china insurance will be...   \n",
       "1  a deepdive analysis of media sentiment surroun...   \n",
       "2                 how to use point and figure charts   \n",
       "3           back from the abyss after fifteen months   \n",
       "4                       rmed short squeeze potential   \n",
       "\n",
       "                                    selftext_cleaned  \n",
       "0  recently alibabasauction website showed that t...  \n",
       "1  we will analyze bitcoins news conversation ove...  \n",
       "2                                                     \n",
       "3                                                     \n",
       "4  rmed is a very high risk but very high reward ...  "
      ]
     },
     "execution_count": 9,
     "metadata": {},
     "output_type": "execute_result"
    }
   ],
   "source": [
    "df.head()"
   ]
  },
  {
   "cell_type": "markdown",
   "metadata": {},
   "source": [
    "# Word tokenizing"
   ]
  },
  {
   "cell_type": "code",
   "execution_count": 10,
   "metadata": {
    "scrolled": true
   },
   "outputs": [
    {
     "name": "stderr",
     "output_type": "stream",
     "text": [
      "[nltk_data] Downloading package stopwords to\n",
      "[nltk_data]     C:\\Users\\Vincent\\AppData\\Roaming\\nltk_data...\n",
      "[nltk_data]   Package stopwords is already up-to-date!\n",
      "[nltk_data] Downloading package punkt to\n",
      "[nltk_data]     C:\\Users\\Vincent\\AppData\\Roaming\\nltk_data...\n",
      "[nltk_data]   Package punkt is already up-to-date!\n"
     ]
    }
   ],
   "source": [
    "import nltk\n",
    "nltk.download(\"stopwords\")\n",
    "nltk.download('punkt')\n",
    "from nltk.corpus import stopwords\n",
    "from nltk.tokenize import word_tokenize"
   ]
  },
  {
   "cell_type": "code",
   "execution_count": 11,
   "metadata": {},
   "outputs": [],
   "source": [
    "stop_words = set(stopwords.words(\"english\"))"
   ]
  },
  {
   "cell_type": "code",
   "execution_count": 12,
   "metadata": {},
   "outputs": [],
   "source": [
    "df[\"title_tokens\"] = df.title_cleaned.apply(lambda t: [token for token in word_tokenize(t) if token not in stop_words])"
   ]
  },
  {
   "cell_type": "code",
   "execution_count": 13,
   "metadata": {},
   "outputs": [
    {
     "data": {
      "text/html": [
       "<div>\n",
       "<style scoped>\n",
       "    .dataframe tbody tr th:only-of-type {\n",
       "        vertical-align: middle;\n",
       "    }\n",
       "\n",
       "    .dataframe tbody tr th {\n",
       "        vertical-align: top;\n",
       "    }\n",
       "\n",
       "    .dataframe thead th {\n",
       "        text-align: right;\n",
       "    }\n",
       "</style>\n",
       "<table border=\"1\" class=\"dataframe\">\n",
       "  <thead>\n",
       "    <tr style=\"text-align: right;\">\n",
       "      <th></th>\n",
       "      <th>title</th>\n",
       "      <th>selftext</th>\n",
       "      <th>created_at</th>\n",
       "      <th>title_cleaned</th>\n",
       "      <th>selftext_cleaned</th>\n",
       "      <th>title_tokens</th>\n",
       "    </tr>\n",
       "  </thead>\n",
       "  <tbody>\n",
       "    <tr>\n",
       "      <td>0</td>\n",
       "      <td>Over 600 million shares of China Insurance wil...</td>\n",
       "      <td>Recently, Alibaba’s auction website showed tha...</td>\n",
       "      <td>2021-06-25</td>\n",
       "      <td>over million shares of china insurance will be...</td>\n",
       "      <td>recently alibabasauction website showed that t...</td>\n",
       "      <td>[million, shares, china, insurance, auctioned,...</td>\n",
       "    </tr>\n",
       "    <tr>\n",
       "      <td>1</td>\n",
       "      <td>a deep-dive analysis of media sentiment surrou...</td>\n",
       "      <td>We will analyze Bitcoin’s news conversation ov...</td>\n",
       "      <td>2021-06-25</td>\n",
       "      <td>a deepdive analysis of media sentiment surroun...</td>\n",
       "      <td>we will analyze bitcoins news conversation ove...</td>\n",
       "      <td>[deepdive, analysis, media, sentiment, surroun...</td>\n",
       "    </tr>\n",
       "    <tr>\n",
       "      <td>2</td>\n",
       "      <td>How To Use Point and Figure Charts?</td>\n",
       "      <td></td>\n",
       "      <td>2021-06-25</td>\n",
       "      <td>how to use point and figure charts</td>\n",
       "      <td></td>\n",
       "      <td>[use, point, figure, charts]</td>\n",
       "    </tr>\n",
       "    <tr>\n",
       "      <td>3</td>\n",
       "      <td>Back from the abyss after fifteen months.</td>\n",
       "      <td></td>\n",
       "      <td>2021-06-25</td>\n",
       "      <td>back from the abyss after fifteen months</td>\n",
       "      <td></td>\n",
       "      <td>[back, abyss, fifteen, months]</td>\n",
       "    </tr>\n",
       "    <tr>\n",
       "      <td>4</td>\n",
       "      <td>RMED short squeeze potential</td>\n",
       "      <td>RMED is a very high risk but very high reward ...</td>\n",
       "      <td>2021-06-25</td>\n",
       "      <td>rmed short squeeze potential</td>\n",
       "      <td>rmed is a very high risk but very high reward ...</td>\n",
       "      <td>[rmed, short, squeeze, potential]</td>\n",
       "    </tr>\n",
       "  </tbody>\n",
       "</table>\n",
       "</div>"
      ],
      "text/plain": [
       "                                               title  \\\n",
       "0  Over 600 million shares of China Insurance wil...   \n",
       "1  a deep-dive analysis of media sentiment surrou...   \n",
       "2                How To Use Point and Figure Charts?   \n",
       "3          Back from the abyss after fifteen months.   \n",
       "4                       RMED short squeeze potential   \n",
       "\n",
       "                                            selftext  created_at  \\\n",
       "0  Recently, Alibaba’s auction website showed tha...  2021-06-25   \n",
       "1  We will analyze Bitcoin’s news conversation ov...  2021-06-25   \n",
       "2                                                     2021-06-25   \n",
       "3                                                     2021-06-25   \n",
       "4  RMED is a very high risk but very high reward ...  2021-06-25   \n",
       "\n",
       "                                       title_cleaned  \\\n",
       "0  over million shares of china insurance will be...   \n",
       "1  a deepdive analysis of media sentiment surroun...   \n",
       "2                 how to use point and figure charts   \n",
       "3           back from the abyss after fifteen months   \n",
       "4                       rmed short squeeze potential   \n",
       "\n",
       "                                    selftext_cleaned  \\\n",
       "0  recently alibabasauction website showed that t...   \n",
       "1  we will analyze bitcoins news conversation ove...   \n",
       "2                                                      \n",
       "3                                                      \n",
       "4  rmed is a very high risk but very high reward ...   \n",
       "\n",
       "                                        title_tokens  \n",
       "0  [million, shares, china, insurance, auctioned,...  \n",
       "1  [deepdive, analysis, media, sentiment, surroun...  \n",
       "2                       [use, point, figure, charts]  \n",
       "3                     [back, abyss, fifteen, months]  \n",
       "4                  [rmed, short, squeeze, potential]  "
      ]
     },
     "execution_count": 13,
     "metadata": {},
     "output_type": "execute_result"
    }
   ],
   "source": [
    "df.head()"
   ]
  },
  {
   "cell_type": "code",
   "execution_count": 14,
   "metadata": {},
   "outputs": [],
   "source": [
    "from nltk.probability import FreqDist\n",
    "\n",
    "flatten = lambda nested_list: [elm for sublist in nested_list for elm in sublist]"
   ]
  },
  {
   "cell_type": "code",
   "execution_count": 15,
   "metadata": {},
   "outputs": [
    {
     "data": {
      "image/png": "[encoded data removed]",
      "text/plain": [
       "<Figure size 432x288 with 1 Axes>"
      ]
     },
     "metadata": {
      "needs_background": "light"
     },
     "output_type": "display_data"
    },
    {
     "data": {
      "text/plain": [
       "<AxesSubplot:xlabel='Samples', ylabel='Counts'>"
      ]
     },
     "execution_count": 15,
     "metadata": {},
     "output_type": "execute_result"
    }
   ],
   "source": [
    "FreqDist(flatten(df.title_tokens)).plot(30)"
   ]
  },
  {
   "cell_type": "markdown",
   "metadata": {},
   "source": [
    "## Bigram"
   ]
  },
  {
   "cell_type": "code",
   "execution_count": 16,
   "metadata": {},
   "outputs": [],
   "source": [
    "df[\"bigrams\"] = df.title_tokens.apply(lambda t: list(nltk.bigrams(t)))"
   ]
  },
  {
   "cell_type": "code",
   "execution_count": 17,
   "metadata": {},
   "outputs": [
    {
     "data": {
      "text/html": [
       "<div>\n",
       "<style scoped>\n",
       "    .dataframe tbody tr th:only-of-type {\n",
       "        vertical-align: middle;\n",
       "    }\n",
       "\n",
       "    .dataframe tbody tr th {\n",
       "        vertical-align: top;\n",
       "    }\n",
       "\n",
       "    .dataframe thead th {\n",
       "        text-align: right;\n",
       "    }\n",
       "</style>\n",
       "<table border=\"1\" class=\"dataframe\">\n",
       "  <thead>\n",
       "    <tr style=\"text-align: right;\">\n",
       "      <th></th>\n",
       "      <th>title</th>\n",
       "      <th>selftext</th>\n",
       "      <th>created_at</th>\n",
       "      <th>title_cleaned</th>\n",
       "      <th>selftext_cleaned</th>\n",
       "      <th>title_tokens</th>\n",
       "      <th>bigrams</th>\n",
       "    </tr>\n",
       "  </thead>\n",
       "  <tbody>\n",
       "    <tr>\n",
       "      <td>0</td>\n",
       "      <td>Over 600 million shares of China Insurance wil...</td>\n",
       "      <td>Recently, Alibaba’s auction website showed tha...</td>\n",
       "      <td>2021-06-25</td>\n",
       "      <td>over million shares of china insurance will be...</td>\n",
       "      <td>recently alibabasauction website showed that t...</td>\n",
       "      <td>[million, shares, china, insurance, auctioned,...</td>\n",
       "      <td>[(million, shares), (shares, china), (china, i...</td>\n",
       "    </tr>\n",
       "    <tr>\n",
       "      <td>1</td>\n",
       "      <td>a deep-dive analysis of media sentiment surrou...</td>\n",
       "      <td>We will analyze Bitcoin’s news conversation ov...</td>\n",
       "      <td>2021-06-25</td>\n",
       "      <td>a deepdive analysis of media sentiment surroun...</td>\n",
       "      <td>we will analyze bitcoins news conversation ove...</td>\n",
       "      <td>[deepdive, analysis, media, sentiment, surroun...</td>\n",
       "      <td>[(deepdive, analysis), (analysis, media), (med...</td>\n",
       "    </tr>\n",
       "    <tr>\n",
       "      <td>2</td>\n",
       "      <td>How To Use Point and Figure Charts?</td>\n",
       "      <td></td>\n",
       "      <td>2021-06-25</td>\n",
       "      <td>how to use point and figure charts</td>\n",
       "      <td></td>\n",
       "      <td>[use, point, figure, charts]</td>\n",
       "      <td>[(use, point), (point, figure), (figure, charts)]</td>\n",
       "    </tr>\n",
       "    <tr>\n",
       "      <td>3</td>\n",
       "      <td>Back from the abyss after fifteen months.</td>\n",
       "      <td></td>\n",
       "      <td>2021-06-25</td>\n",
       "      <td>back from the abyss after fifteen months</td>\n",
       "      <td></td>\n",
       "      <td>[back, abyss, fifteen, months]</td>\n",
       "      <td>[(back, abyss), (abyss, fifteen), (fifteen, mo...</td>\n",
       "    </tr>\n",
       "    <tr>\n",
       "      <td>4</td>\n",
       "      <td>RMED short squeeze potential</td>\n",
       "      <td>RMED is a very high risk but very high reward ...</td>\n",
       "      <td>2021-06-25</td>\n",
       "      <td>rmed short squeeze potential</td>\n",
       "      <td>rmed is a very high risk but very high reward ...</td>\n",
       "      <td>[rmed, short, squeeze, potential]</td>\n",
       "      <td>[(rmed, short), (short, squeeze), (squeeze, po...</td>\n",
       "    </tr>\n",
       "  </tbody>\n",
       "</table>\n",
       "</div>"
      ],
      "text/plain": [
       "                                               title  \\\n",
       "0  Over 600 million shares of China Insurance wil...   \n",
       "1  a deep-dive analysis of media sentiment surrou...   \n",
       "2                How To Use Point and Figure Charts?   \n",
       "3          Back from the abyss after fifteen months.   \n",
       "4                       RMED short squeeze potential   \n",
       "\n",
       "                                            selftext  created_at  \\\n",
       "0  Recently, Alibaba’s auction website showed tha...  2021-06-25   \n",
       "1  We will analyze Bitcoin’s news conversation ov...  2021-06-25   \n",
       "2                                                     2021-06-25   \n",
       "3                                                     2021-06-25   \n",
       "4  RMED is a very high risk but very high reward ...  2021-06-25   \n",
       "\n",
       "                                       title_cleaned  \\\n",
       "0  over million shares of china insurance will be...   \n",
       "1  a deepdive analysis of media sentiment surroun...   \n",
       "2                 how to use point and figure charts   \n",
       "3           back from the abyss after fifteen months   \n",
       "4                       rmed short squeeze potential   \n",
       "\n",
       "                                    selftext_cleaned  \\\n",
       "0  recently alibabasauction website showed that t...   \n",
       "1  we will analyze bitcoins news conversation ove...   \n",
       "2                                                      \n",
       "3                                                      \n",
       "4  rmed is a very high risk but very high reward ...   \n",
       "\n",
       "                                        title_tokens  \\\n",
       "0  [million, shares, china, insurance, auctioned,...   \n",
       "1  [deepdive, analysis, media, sentiment, surroun...   \n",
       "2                       [use, point, figure, charts]   \n",
       "3                     [back, abyss, fifteen, months]   \n",
       "4                  [rmed, short, squeeze, potential]   \n",
       "\n",
       "                                             bigrams  \n",
       "0  [(million, shares), (shares, china), (china, i...  \n",
       "1  [(deepdive, analysis), (analysis, media), (med...  \n",
       "2  [(use, point), (point, figure), (figure, charts)]  \n",
       "3  [(back, abyss), (abyss, fifteen), (fifteen, mo...  \n",
       "4  [(rmed, short), (short, squeeze), (squeeze, po...  "
      ]
     },
     "execution_count": 17,
     "metadata": {},
     "output_type": "execute_result"
    }
   ],
   "source": [
    "df.head()"
   ]
  },
  {
   "cell_type": "code",
   "execution_count": 18,
   "metadata": {},
   "outputs": [
    {
     "data": {
      "image/png": "[encoded data removed]",
      "text/plain": [
       "<Figure size 432x288 with 1 Axes>"
      ]
     },
     "metadata": {
      "needs_background": "light"
     },
     "output_type": "display_data"
    },
    {
     "data": {
      "text/plain": [
       "<AxesSubplot:xlabel='Samples', ylabel='Counts'>"
      ]
     },
     "execution_count": 18,
     "metadata": {},
     "output_type": "execute_result"
    }
   ],
   "source": [
    "FreqDist(flatten(df.bigrams)).plot(30)"
   ]
  },
  {
   "cell_type": "markdown",
   "metadata": {},
   "source": [
    "## Trigrams"
   ]
  },
  {
   "cell_type": "code",
   "execution_count": 19,
   "metadata": {},
   "outputs": [],
   "source": [
    "df[\"trigrams\"] = df.title_tokens.apply(lambda t: list(nltk.trigrams(t)))"
   ]
  },
  {
   "cell_type": "code",
   "execution_count": 20,
   "metadata": {
    "scrolled": true
   },
   "outputs": [
    {
     "data": {
      "text/html": [
       "<div>\n",
       "<style scoped>\n",
       "    .dataframe tbody tr th:only-of-type {\n",
       "        vertical-align: middle;\n",
       "    }\n",
       "\n",
       "    .dataframe tbody tr th {\n",
       "        vertical-align: top;\n",
       "    }\n",
       "\n",
       "    .dataframe thead th {\n",
       "        text-align: right;\n",
       "    }\n",
       "</style>\n",
       "<table border=\"1\" class=\"dataframe\">\n",
       "  <thead>\n",
       "    <tr style=\"text-align: right;\">\n",
       "      <th></th>\n",
       "      <th>title</th>\n",
       "      <th>selftext</th>\n",
       "      <th>created_at</th>\n",
       "      <th>title_cleaned</th>\n",
       "      <th>selftext_cleaned</th>\n",
       "      <th>title_tokens</th>\n",
       "      <th>bigrams</th>\n",
       "      <th>trigrams</th>\n",
       "    </tr>\n",
       "  </thead>\n",
       "  <tbody>\n",
       "    <tr>\n",
       "      <td>0</td>\n",
       "      <td>Over 600 million shares of China Insurance wil...</td>\n",
       "      <td>Recently, Alibaba’s auction website showed tha...</td>\n",
       "      <td>2021-06-25</td>\n",
       "      <td>over million shares of china insurance will be...</td>\n",
       "      <td>recently alibabasauction website showed that t...</td>\n",
       "      <td>[million, shares, china, insurance, auctioned,...</td>\n",
       "      <td>[(million, shares), (shares, china), (china, i...</td>\n",
       "      <td>[(million, shares, china), (shares, china, ins...</td>\n",
       "    </tr>\n",
       "    <tr>\n",
       "      <td>1</td>\n",
       "      <td>a deep-dive analysis of media sentiment surrou...</td>\n",
       "      <td>We will analyze Bitcoin’s news conversation ov...</td>\n",
       "      <td>2021-06-25</td>\n",
       "      <td>a deepdive analysis of media sentiment surroun...</td>\n",
       "      <td>we will analyze bitcoins news conversation ove...</td>\n",
       "      <td>[deepdive, analysis, media, sentiment, surroun...</td>\n",
       "      <td>[(deepdive, analysis), (analysis, media), (med...</td>\n",
       "      <td>[(deepdive, analysis, media), (analysis, media...</td>\n",
       "    </tr>\n",
       "    <tr>\n",
       "      <td>2</td>\n",
       "      <td>How To Use Point and Figure Charts?</td>\n",
       "      <td></td>\n",
       "      <td>2021-06-25</td>\n",
       "      <td>how to use point and figure charts</td>\n",
       "      <td></td>\n",
       "      <td>[use, point, figure, charts]</td>\n",
       "      <td>[(use, point), (point, figure), (figure, charts)]</td>\n",
       "      <td>[(use, point, figure), (point, figure, charts)]</td>\n",
       "    </tr>\n",
       "    <tr>\n",
       "      <td>3</td>\n",
       "      <td>Back from the abyss after fifteen months.</td>\n",
       "      <td></td>\n",
       "      <td>2021-06-25</td>\n",
       "      <td>back from the abyss after fifteen months</td>\n",
       "      <td></td>\n",
       "      <td>[back, abyss, fifteen, months]</td>\n",
       "      <td>[(back, abyss), (abyss, fifteen), (fifteen, mo...</td>\n",
       "      <td>[(back, abyss, fifteen), (abyss, fifteen, mont...</td>\n",
       "    </tr>\n",
       "    <tr>\n",
       "      <td>4</td>\n",
       "      <td>RMED short squeeze potential</td>\n",
       "      <td>RMED is a very high risk but very high reward ...</td>\n",
       "      <td>2021-06-25</td>\n",
       "      <td>rmed short squeeze potential</td>\n",
       "      <td>rmed is a very high risk but very high reward ...</td>\n",
       "      <td>[rmed, short, squeeze, potential]</td>\n",
       "      <td>[(rmed, short), (short, squeeze), (squeeze, po...</td>\n",
       "      <td>[(rmed, short, squeeze), (short, squeeze, pote...</td>\n",
       "    </tr>\n",
       "  </tbody>\n",
       "</table>\n",
       "</div>"
      ],
      "text/plain": [
       "                                               title  \\\n",
       "0  Over 600 million shares of China Insurance wil...   \n",
       "1  a deep-dive analysis of media sentiment surrou...   \n",
       "2                How To Use Point and Figure Charts?   \n",
       "3          Back from the abyss after fifteen months.   \n",
       "4                       RMED short squeeze potential   \n",
       "\n",
       "                                            selftext  created_at  \\\n",
       "0  Recently, Alibaba’s auction website showed tha...  2021-06-25   \n",
       "1  We will analyze Bitcoin’s news conversation ov...  2021-06-25   \n",
       "2                                                     2021-06-25   \n",
       "3                                                     2021-06-25   \n",
       "4  RMED is a very high risk but very high reward ...  2021-06-25   \n",
       "\n",
       "                                       title_cleaned  \\\n",
       "0  over million shares of china insurance will be...   \n",
       "1  a deepdive analysis of media sentiment surroun...   \n",
       "2                 how to use point and figure charts   \n",
       "3           back from the abyss after fifteen months   \n",
       "4                       rmed short squeeze potential   \n",
       "\n",
       "                                    selftext_cleaned  \\\n",
       "0  recently alibabasauction website showed that t...   \n",
       "1  we will analyze bitcoins news conversation ove...   \n",
       "2                                                      \n",
       "3                                                      \n",
       "4  rmed is a very high risk but very high reward ...   \n",
       "\n",
       "                                        title_tokens  \\\n",
       "0  [million, shares, china, insurance, auctioned,...   \n",
       "1  [deepdive, analysis, media, sentiment, surroun...   \n",
       "2                       [use, point, figure, charts]   \n",
       "3                     [back, abyss, fifteen, months]   \n",
       "4                  [rmed, short, squeeze, potential]   \n",
       "\n",
       "                                             bigrams  \\\n",
       "0  [(million, shares), (shares, china), (china, i...   \n",
       "1  [(deepdive, analysis), (analysis, media), (med...   \n",
       "2  [(use, point), (point, figure), (figure, charts)]   \n",
       "3  [(back, abyss), (abyss, fifteen), (fifteen, mo...   \n",
       "4  [(rmed, short), (short, squeeze), (squeeze, po...   \n",
       "\n",
       "                                            trigrams  \n",
       "0  [(million, shares, china), (shares, china, ins...  \n",
       "1  [(deepdive, analysis, media), (analysis, media...  \n",
       "2    [(use, point, figure), (point, figure, charts)]  \n",
       "3  [(back, abyss, fifteen), (abyss, fifteen, mont...  \n",
       "4  [(rmed, short, squeeze), (short, squeeze, pote...  "
      ]
     },
     "execution_count": 20,
     "metadata": {},
     "output_type": "execute_result"
    }
   ],
   "source": [
    "df.head()"
   ]
  },
  {
   "cell_type": "code",
   "execution_count": 21,
   "metadata": {},
   "outputs": [
    {
     "data": {
      "image/png": "[encoded data removed]",
      "text/plain": [
       "<Figure size 432x288 with 1 Axes>"
      ]
     },
     "metadata": {
      "needs_background": "light"
     },
     "output_type": "display_data"
    },
    {
     "data": {
      "text/plain": [
       "<AxesSubplot:xlabel='Samples', ylabel='Counts'>"
      ]
     },
     "execution_count": 21,
     "metadata": {},
     "output_type": "execute_result"
    }
   ],
   "source": [
    "FreqDist(flatten(df.trigrams)).plot(30)"
   ]
  },
  {
   "cell_type": "markdown",
   "metadata": {},
   "source": [
    "# Part of speech tagging\n",
    "* shares are NN or JJ (noun or adjective)"
   ]
  },
  {
   "cell_type": "code",
   "execution_count": 22,
   "metadata": {},
   "outputs": [
    {
     "name": "stderr",
     "output_type": "stream",
     "text": [
      "[nltk_data] Downloading package averaged_perceptron_tagger to\n",
      "[nltk_data]     C:\\Users\\Vincent\\AppData\\Roaming\\nltk_data...\n",
      "[nltk_data]   Package averaged_perceptron_tagger is already up-to-\n",
      "[nltk_data]       date!\n"
     ]
    },
    {
     "data": {
      "text/plain": [
       "True"
      ]
     },
     "execution_count": 22,
     "metadata": {},
     "output_type": "execute_result"
    }
   ],
   "source": [
    "nltk.download('averaged_perceptron_tagger')"
   ]
  },
  {
   "cell_type": "code",
   "execution_count": 23,
   "metadata": {},
   "outputs": [],
   "source": [
    "df[\"pos\"] = df.title_tokens.apply(lambda t: nltk.pos_tag(t))"
   ]
  },
  {
   "cell_type": "code",
   "execution_count": 24,
   "metadata": {},
   "outputs": [
    {
     "data": {
      "text/html": [
       "<div>\n",
       "<style scoped>\n",
       "    .dataframe tbody tr th:only-of-type {\n",
       "        vertical-align: middle;\n",
       "    }\n",
       "\n",
       "    .dataframe tbody tr th {\n",
       "        vertical-align: top;\n",
       "    }\n",
       "\n",
       "    .dataframe thead th {\n",
       "        text-align: right;\n",
       "    }\n",
       "</style>\n",
       "<table border=\"1\" class=\"dataframe\">\n",
       "  <thead>\n",
       "    <tr style=\"text-align: right;\">\n",
       "      <th></th>\n",
       "      <th>title</th>\n",
       "      <th>selftext</th>\n",
       "      <th>created_at</th>\n",
       "      <th>title_cleaned</th>\n",
       "      <th>selftext_cleaned</th>\n",
       "      <th>title_tokens</th>\n",
       "      <th>bigrams</th>\n",
       "      <th>trigrams</th>\n",
       "      <th>pos</th>\n",
       "    </tr>\n",
       "  </thead>\n",
       "  <tbody>\n",
       "    <tr>\n",
       "      <td>0</td>\n",
       "      <td>Over 600 million shares of China Insurance wil...</td>\n",
       "      <td>Recently, Alibaba’s auction website showed tha...</td>\n",
       "      <td>2021-06-25</td>\n",
       "      <td>over million shares of china insurance will be...</td>\n",
       "      <td>recently alibabasauction website showed that t...</td>\n",
       "      <td>[million, shares, china, insurance, auctioned,...</td>\n",
       "      <td>[(million, shares), (shares, china), (china, i...</td>\n",
       "      <td>[(million, shares, china), (shares, china, ins...</td>\n",
       "      <td>[(million, CD), (shares, NNS), (china, JJ), (i...</td>\n",
       "    </tr>\n",
       "    <tr>\n",
       "      <td>1</td>\n",
       "      <td>a deep-dive analysis of media sentiment surrou...</td>\n",
       "      <td>We will analyze Bitcoin’s news conversation ov...</td>\n",
       "      <td>2021-06-25</td>\n",
       "      <td>a deepdive analysis of media sentiment surroun...</td>\n",
       "      <td>we will analyze bitcoins news conversation ove...</td>\n",
       "      <td>[deepdive, analysis, media, sentiment, surroun...</td>\n",
       "      <td>[(deepdive, analysis), (analysis, media), (med...</td>\n",
       "      <td>[(deepdive, analysis, media), (analysis, media...</td>\n",
       "      <td>[(deepdive, JJ), (analysis, NN), (media, NNS),...</td>\n",
       "    </tr>\n",
       "    <tr>\n",
       "      <td>2</td>\n",
       "      <td>How To Use Point and Figure Charts?</td>\n",
       "      <td></td>\n",
       "      <td>2021-06-25</td>\n",
       "      <td>how to use point and figure charts</td>\n",
       "      <td></td>\n",
       "      <td>[use, point, figure, charts]</td>\n",
       "      <td>[(use, point), (point, figure), (figure, charts)]</td>\n",
       "      <td>[(use, point, figure), (point, figure, charts)]</td>\n",
       "      <td>[(use, NN), (point, NN), (figure, NN), (charts...</td>\n",
       "    </tr>\n",
       "    <tr>\n",
       "      <td>3</td>\n",
       "      <td>Back from the abyss after fifteen months.</td>\n",
       "      <td></td>\n",
       "      <td>2021-06-25</td>\n",
       "      <td>back from the abyss after fifteen months</td>\n",
       "      <td></td>\n",
       "      <td>[back, abyss, fifteen, months]</td>\n",
       "      <td>[(back, abyss), (abyss, fifteen), (fifteen, mo...</td>\n",
       "      <td>[(back, abyss, fifteen), (abyss, fifteen, mont...</td>\n",
       "      <td>[(back, RB), (abyss, RB), (fifteen, JJ), (mont...</td>\n",
       "    </tr>\n",
       "    <tr>\n",
       "      <td>4</td>\n",
       "      <td>RMED short squeeze potential</td>\n",
       "      <td>RMED is a very high risk but very high reward ...</td>\n",
       "      <td>2021-06-25</td>\n",
       "      <td>rmed short squeeze potential</td>\n",
       "      <td>rmed is a very high risk but very high reward ...</td>\n",
       "      <td>[rmed, short, squeeze, potential]</td>\n",
       "      <td>[(rmed, short), (short, squeeze), (squeeze, po...</td>\n",
       "      <td>[(rmed, short, squeeze), (short, squeeze, pote...</td>\n",
       "      <td>[(rmed, VBN), (short, JJ), (squeeze, NN), (pot...</td>\n",
       "    </tr>\n",
       "  </tbody>\n",
       "</table>\n",
       "</div>"
      ],
      "text/plain": [
       "                                               title  \\\n",
       "0  Over 600 million shares of China Insurance wil...   \n",
       "1  a deep-dive analysis of media sentiment surrou...   \n",
       "2                How To Use Point and Figure Charts?   \n",
       "3          Back from the abyss after fifteen months.   \n",
       "4                       RMED short squeeze potential   \n",
       "\n",
       "                                            selftext  created_at  \\\n",
       "0  Recently, Alibaba’s auction website showed tha...  2021-06-25   \n",
       "1  We will analyze Bitcoin’s news conversation ov...  2021-06-25   \n",
       "2                                                     2021-06-25   \n",
       "3                                                     2021-06-25   \n",
       "4  RMED is a very high risk but very high reward ...  2021-06-25   \n",
       "\n",
       "                                       title_cleaned  \\\n",
       "0  over million shares of china insurance will be...   \n",
       "1  a deepdive analysis of media sentiment surroun...   \n",
       "2                 how to use point and figure charts   \n",
       "3           back from the abyss after fifteen months   \n",
       "4                       rmed short squeeze potential   \n",
       "\n",
       "                                    selftext_cleaned  \\\n",
       "0  recently alibabasauction website showed that t...   \n",
       "1  we will analyze bitcoins news conversation ove...   \n",
       "2                                                      \n",
       "3                                                      \n",
       "4  rmed is a very high risk but very high reward ...   \n",
       "\n",
       "                                        title_tokens  \\\n",
       "0  [million, shares, china, insurance, auctioned,...   \n",
       "1  [deepdive, analysis, media, sentiment, surroun...   \n",
       "2                       [use, point, figure, charts]   \n",
       "3                     [back, abyss, fifteen, months]   \n",
       "4                  [rmed, short, squeeze, potential]   \n",
       "\n",
       "                                             bigrams  \\\n",
       "0  [(million, shares), (shares, china), (china, i...   \n",
       "1  [(deepdive, analysis), (analysis, media), (med...   \n",
       "2  [(use, point), (point, figure), (figure, charts)]   \n",
       "3  [(back, abyss), (abyss, fifteen), (fifteen, mo...   \n",
       "4  [(rmed, short), (short, squeeze), (squeeze, po...   \n",
       "\n",
       "                                            trigrams  \\\n",
       "0  [(million, shares, china), (shares, china, ins...   \n",
       "1  [(deepdive, analysis, media), (analysis, media...   \n",
       "2    [(use, point, figure), (point, figure, charts)]   \n",
       "3  [(back, abyss, fifteen), (abyss, fifteen, mont...   \n",
       "4  [(rmed, short, squeeze), (short, squeeze, pote...   \n",
       "\n",
       "                                                 pos  \n",
       "0  [(million, CD), (shares, NNS), (china, JJ), (i...  \n",
       "1  [(deepdive, JJ), (analysis, NN), (media, NNS),...  \n",
       "2  [(use, NN), (point, NN), (figure, NN), (charts...  \n",
       "3  [(back, RB), (abyss, RB), (fifteen, JJ), (mont...  \n",
       "4  [(rmed, VBN), (short, JJ), (squeeze, NN), (pot...  "
      ]
     },
     "execution_count": 24,
     "metadata": {},
     "output_type": "execute_result"
    }
   ],
   "source": [
    "df.head()"
   ]
  },
  {
   "cell_type": "markdown",
   "metadata": {},
   "source": [
    "# Sentiment Analysis\n",
    "__Output:__\n",
    "* sentiment score (how positive/negative)\n",
    "* subjectivity score (how opinionated)"
   ]
  },
  {
   "cell_type": "code",
   "execution_count": 25,
   "metadata": {},
   "outputs": [],
   "source": [
    "from textblob import TextBlob"
   ]
  },
  {
   "cell_type": "code",
   "execution_count": 26,
   "metadata": {},
   "outputs": [],
   "source": [
    "df[\"textblob_score\"] = df.title.apply(lambda t: TextBlob(t).sentiment)"
   ]
  },
  {
   "cell_type": "code",
   "execution_count": 27,
   "metadata": {},
   "outputs": [
    {
     "data": {
      "text/html": [
       "<div>\n",
       "<style scoped>\n",
       "    .dataframe tbody tr th:only-of-type {\n",
       "        vertical-align: middle;\n",
       "    }\n",
       "\n",
       "    .dataframe tbody tr th {\n",
       "        vertical-align: top;\n",
       "    }\n",
       "\n",
       "    .dataframe thead th {\n",
       "        text-align: right;\n",
       "    }\n",
       "</style>\n",
       "<table border=\"1\" class=\"dataframe\">\n",
       "  <thead>\n",
       "    <tr style=\"text-align: right;\">\n",
       "      <th></th>\n",
       "      <th>title</th>\n",
       "      <th>selftext</th>\n",
       "      <th>created_at</th>\n",
       "      <th>title_cleaned</th>\n",
       "      <th>selftext_cleaned</th>\n",
       "      <th>title_tokens</th>\n",
       "      <th>bigrams</th>\n",
       "      <th>trigrams</th>\n",
       "      <th>pos</th>\n",
       "      <th>textblob_score</th>\n",
       "    </tr>\n",
       "  </thead>\n",
       "  <tbody>\n",
       "    <tr>\n",
       "      <td>0</td>\n",
       "      <td>Over 600 million shares of China Insurance wil...</td>\n",
       "      <td>Recently, Alibaba’s auction website showed tha...</td>\n",
       "      <td>2021-06-25</td>\n",
       "      <td>over million shares of china insurance will be...</td>\n",
       "      <td>recently alibabasauction website showed that t...</td>\n",
       "      <td>[million, shares, china, insurance, auctioned,...</td>\n",
       "      <td>[(million, shares), (shares, china), (china, i...</td>\n",
       "      <td>[(million, shares, china), (shares, china, ins...</td>\n",
       "      <td>[(million, CD), (shares, NNS), (china, JJ), (i...</td>\n",
       "      <td>(0.0, 0.1)</td>\n",
       "    </tr>\n",
       "    <tr>\n",
       "      <td>1</td>\n",
       "      <td>a deep-dive analysis of media sentiment surrou...</td>\n",
       "      <td>We will analyze Bitcoin’s news conversation ov...</td>\n",
       "      <td>2021-06-25</td>\n",
       "      <td>a deepdive analysis of media sentiment surroun...</td>\n",
       "      <td>we will analyze bitcoins news conversation ove...</td>\n",
       "      <td>[deepdive, analysis, media, sentiment, surroun...</td>\n",
       "      <td>[(deepdive, analysis), (analysis, media), (med...</td>\n",
       "      <td>[(deepdive, analysis, media), (analysis, media...</td>\n",
       "      <td>[(deepdive, JJ), (analysis, NN), (media, NNS),...</td>\n",
       "      <td>(-0.25, 0.25)</td>\n",
       "    </tr>\n",
       "    <tr>\n",
       "      <td>2</td>\n",
       "      <td>How To Use Point and Figure Charts?</td>\n",
       "      <td></td>\n",
       "      <td>2021-06-25</td>\n",
       "      <td>how to use point and figure charts</td>\n",
       "      <td></td>\n",
       "      <td>[use, point, figure, charts]</td>\n",
       "      <td>[(use, point), (point, figure), (figure, charts)]</td>\n",
       "      <td>[(use, point, figure), (point, figure, charts)]</td>\n",
       "      <td>[(use, NN), (point, NN), (figure, NN), (charts...</td>\n",
       "      <td>(0.0, 0.0)</td>\n",
       "    </tr>\n",
       "    <tr>\n",
       "      <td>3</td>\n",
       "      <td>Back from the abyss after fifteen months.</td>\n",
       "      <td></td>\n",
       "      <td>2021-06-25</td>\n",
       "      <td>back from the abyss after fifteen months</td>\n",
       "      <td></td>\n",
       "      <td>[back, abyss, fifteen, months]</td>\n",
       "      <td>[(back, abyss), (abyss, fifteen), (fifteen, mo...</td>\n",
       "      <td>[(back, abyss, fifteen), (abyss, fifteen, mont...</td>\n",
       "      <td>[(back, RB), (abyss, RB), (fifteen, JJ), (mont...</td>\n",
       "      <td>(0.0, 0.0)</td>\n",
       "    </tr>\n",
       "    <tr>\n",
       "      <td>4</td>\n",
       "      <td>RMED short squeeze potential</td>\n",
       "      <td>RMED is a very high risk but very high reward ...</td>\n",
       "      <td>2021-06-25</td>\n",
       "      <td>rmed short squeeze potential</td>\n",
       "      <td>rmed is a very high risk but very high reward ...</td>\n",
       "      <td>[rmed, short, squeeze, potential]</td>\n",
       "      <td>[(rmed, short), (short, squeeze), (squeeze, po...</td>\n",
       "      <td>[(rmed, short, squeeze), (short, squeeze, pote...</td>\n",
       "      <td>[(rmed, VBN), (short, JJ), (squeeze, NN), (pot...</td>\n",
       "      <td>(0.0, 0.65)</td>\n",
       "    </tr>\n",
       "  </tbody>\n",
       "</table>\n",
       "</div>"
      ],
      "text/plain": [
       "                                               title  \\\n",
       "0  Over 600 million shares of China Insurance wil...   \n",
       "1  a deep-dive analysis of media sentiment surrou...   \n",
       "2                How To Use Point and Figure Charts?   \n",
       "3          Back from the abyss after fifteen months.   \n",
       "4                       RMED short squeeze potential   \n",
       "\n",
       "                                            selftext  created_at  \\\n",
       "0  Recently, Alibaba’s auction website showed tha...  2021-06-25   \n",
       "1  We will analyze Bitcoin’s news conversation ov...  2021-06-25   \n",
       "2                                                     2021-06-25   \n",
       "3                                                     2021-06-25   \n",
       "4  RMED is a very high risk but very high reward ...  2021-06-25   \n",
       "\n",
       "                                       title_cleaned  \\\n",
       "0  over million shares of china insurance will be...   \n",
       "1  a deepdive analysis of media sentiment surroun...   \n",
       "2                 how to use point and figure charts   \n",
       "3           back from the abyss after fifteen months   \n",
       "4                       rmed short squeeze potential   \n",
       "\n",
       "                                    selftext_cleaned  \\\n",
       "0  recently alibabasauction website showed that t...   \n",
       "1  we will analyze bitcoins news conversation ove...   \n",
       "2                                                      \n",
       "3                                                      \n",
       "4  rmed is a very high risk but very high reward ...   \n",
       "\n",
       "                                        title_tokens  \\\n",
       "0  [million, shares, china, insurance, auctioned,...   \n",
       "1  [deepdive, analysis, media, sentiment, surroun...   \n",
       "2                       [use, point, figure, charts]   \n",
       "3                     [back, abyss, fifteen, months]   \n",
       "4                  [rmed, short, squeeze, potential]   \n",
       "\n",
       "                                             bigrams  \\\n",
       "0  [(million, shares), (shares, china), (china, i...   \n",
       "1  [(deepdive, analysis), (analysis, media), (med...   \n",
       "2  [(use, point), (point, figure), (figure, charts)]   \n",
       "3  [(back, abyss), (abyss, fifteen), (fifteen, mo...   \n",
       "4  [(rmed, short), (short, squeeze), (squeeze, po...   \n",
       "\n",
       "                                            trigrams  \\\n",
       "0  [(million, shares, china), (shares, china, ins...   \n",
       "1  [(deepdive, analysis, media), (analysis, media...   \n",
       "2    [(use, point, figure), (point, figure, charts)]   \n",
       "3  [(back, abyss, fifteen), (abyss, fifteen, mont...   \n",
       "4  [(rmed, short, squeeze), (short, squeeze, pote...   \n",
       "\n",
       "                                                 pos textblob_score  \n",
       "0  [(million, CD), (shares, NNS), (china, JJ), (i...     (0.0, 0.1)  \n",
       "1  [(deepdive, JJ), (analysis, NN), (media, NNS),...  (-0.25, 0.25)  \n",
       "2  [(use, NN), (point, NN), (figure, NN), (charts...     (0.0, 0.0)  \n",
       "3  [(back, RB), (abyss, RB), (fifteen, JJ), (mont...     (0.0, 0.0)  \n",
       "4  [(rmed, VBN), (short, JJ), (squeeze, NN), (pot...    (0.0, 0.65)  "
      ]
     },
     "execution_count": 27,
     "metadata": {},
     "output_type": "execute_result"
    }
   ],
   "source": [
    "df.head()"
   ]
  },
  {
   "cell_type": "code",
   "execution_count": 101,
   "metadata": {},
   "outputs": [],
   "source": [
    "freq = FreqDist(df.textblob_score.to_list())\n",
    "values = list(zip(*freq))\n",
    "sizes = list(freq.values())\n",
    "colors = [\"r\" if v < 0 else \"b\" for v in values[0]]"
   ]
  },
  {
   "cell_type": "code",
   "execution_count": 107,
   "metadata": {},
   "outputs": [
    {
     "data": {
      "text/plain": [
       "Text(0.5, 1.0, 'TextBlob Sentiment Analysis Score')"
      ]
     },
     "execution_count": 107,
     "metadata": {},
     "output_type": "execute_result"
    },
    {
     "data": {
      "image/png": "[encoded data removed]",
      "text/plain": [
       "<Figure size 432x288 with 1 Axes>"
      ]
     },
     "metadata": {
      "needs_background": "light"
     },
     "output_type": "display_data"
    }
   ],
   "source": [
    "plt.scatter(*values, s=sizes, alpha=.7, c=colors)\n",
    "plt.xlabel(\"polarity\")\n",
    "plt.ylabel(\"subjectivity\")\n",
    "plt.title(\"TextBlob Sentiment Analysis Score\")"
   ]
  },
  {
   "cell_type": "markdown",
   "metadata": {},
   "source": [
    "# Topic Modeling LDA (Latent Dirichlet Allocation)"
   ]
  },
  {
   "cell_type": "code",
   "execution_count": null,
   "metadata": {},
   "outputs": [],
   "source": [
    "from gensim import matutils, models"
   ]
  },
  {
   "cell_type": "code",
   "execution_count": null,
   "metadata": {},
   "outputs": [],
   "source": []
  },
  {
   "cell_type": "code",
   "execution_count": null,
   "metadata": {},
   "outputs": [],
   "source": []
  },
  {
   "cell_type": "code",
   "execution_count": null,
   "metadata": {},
   "outputs": [],
   "source": []
  },
  {
   "cell_type": "code",
   "execution_count": null,
   "metadata": {},
   "outputs": [],
   "source": []
  },
  {
   "cell_type": "code",
   "execution_count": null,
   "metadata": {},
   "outputs": [],
   "source": []
  },
  {
   "cell_type": "code",
   "execution_count": null,
   "metadata": {},
   "outputs": [],
   "source": []
  },
  {
   "cell_type": "code",
   "execution_count": null,
   "metadata": {},
   "outputs": [],
   "source": []
  },
  {
   "cell_type": "code",
   "execution_count": null,
   "metadata": {},
   "outputs": [],
   "source": []
  }
 ],
 "metadata": {
  "kernelspec": {
   "display_name": "Python 3",
   "language": "python",
   "name": "python3"
  },
  "language_info": {
   "codemirror_mode": {
    "name": "ipython",
    "version": 3
   },
   "file_extension": ".py",
   "mimetype": "text/x-python",
   "name": "python",
   "nbconvert_exporter": "python",
   "pygments_lexer": "ipython3",
   "version": "3.7.4"
  }
 },
 "nbformat": 4,
 "nbformat_minor": 2
}
